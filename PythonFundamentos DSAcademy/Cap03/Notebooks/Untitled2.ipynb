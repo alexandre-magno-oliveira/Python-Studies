{
 "cells": [
  {
   "cell_type": "code",
   "execution_count": null,
   "id": "513f2a69",
   "metadata": {},
   "outputs": [],
   "source": [
    "# usando o loop while para imprimir os valores entre 0 a 9\n",
    "counter = 0\n",
    "while counter < 10000:\n",
    "    print(counter)\n",
    "    counter = counter + 1"
   ]
  },
  {
   "cell_type": "code",
   "execution_count": null,
   "id": "26da761b",
   "metadata": {},
   "outputs": [],
   "source": [
    "# tbem é possível usar a cláusula else para encerrar o loop while\n",
    "x = 0\n",
    "\n",
    "while x < 10:\n",
    "    print('O valor de x nesta iteração é: ', x)\n",
    "    print(' x ainda é menor que 10, somando 1 a x')\n",
    "    x += 1\n",
    "    \n",
    "else:\n",
    "    print('Loop concluído')"
   ]
  },
  {
   "cell_type": "code",
   "execution_count": 2,
   "id": "18640384",
   "metadata": {},
   "outputs": [
    {
     "name": "stdout",
     "output_type": "stream",
     "text": [
      "0\n",
      "1\n",
      "2\n",
      "3\n"
     ]
    }
   ],
   "source": [
    "counter = 0\n",
    "while counter < 100:\n",
    "    if counter == 4:\n",
    "        break\n",
    "    else:\n",
    "        pass\n",
    "    print(counter)\n",
    "    counter += 1"
   ]
  },
  {
   "cell_type": "code",
   "execution_count": null,
   "id": "c2bf3ee8",
   "metadata": {},
   "outputs": [],
   "source": []
  }
 ],
 "metadata": {
  "kernelspec": {
   "display_name": "Python 3",
   "language": "python",
   "name": "python3"
  },
  "language_info": {
   "codemirror_mode": {
    "name": "ipython",
    "version": 3
   },
   "file_extension": ".py",
   "mimetype": "text/x-python",
   "name": "python",
   "nbconvert_exporter": "python",
   "pygments_lexer": "ipython3",
   "version": "3.8.8"
  }
 },
 "nbformat": 4,
 "nbformat_minor": 5
}
