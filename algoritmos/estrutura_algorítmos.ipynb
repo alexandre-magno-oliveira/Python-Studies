{
  "nbformat": 4,
  "nbformat_minor": 0,
  "metadata": {
    "colab": {
      "name": "estrutura algorítmos.ipynb",
      "provenance": [],
      "collapsed_sections": []
    },
    "kernelspec": {
      "name": "python3",
      "display_name": "Python 3"
    },
    "language_info": {
      "name": "python"
    }
  },
  "cells": [
    {
      "cell_type": "code",
      "source": [
        "# Finds the smallest value in an array\n",
        "# ordenar um array do menor para o maior\n",
        "def findSmallest(arr):\n",
        "  # Stores the smallest value\n",
        "  smallest = arr[0]\n",
        "  # Stores the index of the smallest value\n",
        "  smallest_index = 0\n",
        "  for i in range(1, len(arr)):\n",
        "    if arr[i] < smallest:\n",
        "      smallest_index = i\n",
        "      smallest = arr[i]      \n",
        "  return smallest_index\n",
        "\n",
        "# Sort array\n",
        "def selectionSort(arr):\n",
        "  newArr = []\n",
        "  for i in range(len(arr)):\n",
        "      # Finds the smallest element in the array and adds it to the new array\n",
        "      smallest = findSmallest(arr)\n",
        "      newArr.append(arr.pop(smallest))\n",
        "  return newArr\n",
        "\n",
        "print(selectionSort([5, 3, 6, 2, 10, 4, 52, 545, 6666, 12]))"
      ],
      "metadata": {
        "colab": {
          "base_uri": "https://localhost:8080/"
        },
        "id": "czHlV5JkhCfQ",
        "outputId": "47025e1e-5df1-4c13-a7b4-da1fe73c9a61"
      },
      "execution_count": 7,
      "outputs": [
        {
          "output_type": "stream",
          "name": "stdout",
          "text": [
            "[2, 3, 4, 5, 6, 10, 12, 52, 545, 6666]\n"
          ]
        }
      ]
    }
  ]
}