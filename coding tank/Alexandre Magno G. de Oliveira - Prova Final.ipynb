{
 "cells": [
  {
   "cell_type": "markdown",
   "id": "4317ff32",
   "metadata": {},
   "source": [
    "Prova final - Alexandre Magno G. de Oliveira"
   ]
  },
  {
   "cell_type": "code",
   "execution_count": 3,
   "id": "e9f4977c",
   "metadata": {},
   "outputs": [
    {
     "name": "stdout",
     "output_type": "stream",
     "text": [
      "Cadastro de fornecedores\n",
      "Digite '1' para cadastrar um fornecedor ou '0' para finalizar o programa: 1\n",
      "Informe o código do fornecedor: 4563\n",
      "Informe o nome do fornecedor: Atacadao \n",
      "Informe o telefone do fornecedor: 61982561222\n",
      "Informe o email do fornecedor: atacadao@gmail.com\n",
      "\n",
      "\n",
      "Cadastro de fornecedores\n",
      "Digite '1' para cadastrar um fornecedor ou '0' para finalizar o programa: 1\n",
      "Informe o código do fornecedor: 7444\n",
      "Informe o nome do fornecedor: Frutaslove\n",
      "Informe o telefone do fornecedor: 61895412255\n",
      "Informe o email do fornecedor: frutaslove@gmail.com\n",
      "\n",
      "\n",
      "Cadastro de fornecedores\n",
      "Digite '1' para cadastrar um fornecedor ou '0' para finalizar o programa: 0\n",
      "Dicionário de fornecedores cadastrados: \n",
      "\n",
      "{1: {'codigo': '4563', 'nome': 'Atacadao ', 'telefone': 61982561222, 'email': 'atacadao@gmail.com'}, 2: {'codigo': '7444', 'nome': 'Frutaslove', 'telefone': 61895412255, 'email': 'frutaslove@gmail.com'}}\n"
     ]
    }
   ],
   "source": [
    "''' Na empresa em que você trabalha foi solicitado a implementação de uma solução para cadastro dos fornecedores. As informações que devem ser cadastradas são:\n",
    "\n",
    "    Código do fornecedor;\n",
    "    Nome do fornecedor;\n",
    "    Telefone do fornecedor;\n",
    "    Email do fornecedor.         \n",
    "'''\n",
    "\n",
    "\n",
    "fornecedores = {}\n",
    "codigo_fornecedor = 1 \n",
    "\n",
    "def consulta_fornecedor(codigo_fornecedor):\n",
    "    codigo = codigo_fornecedor - 1\n",
    "    print(lista_fornecedores[codigo])\n",
    "\n",
    "\n",
    "while True:\n",
    "    \n",
    "    print(\"Cadastro de fornecedores\")  # \n",
    "    \n",
    "    # duas opções para registro, 0 para finalizar e 1 para cadastrar um novo fornecedor\n",
    "    opcao = int(input(\"Digite '1' para cadastrar um fornecedor ou '0' para finalizar o programa: \"))\n",
    "    \n",
    "    if opcao < 1:\n",
    "        break\n",
    "    elif opcao >1:\n",
    "        print(\"Opção inválida!\")\n",
    "    else:\n",
    "        fornecedor = {}\n",
    "        codigo = input(\"Informe o código do fornecedor: \")\n",
    "        nome = input(\"Informe o nome do fornecedor: \")\n",
    "        telefone = int(input(\"Informe o telefone do fornecedor: \"))\n",
    "        email = input(\"Informe o email do fornecedor: \")\n",
    "        \n",
    "        # Todas as informações inseridas pelo usuário serão armazenadas em um dicionário\n",
    "        fornecedor[\"codigo\"] = codigo\n",
    "        fornecedor[\"nome\"] = nome\n",
    "        fornecedor[\"telefone\"] = telefone\n",
    "        fornecedor[\"email\"] = email\n",
    "        \n",
    "        # Após isso, usamos o 'codigo_fornecedor' como chave do dic 'fornecedores' e armazenamos o dicionário 'fornecedor'\n",
    "        fornecedores[codigo_fornecedor] = fornecedor\n",
    "        \n",
    "        # Incrementamos essa variável para que a próxima pessoa cadastrada tenho um código diferente\n",
    "        codigo_fornecedor += 1\n",
    "        print(\"\\n\")\n",
    "\n",
    "# Mostramos os fornecedores cadastrados\n",
    "print(\"Dicionário de fornecedores cadastrados: \\n\")\n",
    "print(fornecedores)"
   ]
  },
  {
   "cell_type": "code",
   "execution_count": null,
   "id": "467a7ca1",
   "metadata": {},
   "outputs": [],
   "source": []
  },
  {
   "cell_type": "code",
   "execution_count": null,
   "id": "8ee229a8",
   "metadata": {},
   "outputs": [],
   "source": []
  }
 ],
 "metadata": {
  "kernelspec": {
   "display_name": "Python 3 (ipykernel)",
   "language": "python",
   "name": "python3"
  },
  "language_info": {
   "codemirror_mode": {
    "name": "ipython",
    "version": 3
   },
   "file_extension": ".py",
   "mimetype": "text/x-python",
   "name": "python",
   "nbconvert_exporter": "python",
   "pygments_lexer": "ipython3",
   "version": "3.9.7"
  }
 },
 "nbformat": 4,
 "nbformat_minor": 5
}
