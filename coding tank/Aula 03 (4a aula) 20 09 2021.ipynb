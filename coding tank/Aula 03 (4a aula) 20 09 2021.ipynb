{
 "cells": [
  {
   "cell_type": "markdown",
   "id": "254adabe",
   "metadata": {},
   "source": [
    "# aula 03 (4a aula)\n",
    "#Laços de repetição while 20 09 2021\n",
    "\n"
   ]
  },
  {
   "cell_type": "code",
   "execution_count": 3,
   "id": "d1efdc2d",
   "metadata": {},
   "outputs": [
    {
     "name": "stdout",
     "output_type": "stream",
     "text": [
      "uma mensagem\n",
      "uma mensagem\n",
      "uma mensagem\n",
      "uma mensagem\n",
      "uma mensagem\n"
     ]
    }
   ],
   "source": [
    "numero = 0\n",
    "while(numero < 5):\n",
    "    print(\"uma mensagem\")\n",
    "    numero = numero + 1"
   ]
  },
  {
   "cell_type": "code",
   "execution_count": 7,
   "id": "7ea6e778",
   "metadata": {},
   "outputs": [
    {
     "name": "stdout",
     "output_type": "stream",
     "text": [
      "uma mensagem\n",
      "uma mensagem\n",
      "uma mensagem\n",
      "uma mensagem\n",
      "uma mensagem\n"
     ]
    }
   ],
   "source": [
    "numero = 0\n",
    "while(numero < 5):\n",
    "    print(\"uma mensagem\")\n",
    "    numero += 1"
   ]
  },
  {
   "cell_type": "code",
   "execution_count": 8,
   "id": "dd0f5b2c",
   "metadata": {},
   "outputs": [
    {
     "name": "stdout",
     "output_type": "stream",
     "text": [
      "0\n",
      "1\n",
      "2\n",
      "3\n",
      "4\n",
      "5\n",
      "6\n",
      "7\n",
      "8\n",
      "9\n",
      "10\n"
     ]
    }
   ],
   "source": [
    "aux = 0\n",
    "while (aux <= 10):\n",
    "    print(aux)\n",
    "    aux+=1"
   ]
  },
  {
   "cell_type": "code",
   "execution_count": 9,
   "id": "cab406d8",
   "metadata": {},
   "outputs": [
    {
     "name": "stdout",
     "output_type": "stream",
     "text": [
      "10\n",
      "9\n",
      "8\n",
      "7\n",
      "6\n",
      "5\n",
      "4\n",
      "3\n",
      "2\n",
      "1\n"
     ]
    }
   ],
   "source": [
    "aux = 10\n",
    "while(aux > 0):\n",
    "    print(aux)\n",
    "    aux-=1\n",
    "    "
   ]
  },
  {
   "cell_type": "code",
   "execution_count": 10,
   "id": "db5543a5",
   "metadata": {},
   "outputs": [
    {
     "name": "stdout",
     "output_type": "stream",
     "text": [
      "Digite um adicional: \n",
      "add1\n",
      "Digite um adicional: \n",
      "add2\n",
      "Digite um adicional: \n",
      "add3\n",
      "Digite um adicional: \n",
      "add4\n",
      "Adicionais pedidos: add1 - add2 - add3 - add4 - \n"
     ]
    }
   ],
   "source": [
    "adicionais = 0\n",
    "adicionais_pedidos = \"\"\n",
    "\n",
    "while(adicionais < 4):\n",
    "    item = input(\"Digite um adicional: \\n\")\n",
    "    adicionais_pedidos+=item+\" - \"\n",
    "    adicionais+=1\n",
    "print(f\"Adicionais pedidos: {adicionais_pedidos}\")"
   ]
  },
  {
   "cell_type": "code",
   "execution_count": 11,
   "id": "7b227fc4",
   "metadata": {},
   "outputs": [
    {
     "name": "stdout",
     "output_type": "stream",
     "text": [
      "Digite um número maior que 10 \n",
      "5\n",
      "Valor incorreto! Digite um número maior que 10 \n",
      "11\n",
      "Número digitado: 11\n"
     ]
    }
   ],
   "source": [
    "num = int(input(\"Digite um número maior que 10 \\n\"))\n",
    "\n",
    "while(num <= 10):\n",
    "    num = int(input(\"Valor incorreto! Digite um número maior que 10 \\n\"))\n",
    "print(f\"Número digitado: {num}\")"
   ]
  },
  {
   "cell_type": "code",
   "execution_count": 13,
   "id": "25ef6125",
   "metadata": {},
   "outputs": [
    {
     "name": "stdout",
     "output_type": "stream",
     "text": [
      "digite a nota: -1\n",
      "valor incorreto! Digite a nota entre 0 e 10: 12\n",
      "valor incorreto! Digite a nota entre 0 e 10: 10\n"
     ]
    }
   ],
   "source": [
    "nota = float(input(\"digite a nota: \"))\n",
    "\n",
    "while(nota > 10 or nota < 0):\n",
    "    nota = float(input(\"valor incorreto! Digite a nota entre 0 e 10: \"))"
   ]
  },
  {
   "cell_type": "code",
   "execution_count": null,
   "id": "67c7d562",
   "metadata": {},
   "outputs": [],
   "source": [
    "nota = 10\n",
    "nota "
   ]
  }
 ],
 "metadata": {
  "kernelspec": {
   "display_name": "Python 3 (ipykernel)",
   "language": "python",
   "name": "python3"
  },
  "language_info": {
   "codemirror_mode": {
    "name": "ipython",
    "version": 3
   },
   "file_extension": ".py",
   "mimetype": "text/x-python",
   "name": "python",
   "nbconvert_exporter": "python",
   "pygments_lexer": "ipython3",
   "version": "3.9.7"
  }
 },
 "nbformat": 4,
 "nbformat_minor": 5
}
