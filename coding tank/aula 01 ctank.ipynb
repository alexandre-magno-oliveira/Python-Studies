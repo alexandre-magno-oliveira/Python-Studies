{
 "cells": [
  {
   "cell_type": "code",
   "execution_count": 1,
   "id": "d5bd3e1f",
   "metadata": {},
   "outputs": [],
   "source": [
    "name = 'Beltrano'"
   ]
  },
  {
   "cell_type": "code",
   "execution_count": 4,
   "id": "f839457c",
   "metadata": {},
   "outputs": [
    {
     "name": "stdout",
     "output_type": "stream",
     "text": [
      "Beltrano\n"
     ]
    }
   ],
   "source": [
    "print(name)"
   ]
  },
  {
   "cell_type": "code",
   "execution_count": 5,
   "id": "c1080abf",
   "metadata": {},
   "outputs": [
    {
     "name": "stdout",
     "output_type": "stream",
     "text": [
      "26\n"
     ]
    }
   ],
   "source": [
    "idade = 26\n",
    "print(idade)"
   ]
  },
  {
   "cell_type": "code",
   "execution_count": 6,
   "id": "d4db0807",
   "metadata": {},
   "outputs": [
    {
     "data": {
      "text/plain": [
       "str"
      ]
     },
     "execution_count": 6,
     "metadata": {},
     "output_type": "execute_result"
    }
   ],
   "source": [
    "type(name)"
   ]
  },
  {
   "cell_type": "code",
   "execution_count": 7,
   "id": "29ae8d14",
   "metadata": {},
   "outputs": [
    {
     "data": {
      "text/plain": [
       "int"
      ]
     },
     "execution_count": 7,
     "metadata": {},
     "output_type": "execute_result"
    }
   ],
   "source": [
    "type(idade)"
   ]
  },
  {
   "cell_type": "code",
   "execution_count": 8,
   "id": "91748408",
   "metadata": {},
   "outputs": [],
   "source": [
    "soma = 2 + 3"
   ]
  },
  {
   "cell_type": "code",
   "execution_count": 9,
   "id": "d70d5d81",
   "metadata": {},
   "outputs": [
    {
     "name": "stdout",
     "output_type": "stream",
     "text": [
      "5\n"
     ]
    }
   ],
   "source": [
    "print(soma)"
   ]
  },
  {
   "cell_type": "code",
   "execution_count": 10,
   "id": "42563df1",
   "metadata": {},
   "outputs": [
    {
     "name": "stdout",
     "output_type": "stream",
     "text": [
      "1\n"
     ]
    }
   ],
   "source": [
    "subtracao = 3 - 2\n",
    "print(subtracao)"
   ]
  },
  {
   "cell_type": "code",
   "execution_count": 11,
   "id": "795d47b7",
   "metadata": {},
   "outputs": [
    {
     "data": {
      "text/plain": [
       "6"
      ]
     },
     "execution_count": 11,
     "metadata": {},
     "output_type": "execute_result"
    }
   ],
   "source": [
    "2*3"
   ]
  },
  {
   "cell_type": "code",
   "execution_count": 12,
   "id": "5f3c5aa2",
   "metadata": {},
   "outputs": [
    {
     "data": {
      "text/plain": [
       "float"
      ]
     },
     "execution_count": 12,
     "metadata": {},
     "output_type": "execute_result"
    }
   ],
   "source": [
    "divisao = 3/2\n",
    "type(divisao)"
   ]
  },
  {
   "cell_type": "code",
   "execution_count": 13,
   "id": "df79116d",
   "metadata": {},
   "outputs": [
    {
     "data": {
      "text/plain": [
       "9"
      ]
     },
     "execution_count": 13,
     "metadata": {},
     "output_type": "execute_result"
    }
   ],
   "source": [
    "3**2"
   ]
  },
  {
   "cell_type": "code",
   "execution_count": 15,
   "id": "ffad6f18",
   "metadata": {},
   "outputs": [
    {
     "data": {
      "text/plain": [
       "'nome sobrenome'"
      ]
     },
     "execution_count": 15,
     "metadata": {},
     "output_type": "execute_result"
    }
   ],
   "source": [
    "'nome '+'sobrenome'"
   ]
  },
  {
   "cell_type": "code",
   "execution_count": 16,
   "id": "8ff48c5e",
   "metadata": {},
   "outputs": [
    {
     "data": {
      "text/plain": [
       "'nomesobrenome'"
      ]
     },
     "execution_count": 16,
     "metadata": {},
     "output_type": "execute_result"
    }
   ],
   "source": [
    "'nome'+'sobrenome'"
   ]
  },
  {
   "cell_type": "code",
   "execution_count": 17,
   "id": "3aab66d1",
   "metadata": {},
   "outputs": [
    {
     "data": {
      "text/plain": [
       "14"
      ]
     },
     "execution_count": 17,
     "metadata": {},
     "output_type": "execute_result"
    }
   ],
   "source": [
    "2+3*4"
   ]
  },
  {
   "cell_type": "code",
   "execution_count": 18,
   "id": "db485279",
   "metadata": {},
   "outputs": [
    {
     "data": {
      "text/plain": [
       "20"
      ]
     },
     "execution_count": 18,
     "metadata": {},
     "output_type": "execute_result"
    }
   ],
   "source": [
    "(2+3)*4"
   ]
  },
  {
   "cell_type": "code",
   "execution_count": 19,
   "id": "f3373a10",
   "metadata": {},
   "outputs": [
    {
     "data": {
      "text/plain": [
       "0.30000000000000004"
      ]
     },
     "execution_count": 19,
     "metadata": {},
     "output_type": "execute_result"
    }
   ],
   "source": [
    "0.1 + 0.2"
   ]
  },
  {
   "cell_type": "code",
   "execution_count": 20,
   "id": "2783caf9",
   "metadata": {},
   "outputs": [
    {
     "ename": "NameError",
     "evalue": "name 'altura' is not defined",
     "output_type": "error",
     "traceback": [
      "\u001b[1;31m---------------------------------------------------------------------------\u001b[0m",
      "\u001b[1;31mNameError\u001b[0m                                 Traceback (most recent call last)",
      "\u001b[1;32mC:\\Users\\ALEXAN~1\\AppData\\Local\\Temp/ipykernel_11168/1769383689.py\u001b[0m in \u001b[0;36m<module>\u001b[1;34m\u001b[0m\n\u001b[1;32m----> 1\u001b[1;33m \u001b[0mtype\u001b[0m\u001b[1;33m(\u001b[0m\u001b[0maltura\u001b[0m\u001b[1;33m)\u001b[0m\u001b[1;33m\u001b[0m\u001b[1;33m\u001b[0m\u001b[0m\n\u001b[0m",
      "\u001b[1;31mNameError\u001b[0m: name 'altura' is not defined"
     ]
    }
   ],
   "source": [
    "type(altura)"
   ]
  },
  {
   "cell_type": "code",
   "execution_count": 21,
   "id": "dd5a9696",
   "metadata": {},
   "outputs": [
    {
     "ename": "NameError",
     "evalue": "name 'altura' is not defined",
     "output_type": "error",
     "traceback": [
      "\u001b[1;31m---------------------------------------------------------------------------\u001b[0m",
      "\u001b[1;31mNameError\u001b[0m                                 Traceback (most recent call last)",
      "\u001b[1;32mC:\\Users\\ALEXAN~1\\AppData\\Local\\Temp/ipykernel_11168/1950375557.py\u001b[0m in \u001b[0;36m<module>\u001b[1;34m\u001b[0m\n\u001b[1;32m----> 1\u001b[1;33m \u001b[0mint\u001b[0m\u001b[1;33m(\u001b[0m\u001b[0maltura\u001b[0m\u001b[1;33m)\u001b[0m\u001b[1;33m\u001b[0m\u001b[1;33m\u001b[0m\u001b[0m\n\u001b[0m",
      "\u001b[1;31mNameError\u001b[0m: name 'altura' is not defined"
     ]
    }
   ],
   "source": [
    "int(altura)"
   ]
  },
  {
   "cell_type": "code",
   "execution_count": 22,
   "id": "5061149e",
   "metadata": {},
   "outputs": [],
   "source": [
    "altura = 1.80"
   ]
  },
  {
   "cell_type": "code",
   "execution_count": 23,
   "id": "547e2879",
   "metadata": {},
   "outputs": [
    {
     "data": {
      "text/plain": [
       "float"
      ]
     },
     "execution_count": 23,
     "metadata": {},
     "output_type": "execute_result"
    }
   ],
   "source": [
    "type(altura)"
   ]
  },
  {
   "cell_type": "code",
   "execution_count": 24,
   "id": "23545b76",
   "metadata": {},
   "outputs": [
    {
     "data": {
      "text/plain": [
       "1"
      ]
     },
     "execution_count": 24,
     "metadata": {},
     "output_type": "execute_result"
    }
   ],
   "source": [
    "int(altura)"
   ]
  },
  {
   "cell_type": "code",
   "execution_count": 25,
   "id": "e1ce96ad",
   "metadata": {},
   "outputs": [],
   "source": [
    "nova_altura = '1.80'"
   ]
  },
  {
   "cell_type": "code",
   "execution_count": 26,
   "id": "a13c6af6",
   "metadata": {},
   "outputs": [
    {
     "name": "stdout",
     "output_type": "stream",
     "text": [
      "Seu nomeAlexandre\n"
     ]
    },
    {
     "data": {
      "text/plain": [
       "'Alexandre'"
      ]
     },
     "execution_count": 26,
     "metadata": {},
     "output_type": "execute_result"
    }
   ],
   "source": [
    "input('Seu nome')"
   ]
  },
  {
   "cell_type": "code",
   "execution_count": 27,
   "id": "e6ae51cd",
   "metadata": {},
   "outputs": [
    {
     "name": "stdout",
     "output_type": "stream",
     "text": [
      "Digite sua idade54\n"
     ]
    }
   ],
   "source": [
    "idade = input('Digite sua idade')"
   ]
  },
  {
   "cell_type": "code",
   "execution_count": 28,
   "id": "ab3a0ada",
   "metadata": {},
   "outputs": [
    {
     "name": "stdout",
     "output_type": "stream",
     "text": [
      "Digite sua idade: 54\n"
     ]
    }
   ],
   "source": [
    "idade = input('Digite sua idade: ')"
   ]
  },
  {
   "cell_type": "code",
   "execution_count": 30,
   "id": "d4b80f40",
   "metadata": {},
   "outputs": [
    {
     "name": "stdout",
     "output_type": "stream",
     "text": [
      "A idade é 54\n"
     ]
    }
   ],
   "source": [
    "print('A idade é', idade)"
   ]
  },
  {
   "cell_type": "code",
   "execution_count": 31,
   "id": "d53a5150",
   "metadata": {},
   "outputs": [
    {
     "name": "stdout",
     "output_type": "stream",
     "text": [
      "Digite o primeiro número: 5\n",
      "Digite o segundo número: 3\n"
     ]
    }
   ],
   "source": [
    "numero1 = input('Digite o primeiro número: ')\n",
    "numero2 = input('Digite o segundo número: ')"
   ]
  },
  {
   "cell_type": "code",
   "execution_count": 33,
   "id": "e20e7046",
   "metadata": {},
   "outputs": [
    {
     "name": "stdout",
     "output_type": "stream",
     "text": [
      "Coding Tank 744\n"
     ]
    }
   ],
   "source": [
    "print('Coding Tank 744')"
   ]
  },
  {
   "cell_type": "code",
   "execution_count": 34,
   "id": "524b25fb",
   "metadata": {},
   "outputs": [
    {
     "ename": "TypeError",
     "evalue": "raw_input() takes from 1 to 2 positional arguments but 6 were given",
     "output_type": "error",
     "traceback": [
      "\u001b[1;31m---------------------------------------------------------------------------\u001b[0m",
      "\u001b[1;31mTypeError\u001b[0m                                 Traceback (most recent call last)",
      "\u001b[1;32mC:\\Users\\ALEXAN~1\\AppData\\Local\\Temp/ipykernel_11168/1582757600.py\u001b[0m in \u001b[0;36m<module>\u001b[1;34m\u001b[0m\n\u001b[1;32m----> 1\u001b[1;33m \u001b[0minput\u001b[0m\u001b[1;33m(\u001b[0m\u001b[1;34m'salário 1'\u001b[0m\u001b[1;33m,\u001b[0m \u001b[1;34m'salário 2'\u001b[0m\u001b[1;33m,\u001b[0m \u001b[1;34m'salário 3'\u001b[0m\u001b[1;33m,\u001b[0m \u001b[1;34m'salário 4'\u001b[0m\u001b[1;33m,\u001b[0m \u001b[1;34m'salário 5'\u001b[0m\u001b[1;33m)\u001b[0m\u001b[1;33m\u001b[0m\u001b[1;33m\u001b[0m\u001b[0m\n\u001b[0m",
      "\u001b[1;31mTypeError\u001b[0m: raw_input() takes from 1 to 2 positional arguments but 6 were given"
     ]
    }
   ],
   "source": [
    "input('salário 1', 'salário 2', 'salário 3', 'salário 4', 'salário 5')"
   ]
  },
  {
   "cell_type": "code",
   "execution_count": 2,
   "id": "7363b711",
   "metadata": {},
   "outputs": [],
   "source": [
    "altura = 1.80"
   ]
  },
  {
   "cell_type": "code",
   "execution_count": 3,
   "id": "4f5873fc",
   "metadata": {},
   "outputs": [
    {
     "data": {
      "text/plain": [
       "float"
      ]
     },
     "execution_count": 3,
     "metadata": {},
     "output_type": "execute_result"
    }
   ],
   "source": [
    "type(altura)"
   ]
  },
  {
   "cell_type": "code",
   "execution_count": 4,
   "id": "017328a2",
   "metadata": {},
   "outputs": [
    {
     "data": {
      "text/plain": [
       "1"
      ]
     },
     "execution_count": 4,
     "metadata": {},
     "output_type": "execute_result"
    }
   ],
   "source": [
    "int(altura)"
   ]
  },
  {
   "cell_type": "code",
   "execution_count": 5,
   "id": "47febe52",
   "metadata": {},
   "outputs": [],
   "source": [
    "nova_altura = '1.90'"
   ]
  },
  {
   "cell_type": "code",
   "execution_count": 6,
   "id": "0b304cc4",
   "metadata": {},
   "outputs": [],
   "source": [
    "num1 = 2"
   ]
  },
  {
   "cell_type": "code",
   "execution_count": 7,
   "id": "83e43c28",
   "metadata": {},
   "outputs": [
    {
     "data": {
      "text/plain": [
       "2.0"
      ]
     },
     "execution_count": 7,
     "metadata": {},
     "output_type": "execute_result"
    }
   ],
   "source": [
    "float(num1)"
   ]
  },
  {
   "cell_type": "code",
   "execution_count": 8,
   "id": "b46508d0",
   "metadata": {},
   "outputs": [
    {
     "data": {
      "text/plain": [
       "1.9"
      ]
     },
     "execution_count": 8,
     "metadata": {},
     "output_type": "execute_result"
    }
   ],
   "source": [
    "float(nova_altura)"
   ]
  },
  {
   "cell_type": "code",
   "execution_count": 9,
   "id": "98748939",
   "metadata": {},
   "outputs": [
    {
     "data": {
      "text/plain": [
       "'FulanoSobrenome Fulano'"
      ]
     },
     "execution_count": 9,
     "metadata": {},
     "output_type": "execute_result"
    }
   ],
   "source": [
    "'Fulano'+'Sobrenome Fulano'"
   ]
  },
  {
   "cell_type": "code",
   "execution_count": 10,
   "id": "84cd2448",
   "metadata": {},
   "outputs": [],
   "source": [
    "nome = \"Alexandre\""
   ]
  },
  {
   "cell_type": "code",
   "execution_count": 11,
   "id": "1bf87a22",
   "metadata": {},
   "outputs": [],
   "source": [
    "sobrenome = \"Magno\""
   ]
  },
  {
   "cell_type": "code",
   "execution_count": 12,
   "id": "0326f563",
   "metadata": {},
   "outputs": [
    {
     "data": {
      "text/plain": [
       "'AlexandreMagno'"
      ]
     },
     "execution_count": 12,
     "metadata": {},
     "output_type": "execute_result"
    }
   ],
   "source": [
    "nome+sobrenome"
   ]
  },
  {
   "cell_type": "code",
   "execution_count": 13,
   "id": "1b0df176",
   "metadata": {},
   "outputs": [
    {
     "data": {
      "text/plain": [
       "12.0"
      ]
     },
     "execution_count": 13,
     "metadata": {},
     "output_type": "execute_result"
    }
   ],
   "source": [
    "6*2.0"
   ]
  },
  {
   "cell_type": "code",
   "execution_count": 14,
   "id": "3cee4fc1",
   "metadata": {},
   "outputs": [],
   "source": [
    "numero = 14_000_000_000"
   ]
  },
  {
   "cell_type": "code",
   "execution_count": 15,
   "id": "c5159055",
   "metadata": {},
   "outputs": [
    {
     "data": {
      "text/plain": [
       "int"
      ]
     },
     "execution_count": 15,
     "metadata": {},
     "output_type": "execute_result"
    }
   ],
   "source": [
    "type(numero)"
   ]
  },
  {
   "cell_type": "code",
   "execution_count": 16,
   "id": "bf51443e",
   "metadata": {},
   "outputs": [
    {
     "name": "stdout",
     "output_type": "stream",
     "text": [
      "14000000000\n"
     ]
    }
   ],
   "source": [
    "print(numero)"
   ]
  },
  {
   "cell_type": "code",
   "execution_count": 17,
   "id": "f96db7ac",
   "metadata": {},
   "outputs": [],
   "source": [
    "numero1, numero2, numero3 = 1, 2, 3"
   ]
  },
  {
   "cell_type": "code",
   "execution_count": 18,
   "id": "0b9d6891",
   "metadata": {},
   "outputs": [
    {
     "name": "stdout",
     "output_type": "stream",
     "text": [
      "1\n",
      "2\n",
      "3\n"
     ]
    }
   ],
   "source": [
    "print(numero1)\n",
    "print(numero2)\n",
    "print(numero3)"
   ]
  },
  {
   "cell_type": "code",
   "execution_count": 19,
   "id": "75f8dbb3",
   "metadata": {},
   "outputs": [
    {
     "ename": "NameError",
     "evalue": "name 'idade' is not defined",
     "output_type": "error",
     "traceback": [
      "\u001b[1;31m---------------------------------------------------------------------------\u001b[0m",
      "\u001b[1;31mNameError\u001b[0m                                 Traceback (most recent call last)",
      "\u001b[1;32mC:\\Users\\ALEXAN~1\\AppData\\Local\\Temp/ipykernel_620/135243205.py\u001b[0m in \u001b[0;36m<module>\u001b[1;34m\u001b[0m\n\u001b[1;32m----> 1\u001b[1;33m \u001b[0mprint\u001b[0m\u001b[1;33m(\u001b[0m\u001b[0midade\u001b[0m\u001b[1;33m)\u001b[0m\u001b[1;33m\u001b[0m\u001b[1;33m\u001b[0m\u001b[0m\n\u001b[0m",
      "\u001b[1;31mNameError\u001b[0m: name 'idade' is not defined"
     ]
    }
   ],
   "source": [
    "print(idade)"
   ]
  },
  {
   "cell_type": "code",
   "execution_count": 20,
   "id": "1fe9404d",
   "metadata": {},
   "outputs": [],
   "source": [
    "NUMERO_MUNICIPIOS_MG = 853"
   ]
  },
  {
   "cell_type": "code",
   "execution_count": 21,
   "id": "5dbc0795",
   "metadata": {},
   "outputs": [
    {
     "data": {
      "text/plain": [
       "853"
      ]
     },
     "execution_count": 21,
     "metadata": {},
     "output_type": "execute_result"
    }
   ],
   "source": [
    "NUMERO_MUNICIPIOS_MG"
   ]
  },
  {
   "cell_type": "code",
   "execution_count": null,
   "id": "d4c415f5",
   "metadata": {},
   "outputs": [],
   "source": [
    "numero1 = input('Digite o primeiro número: ')\n",
    "numero2 = input('Digite o segundo número: ')\n",
    "\n"
   ]
  },
  {
   "cell_type": "code",
   "execution_count": null,
   "id": "4a37c8de",
   "metadata": {},
   "outputs": [],
   "source": [
    "numero1 = input('Digite o primeiro número: ')\n",
    "numero2 = input('Digite o segundo número: ')\n"
   ]
  },
  {
   "cell_type": "code",
   "execution_count": 23,
   "id": "05befcff",
   "metadata": {},
   "outputs": [
    {
     "name": "stdout",
     "output_type": "stream",
     "text": [
      "digite45\n"
     ]
    }
   ],
   "source": [
    "numero1 = input('digite')"
   ]
  },
  {
   "cell_type": "code",
   "execution_count": null,
   "id": "a957f38d",
   "metadata": {},
   "outputs": [],
   "source": []
  },
  {
   "cell_type": "code",
   "execution_count": null,
   "id": "dd026056",
   "metadata": {},
   "outputs": [],
   "source": []
  }
 ],
 "metadata": {
  "kernelspec": {
   "display_name": "Python 3 (ipykernel)",
   "language": "python",
   "name": "python3"
  },
  "language_info": {
   "codemirror_mode": {
    "name": "ipython",
    "version": 3
   },
   "file_extension": ".py",
   "mimetype": "text/x-python",
   "name": "python",
   "nbconvert_exporter": "python",
   "pygments_lexer": "ipython3",
   "version": "3.9.7"
  }
 },
 "nbformat": 4,
 "nbformat_minor": 5
}
