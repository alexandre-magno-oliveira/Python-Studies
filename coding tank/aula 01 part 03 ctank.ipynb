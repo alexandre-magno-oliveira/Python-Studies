{
 "cells": [
  {
   "cell_type": "code",
   "execution_count": 1,
   "id": "fd891bfd",
   "metadata": {},
   "outputs": [
    {
     "name": "stdout",
     "output_type": "stream",
     "text": [
      "Digite o primeiro número: 5\n",
      "Digite o segundo número: 3\n"
     ]
    }
   ],
   "source": [
    "numero1 = input('Digite o primeiro número: ')\n",
    "numero2 = input('Digite o segundo número: ')\n"
   ]
  },
  {
   "cell_type": "code",
   "execution_count": 2,
   "id": "bb02fd87",
   "metadata": {},
   "outputs": [
    {
     "data": {
      "text/plain": [
       "'5'"
      ]
     },
     "execution_count": 2,
     "metadata": {},
     "output_type": "execute_result"
    }
   ],
   "source": [
    "numero1"
   ]
  },
  {
   "cell_type": "code",
   "execution_count": 3,
   "id": "26631f91",
   "metadata": {},
   "outputs": [
    {
     "data": {
      "text/plain": [
       "'3'"
      ]
     },
     "execution_count": 3,
     "metadata": {},
     "output_type": "execute_result"
    }
   ],
   "source": [
    "numero2"
   ]
  },
  {
   "cell_type": "code",
   "execution_count": 4,
   "id": "bcdfac74",
   "metadata": {},
   "outputs": [],
   "source": [
    "soma = numero1 + numero2"
   ]
  },
  {
   "cell_type": "code",
   "execution_count": 5,
   "id": "d01ba255",
   "metadata": {},
   "outputs": [
    {
     "name": "stdout",
     "output_type": "stream",
     "text": [
      "53\n"
     ]
    }
   ],
   "source": [
    "print(soma)"
   ]
  },
  {
   "cell_type": "code",
   "execution_count": null,
   "id": "2468c78d",
   "metadata": {},
   "outputs": [],
   "source": []
  },
  {
   "cell_type": "code",
   "execution_count": 6,
   "id": "f140c9dc",
   "metadata": {},
   "outputs": [
    {
     "name": "stdout",
     "output_type": "stream",
     "text": [
      "Digite o primeiro número: 5\n",
      "Digite o segundo número: 3\n"
     ]
    }
   ],
   "source": [
    "numero1 = int(input('Digite o primeiro número: '))\n",
    "numero2 = int(input('Digite o segundo número: '))\n"
   ]
  },
  {
   "cell_type": "code",
   "execution_count": 7,
   "id": "e34e6177",
   "metadata": {},
   "outputs": [],
   "source": [
    "soma = numero1 + numero2"
   ]
  },
  {
   "cell_type": "code",
   "execution_count": 8,
   "id": "b9becaf7",
   "metadata": {},
   "outputs": [
    {
     "name": "stdout",
     "output_type": "stream",
     "text": [
      "8\n"
     ]
    }
   ],
   "source": [
    "print(soma)"
   ]
  },
  {
   "cell_type": "code",
   "execution_count": 9,
   "id": "732e2413",
   "metadata": {},
   "outputs": [
    {
     "data": {
      "text/plain": [
       "int"
      ]
     },
     "execution_count": 9,
     "metadata": {},
     "output_type": "execute_result"
    }
   ],
   "source": [
    "type(int('4'))"
   ]
  },
  {
   "cell_type": "code",
   "execution_count": 10,
   "id": "4bba5dce",
   "metadata": {},
   "outputs": [
    {
     "name": "stdout",
     "output_type": "stream",
     "text": [
      "Primeiro número: 5\n",
      "Segundo número: 6\n"
     ]
    }
   ],
   "source": [
    "Data1 = int(input('Primeiro número: '))\n",
    "Data2 = int(input('Segundo número: '))"
   ]
  },
  {
   "cell_type": "code",
   "execution_count": 11,
   "id": "23bfb57c",
   "metadata": {},
   "outputs": [
    {
     "data": {
      "text/plain": [
       "6"
      ]
     },
     "execution_count": 11,
     "metadata": {},
     "output_type": "execute_result"
    }
   ],
   "source": [
    "Data2"
   ]
  },
  {
   "cell_type": "code",
   "execution_count": null,
   "id": "e4558b15",
   "metadata": {},
   "outputs": [],
   "source": [
    "# exercício 01 - Imprima \"Coding Tank 744\""
   ]
  },
  {
   "cell_type": "code",
   "execution_count": 13,
   "id": "8580ef4f",
   "metadata": {},
   "outputs": [
    {
     "ename": "SyntaxError",
     "evalue": "EOF while scanning triple-quoted string literal (Temp/ipykernel_12896/1059553756.py, line 1)",
     "output_type": "error",
     "traceback": [
      "\u001b[1;36m  File \u001b[1;32m\"C:\\Users\\ALEXAN~1\\AppData\\Local\\Temp/ipykernel_12896/1059553756.py\"\u001b[1;36m, line \u001b[1;32m1\u001b[0m\n\u001b[1;33m    print(\"\"\"Coding Tank 744\"\")\u001b[0m\n\u001b[1;37m                               ^\u001b[0m\n\u001b[1;31mSyntaxError\u001b[0m\u001b[1;31m:\u001b[0m EOF while scanning triple-quoted string literal\n"
     ]
    }
   ],
   "source": [
    "print(\"\"\"Coding Tank 744\"\")"
   ]
  },
  {
   "cell_type": "code",
   "execution_count": 14,
   "id": "37a500b8",
   "metadata": {},
   "outputs": [
    {
     "name": "stdout",
     "output_type": "stream",
     "text": [
      "Coding Tank 744\n"
     ]
    }
   ],
   "source": [
    "print(\"Coding Tank 744\")"
   ]
  },
  {
   "cell_type": "code",
   "execution_count": 15,
   "id": "6236ad95",
   "metadata": {},
   "outputs": [
    {
     "ename": "SyntaxError",
     "evalue": "invalid syntax (Temp/ipykernel_12896/3564664101.py, line 6)",
     "output_type": "error",
     "traceback": [
      "\u001b[1;36m  File \u001b[1;32m\"C:\\Users\\ALEXAN~1\\AppData\\Local\\Temp/ipykernel_12896/3564664101.py\"\u001b[1;36m, line \u001b[1;32m6\u001b[0m\n\u001b[1;33m    print(salário 1: )\u001b[0m\n\u001b[1;37m                  ^\u001b[0m\n\u001b[1;31mSyntaxError\u001b[0m\u001b[1;31m:\u001b[0m invalid syntax\n"
     ]
    }
   ],
   "source": [
    "input('digite o salário1: ')\n",
    "input('digite o salário2: ')\n",
    "input('digite o salário3: ')\n",
    "input('digite o salário4: ')\n",
    "input('digite o salári 5: ')\n",
    "print('salário1: ')\n"
   ]
  },
  {
   "cell_type": "code",
   "execution_count": 19,
   "id": "aefa4f11",
   "metadata": {},
   "outputs": [
    {
     "name": "stdout",
     "output_type": "stream",
     "text": [
      "digite o salário1: 1000\n",
      "digite o salário2: 2000\n",
      "digite o salário3: 3000\n",
      "digite o salário4: 4000\n",
      "digite o salário5: 5000\n"
     ]
    },
    {
     "ename": "NameError",
     "evalue": "name 'salário1' is not defined",
     "output_type": "error",
     "traceback": [
      "\u001b[1;31m---------------------------------------------------------------------------\u001b[0m",
      "\u001b[1;31mNameError\u001b[0m                                 Traceback (most recent call last)",
      "\u001b[1;32mC:\\Users\\ALEXAN~1\\AppData\\Local\\Temp/ipykernel_12896/541259455.py\u001b[0m in \u001b[0;36m<module>\u001b[1;34m\u001b[0m\n\u001b[0;32m      4\u001b[0m \u001b[0minput\u001b[0m\u001b[1;33m(\u001b[0m\u001b[1;34m'digite o salário4: '\u001b[0m\u001b[1;33m)\u001b[0m\u001b[1;33m\u001b[0m\u001b[1;33m\u001b[0m\u001b[0m\n\u001b[0;32m      5\u001b[0m \u001b[0minput\u001b[0m\u001b[1;33m(\u001b[0m\u001b[1;34m'digite o salário5: '\u001b[0m\u001b[1;33m)\u001b[0m\u001b[1;33m\u001b[0m\u001b[1;33m\u001b[0m\u001b[0m\n\u001b[1;32m----> 6\u001b[1;33m \u001b[0mprint\u001b[0m\u001b[1;33m(\u001b[0m\u001b[0msalário1\u001b[0m\u001b[1;33m)\u001b[0m\u001b[1;33m\u001b[0m\u001b[1;33m\u001b[0m\u001b[0m\n\u001b[0m",
      "\u001b[1;31mNameError\u001b[0m: name 'salário1' is not defined"
     ]
    }
   ],
   "source": [
    "input('digite o salário1: ')\n",
    "input('digite o salário2: ')\n",
    "input('digite o salário3: ')\n",
    "input('digite o salário4: ')\n",
    "input('digite o salário5: ')\n",
    "print(salário1)"
   ]
  },
  {
   "cell_type": "code",
   "execution_count": 24,
   "id": "c3f20fb2",
   "metadata": {},
   "outputs": [
    {
     "name": "stdout",
     "output_type": "stream",
     "text": [
      "digite o salário1: 1000\n",
      "digite o salário2: 2000\n",
      "digite o salário3: 3000\n",
      "digite o salário4: 4000\n",
      "digite o salário5: 5000\n",
      "1000\n",
      "2000\n",
      "3000\n",
      "4000\n",
      "5000\n"
     ]
    }
   ],
   "source": [
    "salarioF1 = int(input('digite o salário1: '))\n",
    "salarioF2 = int(input('digite o salário2: '))\n",
    "salarioF3 = int(input('digite o salário3: '))\n",
    "salarioF4 = int(input('digite o salário4: '))\n",
    "salarioF5 = int(input('digite o salário5: '))\n",
    "\n",
    "print(salarioF1)\n",
    "print(salarioF2)\n",
    "print(salarioF3)\n",
    "print(salarioF4)\n",
    "print(salarioF5)"
   ]
  },
  {
   "cell_type": "code",
   "execution_count": 22,
   "id": "452c9b00",
   "metadata": {},
   "outputs": [
    {
     "ename": "TypeError",
     "evalue": "unsupported operand type(s) for /: 'str' and 'int'",
     "output_type": "error",
     "traceback": [
      "\u001b[1;31m---------------------------------------------------------------------------\u001b[0m",
      "\u001b[1;31mTypeError\u001b[0m                                 Traceback (most recent call last)",
      "\u001b[1;32mC:\\Users\\ALEXAN~1\\AppData\\Local\\Temp/ipykernel_12896/356822403.py\u001b[0m in \u001b[0;36m<module>\u001b[1;34m\u001b[0m\n\u001b[1;32m----> 1\u001b[1;33m \u001b[0msalario_medio\u001b[0m \u001b[1;33m=\u001b[0m \u001b[0mint\u001b[0m\u001b[1;33m(\u001b[0m\u001b[1;33m(\u001b[0m\u001b[0msalarioF1\u001b[0m \u001b[1;33m+\u001b[0m \u001b[0msalarioF2\u001b[0m \u001b[1;33m+\u001b[0m \u001b[0msalarioF3\u001b[0m \u001b[1;33m+\u001b[0m \u001b[0msalarioF4\u001b[0m \u001b[1;33m+\u001b[0m \u001b[0msalarioF5\u001b[0m\u001b[1;33m)\u001b[0m\u001b[1;33m/\u001b[0m\u001b[1;36m5\u001b[0m\u001b[1;33m)\u001b[0m\u001b[1;33m\u001b[0m\u001b[1;33m\u001b[0m\u001b[0m\n\u001b[0m\u001b[0;32m      2\u001b[0m \u001b[0mprint\u001b[0m\u001b[1;33m(\u001b[0m\u001b[0msalario_medio\u001b[0m\u001b[1;33m)\u001b[0m\u001b[1;33m\u001b[0m\u001b[1;33m\u001b[0m\u001b[0m\n",
      "\u001b[1;31mTypeError\u001b[0m: unsupported operand type(s) for /: 'str' and 'int'"
     ]
    }
   ],
   "source": [
    "salario_medio = int((salarioF1 + salarioF2 + salarioF3 + salarioF4 + salarioF5)/5)\n",
    "print(salario_medio)"
   ]
  },
  {
   "cell_type": "code",
   "execution_count": 23,
   "id": "823be1d0",
   "metadata": {},
   "outputs": [
    {
     "ename": "TypeError",
     "evalue": "unsupported operand type(s) for /: 'str' and 'int'",
     "output_type": "error",
     "traceback": [
      "\u001b[1;31m---------------------------------------------------------------------------\u001b[0m",
      "\u001b[1;31mTypeError\u001b[0m                                 Traceback (most recent call last)",
      "\u001b[1;32mC:\\Users\\ALEXAN~1\\AppData\\Local\\Temp/ipykernel_12896/356822403.py\u001b[0m in \u001b[0;36m<module>\u001b[1;34m\u001b[0m\n\u001b[1;32m----> 1\u001b[1;33m \u001b[0msalario_medio\u001b[0m \u001b[1;33m=\u001b[0m \u001b[0mint\u001b[0m\u001b[1;33m(\u001b[0m\u001b[1;33m(\u001b[0m\u001b[0msalarioF1\u001b[0m \u001b[1;33m+\u001b[0m \u001b[0msalarioF2\u001b[0m \u001b[1;33m+\u001b[0m \u001b[0msalarioF3\u001b[0m \u001b[1;33m+\u001b[0m \u001b[0msalarioF4\u001b[0m \u001b[1;33m+\u001b[0m \u001b[0msalarioF5\u001b[0m\u001b[1;33m)\u001b[0m\u001b[1;33m/\u001b[0m\u001b[1;36m5\u001b[0m\u001b[1;33m)\u001b[0m\u001b[1;33m\u001b[0m\u001b[1;33m\u001b[0m\u001b[0m\n\u001b[0m\u001b[0;32m      2\u001b[0m \u001b[0mprint\u001b[0m\u001b[1;33m(\u001b[0m\u001b[0msalario_medio\u001b[0m\u001b[1;33m)\u001b[0m\u001b[1;33m\u001b[0m\u001b[1;33m\u001b[0m\u001b[0m\n",
      "\u001b[1;31mTypeError\u001b[0m: unsupported operand type(s) for /: 'str' and 'int'"
     ]
    }
   ],
   "source": [
    "salario_medio = int((salarioF1 + salarioF2 + salarioF3 + salarioF4 + salarioF5)/5)\n",
    "print(salario_medio)"
   ]
  },
  {
   "cell_type": "code",
   "execution_count": 27,
   "id": "adbd2482",
   "metadata": {},
   "outputs": [
    {
     "name": "stdout",
     "output_type": "stream",
     "text": [
      "3000.0\n"
     ]
    }
   ],
   "source": [
    "salario_medio = (salarioF1 + salarioF2 + salarioF3 + salarioF4 + salarioF5)/5\n",
    "print(salario_medio)\n"
   ]
  },
  {
   "cell_type": "code",
   "execution_count": 28,
   "id": "fc6b8ddb",
   "metadata": {},
   "outputs": [
    {
     "name": "stdout",
     "output_type": "stream",
     "text": [
      "digite valor em m10\n"
     ]
    }
   ],
   "source": [
    "valor_metros = int(input('digite valor em m'))\n",
    "valor_centimetros = valor_metros * 100\n"
   ]
  },
  {
   "cell_type": "code",
   "execution_count": null,
   "id": "f9a40014",
   "metadata": {},
   "outputs": [],
   "source": [
    "# inserir um valor em metros e apresentá-lo em centímetros"
   ]
  },
  {
   "cell_type": "code",
   "execution_count": 34,
   "id": "64c51221",
   "metadata": {},
   "outputs": [
    {
     "name": "stdout",
     "output_type": "stream",
     "text": [
      "digite valor em metros: 10\n",
      "1000 cm\n"
     ]
    }
   ],
   "source": [
    "valor_metros = int(input('digite valor em metros: '))\n",
    "valor_centimetros = valor_metros * 100\n",
    "print(valor_centimetros, 'cm')"
   ]
  },
  {
   "cell_type": "code",
   "execution_count": null,
   "id": "521c5c92",
   "metadata": {},
   "outputs": [],
   "source": [
    "# peça ao usuário para inserir a temperatura em farenheit e calcular e apresentar o valor em celsius"
   ]
  },
  {
   "cell_type": "code",
   "execution_count": 42,
   "id": "ba3ac2f0",
   "metadata": {},
   "outputs": [
    {
     "name": "stdout",
     "output_type": "stream",
     "text": [
      "digite a temperatura em farenheit: 50\n",
      "10.0 C\n"
     ]
    }
   ],
   "source": [
    "temperatura_farenheit = float(input('digite a temperatura em farenheit: '))\n",
    "temperatura_celsius = 5 * ((temperatura_farenheit - 32)/9)\n",
    "print(temperatura_celsius, 'C')"
   ]
  },
  {
   "cell_type": "code",
   "execution_count": 44,
   "id": "27127ed3",
   "metadata": {},
   "outputs": [
    {
     "name": "stdout",
     "output_type": "stream",
     "text": [
      "digite a temperatura em farenheit: 55\n",
      "12.777777777777777 C\n"
     ]
    }
   ],
   "source": [
    "temperatura_farenheit = int(input('digite a temperatura em farenheit: '))\n",
    "temperatura_celsius = 5 * ((temperatura_farenheit - 32)/9)\n",
    "print(temperatura_celsius, 'C')"
   ]
  },
  {
   "cell_type": "code",
   "execution_count": 49,
   "id": "8855c03c",
   "metadata": {},
   "outputs": [
    {
     "name": "stdout",
     "output_type": "stream",
     "text": [
      "digite valor hora: 50\n",
      "digite horas trabalhadas: 200\n",
      "Salário Bruto =  10000.0\n",
      "Imposto de Renda =  1100.0\n",
      "INSS =  800.0\n",
      "Sindicato =  500.0\n",
      "Salário Líquido =  7600.0\n"
     ]
    }
   ],
   "source": [
    "valor_hora = float(input('digite valor hora: '))\n",
    "horas_trabalhadas = float(input('digite horas trabalhadas: '))\n",
    "salario_bruto = valor_hora * horas_trabalhadas # print(salario_bruto)\n",
    "imposto_renda = salario_bruto * 0.11\n",
    "inss = salario_bruto * 0.08\n",
    "sindicato = salario_bruto * 0.05\n",
    "salario_liquido = salario_bruto - imposto_renda - inss - sindicato\n",
    "print('Salário Bruto = ', salario_bruto)\n",
    "print('Imposto de Renda = ', imposto_renda)\n",
    "print('INSS = ', inss)\n",
    "print('Sindicato = ', sindicato)\n",
    "print('Salário Líquido = ', salario_liquido)"
   ]
  },
  {
   "cell_type": "code",
   "execution_count": 50,
   "id": "9153ee45",
   "metadata": {},
   "outputs": [],
   "source": [
    "var = 5.345"
   ]
  },
  {
   "cell_type": "code",
   "execution_count": 52,
   "id": "0c320f01",
   "metadata": {},
   "outputs": [],
   "source": [
    "var_round = round(var, 1)"
   ]
  },
  {
   "cell_type": "code",
   "execution_count": 53,
   "id": "3cf96012",
   "metadata": {},
   "outputs": [
    {
     "name": "stdout",
     "output_type": "stream",
     "text": [
      "5.3\n"
     ]
    }
   ],
   "source": [
    "print(var_round)"
   ]
  },
  {
   "cell_type": "code",
   "execution_count": 55,
   "id": "56bff65e",
   "metadata": {},
   "outputs": [],
   "source": [
    "var_round = round(var, 2)"
   ]
  },
  {
   "cell_type": "code",
   "execution_count": 56,
   "id": "29c95669",
   "metadata": {},
   "outputs": [
    {
     "name": "stdout",
     "output_type": "stream",
     "text": [
      "5.34\n"
     ]
    }
   ],
   "source": [
    "print(var_round)"
   ]
  },
  {
   "cell_type": "code",
   "execution_count": 57,
   "id": "387e0966",
   "metadata": {},
   "outputs": [],
   "source": [
    "renda = 1500\n",
    "valor_minimo = 1200"
   ]
  },
  {
   "cell_type": "code",
   "execution_count": 58,
   "id": "0796d242",
   "metadata": {},
   "outputs": [
    {
     "data": {
      "text/plain": [
       "False"
      ]
     },
     "execution_count": 58,
     "metadata": {},
     "output_type": "execute_result"
    }
   ],
   "source": [
    "renda < valor_minimo"
   ]
  },
  {
   "cell_type": "code",
   "execution_count": 59,
   "id": "0ba588e2",
   "metadata": {},
   "outputs": [
    {
     "data": {
      "text/plain": [
       "False"
      ]
     },
     "execution_count": 59,
     "metadata": {},
     "output_type": "execute_result"
    }
   ],
   "source": [
    "5 == 4"
   ]
  },
  {
   "cell_type": "code",
   "execution_count": 60,
   "id": "1cf04fe2",
   "metadata": {},
   "outputs": [
    {
     "ename": "SyntaxError",
     "evalue": "cannot assign to literal (Temp/ipykernel_12896/2094994168.py, line 1)",
     "output_type": "error",
     "traceback": [
      "\u001b[1;36m  File \u001b[1;32m\"C:\\Users\\ALEXAN~1\\AppData\\Local\\Temp/ipykernel_12896/2094994168.py\"\u001b[1;36m, line \u001b[1;32m1\u001b[0m\n\u001b[1;33m    5 = 4\u001b[0m\n\u001b[1;37m    ^\u001b[0m\n\u001b[1;31mSyntaxError\u001b[0m\u001b[1;31m:\u001b[0m cannot assign to literal\n"
     ]
    }
   ],
   "source": [
    "5 = 4"
   ]
  },
  {
   "cell_type": "code",
   "execution_count": 61,
   "id": "2780904c",
   "metadata": {},
   "outputs": [
    {
     "data": {
      "text/plain": [
       "True"
      ]
     },
     "execution_count": 61,
     "metadata": {},
     "output_type": "execute_result"
    }
   ],
   "source": [
    "5 == 5"
   ]
  },
  {
   "cell_type": "code",
   "execution_count": 62,
   "id": "809819d0",
   "metadata": {},
   "outputs": [
    {
     "data": {
      "text/plain": [
       "True"
      ]
     },
     "execution_count": 62,
     "metadata": {},
     "output_type": "execute_result"
    }
   ],
   "source": [
    "renda == 1500"
   ]
  },
  {
   "cell_type": "code",
   "execution_count": 63,
   "id": "a5c6d93e",
   "metadata": {},
   "outputs": [
    {
     "data": {
      "text/plain": [
       "False"
      ]
     },
     "execution_count": 63,
     "metadata": {},
     "output_type": "execute_result"
    }
   ],
   "source": [
    "renda != 1500"
   ]
  },
  {
   "cell_type": "code",
   "execution_count": 64,
   "id": "2a8497ef",
   "metadata": {},
   "outputs": [
    {
     "data": {
      "text/plain": [
       "True"
      ]
     },
     "execution_count": 64,
     "metadata": {},
     "output_type": "execute_result"
    }
   ],
   "source": [
    "renda <= 1500"
   ]
  },
  {
   "cell_type": "code",
   "execution_count": 65,
   "id": "bad5382c",
   "metadata": {},
   "outputs": [
    {
     "data": {
      "text/plain": [
       "False"
      ]
     },
     "execution_count": 65,
     "metadata": {},
     "output_type": "execute_result"
    }
   ],
   "source": [
    "renda < 1500"
   ]
  },
  {
   "cell_type": "code",
   "execution_count": 66,
   "id": "427c660f",
   "metadata": {},
   "outputs": [
    {
     "data": {
      "text/plain": [
       "True"
      ]
     },
     "execution_count": 66,
     "metadata": {},
     "output_type": "execute_result"
    }
   ],
   "source": [
    "'alexandre'<'joao'"
   ]
  },
  {
   "cell_type": "code",
   "execution_count": 67,
   "id": "76111c46",
   "metadata": {},
   "outputs": [
    {
     "data": {
      "text/plain": [
       "False"
      ]
     },
     "execution_count": 67,
     "metadata": {},
     "output_type": "execute_result"
    }
   ],
   "source": [
    "'b'<'a'"
   ]
  },
  {
   "cell_type": "code",
   "execution_count": 68,
   "id": "65347b7f",
   "metadata": {},
   "outputs": [],
   "source": [
    "nome = \"Fulano\"\n",
    "valor_emprestimo = 10000\n",
    "renda = 2500"
   ]
  },
  {
   "cell_type": "code",
   "execution_count": 70,
   "id": "be0d12f6",
   "metadata": {},
   "outputs": [],
   "source": [
    " coneceder = renda > valor_emprestimo * 0.3"
   ]
  },
  {
   "cell_type": "code",
   "execution_count": null,
   "id": "32f54f0c",
   "metadata": {},
   "outputs": [],
   "source": []
  },
  {
   "cell_type": "code",
   "execution_count": null,
   "id": "c4e970cf",
   "metadata": {},
   "outputs": [],
   "source": []
  }
 ],
 "metadata": {
  "kernelspec": {
   "display_name": "Python 3 (ipykernel)",
   "language": "python",
   "name": "python3"
  },
  "language_info": {
   "codemirror_mode": {
    "name": "ipython",
    "version": 3
   },
   "file_extension": ".py",
   "mimetype": "text/x-python",
   "name": "python",
   "nbconvert_exporter": "python",
   "pygments_lexer": "ipython3",
   "version": "3.9.7"
  }
 },
 "nbformat": 4,
 "nbformat_minor": 5
}
