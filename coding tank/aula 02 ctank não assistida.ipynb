{
 "cells": [
  {
   "cell_type": "code",
   "execution_count": 1,
   "id": "d450d8d4",
   "metadata": {},
   "outputs": [
    {
     "name": "stdout",
     "output_type": "stream",
     "text": [
      "True\n",
      "False\n",
      "False\n"
     ]
    }
   ],
   "source": [
    "print(True and True)\n",
    "print(True and False)\n",
    "print(False and False)\n",
    "    "
   ]
  },
  {
   "cell_type": "code",
   "execution_count": 2,
   "id": "c21b9a4f",
   "metadata": {},
   "outputs": [
    {
     "name": "stdout",
     "output_type": "stream",
     "text": [
      "True\n",
      "True\n",
      "False\n"
     ]
    }
   ],
   "source": [
    "print(True or True)\n",
    "print(True or False)\n",
    "print(False or False)"
   ]
  },
  {
   "cell_type": "code",
   "execution_count": 3,
   "id": "6ab20b19",
   "metadata": {},
   "outputs": [
    {
     "data": {
      "text/plain": [
       "True"
      ]
     },
     "execution_count": 3,
     "metadata": {},
     "output_type": "execute_result"
    }
   ],
   "source": [
    "(2 > 3) or (1 < 2)"
   ]
  },
  {
   "cell_type": "code",
   "execution_count": 4,
   "id": "0e2e6d13",
   "metadata": {},
   "outputs": [
    {
     "data": {
      "text/plain": [
       "False"
      ]
     },
     "execution_count": 4,
     "metadata": {},
     "output_type": "execute_result"
    }
   ],
   "source": [
    "(1 < 5) and (10 <= 9)"
   ]
  },
  {
   "cell_type": "code",
   "execution_count": 5,
   "id": "7e21f68b",
   "metadata": {},
   "outputs": [],
   "source": [
    "concede = True"
   ]
  },
  {
   "cell_type": "code",
   "execution_count": 6,
   "id": "c207405c",
   "metadata": {},
   "outputs": [
    {
     "data": {
      "text/plain": [
       "True"
      ]
     },
     "execution_count": 6,
     "metadata": {},
     "output_type": "execute_result"
    }
   ],
   "source": [
    "concede"
   ]
  },
  {
   "cell_type": "code",
   "execution_count": 7,
   "id": "0b5bd669",
   "metadata": {},
   "outputs": [
    {
     "data": {
      "text/plain": [
       "False"
      ]
     },
     "execution_count": 7,
     "metadata": {},
     "output_type": "execute_result"
    }
   ],
   "source": [
    "not concede"
   ]
  },
  {
   "cell_type": "code",
   "execution_count": 17,
   "id": "68139774",
   "metadata": {},
   "outputs": [
    {
     "name": "stdout",
     "output_type": "stream",
     "text": [
      "2500\n",
      "<class 'int'>\n"
     ]
    }
   ],
   "source": [
    "nome = \"Fulano\"\n",
    "renda = 2500\n",
    "print(renda)\n",
    "print(type(renda))"
   ]
  },
  {
   "cell_type": "code",
   "execution_count": 10,
   "id": "68bb5579",
   "metadata": {},
   "outputs": [],
   "source": [
    "possui_divida = False"
   ]
  },
  {
   "cell_type": "code",
   "execution_count": 11,
   "id": "acae8c84",
   "metadata": {},
   "outputs": [
    {
     "name": "stdout",
     "output_type": "stream",
     "text": [
      "False\n",
      "<class 'bool'>\n"
     ]
    }
   ],
   "source": [
    "print(possui_divida)\n",
    "print(type(possui_divida))"
   ]
  },
  {
   "cell_type": "code",
   "execution_count": 13,
   "id": "29177092",
   "metadata": {},
   "outputs": [],
   "source": [
    "valor_emprestimo = 10000\n",
    "conceder = (renda > valor_emprestimo * 0.3) and (poussui_divida)"
   ]
  },
  {
   "cell_type": "code",
   "execution_count": 14,
   "id": "a67bd3c7",
   "metadata": {},
   "outputs": [
    {
     "data": {
      "text/plain": [
       "True"
      ]
     },
     "execution_count": 14,
     "metadata": {},
     "output_type": "execute_result"
    }
   ],
   "source": [
    "renda < valor_emprestimo * 0.3\n"
   ]
  },
  {
   "cell_type": "code",
   "execution_count": 15,
   "id": "0f69f5d9",
   "metadata": {},
   "outputs": [],
   "source": [
    "conceder = renda > valor_emprestimo * 0.3"
   ]
  },
  {
   "cell_type": "code",
   "execution_count": 18,
   "id": "55fd81f0",
   "metadata": {},
   "outputs": [
    {
     "name": "stdout",
     "output_type": "stream",
     "text": [
      " Cliente Fulano solicitou empréstimo de 10000 .\n",
      " Conceder: False\n"
     ]
    }
   ],
   "source": [
    "print(\" Cliente {} solicitou empréstimo de {} .\\n Conceder: {}\".format(nome, valor_emprestimo, conceder))"
   ]
  },
  {
   "cell_type": "code",
   "execution_count": 20,
   "id": "dee0e1ff",
   "metadata": {},
   "outputs": [
    {
     "name": "stdout",
     "output_type": "stream",
     "text": [
      "insira nota 1: 5\n",
      "insira nota 2: 8\n",
      "insira nota 3: 6\n",
      "insira nota 4: 4\n",
      "insira nota 5: 2\n"
     ]
    }
   ],
   "source": [
    "nota1 = int(input(\"insira nota 1: \"))\n",
    "nota2 = int(input(\"insira nota 2: \"))\n",
    "nota3 = int(input(\"insira nota 3: \"))                  \n",
    "nota4 = int(input(\"insira nota 4: \"))\n",
    "nota5 = int(input(\"insira nota 5: \"))"
   ]
  },
  {
   "cell_type": "code",
   "execution_count": 22,
   "id": "f48dbf27",
   "metadata": {},
   "outputs": [],
   "source": [
    "media = (nota1 + nota2 + nota3 + nota4 + nota5)/5"
   ]
  },
  {
   "cell_type": "code",
   "execution_count": 23,
   "id": "fa4d0f08",
   "metadata": {},
   "outputs": [],
   "source": [
    "aprovado = media >= 6"
   ]
  },
  {
   "cell_type": "code",
   "execution_count": 24,
   "id": "f4bdb386",
   "metadata": {},
   "outputs": [
    {
     "name": "stdout",
     "output_type": "stream",
     "text": [
      "Aluno aprovado?  False\n"
     ]
    }
   ],
   "source": [
    "print(\"Aluno aprovado? \", aprovado)"
   ]
  },
  {
   "cell_type": "code",
   "execution_count": 31,
   "id": "1388193a",
   "metadata": {},
   "outputs": [],
   "source": [
    "media = 7"
   ]
  },
  {
   "cell_type": "code",
   "execution_count": 28,
   "id": "82db0953",
   "metadata": {},
   "outputs": [
    {
     "data": {
      "text/plain": [
       "False"
      ]
     },
     "execution_count": 28,
     "metadata": {},
     "output_type": "execute_result"
    }
   ],
   "source": [
    "media >= 6"
   ]
  },
  {
   "cell_type": "code",
   "execution_count": 32,
   "id": "eedd7a58",
   "metadata": {},
   "outputs": [
    {
     "name": "stdout",
     "output_type": "stream",
     "text": [
      "Aprovado\n"
     ]
    }
   ],
   "source": [
    "if(media >= 6):\n",
    "    print(\"Aprovado\")"
   ]
  },
  {
   "cell_type": "code",
   "execution_count": 34,
   "id": "285df318",
   "metadata": {},
   "outputs": [
    {
     "name": "stdout",
     "output_type": "stream",
     "text": [
      "Aprovado\n",
      "Média: 7\n",
      "Fora do if\n"
     ]
    }
   ],
   "source": [
    "if media >= 6:\n",
    "    print(\"Aprovado\")\n",
    "    print(f\"Média: {media}\")\n",
    "print(\"Fora do if\")"
   ]
  },
  {
   "cell_type": "code",
   "execution_count": 35,
   "id": "536eced6",
   "metadata": {},
   "outputs": [
    {
     "name": "stdout",
     "output_type": "stream",
     "text": [
      "Aprovado\n"
     ]
    }
   ],
   "source": [
    "# if desnecessário\n",
    "if(media >= 6):\n",
    "    print(\"Aprovado\")\n",
    "if(media < 6): ## cuidado com o operador de comparação\n",
    "    print(\"Reprovado\")"
   ]
  },
  {
   "cell_type": "code",
   "execution_count": 36,
   "id": "a88ed091",
   "metadata": {},
   "outputs": [
    {
     "name": "stdout",
     "output_type": "stream",
     "text": [
      "Aprovado\n"
     ]
    }
   ],
   "source": [
    "# código mais enxuto\n",
    "if(media >= 6):\n",
    "    print(\"Aprovado\")\n",
    "else:\n",
    "    print(\"Reprovado\")"
   ]
  },
  {
   "cell_type": "code",
   "execution_count": 39,
   "id": "2b1c3091",
   "metadata": {},
   "outputs": [
    {
     "name": "stdout",
     "output_type": "stream",
     "text": [
      "Reprovado\n"
     ]
    }
   ],
   "source": [
    "# em uma única linha de código\n",
    "media = 5.7\n",
    "print(\"Reprovado\") if media < 6 else print(\"Aprovado\")"
   ]
  },
  {
   "cell_type": "code",
   "execution_count": 40,
   "id": "96133380",
   "metadata": {},
   "outputs": [
    {
     "name": "stdout",
     "output_type": "stream",
     "text": [
      "Aumenta a nota. Aprovado\n"
     ]
    }
   ],
   "source": [
    "# aluno que ficar com média entre 5.6 e 5.9 nós aumentaremos sua nota para 6 e o aprovamos\n",
    "if (media >= 6):\n",
    "    print(\"Aprovado\")\n",
    "elif(media >= 5.6 and media <= 5.9):\n",
    "    print(\"Aumenta a nota. Aprovado\")\n",
    "else:\n",
    "    print(\"Reprovado\")"
   ]
  },
  {
   "cell_type": "code",
   "execution_count": 41,
   "id": "0622eee8",
   "metadata": {},
   "outputs": [
    {
     "name": "stdout",
     "output_type": "stream",
     "text": [
      "conceder\n",
      "oferecer outro serviço\n"
     ]
    }
   ],
   "source": [
    "# usando if aninhado\n",
    "renda = 10000\n",
    "if(renda > 1500):\n",
    "    print(\"conceder\")\n",
    "    if(renda > 8000):\n",
    "        print(\"oferecer outro serviço\")\n",
    "else:\n",
    "    print(\"não concede\")"
   ]
  },
  {
   "cell_type": "code",
   "execution_count": 42,
   "id": "f6cdf598",
   "metadata": {},
   "outputs": [
    {
     "name": "stdout",
     "output_type": "stream",
     "text": [
      "Aumenta nota. Aprovado\n"
     ]
    }
   ],
   "source": [
    "# usando ternário\n",
    "media = 5.8\n",
    "print(\"Aprovado\") if media >= 6 else print(\"Aumenta nota. Aprovado\") if media >= 5.6 and media <= 5.9 else print (\"Reprovado\")"
   ]
  },
  {
   "cell_type": "code",
   "execution_count": null,
   "id": "d20a78d9",
   "metadata": {},
   "outputs": [],
   "source": [
    "# inicio aula 03 (4a aula)"
   ]
  },
  {
   "cell_type": "code",
   "execution_count": 44,
   "id": "e5e03378",
   "metadata": {},
   "outputs": [
    {
     "name": "stdout",
     "output_type": "stream",
     "text": [
      "Possui dívida? (S) o Sim (N) - Não: S\n",
      "Qual é a renda? 5000\n",
      "Não conceder\n"
     ]
    }
   ],
   "source": [
    "divida = input(\"Possui dívida? (S) o Sim (N) - Não: \")\n",
    "renda = float(input(\"Qual é a renda? \"))\n",
    "\n",
    "if(divida =='S'):\n",
    "    print(\"Não conceder\")\n",
    "else:\n",
    "    if(renda > 1200):\n",
    "        print(\"Conceder\")\n",
    "    else:\n",
    "        print(\"Não coneder\")"
   ]
  },
  {
   "cell_type": "code",
   "execution_count": null,
   "id": "c18fbbe0",
   "metadata": {},
   "outputs": [],
   "source": []
  }
 ],
 "metadata": {
  "kernelspec": {
   "display_name": "Python 3",
   "language": "python",
   "name": "python3"
  },
  "language_info": {
   "codemirror_mode": {
    "name": "ipython",
    "version": 3
   },
   "file_extension": ".py",
   "mimetype": "text/x-python",
   "name": "python",
   "nbconvert_exporter": "python",
   "pygments_lexer": "ipython3",
   "version": "3.8.8"
  }
 },
 "nbformat": 4,
 "nbformat_minor": 5
}
