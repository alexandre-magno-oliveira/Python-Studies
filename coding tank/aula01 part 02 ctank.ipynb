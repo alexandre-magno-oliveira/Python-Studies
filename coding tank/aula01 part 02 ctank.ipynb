{
 "cells": [
  {
   "cell_type": "code",
   "execution_count": 1,
   "id": "b0e32217",
   "metadata": {},
   "outputs": [
    {
     "name": "stdout",
     "output_type": "stream",
     "text": [
      "Seu nomeAlexandre\n"
     ]
    },
    {
     "data": {
      "text/plain": [
       "'Alexandre'"
      ]
     },
     "execution_count": 1,
     "metadata": {},
     "output_type": "execute_result"
    }
   ],
   "source": [
    "input('Seu nome')"
   ]
  },
  {
   "cell_type": "code",
   "execution_count": 2,
   "id": "0eb5336b",
   "metadata": {},
   "outputs": [
    {
     "name": "stdout",
     "output_type": "stream",
     "text": [
      "Digite sua idade54\n"
     ]
    }
   ],
   "source": [
    "idade = input('Digite sua idade')"
   ]
  },
  {
   "cell_type": "code",
   "execution_count": 3,
   "id": "5eaf3a2c",
   "metadata": {},
   "outputs": [
    {
     "name": "stdout",
     "output_type": "stream",
     "text": [
      "Digite sua idade: 54\n"
     ]
    }
   ],
   "source": [
    "idade = input('Digite sua idade: ')"
   ]
  },
  {
   "cell_type": "code",
   "execution_count": 4,
   "id": "5fcfdd09",
   "metadata": {},
   "outputs": [
    {
     "name": "stdout",
     "output_type": "stream",
     "text": [
      "A idade é  54\n"
     ]
    }
   ],
   "source": [
    "print('A idade é ', idade)"
   ]
  },
  {
   "cell_type": "code",
   "execution_count": null,
   "id": "8e87890f",
   "metadata": {},
   "outputs": [],
   "source": []
  }
 ],
 "metadata": {
  "kernelspec": {
   "display_name": "Python 3 (ipykernel)",
   "language": "python",
   "name": "python3"
  },
  "language_info": {
   "codemirror_mode": {
    "name": "ipython",
    "version": 3
   },
   "file_extension": ".py",
   "mimetype": "text/x-python",
   "name": "python",
   "nbconvert_exporter": "python",
   "pygments_lexer": "ipython3",
   "version": "3.9.7"
  }
 },
 "nbformat": 4,
 "nbformat_minor": 5
}
