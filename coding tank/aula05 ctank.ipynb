{
 "cells": [
  {
   "cell_type": "code",
   "execution_count": 1,
   "id": "f1274dae",
   "metadata": {},
   "outputs": [
    {
     "data": {
      "text/plain": [
       "5"
      ]
     },
     "execution_count": 1,
     "metadata": {},
     "output_type": "execute_result"
    }
   ],
   "source": [
    "lista = [1,2,3,4,5]\n",
    "len(lista)"
   ]
  },
  {
   "cell_type": "code",
   "execution_count": 2,
   "id": "6da6790f",
   "metadata": {},
   "outputs": [
    {
     "ename": "AttributeError",
     "evalue": "'list' object has no attribute 'max'",
     "output_type": "error",
     "traceback": [
      "\u001b[1;31m---------------------------------------------------------------------------\u001b[0m",
      "\u001b[1;31mAttributeError\u001b[0m                            Traceback (most recent call last)",
      "\u001b[1;32mC:\\Users\\ALEXAN~1\\AppData\\Local\\Temp/ipykernel_4440/2145017812.py\u001b[0m in \u001b[0;36m<module>\u001b[1;34m\u001b[0m\n\u001b[1;32m----> 1\u001b[1;33m \u001b[0mlista\u001b[0m\u001b[1;33m.\u001b[0m\u001b[0mmax\u001b[0m\u001b[1;33m(\u001b[0m\u001b[1;33m)\u001b[0m\u001b[1;33m\u001b[0m\u001b[1;33m\u001b[0m\u001b[0m\n\u001b[0m",
      "\u001b[1;31mAttributeError\u001b[0m: 'list' object has no attribute 'max'"
     ]
    }
   ],
   "source": [
    "lista.max()"
   ]
  },
  {
   "cell_type": "code",
   "execution_count": 3,
   "id": "3c670a81",
   "metadata": {},
   "outputs": [
    {
     "data": {
      "text/plain": [
       "5"
      ]
     },
     "execution_count": 3,
     "metadata": {},
     "output_type": "execute_result"
    }
   ],
   "source": [
    "max(lista)"
   ]
  },
  {
   "cell_type": "code",
   "execution_count": 4,
   "id": "2987c6d8",
   "metadata": {},
   "outputs": [
    {
     "data": {
      "text/plain": [
       "1"
      ]
     },
     "execution_count": 4,
     "metadata": {},
     "output_type": "execute_result"
    }
   ],
   "source": [
    "min(lista)"
   ]
  },
  {
   "cell_type": "code",
   "execution_count": 5,
   "id": "d4206944",
   "metadata": {},
   "outputs": [],
   "source": [
    "lista.sort()"
   ]
  },
  {
   "cell_type": "code",
   "execution_count": 6,
   "id": "11441a39",
   "metadata": {},
   "outputs": [
    {
     "name": "stdout",
     "output_type": "stream",
     "text": [
      "[1, 2, 3, 4, 5]\n"
     ]
    }
   ],
   "source": [
    "print(lista)"
   ]
  },
  {
   "cell_type": "code",
   "execution_count": 7,
   "id": "7cdb07a4",
   "metadata": {},
   "outputs": [],
   "source": [
    "lista.sort(reverse=True)"
   ]
  },
  {
   "cell_type": "code",
   "execution_count": 8,
   "id": "c93032f4",
   "metadata": {},
   "outputs": [
    {
     "name": "stdout",
     "output_type": "stream",
     "text": [
      "[5, 4, 3, 2, 1]\n"
     ]
    }
   ],
   "source": [
    "print(lista)"
   ]
  },
  {
   "cell_type": "code",
   "execution_count": 9,
   "id": "c3c9a3f7",
   "metadata": {},
   "outputs": [
    {
     "data": {
      "text/plain": [
       "[1, 2, 3, 4, 5]"
      ]
     },
     "execution_count": 9,
     "metadata": {},
     "output_type": "execute_result"
    }
   ],
   "source": [
    "sorted(lista)"
   ]
  },
  {
   "cell_type": "code",
   "execution_count": 12,
   "id": "92abb43c",
   "metadata": {},
   "outputs": [
    {
     "name": "stdout",
     "output_type": "stream",
     "text": [
      "[5, 4, 3, 2, 1]\n"
     ]
    }
   ],
   "source": [
    "print(lista)"
   ]
  },
  {
   "cell_type": "code",
   "execution_count": 13,
   "id": "1a4c3c0c",
   "metadata": {},
   "outputs": [
    {
     "name": "stdout",
     "output_type": "stream",
     "text": [
      "[5, 4, 3, 2, 1, 'banana']\n"
     ]
    }
   ],
   "source": [
    "lista.append('banana')\n",
    "print(lista)"
   ]
  },
  {
   "cell_type": "code",
   "execution_count": 14,
   "id": "08873961",
   "metadata": {},
   "outputs": [
    {
     "data": {
      "text/plain": [
       "<function list.sort(*, key=None, reverse=False)>"
      ]
     },
     "execution_count": 14,
     "metadata": {},
     "output_type": "execute_result"
    }
   ],
   "source": [
    "lista.sort"
   ]
  },
  {
   "cell_type": "code",
   "execution_count": 15,
   "id": "e2791b47",
   "metadata": {},
   "outputs": [
    {
     "ename": "TypeError",
     "evalue": "'<' not supported between instances of 'str' and 'int'",
     "output_type": "error",
     "traceback": [
      "\u001b[1;31m---------------------------------------------------------------------------\u001b[0m",
      "\u001b[1;31mTypeError\u001b[0m                                 Traceback (most recent call last)",
      "\u001b[1;32mC:\\Users\\ALEXAN~1\\AppData\\Local\\Temp/ipykernel_4440/2266425520.py\u001b[0m in \u001b[0;36m<module>\u001b[1;34m\u001b[0m\n\u001b[1;32m----> 1\u001b[1;33m \u001b[0msorted\u001b[0m\u001b[1;33m(\u001b[0m\u001b[0mlista\u001b[0m\u001b[1;33m)\u001b[0m\u001b[1;33m\u001b[0m\u001b[1;33m\u001b[0m\u001b[0m\n\u001b[0m",
      "\u001b[1;31mTypeError\u001b[0m: '<' not supported between instances of 'str' and 'int'"
     ]
    }
   ],
   "source": [
    "sorted(lista)"
   ]
  },
  {
   "cell_type": "code",
   "execution_count": 16,
   "id": "acca7ecc",
   "metadata": {},
   "outputs": [],
   "source": [
    "lista_listas = [['1', 2, True], [6,4,5]]"
   ]
  },
  {
   "cell_type": "code",
   "execution_count": 17,
   "id": "198fdb02",
   "metadata": {},
   "outputs": [
    {
     "data": {
      "text/plain": [
       "[['1', 2, True], [6, 4, 5]]"
      ]
     },
     "execution_count": 17,
     "metadata": {},
     "output_type": "execute_result"
    }
   ],
   "source": [
    "lista_listas"
   ]
  },
  {
   "cell_type": "code",
   "execution_count": 18,
   "id": "51193e16",
   "metadata": {},
   "outputs": [
    {
     "name": "stdout",
     "output_type": "stream",
     "text": [
      "[['1', 2, True], [6, 4, 5]]\n"
     ]
    }
   ],
   "source": [
    "print(lista_listas)"
   ]
  },
  {
   "cell_type": "code",
   "execution_count": 20,
   "id": "809cc238",
   "metadata": {},
   "outputs": [
    {
     "data": {
      "text/plain": [
       "[6, 4, 5]"
      ]
     },
     "execution_count": 20,
     "metadata": {},
     "output_type": "execute_result"
    }
   ],
   "source": [
    "lista_listas[1]"
   ]
  },
  {
   "cell_type": "code",
   "execution_count": 21,
   "id": "5af0c449",
   "metadata": {},
   "outputs": [
    {
     "data": {
      "text/plain": [
       "['1', 2, True]"
      ]
     },
     "execution_count": 21,
     "metadata": {},
     "output_type": "execute_result"
    }
   ],
   "source": [
    "lista_listas[0]"
   ]
  },
  {
   "cell_type": "code",
   "execution_count": 22,
   "id": "492391bd",
   "metadata": {},
   "outputs": [
    {
     "data": {
      "text/plain": [
       "[6, 4, 5]"
      ]
     },
     "execution_count": 22,
     "metadata": {},
     "output_type": "execute_result"
    }
   ],
   "source": [
    "lista_listas[-1]"
   ]
  },
  {
   "cell_type": "code",
   "execution_count": 23,
   "id": "3ea0d337",
   "metadata": {},
   "outputs": [
    {
     "data": {
      "text/plain": [
       "6"
      ]
     },
     "execution_count": 23,
     "metadata": {},
     "output_type": "execute_result"
    }
   ],
   "source": [
    "lista_listas[-1][0]"
   ]
  },
  {
   "cell_type": "code",
   "execution_count": 25,
   "id": "5da41df2",
   "metadata": {},
   "outputs": [
    {
     "data": {
      "text/plain": [
       "[['1', 2, True], [6, 4, 5]]"
      ]
     },
     "execution_count": 25,
     "metadata": {},
     "output_type": "execute_result"
    }
   ],
   "source": [
    "lista_listas"
   ]
  },
  {
   "cell_type": "code",
   "execution_count": 26,
   "id": "200475b9",
   "metadata": {},
   "outputs": [],
   "source": [
    "# crie uma lista com valores entre 0 e 50 em apenas uma linha"
   ]
  },
  {
   "cell_type": "code",
   "execution_count": 32,
   "id": "19777f53",
   "metadata": {},
   "outputs": [
    {
     "data": {
      "text/plain": [
       "[0, 1, 2, 3, 4, 5, 6, 7, 8, 9, 10, 11, 12, 13, 14, 15, 16, 17, 18, 19, 20]"
      ]
     },
     "execution_count": 32,
     "metadata": {},
     "output_type": "execute_result"
    }
   ],
   "source": [
    "list(range(21))"
   ]
  },
  {
   "cell_type": "code",
   "execution_count": 33,
   "id": "c5e4a099",
   "metadata": {},
   "outputs": [],
   "source": [
    "minha_list = list(range(21))"
   ]
  },
  {
   "cell_type": "code",
   "execution_count": 35,
   "id": "48b4c2e8",
   "metadata": {},
   "outputs": [
    {
     "name": "stdout",
     "output_type": "stream",
     "text": [
      "Núemro de pares encontrados na sequencia foi 11\n"
     ]
    }
   ],
   "source": [
    "# faça um programa que olhe todos os elementos da lista acima e diga quantos deles são pares\n",
    "\n",
    "aux = 0\n",
    "pares = 0\n",
    "\n",
    "while aux < len(minha_list):\n",
    "    if minha_list[aux] % 2 == 0:\n",
    "        pares += 1\n",
    "        \n",
    "    aux += 1\n",
    "\n",
    "print(f'Núemro de pares encontrados na sequencia foi {pares}')"
   ]
  },
  {
   "cell_type": "code",
   "execution_count": 45,
   "id": "ed3d0d86",
   "metadata": {},
   "outputs": [
    {
     "name": "stdout",
     "output_type": "stream",
     "text": [
      "digite uma letra, 'sair' para encerrar: A\n",
      "digite uma letra, 'sair' para encerrar: s\n",
      "digite uma letra, 'sair' para encerrar: c\n",
      "digite uma letra, 'sair' para encerrar: v\n",
      "digite uma letra, 'sair' para encerrar: e\n",
      "digite uma letra, 'sair' para encerrar: sair\n",
      "['A', 's', 'c', 'v', 'e']\n",
      "3\n"
     ]
    }
   ],
   "source": [
    "# peça ao usuário para digitar uma quantidade qualquer de letras e grave essas letras em uma lista. Após isso, verifique quantas consoantes existem dentro da sua lista\n",
    "\n",
    "lista_letras = []\n",
    "qt_consoantes = 0\n",
    "lista_vogais = ['a','e','i','o', 'u']\n",
    "\n",
    "while True:\n",
    "    \n",
    "    letra = input(\"digite uma letra, 'sair' para encerrar: \")\n",
    "    \n",
    "    if letra == 'sair':\n",
    "        break\n",
    "    else:\n",
    "        lista_letras.append(letra)\n",
    "        \n",
    "        if letra.lower() not in lista_vogais:  #letra.lower() para o caso do usuário digitar uma letra maiúscula\n",
    "            qt_consoantes += 1\n",
    "    \n",
    "print(lista_letras)\n",
    "print(qt_consoantes)\n",
    "        \n",
    "               \n",
    "        "
   ]
  },
  {
   "cell_type": "code",
   "execution_count": 38,
   "id": "5bca1390",
   "metadata": {},
   "outputs": [
    {
     "data": {
      "text/plain": [
       "False"
      ]
     },
     "execution_count": 38,
     "metadata": {},
     "output_type": "execute_result"
    }
   ],
   "source": [
    "13 in range(1, 9)"
   ]
  },
  {
   "cell_type": "code",
   "execution_count": 39,
   "id": "394f075c",
   "metadata": {},
   "outputs": [
    {
     "data": {
      "text/plain": [
       "True"
      ]
     },
     "execution_count": 39,
     "metadata": {},
     "output_type": "execute_result"
    }
   ],
   "source": [
    "script = 'Tá bom. Aguarde um momento'\n",
    "\n",
    "'um momento' in script"
   ]
  },
  {
   "cell_type": "code",
   "execution_count": 42,
   "id": "1fb2cc76",
   "metadata": {},
   "outputs": [
    {
     "data": {
      "text/plain": [
       "'TÁ BOM. AGUARDE UM MOMENTO'"
      ]
     },
     "execution_count": 42,
     "metadata": {},
     "output_type": "execute_result"
    }
   ],
   "source": [
    "script.upper()\n"
   ]
  },
  {
   "cell_type": "code",
   "execution_count": 43,
   "id": "50b0336e",
   "metadata": {},
   "outputs": [
    {
     "data": {
      "text/plain": [
       "'tá bom. aguarde um momento'"
      ]
     },
     "execution_count": 43,
     "metadata": {},
     "output_type": "execute_result"
    }
   ],
   "source": [
    "script.lower()"
   ]
  },
  {
   "cell_type": "code",
   "execution_count": 44,
   "id": "36ea555d",
   "metadata": {},
   "outputs": [
    {
     "data": {
      "text/plain": [
       "['Tá', 'bom.', 'Aguarde', 'um', 'momento']"
      ]
     },
     "execution_count": 44,
     "metadata": {},
     "output_type": "execute_result"
    }
   ],
   "source": [
    "script.split()"
   ]
  },
  {
   "cell_type": "code",
   "execution_count": null,
   "id": "97ca1c8c",
   "metadata": {},
   "outputs": [],
   "source": [
    "# faça um programa que imprima o maior número de uma lista, sem usar o método max()."
   ]
  },
  {
   "cell_type": "code",
   "execution_count": 46,
   "id": "088febed",
   "metadata": {},
   "outputs": [
    {
     "name": "stdout",
     "output_type": "stream",
     "text": [
      "17\n"
     ]
    }
   ],
   "source": [
    "minha_lista = [1, 3, 5, 17, 10, 8, 4]\n",
    "aux = 0\n",
    "maior_numero = 0\n",
    "\n",
    "while aux < len(minha_lista):\n",
    "    if minha_lista[aux] > maior_numero:\n",
    "        maior_numero = minha_lista[aux]\n",
    "        \n",
    "    aux += 1\n",
    "    \n",
    "print(maior_numero)"
   ]
  },
  {
   "cell_type": "code",
   "execution_count": 47,
   "id": "7feadf96",
   "metadata": {},
   "outputs": [
    {
     "name": "stdout",
     "output_type": "stream",
     "text": [
      "104\n"
     ]
    }
   ],
   "source": [
    "# com sorted\n",
    "lista = [ 23, 45, 6, 34, 104, 5]\n",
    "lista_ordenada = sorted(lista)\n",
    "lista_ordenada.reverse()\n",
    "print(lista_ordenada[0])"
   ]
  },
  {
   "cell_type": "code",
   "execution_count": 48,
   "id": "791b45b8",
   "metadata": {},
   "outputs": [],
   "source": [
    "# faça um programa que leia uma lista L com valores informados pelo usuário e gere uma nova lista cujos valores consistem do dobro dos valores lidos."
   ]
  },
  {
   "cell_type": "code",
   "execution_count": 49,
   "id": "72148b2b",
   "metadata": {},
   "outputs": [
    {
     "name": "stdout",
     "output_type": "stream",
     "text": [
      "[1, 3, 5, 17, 10, 8, 4]\n",
      "[2, 6, 10, 34, 20, 16, 8]\n"
     ]
    }
   ],
   "source": [
    "minha_lista = [1, 3, 5, 17, 10, 8, 4]\n",
    "lista_dobro = []\n",
    "aux = 0\n",
    "\n",
    "while aux < len(minha_lista):\n",
    "    \n",
    "    #dobro = minha_lista[aux]*2\n",
    "    #lista_dobro.append(dobro)\n",
    "    lista_dobro.append(minha_lista[aux]*2)\n",
    "    aux += 1\n",
    "    \n",
    "print(minha_lista)\n",
    "print(lista_dobro)\n",
    "    \n"
   ]
  },
  {
   "cell_type": "code",
   "execution_count": 50,
   "id": "c8ce5772",
   "metadata": {},
   "outputs": [],
   "source": [
    "### For"
   ]
  },
  {
   "cell_type": "code",
   "execution_count": 51,
   "id": "b91d8a33",
   "metadata": {},
   "outputs": [
    {
     "name": "stdout",
     "output_type": "stream",
     "text": [
      "Mensagem\n",
      "Mensagem\n",
      "Mensagem\n",
      "Mensagem\n",
      "Mensagem\n"
     ]
    }
   ],
   "source": [
    "for i in range(5):\n",
    "    print(\"Mensagem\")"
   ]
  },
  {
   "cell_type": "code",
   "execution_count": 52,
   "id": "b00ea4bf",
   "metadata": {},
   "outputs": [
    {
     "name": "stdout",
     "output_type": "stream",
     "text": [
      "0\n",
      "1\n",
      "2\n",
      "3\n",
      "4\n"
     ]
    }
   ],
   "source": [
    "for i in range(5):\n",
    "    print(i)"
   ]
  },
  {
   "cell_type": "code",
   "execution_count": 53,
   "id": "73c57c57",
   "metadata": {},
   "outputs": [
    {
     "name": "stdout",
     "output_type": "stream",
     "text": [
      "1\n",
      "3\n",
      "5\n",
      "7\n",
      "9\n"
     ]
    }
   ],
   "source": [
    "for i in range(1,10,2):\n",
    "    print(i)"
   ]
  },
  {
   "cell_type": "code",
   "execution_count": 54,
   "id": "608cea95",
   "metadata": {},
   "outputs": [],
   "source": [
    "minha_lista = list(range(20))"
   ]
  },
  {
   "cell_type": "code",
   "execution_count": 55,
   "id": "8514d853",
   "metadata": {},
   "outputs": [
    {
     "name": "stdout",
     "output_type": "stream",
     "text": [
      "0\n",
      "1\n",
      "2\n",
      "3\n",
      "4\n",
      "5\n",
      "6\n",
      "7\n",
      "8\n",
      "9\n",
      "10\n",
      "11\n",
      "12\n",
      "13\n",
      "14\n",
      "15\n",
      "16\n",
      "17\n",
      "18\n",
      "19\n"
     ]
    }
   ],
   "source": [
    "for elemento in minha_lista:\n",
    "    print(elemento)"
   ]
  },
  {
   "cell_type": "code",
   "execution_count": 56,
   "id": "97ceedf8",
   "metadata": {},
   "outputs": [],
   "source": [
    "import random"
   ]
  },
  {
   "cell_type": "code",
   "execution_count": 58,
   "id": "b388c4a9",
   "metadata": {},
   "outputs": [
    {
     "name": "stdout",
     "output_type": "stream",
     "text": [
      "[18, 13, -6, -2, -2, 14, 12, 1, 20, 7, 19, -17, 17, 9, 15, 5, -10, -16, -12, 20]\n"
     ]
    }
   ],
   "source": [
    "lista = []\n",
    "for e in range(20):\n",
    "    numero_al = random.randint(-20, 20)\n",
    "    lista.append(numero_al)\n",
    "    \n",
    "print(lista)"
   ]
  },
  {
   "cell_type": "code",
   "execution_count": 59,
   "id": "2e1c799a",
   "metadata": {},
   "outputs": [],
   "source": [
    "# percorre a lista e imprime apenas os negativos"
   ]
  },
  {
   "cell_type": "code",
   "execution_count": 61,
   "id": "3ccc6622",
   "metadata": {},
   "outputs": [
    {
     "name": "stdout",
     "output_type": "stream",
     "text": [
      "-6\n",
      "-2\n",
      "-2\n",
      "-17\n",
      "-10\n",
      "-16\n",
      "-12\n"
     ]
    }
   ],
   "source": [
    "for elemento in lista:\n",
    "    if elemento < 0:\n",
    "        print(elemento)"
   ]
  },
  {
   "cell_type": "code",
   "execution_count": 62,
   "id": "0fe0b72d",
   "metadata": {},
   "outputs": [],
   "source": [
    "negativos = []\n",
    "positivos = []\n",
    "\n",
    "for elemento in lista:\n",
    "    if elemento < 0:\n",
    "        negativos.append(elemento)\n",
    "    else:\n",
    "        positivos.append(elemento)"
   ]
  },
  {
   "cell_type": "code",
   "execution_count": 63,
   "id": "2ecd3e09",
   "metadata": {},
   "outputs": [
    {
     "data": {
      "text/plain": [
       "[-6, -2, -2, -17, -10, -16, -12]"
      ]
     },
     "execution_count": 63,
     "metadata": {},
     "output_type": "execute_result"
    }
   ],
   "source": [
    "negativos"
   ]
  },
  {
   "cell_type": "code",
   "execution_count": 64,
   "id": "3170c948",
   "metadata": {},
   "outputs": [
    {
     "data": {
      "text/plain": [
       "[18, 13, 14, 12, 1, 20, 7, 19, 17, 9, 15, 5, 20]"
      ]
     },
     "execution_count": 64,
     "metadata": {},
     "output_type": "execute_result"
    }
   ],
   "source": [
    "positivos"
   ]
  },
  {
   "cell_type": "code",
   "execution_count": 66,
   "id": "1c065506",
   "metadata": {},
   "outputs": [
    {
     "name": "stdout",
     "output_type": "stream",
     "text": [
      "[2, 4, 6, 10, 306, -112]\n"
     ]
    }
   ],
   "source": [
    "lista = [1, 2, 3, 5, 153, -56]\n",
    "lista_dobro = []\n",
    "\n",
    "for elemento in lista:\n",
    "    \n",
    "    lista_dobro.append(2*elemento)\n",
    "    \n",
    "print(lista_dobro)"
   ]
  },
  {
   "cell_type": "code",
   "execution_count": 68,
   "id": "9984306a",
   "metadata": {},
   "outputs": [
    {
     "name": "stdout",
     "output_type": "stream",
     "text": [
      "2\n",
      "6\n",
      "8\n",
      "texto\n"
     ]
    },
    {
     "ename": "IndexError",
     "evalue": "list index out of range",
     "output_type": "error",
     "traceback": [
      "\u001b[1;31m---------------------------------------------------------------------------\u001b[0m",
      "\u001b[1;31mIndexError\u001b[0m                                Traceback (most recent call last)",
      "\u001b[1;32mC:\\Users\\ALEXAN~1\\AppData\\Local\\Temp/ipykernel_4440/2376347135.py\u001b[0m in \u001b[0;36m<module>\u001b[1;34m\u001b[0m\n\u001b[0;32m      2\u001b[0m \u001b[1;33m\u001b[0m\u001b[0m\n\u001b[0;32m      3\u001b[0m \u001b[1;32mfor\u001b[0m \u001b[0mi\u001b[0m \u001b[1;32min\u001b[0m \u001b[0mrange\u001b[0m\u001b[1;33m(\u001b[0m\u001b[0mlen\u001b[0m\u001b[1;33m(\u001b[0m\u001b[0mexemplo_lista\u001b[0m\u001b[1;33m)\u001b[0m\u001b[1;33m)\u001b[0m\u001b[1;33m:\u001b[0m\u001b[1;33m\u001b[0m\u001b[1;33m\u001b[0m\u001b[0m\n\u001b[1;32m----> 4\u001b[1;33m     \u001b[0mprint\u001b[0m\u001b[1;33m(\u001b[0m\u001b[0mexemplo_lista\u001b[0m\u001b[1;33m[\u001b[0m\u001b[0mi\u001b[0m\u001b[1;33m+\u001b[0m\u001b[1;36m1\u001b[0m\u001b[1;33m]\u001b[0m\u001b[1;33m)\u001b[0m\u001b[1;33m\u001b[0m\u001b[1;33m\u001b[0m\u001b[0m\n\u001b[0m",
      "\u001b[1;31mIndexError\u001b[0m: list index out of range"
     ]
    }
   ],
   "source": [
    "exemplo_lista = [-45, 2, 6, 8, \"texto\"]\n",
    "\n",
    "for i in range(len(exemplo_lista)):\n",
    "    print(exemplo_lista[i+1])"
   ]
  },
  {
   "cell_type": "code",
   "execution_count": 70,
   "id": "1629741c",
   "metadata": {},
   "outputs": [
    {
     "name": "stdout",
     "output_type": "stream",
     "text": [
      "4\n",
      "5\n",
      "6\n",
      "5\n",
      "56\n",
      "7\n",
      "-10\n",
      "-10\n"
     ]
    }
   ],
   "source": [
    "lista = [4, 5, 6, 5, 56, 7, -10, 78, 80, 9]\n",
    "\n",
    "for i in range(len(lista)):\n",
    "    print(lista[i])\n",
    "    if lista[i] < 0:\n",
    "        print(lista[i])\n",
    "        break\n"
   ]
  },
  {
   "cell_type": "code",
   "execution_count": 71,
   "id": "0172e455",
   "metadata": {},
   "outputs": [
    {
     "name": "stdout",
     "output_type": "stream",
     "text": [
      "['lista1', 45, 89, -34]\n",
      "['lista2', 35, 78, 12]\n"
     ]
    }
   ],
   "source": [
    "lista_com_listas = [[\"lista1\", 45, 89, -34], [\"lista2\", 35, 78, 12]]\n",
    "\n",
    "for e in lista_com_listas:\n",
    "    print(e)"
   ]
  },
  {
   "cell_type": "code",
   "execution_count": 73,
   "id": "cade9106",
   "metadata": {},
   "outputs": [
    {
     "name": "stdout",
     "output_type": "stream",
     "text": [
      "lista1\n",
      "45\n",
      "89\n",
      "-34\n",
      "lista2\n",
      "35\n",
      "78\n",
      "12\n"
     ]
    }
   ],
   "source": [
    "lista_com_listas = [[\"lista1\", 45, 89, -34], [\"lista2\", 35, 78, 12]]\n",
    "\n",
    "for lista in lista_com_listas:\n",
    "    for elemento in lista:\n",
    "        print(elemento)"
   ]
  },
  {
   "cell_type": "code",
   "execution_count": 74,
   "id": "7aa2161f",
   "metadata": {},
   "outputs": [
    {
     "name": "stdout",
     "output_type": "stream",
     "text": [
      "lista1\n",
      "45\n",
      "89\n",
      "-34\n",
      "------\n",
      "lista2\n",
      "35\n",
      "78\n",
      "12\n",
      "------\n"
     ]
    }
   ],
   "source": [
    "lista_com_listas = [[\"lista1\", 45, 89, -34], [\"lista2\", 35, 78, 12]]\n",
    "\n",
    "for lista in lista_com_listas:\n",
    "    for elemento in lista:\n",
    "        print(elemento)\n",
    "    print('------')"
   ]
  },
  {
   "cell_type": "code",
   "execution_count": null,
   "id": "b2ee646d",
   "metadata": {},
   "outputs": [],
   "source": [
    "\"\"\" sistema de notas para atletas. Cada atleta n saltos. 3 valores: ruim - 0, bom - 3, muito bom - 5 ptos. Tire a média dos saltos\n",
    "de cada atleta e salve em uma lista. Apresente o melhor atleta com seus saltos e média\"\"\""
   ]
  },
  {
   "cell_type": "code",
   "execution_count": 83,
   "id": "0ab293f7",
   "metadata": {},
   "outputs": [
    {
     "name": "stdout",
     "output_type": "stream",
     "text": [
      "-----------------------------Avaliação Atletas-------------------------------------------------\n",
      "Digite o nome do atleta 1: joao\n",
      "\n",
      "Salto 1 do atleta joao\n",
      "Informe a qualidade do salto. ruim - 0, bom - 3, muito bom - 5  5\n",
      "Valor incorreto! Informe a qualidade do salto. ruim - 0, bom - 3, muito bom - 5  ruim\n"
     ]
    }
   ],
   "source": [
    "atletas = []\n",
    "notas = []\n",
    "medias = []\n",
    "\n",
    "NUMERO_ATLETAS = 1\n",
    "NUMERO_SALTOS = 1\n",
    "\n",
    "conceitos = ['ruim', 'bom', 'muito bom']\n",
    "\n",
    "print(\"-----------------------------Avaliação Atletas-------------------------------------------------\")\n",
    "\n",
    "for i in range(NUMERO_ATLETAS):\n",
    "    nome_atleta = input(f\"Digite o nome do atleta {i+1}: \")\n",
    "    pontos = 0\n",
    "    for s in range(NUMERO_SALTOS):\n",
    "        \n",
    "        print(f'\\nSalto {s+1} do atleta {nome_atleta}')\n",
    "        qualidade_salto = input(\"Informe a qualidade do salto. ruim - 0, bom - 3, muito bom - 5  \")\n",
    "        \n",
    "        while qualidade_salto not in conceitos: \n",
    "            qualidade_salto = input(\"Valor incorreto! Informe a qualidade do salto. ruim - 0, bom - 3, muito bom - 5  \")\n",
    "            \n",
    "        if qualidade_salto == \"ruim\":\n",
    "            pontos +=0\n",
    "        elif qualidade_salto == \"bom\":\n",
    "            pontos += 3\n",
    "        else: \n",
    "            pontos += 5\n",
    "            \n",
    "    print(\"\\n --------------------------\")\n",
    "    #armazena a soma dos pontos\n",
    "    notas.append(pontos)\n",
    "    \n",
    "for n in range(NUMERO_ATLETAS):\n",
    "    media = notas[n]/NUMERO_SALTOS\n",
    "    medias.append(media)"
   ]
  },
  {
   "cell_type": "code",
   "execution_count": null,
   "id": "8c1dd230",
   "metadata": {},
   "outputs": [],
   "source": []
  },
  {
   "cell_type": "code",
   "execution_count": null,
   "id": "19cbe35c",
   "metadata": {},
   "outputs": [],
   "source": []
  },
  {
   "cell_type": "code",
   "execution_count": null,
   "id": "f014a67e",
   "metadata": {},
   "outputs": [],
   "source": []
  },
  {
   "cell_type": "code",
   "execution_count": null,
   "id": "4956193f",
   "metadata": {},
   "outputs": [],
   "source": []
  },
  {
   "cell_type": "code",
   "execution_count": null,
   "id": "31118c9f",
   "metadata": {},
   "outputs": [],
   "source": []
  },
  {
   "cell_type": "code",
   "execution_count": null,
   "id": "5943616b",
   "metadata": {},
   "outputs": [],
   "source": []
  }
 ],
 "metadata": {
  "kernelspec": {
   "display_name": "Python 3 (ipykernel)",
   "language": "python",
   "name": "python3"
  },
  "language_info": {
   "codemirror_mode": {
    "name": "ipython",
    "version": 3
   },
   "file_extension": ".py",
   "mimetype": "text/x-python",
   "name": "python",
   "nbconvert_exporter": "python",
   "pygments_lexer": "ipython3",
   "version": "3.9.7"
  }
 },
 "nbformat": 4,
 "nbformat_minor": 5
}
