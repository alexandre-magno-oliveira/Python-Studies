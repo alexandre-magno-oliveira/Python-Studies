{
 "cells": [
  {
   "cell_type": "markdown",
   "id": "dd891b23",
   "metadata": {},
   "source": [
    "DICIONÁRIOS - CHAVE: VALOR"
   ]
  },
  {
   "cell_type": "code",
   "execution_count": null,
   "id": "c4cb01df",
   "metadata": {},
   "outputs": [],
   "source": []
  },
  {
   "cell_type": "code",
   "execution_count": null,
   "id": "b0b454c1",
   "metadata": {},
   "outputs": [],
   "source": []
  },
  {
   "cell_type": "code",
   "execution_count": null,
   "id": "c114f660",
   "metadata": {},
   "outputs": [],
   "source": []
  },
  {
   "cell_type": "code",
   "execution_count": null,
   "id": "c8123782",
   "metadata": {},
   "outputs": [],
   "source": []
  },
  {
   "cell_type": "code",
   "execution_count": 1,
   "id": "673a41ce",
   "metadata": {},
   "outputs": [],
   "source": [
    "cliente_dict = {\"nome\": \"joão\"}"
   ]
  },
  {
   "cell_type": "code",
   "execution_count": 2,
   "id": "b8acc619",
   "metadata": {},
   "outputs": [
    {
     "name": "stdout",
     "output_type": "stream",
     "text": [
      "{'nome': 'joão'}\n"
     ]
    }
   ],
   "source": [
    "print(cliente_dict)"
   ]
  },
  {
   "cell_type": "code",
   "execution_count": 3,
   "id": "2bd62044",
   "metadata": {},
   "outputs": [
    {
     "name": "stdout",
     "output_type": "stream",
     "text": [
      "{'nome': 'joão', 'salario': 5000, 'empregado': True}\n"
     ]
    }
   ],
   "source": [
    "cliente_dict = {\"nome\": \"joão\", \"salario\": 5000, \"empregado\": True}\n",
    "print(cliente_dict)"
   ]
  },
  {
   "cell_type": "code",
   "execution_count": 4,
   "id": "10699a4a",
   "metadata": {},
   "outputs": [
    {
     "data": {
      "text/plain": [
       "5000"
      ]
     },
     "execution_count": 4,
     "metadata": {},
     "output_type": "execute_result"
    }
   ],
   "source": [
    "cliente_dict[\"salario\"]"
   ]
  },
  {
   "cell_type": "code",
   "execution_count": 7,
   "id": "14fd703e",
   "metadata": {},
   "outputs": [
    {
     "name": "stdout",
     "output_type": "stream",
     "text": [
      "digite o nome: alexandre\n",
      "digite o salário: 34000\n",
      "digite o cargo: cientista\n",
      "digite o nome: carlos\n",
      "digite o salário: 23000\n",
      "digite o cargo: fullstack\n"
     ]
    }
   ],
   "source": [
    "clientes_dict = {}\n",
    "lista_nomes = []\n",
    "lista_salarios = []\n",
    "lista_cargos = []\n",
    "\n",
    "NUMERO_CLIENTES = 2\n",
    "\n",
    "for clientes in range(NUMERO_CLIENTES):\n",
    "    nome = input(\"digite o nome: \")\n",
    "    salarios = float(input(\"digite o salário: \"))\n",
    "    cargo = input(\"digite o cargo: \")\n",
    "    \n",
    "    lista_nomes.append(nome)\n",
    "    lista_salarios.append(salarios)\n",
    "    lista_cargos.append(cargo)\n",
    "    \n",
    "cliente_dict[\"nomes\"] = lista_nomes\n",
    "clientes_dict[\"salarios\"] = lista_salarios\n",
    "clientes_dict[\"cargos\"] = lista_cargos"
   ]
  },
  {
   "cell_type": "code",
   "execution_count": 8,
   "id": "f56ec53e",
   "metadata": {},
   "outputs": [
    {
     "name": "stdout",
     "output_type": "stream",
     "text": [
      "{'salarios': [34000.0, 23000.0], 'cargos': ['cientista', 'fullstack']}\n"
     ]
    }
   ],
   "source": [
    "print(clientes_dict)"
   ]
  },
  {
   "cell_type": "code",
   "execution_count": null,
   "id": "90c92820",
   "metadata": {},
   "outputs": [],
   "source": [
    "# 33MIN40\n",
    "\n",
    "clientes_dict = {}\n",
    "lista_nomes = []\n",
    "lista_salarios = []\n",
    "lista_cargos = []\n",
    "\n",
    "\n",
    "#NUMERO_CLIENTES = 2\n",
    "\n",
    "for clientes in range(NUMERO_CLIENTES):\n",
    "    nome = input(\"digite o nome: \")\n",
    "    salarios = float(input(\"digite o salário: \"))\n",
    "    cargo = input(\"digite o cargo: \")\n",
    "    \n",
    "    lista_nomes.append(nome)\n",
    "    lista_salarios.append(salarios)\n",
    "    lista_cargos.append(cargo)\n",
    "    \n",
    "cliente_dict[\"nomes\"] = lista_nomes\n",
    "clientes_dict[\"salarios\"] = lista_salarios\n",
    "clientes_dict[\"cargos\"] = lista_cargos"
   ]
  },
  {
   "cell_type": "code",
   "execution_count": null,
   "id": "0e3ffa76",
   "metadata": {},
   "outputs": [],
   "source": [
    "cliente_lista = []\n",
    "\n",
    "numero_clientes = 2\n",
    "\n",
    "for cliente in range(numero_clientes):\n",
    "    cliente_dict = {}\n",
    "    \n",
    "    nome = input\n",
    "    "
   ]
  },
  {
   "cell_type": "code",
   "execution_count": 9,
   "id": "73e9dd50",
   "metadata": {},
   "outputs": [],
   "source": [
    "def soma_dois_numeros(numero1, numero2):\n",
    "    \n",
    "    resultado = numero1 + numero2\n",
    "    \n",
    "    return resultado"
   ]
  },
  {
   "cell_type": "code",
   "execution_count": 10,
   "id": "67f63780",
   "metadata": {},
   "outputs": [
    {
     "data": {
      "text/plain": [
       "9"
      ]
     },
     "execution_count": 10,
     "metadata": {},
     "output_type": "execute_result"
    }
   ],
   "source": [
    "soma_dois_numeros(2,7)"
   ]
  },
  {
   "cell_type": "code",
   "execution_count": 11,
   "id": "ba0bcc36",
   "metadata": {},
   "outputs": [
    {
     "ename": "NameError",
     "evalue": "name 'res' is not defined",
     "output_type": "error",
     "traceback": [
      "\u001b[1;31m---------------------------------------------------------------------------\u001b[0m",
      "\u001b[1;31mNameError\u001b[0m                                 Traceback (most recent call last)",
      "\u001b[1;32mC:\\Users\\ALEXAN~1\\AppData\\Local\\Temp/ipykernel_14036/1978155317.py\u001b[0m in \u001b[0;36m<module>\u001b[1;34m\u001b[0m\n\u001b[1;32m----> 1\u001b[1;33m \u001b[0mprint\u001b[0m\u001b[1;33m(\u001b[0m\u001b[0mres\u001b[0m\u001b[1;33m)\u001b[0m\u001b[1;33m\u001b[0m\u001b[1;33m\u001b[0m\u001b[0m\n\u001b[0m",
      "\u001b[1;31mNameError\u001b[0m: name 'res' is not defined"
     ]
    }
   ],
   "source": [
    "print(res)"
   ]
  },
  {
   "cell_type": "code",
   "execution_count": 13,
   "id": "3c124de3",
   "metadata": {},
   "outputs": [],
   "source": [
    "res = soma_dois_numeros(2,7)"
   ]
  },
  {
   "cell_type": "code",
   "execution_count": 14,
   "id": "8d63c210",
   "metadata": {},
   "outputs": [
    {
     "name": "stdout",
     "output_type": "stream",
     "text": [
      "9\n"
     ]
    }
   ],
   "source": [
    "print(res)"
   ]
  },
  {
   "cell_type": "code",
   "execution_count": 17,
   "id": "e15b756a",
   "metadata": {},
   "outputs": [],
   "source": [
    "def saudacao(nome, hora):\n",
    "    \n",
    "    if hora < 12:\n",
    "        saida = \"Bom dia, \"+nome\n",
    "        \n",
    "    elif hora < 18:\n",
    "        saida = \"Boa tarde, \"+nome\n",
    "    \n",
    "    else:\n",
    "        saida = \"Boa noite, \"+nome\n",
    "        \n",
    "    return saida"
   ]
  },
  {
   "cell_type": "code",
   "execution_count": 18,
   "id": "eebd7a83",
   "metadata": {},
   "outputs": [
    {
     "data": {
      "text/plain": [
       "'Boa noite, Alexandre'"
      ]
     },
     "execution_count": 18,
     "metadata": {},
     "output_type": "execute_result"
    }
   ],
   "source": [
    "saudacao(\"Alexandre\", 21)"
   ]
  },
  {
   "cell_type": "code",
   "execution_count": 20,
   "id": "d5cd3852",
   "metadata": {},
   "outputs": [
    {
     "data": {
      "text/plain": [
       "'19'"
      ]
     },
     "execution_count": 20,
     "metadata": {},
     "output_type": "execute_result"
    }
   ],
   "source": [
    "soma_dois_numeros(\"1\", \"9\")"
   ]
  },
  {
   "cell_type": "code",
   "execution_count": null,
   "id": "daf0bc6a",
   "metadata": {},
   "outputs": [],
   "source": [
    "def calculadora(num1, num2):\n",
    "    '''\n",
    "    Recebe dois números e realiza uma operação'''\n",
    "    \n",
    "    operacao = input(\"digite a operação (+,-,*,/): \")\n",
    "    "
   ]
  },
  {
   "cell_type": "code",
   "execution_count": null,
   "id": "6b9a47e0",
   "metadata": {},
   "outputs": [],
   "source": [
    "clientes_dict = {} # dict vazio\n",
    "\n",
    "# lista que vão armazenar os valores\n",
    "lista_nomes = []\n",
    "lista_salarios = []\n",
    "lista_cargos = []\n",
    "\n",
    "NUMERO_CLIENTES = 2\n",
    "\n",
    "for cliente in range(NUMERO_CLIENTES):\n",
    "    nome = input(\"Digite o nome: \"))\n",
    "    salario = input(\"Digite o salário: \")\n",
    "    cargo = input(\"Digite o cargo: \")\n",
    "    \n",
    "    lista_nomes.append(nome)\n",
    "    lista_salarios.append(salario)\n",
    "    lista_cargos.append(cargo)\n",
    "    \n",
    "clientes_dict[\"nomes\"] = lista_nomes\n",
    "clientes_dict[\"salarios\"] = lista_salarios\n",
    "clientes_dict[\"cargos\"] = lista_cargos"
   ]
  },
  {
   "cell_type": "code",
   "execution_count": 1,
   "id": "806ad9a4",
   "metadata": {},
   "outputs": [
    {
     "name": "stdout",
     "output_type": "stream",
     "text": [
      "Cadastro de pessoas\n",
      "Digite '1' para cadastrar uma pessoa ou '0' para finalizar o programa: 1\n",
      "Informe o CPF da pessoa: 61882100620\n",
      "Informe a idade da pessoa: 54\n",
      "Informe o nome da pessoa: Alexandre Oliveira\n",
      "\n",
      "\n",
      "Cadastro de pessoas\n",
      "Digite '1' para cadastrar uma pessoa ou '0' para finalizar o programa: 1\n",
      "Informe o CPF da pessoa: 09954225422\n",
      "Informe a idade da pessoa: 47\n",
      "Informe o nome da pessoa: Pedro Oliveira\n",
      "\n",
      "\n",
      "Cadastro de pessoas\n",
      "Digite '1' para cadastrar uma pessoa ou '0' para finalizar o programa: 0\n",
      "Dicionário de pessoas cadastradas: \n",
      "\n",
      "{1: {'cpf': '61882100620', 'idade': 54, 'nome': 'Alexandre Oliveira'}, 2: {'cpf': '09954225422', 'idade': 47, 'nome': 'Pedro Oliveira'}}\n"
     ]
    }
   ],
   "source": [
    "# cadastro\n",
    "# queremos um dicionário com vários registros\n",
    "# iremos criar um dicionário de dicionários, onde os dicionários internos serão cada pessoa cadastrada.\n",
    "\n",
    "pessoas = {}\n",
    "codigo_pessoa = 1 # vamos usar essa variável como chave para cada pessoa cadastrada. Ele será incrementada no while.\n",
    "\n",
    "while True:\n",
    "    \n",
    "    print(\"Cadastro de pessoas\")\n",
    "    \n",
    "    # vou fornecer duas opções para o usuário, 0 para finalizar e 1 para cadastrar uma nova pessoa\n",
    "    opcao = int(input(\"Digite '1' para cadastrar uma pessoa ou '0' para finalizar o programa: \"))\n",
    "    \n",
    "    if opcao < 1:\n",
    "        break\n",
    "    elif opcao > 1:\n",
    "        print(\"Opção inválida\")\n",
    "    else:\n",
    "        pessoa = {}\n",
    "        cpf = input(\"Informe o CPF da pessoa: \")\n",
    "        idade = int(input(\"Informe a idade da pessoa: \"))\n",
    "        nome = input(\"Informe o nome da pessoa: \")\n",
    "        \n",
    "        # Todas as informações inseridas pelo usuário serão armazenadas em um dicionário\n",
    "        pessoa[\"cpf\"] = cpf\n",
    "        pessoa[\"idade\"] = idade\n",
    "        pessoa[\"nome\"] = nome\n",
    "        \n",
    "        # Após isso, usamos o 'codigo_pessoa' como chave do dicionário 'pessoas' e armazenamos o dicionário 'pessoa'\n",
    "        pessoas[codigo_pessoa] = pessoa\n",
    "        \n",
    "        # Incrementamos essa variável para que a próxima pessoa cadastrada tenha um código diferente\n",
    "        codigo_pessoa += 1\n",
    "        print(\"\\n\")\n",
    "        \n",
    "# mostramos as pessoas cadastradas \n",
    "print(\"Dicionário de pessoas cadastradas: \\n\")\n",
    "print(pessoas)\n",
    "        "
   ]
  },
  {
   "cell_type": "code",
   "execution_count": 2,
   "id": "c1fc37e8",
   "metadata": {},
   "outputs": [
    {
     "name": "stdout",
     "output_type": "stream",
     "text": [
      "Dicionário com menores de idade\n",
      "{}\n",
      "Dicionário original após a remoção\n",
      "{1: {'cpf': '61882100620', 'idade': 54, 'nome': 'Alexandre Oliveira'}, 2: {'cpf': '09954225422', 'idade': 47, 'nome': 'Pedro Oliveira'}}\n"
     ]
    }
   ],
   "source": [
    "# Resposta parte 2 - Pessoas menores de 18 anos\n",
    "\n",
    "menores_dic = {}\n",
    "chaves = list(pessoas.keys()) # colocamos as keys em  uma lista para iterar sobre elas\n",
    "\n",
    "for pessoa in chaves:\n",
    "    if pessoas[pessoa]['idade'] < 18:\n",
    "        menores_dic[pessoa] = pessoas[pessoa]\n",
    "        \n",
    "for pessoa in chaves:\n",
    "    if pessoas[pessoa]['idade'] < 18:\n",
    "        pessoas.pop(pessoa)\n",
    "\n",
    "# printa menores de idade\n",
    "print(\"Dicionário com menores de idade\")\n",
    "print(menores_dic)\n",
    "\n",
    "print(\"Dicionário original após a remoção\")\n",
    "print(pessoas)"
   ]
  },
  {
   "cell_type": "code",
   "execution_count": null,
   "id": "c92932b7",
   "metadata": {},
   "outputs": [],
   "source": [
    "'''2 - Considere um sistema onde os dados são armazenados em dicionários. \n",
    "Nesse sistema existe um dicionario  principal e o dicionário de backup.\n",
    "Cada vez que o dicionário principal atinge tamanho 5, ele imprime os dados na tela e apaga o seu conteúdo. \n",
    "Crie um programa que insira dados em um dicionário, \n",
    "realizando o back up a cada dado e excluindo os dados do dicionário principal quando ele atingir o tamanho 5\n",
    "'''\n",
    "\n",
    "dic_principal = {}\n",
    "dic_backup = {}\n",
    "\n",
    "def remove_dados(dicionario):\n",
    "    \n",
    "    '''Função que recebe um dicionário como parâmetro remove seu conteúdo  e retorna outro dicionáro com o mesmo conteúdo.'''\n",
    "    \n",
    "    dic_bkp = dicionario.copy()  # Função copy é utilizada para criarmos uma cópia do dicionário\n",
    "    \n",
    "    chaves = list(dicionario.keys())\n",
    "    for key in chaves:\n",
    "        dicionario.pop(key)\n",
    "        \n",
    "    return dic_bkp\n",
    "\n",
    "codigo_dado = 1 # Variável que será utilizada como chave\n",
    "\n",
    "while True:\n",
    "    \n",
    "    # Verificando tamanho do dicionário\n",
    "    if len(dic_principal)>=5:\n",
    "        print(dic_principal)\n",
    "        dic_backup.update(remove_dados(dic_principal)) # update é usada para 'atualizar' e inserir novos registros no dict\n",
    "        \n",
    "        opcao = int(input(\"Digite 1 para cadastrar ou 0 para finalizar: \"))\n",
    "        if opcao < 1:\n",
    "            break\n",
    "        else:\n",
    "            print(\"Inserindo Dados\")\n",
    "            print(\"\\n\")\n",
    "            \n",
    "            dado = input(\"Digite a informação que deseja inserir no dicionário: \")\n",
    "            dic_principal[codigo_dado] = dado\n",
    "            \n",
    "            codigo_dado +=1\n",
    "            \n",
    "\n",
    "\n",
    "\n"
   ]
  },
  {
   "cell_type": "code",
   "execution_count": null,
   "id": "6a26d1cc",
   "metadata": {},
   "outputs": [],
   "source": [
    "'''3 - Crie um dicionário vazio filmes = {}. Utilize o nome de um filme como chave.\n",
    "E, como valor, outro dicionário contendo o vilão e o ano em que o filme foi lançado. \n",
    "Preencha 5 filmes. Crie uma função que irá receber o dicionário e remover um determinado filme pelo nome. \n",
    "Lembre-se de fornecer duas opções para o usuário, opção 1 cadastrar um filme e opção 2 remover um filme.'''\n",
    "\n",
    "def remove_pela_chave(nome_filme, dicionario):\n",
    "    '''Função que remove um filme passando o nome'''\n",
    "    \n",
    "    \n",
    "    dicionario.pop(nome_filme)\n",
    "\n",
    "dic_filmes = {}\n",
    "qt_filmes = 5\n",
    "\n",
    "while True:\n",
    "    \n",
    "    if len(dic_filmes) >= qt_filmes:\n",
    "        break\n",
    "        \n",
    "    opcao = int(input(\"Escolha uma opção: 1 - Cadastrar ou 2 - remover\"))\n",
    "    \n",
    "    if opcao != 1 and opcao !=2:\n",
    "        opcao = int(input(\"Opção inválida! Escolha uma opção: 1 - Cadastrar ou 2 - Remover\"))\n",
    "    elif opcao == 2:\n",
    "        filme_remover = input(\"Digite o nome do filme que deseja remover\")\n",
    "        \n",
    "        while filme_remover not in dic_filmes:\n",
    "            filme_remover = input(\"Filme não existe! Digite o nome do filme que deseja remover\")\n",
    "            \n",
    "    remove_pela_chave(filme_remover, dic_filmes)\n",
    "    print(f\"Filme '{filme_remover} removido!'\")\n",
    "    \n",
    "Else:\n",
    "    filme = {}\n",
    "    \n",
    "    \n",
    "    nome = input(\"Nome do filme: \")\n",
    "    vilao = input(\"Nome do vilão: \")\n",
    "    ano = input(\"Ano de lançamento: \")\n",
    "    \n",
    "    filme[\"vilao\"] = vilao\n",
    "    filme[\"ano\"] = ano\n",
    "    \n",
    "    dic_filmes[nome] = filme\n",
    "    \n",
    "print(dic_filmes)"
   ]
  },
  {
   "cell_type": "code",
   "execution_count": null,
   "id": "5e75b4eb",
   "metadata": {},
   "outputs": [],
   "source": [
    "def remove_func(cod_func, dic):\n",
    "\n",
    "    dic.pop(cod_func)\n",
    "\n",
    "dic_empresa = {}\n",
    "cod_func = 1\n",
    "\n",
    "while True:\n",
    "\n",
    "    print('\\n----------Cadastro de Funcionários----------')\n",
    "    print('Digite para:')\n",
    "    print('1 - Cadastro')\n",
    "    print('2 - Remoção de Dado')\n",
    "    print('0 - Encerrar')\n",
    "    opcao = int(input('Opção: '))\n",
    "\n",
    "    if opcao < 1:\n",
    "        print('\\nSessão encerrada.')\n",
    "        break\n",
    "\n",
    "    elif opcao > 2:\n",
    "        opcao = int(input('\\nOpção inválida! Digite novamente: '))\n",
    "\n",
    "    elif opcao == 2:\n",
    "        dado_remover = input('\\nDigite o codigo do funcionário que deseja remover: ')\n",
    "\n",
    "        while dado_remover not in dic_empresa:\n",
    "            dado_remover = input('\\nFuncionário inexistente! Digite o novamente: ')\n",
    "\n",
    "        remove_func(dado_remover, dic_empresa)\n",
    "        print(f'\\nDado do funcionário {nome} removido!')\n",
    "\n",
    "    else:\n",
    "        func = {}\n",
    "\n",
    "        print('\\nSobre os dados, informe: ')\n",
    "        cod = input('O código: ')\n",
    "        nome = input('O nome: ')\n",
    "        tel = input('O telefone: ')\n",
    "        email = input('O email: ')\n",
    "\n",
    "        func['Código'] = cod\n",
    "        func['Nome'] = nome\n",
    "        func['Telefone'] = tel\n",
    "        func['Email'] = email\n",
    "\n",
    "        dic_empresa[cod] = func \n",
    "\n",
    "        cod_func += 1\n",
    "\n",
    "print('-'*100)\n",
    "print('Dados Armazenados: ')\n",
    "print(dic_empresa)"
   ]
  },
  {
   "cell_type": "code",
   "execution_count": null,
   "id": "7368857b",
   "metadata": {},
   "outputs": [],
   "source": []
  },
  {
   "cell_type": "code",
   "execution_count": null,
   "id": "587107d4",
   "metadata": {},
   "outputs": [],
   "source": []
  },
  {
   "cell_type": "code",
   "execution_count": null,
   "id": "51ecc6ac",
   "metadata": {},
   "outputs": [],
   "source": []
  }
 ],
 "metadata": {
  "kernelspec": {
   "display_name": "Python 3 (ipykernel)",
   "language": "python",
   "name": "python3"
  },
  "language_info": {
   "codemirror_mode": {
    "name": "ipython",
    "version": 3
   },
   "file_extension": ".py",
   "mimetype": "text/x-python",
   "name": "python",
   "nbconvert_exporter": "python",
   "pygments_lexer": "ipython3",
   "version": "3.9.7"
  }
 },
 "nbformat": 4,
 "nbformat_minor": 5
}
