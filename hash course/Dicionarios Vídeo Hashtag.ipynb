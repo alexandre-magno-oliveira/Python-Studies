{
 "cells": [
  {
   "cell_type": "markdown",
   "metadata": {},
   "source": [
    "## DICIONÁRIOS EM PYTHON - HASHTAG VÍDEO\n"
   ]
  },
  {
   "cell_type": "code",
   "execution_count": 15,
   "metadata": {},
   "outputs": [],
   "source": [
    "# chave e valor  chaves:valor dele\n",
    "\n",
    "emails_gerentes = {\n",
    "\"Iguatemi\": \"iguatemi@gmail.com\",\n",
    "\"Plaza\": \"plaza@gmail.com\",\n",
    "\"Barra\": \"barra@gmail.com\",\n",
    "    }\n",
    "\n"
   ]
  },
  {
   "cell_type": "code",
   "execution_count": 16,
   "metadata": {},
   "outputs": [
    {
     "name": "stdout",
     "output_type": "stream",
     "text": [
      "iguatemi@gmail.com\n"
     ]
    }
   ],
   "source": [
    "email = emails_gerentes['Iguatemi']\n",
    "print(email)"
   ]
  },
  {
   "cell_type": "code",
   "execution_count": 18,
   "metadata": {},
   "outputs": [
    {
     "name": "stdout",
     "output_type": "stream",
     "text": [
      "{'Iguatemi': 'iguatemi@gmail.com', 'Plaza': 'plaza@gmail.com', 'Barra': 'barra@gmail.com', 'Leblon': 'leblon@gmail.com'}\n"
     ]
    }
   ],
   "source": [
    "# emails_gerentes na posição Leblon recebe leblon@gmail.com (se já existir ele substitue, senão, ele acrescenta)\n",
    "\n",
    "emails_gerentes[\"Leblon\"] = \"leblon@gmail.com\"\n",
    "print(emails_gerentes)"
   ]
  },
  {
   "cell_type": "code",
   "execution_count": 19,
   "metadata": {},
   "outputs": [
    {
     "name": "stdout",
     "output_type": "stream",
     "text": [
      "Iguatemi\n",
      "Plaza\n",
      "Barra\n",
      "Leblon\n"
     ]
    }
   ],
   "source": [
    "#tudo que fica antes dos ':' no dicionário chamamos de chave (chave:valor)\n",
    "#descobrindo todos os shoppings que eu tenho - FORMA 1\n",
    "\n",
    "for shopping in emails_gerentes:  # o for no dicionário armazena as chaves (na variável 'shopping').\n",
    "    print(shopping)\n",
    "\n"
   ]
  },
  {
   "cell_type": "code",
   "execution_count": 20,
   "metadata": {},
   "outputs": [
    {
     "name": "stdout",
     "output_type": "stream",
     "text": [
      "dict_keys(['Iguatemi', 'Plaza', 'Barra', 'Leblon'])\n"
     ]
    }
   ],
   "source": [
    "#descobrindo todos os shoppings que eu tenho - FORMA 2: dicionario.keys()\n",
    "\n",
    "print(emails_gerentes.keys())\n",
    "\n"
   ]
  },
  {
   "cell_type": "code",
   "execution_count": 21,
   "metadata": {},
   "outputs": [
    {
     "name": "stdout",
     "output_type": "stream",
     "text": [
      "iguatemi@gmail.com\n",
      "plaza@gmail.com\n",
      "barra@gmail.com\n",
      "leblon@gmail.com\n"
     ]
    }
   ],
   "source": [
    "# se eu quiser todos os EMAILS?\n",
    "# FORMA 1: com for\n",
    "\n",
    "for shopping in emails_gerentes:\n",
    "    email = emails_gerentes[shopping] # vai rodando por todos os 'shoppings'\n",
    "    print(email)"
   ]
  },
  {
   "cell_type": "code",
   "execution_count": 22,
   "metadata": {},
   "outputs": [
    {
     "name": "stdout",
     "output_type": "stream",
     "text": [
      "dict_values(['iguatemi@gmail.com', 'plaza@gmail.com', 'barra@gmail.com', 'leblon@gmail.com'])\n"
     ]
    }
   ],
   "source": [
    "# FORMA 2: dicionarios.values\n",
    "\n",
    "print(emails_gerentes.values())"
   ]
  },
  {
   "cell_type": "code",
   "execution_count": 23,
   "metadata": {},
   "outputs": [
    {
     "name": "stdout",
     "output_type": "stream",
     "text": [
      "{'Iguatemi': 'iguatemi@gmail.com', 'Plaza': 'plaza@gmail.com', 'Barra': 'barra@gmail.com'}\n"
     ]
    }
   ],
   "source": [
    "# para retirar um shopping, preciso ir na chave respectiva\n",
    "\n",
    "emails_gerentes.pop(\"Leblon\")\n",
    "print(emails_gerentes)"
   ]
  },
  {
   "cell_type": "code",
   "execution_count": 24,
   "metadata": {},
   "outputs": [
    {
     "name": "stdout",
     "output_type": "stream",
     "text": [
      "Não existe\n"
     ]
    }
   ],
   "source": [
    "# verificar se um shopping existe\n",
    "\n",
    "if \"Leblon\" in emails_gerentes:\n",
    "    print(\"Existe\")\n",
    "else:\n",
    "    print(\"Não existe\")"
   ]
  },
  {
   "cell_type": "code",
   "execution_count": 25,
   "metadata": {},
   "outputs": [
    {
     "name": "stdout",
     "output_type": "stream",
     "text": [
      "Existe\n"
     ]
    }
   ],
   "source": [
    "# verificar se um shopping existe\n",
    "\n",
    "if \"Iguatemi\" in emails_gerentes:\n",
    "    print(\"Existe\")\n",
    "else:\n",
    "    print(\"Não existe\")"
   ]
  },
  {
   "cell_type": "code",
   "execution_count": 26,
   "metadata": {},
   "outputs": [
    {
     "name": "stdout",
     "output_type": "stream",
     "text": [
      "Existe\n"
     ]
    }
   ],
   "source": [
    "# se um email existe\n",
    "\n",
    "if 'iguatemi@gmail.com' in emails_gerentes.values():\n",
    "    print('Existe')\n",
    "else: \n",
    "    print('Não existe')"
   ]
  },
  {
   "cell_type": "code",
   "execution_count": 27,
   "metadata": {},
   "outputs": [
    {
     "name": "stdout",
     "output_type": "stream",
     "text": [
      "Não existe\n"
     ]
    }
   ],
   "source": [
    "# se um email existe\n",
    "\n",
    "if 'leblon@gmail.com' in emails_gerentes.values():\n",
    "    print('Existe')\n",
    "else: \n",
    "    print('Não existe')"
   ]
  },
  {
   "cell_type": "code",
   "execution_count": null,
   "metadata": {},
   "outputs": [],
   "source": []
  }
 ],
 "metadata": {
  "kernelspec": {
   "display_name": "Python 3 (ipykernel)",
   "language": "python",
   "name": "python3"
  },
  "language_info": {
   "codemirror_mode": {
    "name": "ipython",
    "version": 3
   },
   "file_extension": ".py",
   "mimetype": "text/x-python",
   "name": "python",
   "nbconvert_exporter": "python",
   "pygments_lexer": "ipython3",
   "version": "3.9.7"
  }
 },
 "nbformat": 4,
 "nbformat_minor": 4
}
