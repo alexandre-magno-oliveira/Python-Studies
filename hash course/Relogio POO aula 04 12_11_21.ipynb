{
 "cells": [
  {
   "cell_type": "code",
   "execution_count": null,
   "id": "2b633457",
   "metadata": {},
   "outputs": [],
   "source": [
    "class Relogio:\n",
    "    def init(self, hora, minuto, segundo):\n",
    "        '''\n",
    "        docstring bonitinha\n",
    "        '''\n",
    "        # verificação dos tipos\n",
    "        if not isinstance(hora, int):\n",
    "            raise TypeError('Hora precisa ser do tipo inteiro.') \n",
    "        if not isinstance(minuto, int):\n",
    "            raise TypeError('Minuto precisa ser do tipo inteiro.') \n",
    "        if not isinstance(segundo, int):\n",
    "            raise TypeError('Segundo precisa ser do tipo inteiro.') \n",
    "\n",
    "        # definindo os intervalos\n",
    "        if hora < 0 or hora > 23:\n",
    "            raise ValueError('Hora precisa estar no intervalo de 0-23')\n",
    "        if minuto < 0 or minuto > 59:\n",
    "            raise ValueError('Minuto precisa estar no intervalo de 0-59')\n",
    "        if segundo < 0 or segundo > 59:\n",
    "            raise ValueError('Segundo precisa estar no intervalo de 0-59')\n",
    "\n",
    "        # finalmente criando os atributos\n",
    "        self.hora = hora\n",
    "        self.minuto = minuto\n",
    "        self.segundo = segundo\n",
    "\n",
    "    # representa os objetos da sua classe como string\n",
    "    def repr(self):\n",
    "        return f'{self.hora}:{self.minuto}:{self.segundo}'\n",
    "\n",
    "    # representa os objetos da sua classe\n",
    "    # sempre que str(obj) é chamado\n",
    "    def str(self):\n",
    "        return f'{self.hora:02d}:{self.minuto:02d}:{self.segundo:02d}'\n",
    "\n",
    "#     def eq(self):\n",
    "#         return self.hora == \n",
    "\n",
    "    def add(self, other):\n",
    "        print(other)\n",
    "\n",
    "#     def sub(self):"
   ]
  }
 ],
 "metadata": {
  "kernelspec": {
   "display_name": "Python 3",
   "language": "python",
   "name": "python3"
  },
  "language_info": {
   "codemirror_mode": {
    "name": "ipython",
    "version": 3
   },
   "file_extension": ".py",
   "mimetype": "text/x-python",
   "name": "python",
   "nbconvert_exporter": "python",
   "pygments_lexer": "ipython3",
   "version": "3.8.8"
  }
 },
 "nbformat": 4,
 "nbformat_minor": 5
}
