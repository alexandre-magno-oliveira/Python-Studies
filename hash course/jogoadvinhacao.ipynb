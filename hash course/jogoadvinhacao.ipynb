{
  "nbformat": 4,
  "nbformat_minor": 0,
  "metadata": {
    "colab": {
      "name": "python01.ipynb",
      "provenance": []
    },
    "kernelspec": {
      "name": "python3",
      "display_name": "Python 3"
    },
    "language_info": {
      "name": "python"
    }
  },
  "cells": [
    {
      "cell_type": "code",
      "source": [
        "import pandas as pd\n",
        "import random\n"
      ],
      "metadata": {
        "id": "nCidFykiIpra"
      },
      "execution_count": 4,
      "outputs": []
    },
    {
      "cell_type": "code",
      "execution_count": 5,
      "metadata": {
        "id": "ApPCSrGHIf-e"
      },
      "outputs": [],
      "source": [
        "numero_secreto = random.randrange(1, 101)"
      ]
    },
    {
      "cell_type": "code",
      "source": [
        "print(numero_secreto)"
      ],
      "metadata": {
        "colab": {
          "base_uri": "https://localhost:8080/"
        },
        "id": "i4cPrXzZImQw",
        "outputId": "24c52dc7-2bf6-4480-93b3-d6347c305b21"
      },
      "execution_count": 6,
      "outputs": [
        {
          "output_type": "stream",
          "name": "stdout",
          "text": [
            "41\n"
          ]
        }
      ]
    },
    {
      "cell_type": "code",
      "source": [
        "print(\"x\" * 50)\n",
        "print(\"          Bem vindo ao jogo de advinhação\")\n",
        "print(\"x\" * 50)\n",
        "\n",
        "numero_secreto = 42\n",
        "chute = int(input(\"Digite o seu número: \"))\n",
        "print(\"Você digitou \", chute)\n",
        "\n",
        "if (numero_secreto == chute):\n",
        "    print(\"Você acertou!\")\n",
        "else:\n",
        "    print(\"Você errou!\")"
      ],
      "metadata": {
        "colab": {
          "base_uri": "https://localhost:8080/"
        },
        "id": "jkXmrS-6JJGX",
        "outputId": "a45875e2-1f0c-4cc1-c82c-2e57037f522b"
      },
      "execution_count": 23,
      "outputs": [
        {
          "output_type": "stream",
          "name": "stdout",
          "text": [
            "xxxxxxxxxxxxxxxxxxxxxxxxxxxxxxxxxxxxxxxxxxxxxxxxxx\n",
            "          Bem vindo ao jogo de advinhação\n",
            "xxxxxxxxxxxxxxxxxxxxxxxxxxxxxxxxxxxxxxxxxxxxxxxxxx\n",
            "Digite o seu número: 42\n",
            "Você digitou  42\n",
            "Você acertou!\n"
          ]
        }
      ]
    },
    {
      "cell_type": "code",
      "source": [
        "print(\"x\" * 50)\n",
        "print(\"          Bem vindo ao jogo de advinhação\")\n",
        "print(\"x\" * 50)\n",
        "\n",
        "numero_secreto = 42\n",
        "total_de_tentativas = 3\n",
        "\n",
        "\n",
        "for rodada in range(1, total_de_tentativas + 1):\n",
        "      print(\"Tentativa {} de {}\".format(rodada, total_de_tentativas))\n",
        "      chute = int(input(\"Digite o seu número: \"))\n",
        "      print(\"Você digitou \", chute)\n",
        "\n",
        "      acertou = chute == numero_secreto\n",
        "      maior   = chute > numero_secreto\n",
        "      menor   = chute < numero_secreto\n",
        "\n",
        "      if acertou:\n",
        "              print(\"Você acertou!\")\n",
        "      else:\n",
        "              if(maior):\n",
        "                  print(\"Você erro! O seu chute foi maior que o número secreto.\")\n",
        "              elif(menor):\n",
        "                  print(\"Você errou! O seu chute foi menor do que o número secreto\")\n",
        "\n",
        "   \n",
        "\n",
        "\n",
        "\n",
        "print(\"Fim do jogo\")"
      ],
      "metadata": {
        "colab": {
          "base_uri": "https://localhost:8080/"
        },
        "id": "B3qlPT5ljhYy",
        "outputId": "39b62761-c18d-40f4-9a76-cc40d81a35a0"
      },
      "execution_count": 45,
      "outputs": [
        {
          "output_type": "stream",
          "name": "stdout",
          "text": [
            "xxxxxxxxxxxxxxxxxxxxxxxxxxxxxxxxxxxxxxxxxxxxxxxxxx\n",
            "          Bem vindo ao jogo de advinhação\n",
            "xxxxxxxxxxxxxxxxxxxxxxxxxxxxxxxxxxxxxxxxxxxxxxxxxx\n",
            "Tentativa 1 de 3\n",
            "Digite o seu número: 25\n",
            "Você digitou  25\n",
            "Você errou! O seu chute foi menor do que o número secreto\n",
            "Tentativa 2 de 3\n",
            "Digite o seu número: 36\n",
            "Você digitou  36\n",
            "Você errou! O seu chute foi menor do que o número secreto\n",
            "Tentativa 3 de 3\n",
            "Digite o seu número: 42\n",
            "Você digitou  42\n",
            "Você acertou!\n",
            "Fim do jogo\n"
          ]
        }
      ]
    },
    {
      "cell_type": "code",
      "source": [
        ""
      ],
      "metadata": {
        "id": "mHfDLs4_91xv"
      },
      "execution_count": null,
      "outputs": []
    }
  ]
}