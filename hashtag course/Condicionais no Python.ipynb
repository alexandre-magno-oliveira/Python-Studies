{
 "cells": [
  {
   "cell_type": "markdown",
   "id": "89f0da93",
   "metadata": {},
   "source": [
    "# Condicionais no Python - If"
   ]
  },
  {
   "cell_type": "code",
   "execution_count": 4,
   "id": "565a5b2c",
   "metadata": {},
   "outputs": [
    {
     "name": "stdout",
     "output_type": "stream",
     "text": [
      "Batemos a meta de vendas de iphone, vendemos 65300 unidades.\n",
      "Fim do programa\n"
     ]
    }
   ],
   "source": [
    "meta = 50000\n",
    "qtde_vendida = 65300\n",
    "if qtde_vendida > meta:\n",
    "    print('Batemos a meta de vendas de iphone, vendemos {} unidades.'.format(qtde_vendida))\n",
    "    print('Fim do programa')\n",
    "\n"
   ]
  },
  {
   "cell_type": "code",
   "execution_count": 5,
   "id": "9e5ec7ab",
   "metadata": {},
   "outputs": [
    {
     "name": "stdout",
     "output_type": "stream",
     "text": [
      "Fim do programa\n"
     ]
    }
   ],
   "source": [
    "meta = 50000\n",
    "qtde_vendida = 30000\n",
    "if qtde_vendida > meta:\n",
    "    print('Batemos a meta de vendas de iphone, vendemos {} unidades.'.format(qtde_vendida))\n",
    "print('Fim do programa')"
   ]
  },
  {
   "cell_type": "code",
   "execution_count": null,
   "id": "1a455b01",
   "metadata": {},
   "outputs": [],
   "source": [
    "'''\n",
    "if condição:\n",
    "    o que eu quero fazer caso a condição seja verdadeira\n",
    "else:\n",
    "    o que eu quero fazer caso a condição seja falsa'''\n",
    "\n"
   ]
  },
  {
   "cell_type": "code",
   "execution_count": 6,
   "id": "25973a38",
   "metadata": {},
   "outputs": [
    {
     "name": "stdout",
     "output_type": "stream",
     "text": [
      "Infelizmente não batemos a meta, vendemos 30000 unidades. A meta era de 50000 unidades.\n",
      "Fim do programa\n"
     ]
    }
   ],
   "source": [
    "meta = 50000\n",
    "qtde_vendida = 30000\n",
    "if qtde_vendida > meta:\n",
    "    print('Batemos a meta de vendas de iphone, vendemos {} unidades.'.format(qtde_vendida))\n",
    "else:\n",
    "    print('Infelizmente não batemos a meta, vendemos {} unidades. A meta era de {} unidades.'.format(qtde_vendida, meta))\n",
    "print('Fim do programa')"
   ]
  },
  {
   "cell_type": "code",
   "execution_count": 7,
   "id": "3e12e61d",
   "metadata": {},
   "outputs": [
    {
     "name": "stdout",
     "output_type": "stream",
     "text": [
      "Batemos a meta de vendas de iphone, vendemos 55000 unidades.\n",
      "Fim do programa\n"
     ]
    }
   ],
   "source": [
    "meta = 50000\n",
    "qtde_vendida = 55000\n",
    "if qtde_vendida > meta:\n",
    "    print('Batemos a meta de vendas de iphone, vendemos {} unidades.'.format(qtde_vendida))\n",
    "else:\n",
    "    print('Infelizmente não batemos a meta, vendemos {} unidades. A meta era de {} unidades.'.format(qtde_vendida, meta))\n",
    "print('Fim do programa')"
   ]
  },
  {
   "cell_type": "code",
   "execution_count": 11,
   "id": "acb753dc",
   "metadata": {},
   "outputs": [
    {
     "name": "stdout",
     "output_type": "stream",
     "text": [
      "Batemos a meta de vendas de iphone, vendemos 55000 unidades.\n",
      "meta batida em 110.00 %.\n",
      "Fim do programa\n"
     ]
    }
   ],
   "source": [
    "meta = 50000\n",
    "qtde_vendida = 55000\n",
    "percent = (qtde_vendida/meta)* 100\n",
    "if qtde_vendida > meta:\n",
    "    print('Batemos a meta de vendas de iphone, vendemos {} unidades.'.format(qtde_vendida))\n",
    "    print('meta batida em {:.2f} %.'.format(percent))\n",
    "else:\n",
    "    print('Infelizmente não batemos a meta, vendemos {} unidades. A meta era de {} unidades.'.format(qtde_vendida, meta))\n",
    "print('Fim do programa')"
   ]
  },
  {
   "cell_type": "code",
   "execution_count": null,
   "id": "84b8a25c",
   "metadata": {},
   "outputs": [],
   "source": [
    "'''\n",
    "if condição:\n",
    "    alguma coisa\n",
    "    outra coisa\n",
    "    outra coisa mais\n",
    "    outra coisa ainda mais\n",
    "    \n",
    "else:\n",
    "    uma coisa\n",
    "    uma coisa mais\n",
    "    coisa final'''"
   ]
  },
  {
   "cell_type": "code",
   "execution_count": 14,
   "id": "4da306f7",
   "metadata": {},
   "outputs": [
    {
     "name": "stdout",
     "output_type": "stream",
     "text": [
      "A taxa foi de 0\n"
     ]
    }
   ],
   "source": [
    "meta = 0.05\n",
    "taxa = 0\n",
    "rendimento = 0.01\n",
    "\n",
    "\n",
    "if rendimento > meta:\n",
    "    taxa = 0.02\n",
    "    print('A taxa foi de {}'.format(taxa))\n",
    "else:\n",
    "    taxa = 0\n",
    "    print('A taxa foi de {}'.format(taxa))"
   ]
  },
  {
   "cell_type": "code",
   "execution_count": 19,
   "id": "6feedca0",
   "metadata": {},
   "outputs": [
    {
     "name": "stdout",
     "output_type": "stream",
     "text": [
      "A taxa foi de 0.02\n"
     ]
    }
   ],
   "source": [
    "meta = 0.05\n",
    "taxa = 0\n",
    "rendimento = 0.08\n",
    "\n",
    "\n",
    "if rendimento > meta:\n",
    "    if rendimento > 0.20:\n",
    "        taxa = 0.04\n",
    "        print('A taxa foi de {}'.format(taxa))\n",
    "    else:\n",
    "        taxa = 0.02\n",
    "        print('A taxa foi de {}'.format(taxa))\n",
    "else:\n",
    "    taxa = 0\n",
    "    print('A taxa foi de {}'.format(taxa))\n",
    "    "
   ]
  },
  {
   "cell_type": "code",
   "execution_count": 20,
   "id": "1aed8a4a",
   "metadata": {},
   "outputs": [
    {
     "name": "stdout",
     "output_type": "stream",
     "text": [
      "A taxa foi de 0.04\n"
     ]
    }
   ],
   "source": [
    "meta = 0.05\n",
    "taxa = 0\n",
    "rendimento = 0.25\n",
    "\n",
    "\n",
    "if rendimento > meta:\n",
    "    if rendimento > 0.20:\n",
    "        taxa = 0.04\n",
    "        print('A taxa foi de {}'.format(taxa))\n",
    "    else:\n",
    "        taxa = 0.02\n",
    "        print('A taxa foi de {}'.format(taxa))\n",
    "else:\n",
    "    taxa = 0\n",
    "    print('A taxa foi de {}'.format(taxa))\n",
    "    "
   ]
  },
  {
   "cell_type": "code",
   "execution_count": null,
   "id": "bc6426f1",
   "metadata": {},
   "outputs": [],
   "source": [
    "'''\n",
    "If condição:\n",
    "    o que fazer se a condição 1 for verdadeira\n",
    "elif condição 2:\n",
    "    o que fazer se a condição 1 for falsa e a condição 2 for verdadeira\n",
    "else:\n",
    "    o que fazer se a condição 1 e a condição 2 forem falsas'''"
   ]
  },
  {
   "cell_type": "code",
   "execution_count": 22,
   "id": "d111206f",
   "metadata": {},
   "outputs": [
    {
     "name": "stdout",
     "output_type": "stream",
     "text": [
      "Infelizmente você não bateu a meta de vendas e não ganhará bônus\n",
      "Fim de programa\n"
     ]
    }
   ],
   "source": [
    "meta = 20000\n",
    "vendas = 15000\n",
    "\n",
    "if vendas >= meta: \n",
    "    print('Parabéns você bateu a meta de vendas')\n",
    "    if vendas >= meta and vendas <= 2*meta:\n",
    "        print('Parabéns você ganhou bônus de 3%')\n",
    "    else:\n",
    "        print('Parabéns você ganhou bônus de 7%')\n",
    "else:\n",
    "    print('Infelizmente você não bateu a meta de vendas e não ganhará bônus')\n",
    "print('Fim de programa')"
   ]
  },
  {
   "cell_type": "code",
   "execution_count": 23,
   "id": "a7e99ba8",
   "metadata": {},
   "outputs": [
    {
     "name": "stdout",
     "output_type": "stream",
     "text": [
      "Parabéns você bateu a meta de vendas\n",
      "Parabéns você ganhou bônus de 3%\n",
      "Fim de programa\n"
     ]
    }
   ],
   "source": [
    "meta = 20000\n",
    "vendas = 20000\n",
    "\n",
    "if vendas >= meta: \n",
    "    print('Parabéns você bateu a meta de vendas')\n",
    "    if vendas >= meta and vendas <= 2*meta:\n",
    "        print('Parabéns você ganhou bônus de 3%')\n",
    "    else:\n",
    "        print('Parabéns você ganhou bônus de 7%')\n",
    "else:\n",
    "    print('Infelizmente você não bateu a meta de vendas e não ganhará bônus')\n",
    "print('Fim de programa')"
   ]
  },
  {
   "cell_type": "code",
   "execution_count": 27,
   "id": "2cc6fcb4",
   "metadata": {},
   "outputs": [
    {
     "name": "stdout",
     "output_type": "stream",
     "text": [
      "Parabéns você bateu a meta de vendas\n",
      "Parabéns você ganhou bônus de 3%\n",
      "Fim de programa\n"
     ]
    }
   ],
   "source": [
    "meta = 20000\n",
    "vendas = 40000\n",
    "\n",
    "if vendas >= meta: \n",
    "    print('Parabéns você bateu a meta de vendas')\n",
    "    if vendas >= meta and vendas <= 2*meta:\n",
    "        print('Parabéns você ganhou bônus de 3%')\n",
    "    else:\n",
    "        print('Parabéns você ganhou bônus de 7%')\n",
    "else:\n",
    "    print('Infelizmente você não bateu a meta de vendas e não ganhará bônus')\n",
    "print('Fim de programa')"
   ]
  },
  {
   "cell_type": "code",
   "execution_count": 28,
   "id": "e8be3298",
   "metadata": {},
   "outputs": [
    {
     "name": "stdout",
     "output_type": "stream",
     "text": [
      "Parabéns você bateu a meta de vendas\n",
      "Parabéns você ganhou bônus de 7%\n",
      "Fim de programa\n"
     ]
    }
   ],
   "source": [
    "meta = 20000\n",
    "vendas = 41000\n",
    "\n",
    "if vendas >= meta: \n",
    "    print('Parabéns você bateu a meta de vendas')\n",
    "    if vendas >= meta and vendas <= 2*meta:\n",
    "        print('Parabéns você ganhou bônus de 3%')\n",
    "    else:\n",
    "        print('Parabéns você ganhou bônus de 7%')\n",
    "else:\n",
    "    print('Infelizmente você não bateu a meta de vendas e não ganhará bônus')\n",
    "print('Fim de programa')"
   ]
  },
  {
   "cell_type": "code",
   "execution_count": 29,
   "id": "291416fc",
   "metadata": {},
   "outputs": [
    {
     "name": "stdout",
     "output_type": "stream",
     "text": [
      "Ganhou 750.0 de bônus\n"
     ]
    }
   ],
   "source": [
    "meta = 20000\n",
    "vendas = 25000\n",
    "\n",
    "if vendas < meta:\n",
    "    print('Não ganhou bônus')\n",
    "elif vendas > (meta * 2):\n",
    "    bonus = 0.07 * vendas\n",
    "    print('Ganhou {} de bônus'.format(bonus))\n",
    "else:\n",
    "    bonus = 0.03 * vendas\n",
    "    print('Ganhou {} de bônus'.format(bonus))\n"
   ]
  },
  {
   "cell_type": "code",
   "execution_count": 30,
   "id": "89d4efc9",
   "metadata": {},
   "outputs": [
    {
     "name": "stdout",
     "output_type": "stream",
     "text": [
      "Ganhou 1200.0 de bônus\n"
     ]
    }
   ],
   "source": [
    "meta = 20000\n",
    "vendas = 40000\n",
    "\n",
    "if vendas < meta:\n",
    "    print('Não ganhou bônus')\n",
    "elif vendas > (meta * 2):\n",
    "    bonus = 0.07 * vendas\n",
    "    print('Ganhou {} de bônus'.format(bonus))\n",
    "else:\n",
    "    bonus = 0.03 * vendas\n",
    "    print('Ganhou {} de bônus'.format(bonus))\n"
   ]
  },
  {
   "cell_type": "code",
   "execution_count": 33,
   "id": "427072d5",
   "metadata": {},
   "outputs": [
    {
     "name": "stdout",
     "output_type": "stream",
     "text": [
      "Ganhou 2870.00 de bônus\n"
     ]
    }
   ],
   "source": [
    "meta = 20000\n",
    "vendas = 41000\n",
    "\n",
    "if vendas < meta:\n",
    "    print('Não ganhou bônus')\n",
    "elif vendas > (meta * 2):\n",
    "    bonus = 0.07 * vendas\n",
    "    print('Ganhou {:.2f} de bônus'.format(bonus))\n",
    "else:\n",
    "    bonus = 0.03 * vendas\n",
    "    print('Ganhou {:.2f} de bônus'.format(bonus))\n"
   ]
  },
  {
   "cell_type": "code",
   "execution_count": 34,
   "id": "781b0036",
   "metadata": {},
   "outputs": [
    {
     "name": "stdout",
     "output_type": "stream",
     "text": [
      "Programa 1\n",
      "Os faturamentos são diferentes\n"
     ]
    }
   ],
   "source": [
    "faturamento_loja1 = 2500\n",
    "faturamento_loja2 = 2200\n",
    "email = \"liragmail.com\"\n",
    "\n",
    "print('Programa 1')\n",
    "if faturamento_loja1 == faturamento_loja2:\n",
    "    print('Os faturamentos são iguais')\n",
    "else:\n",
    "    print('Os faturamentos são diferentes')"
   ]
  },
  {
   "cell_type": "code",
   "execution_count": 35,
   "id": "d813948a",
   "metadata": {},
   "outputs": [
    {
     "name": "stdout",
     "output_type": "stream",
     "text": [
      "Programa 2\n",
      "Esse não é o email do Lira\n"
     ]
    }
   ],
   "source": [
    "print('Programa 2')\n",
    "if email != 'lira@gmail.com':\n",
    "    print('Esse não é o email do Lira')\n",
    "else:\n",
    "    print('Email errado')"
   ]
  },
  {
   "cell_type": "code",
   "execution_count": 37,
   "id": "8b6467a7",
   "metadata": {},
   "outputs": [
    {
     "name": "stdout",
     "output_type": "stream",
     "text": [
      "Programa 3\n",
      "Insira seu email: lira@gmail.com\n",
      "Email válido\n"
     ]
    }
   ],
   "source": [
    "print('Programa 3')\n",
    "email_usuario = input('Insira seu email: ')\n",
    "if not '@' in email_usuario:\n",
    "    print('Email Inválido')\n",
    "else:\n",
    "    print('Email válido')"
   ]
  },
  {
   "cell_type": "code",
   "execution_count": 38,
   "id": "5ceca5ce",
   "metadata": {},
   "outputs": [
    {
     "name": "stdout",
     "output_type": "stream",
     "text": [
      "Programa 3\n",
      "Insira seu email: lira@gmail.com\n"
     ]
    }
   ],
   "source": [
    "print('Programa 3')\n",
    "email_usuario = input('Insira seu email: ')\n",
    "if not '@' in email_usuario:\n",
    "    print('Email Inválido')\n",
    "else:\n",
    "    pass   # qdo email válido simplesmente passa...não acontece nada."
   ]
  },
  {
   "cell_type": "markdown",
   "id": "80a46ca7",
   "metadata": {},
   "source": [
    "## Aula 05 - If"
   ]
  },
  {
   "cell_type": "code",
   "execution_count": 9,
   "id": "91eabfcf",
   "metadata": {},
   "outputs": [
    {
     "name": "stdout",
     "output_type": "stream",
     "text": [
      "O funcionário 1 ganhou 100.0 de bônus\n",
      "O funcionário 2 ganhou 0 de bônus\n",
      "O funcionário 3 ganhou 270.0 de bônus\n"
     ]
    }
   ],
   "source": [
    "'''crie um programa que calcule e dê um print no bônus que os funcionários\n",
    "devem receber. A meta é de 1000 vendas.\n",
    "se vendas >= meta, 10%, caso contrário 0%.'''\n",
    "\n",
    "meta = 1000\n",
    "vendas_funcionario1 = 1000\n",
    "vendas_funcionario2 = 770\n",
    "vendas_funcionario3 = 2700\n",
    "\n",
    "if vendas_funcionario1 >= meta:\n",
    "    bonus = 0.1 * vendas_funcionario1\n",
    "    print('O funcionário 1 ganhou {} de bônus'.format(bonus))\n",
    "    \n",
    "else:\n",
    "    bonus = 0\n",
    "    print('O funcionário 1 ganhou {} de bônus'.format(bonus))\n",
    "    \n",
    "if vendas_funcionario2 >= meta:\n",
    "    bonus = 0.1 * vendas_funcionario2\n",
    "    print('O funcionário 2 ganhou {} de bônus'.format(bonus))\n",
    "    \n",
    "else: \n",
    "    bonus = 0\n",
    "    print('O funcionário 2 ganhou {} de bônus'.format(bonus))\n",
    "\n",
    "if vendas_funcionario3 >= meta:\n",
    "    bonus = 0.1 * vendas_funcionario3\n",
    "    print('O funcionário 3 ganhou {} de bônus'.format(bonus))\n",
    "    \n",
    "else:\n",
    "    bonus = 0\n",
    "    print('O funcionário 3 ganhou {} de bônus'.format(bonus))"
   ]
  },
  {
   "cell_type": "code",
   "execution_count": 10,
   "id": "909ded72",
   "metadata": {},
   "outputs": [
    {
     "name": "stdout",
     "output_type": "stream",
     "text": [
      "O funcionário 1 ganhou 0 de bônus\n",
      "O funcionário 2 ganhou 0 de bônus\n",
      "O funcionário 3 ganhou 270.0 de bônus\n"
     ]
    }
   ],
   "source": [
    "meta = 0200\n",
    "vendas_funcionario1 = 1000\n",
    "vendas_funcionario2 = 770\n",
    "vendas_funcionario3 = 2700\n",
    "\n",
    "if vendas_funcionario1 >= meta:\n",
    "    bonus = 0.1 * vendas_funcionario1\n",
    "    print('O funcionário 1 ganhou {} de bônus'.format(bonus))\n",
    "    \n",
    "else:\n",
    "    bonus = 0\n",
    "    print('O funcionário 1 ganhou {} de bônus'.format(bonus))\n",
    "    \n",
    "if vendas_funcionario2 >= meta:\n",
    "    bonus = 0.1 * vendas_funcionario2\n",
    "    print('O funcionário 2 ganhou {} de bônus'.format(bonus))\n",
    "    \n",
    "else: \n",
    "    bonus = 0\n",
    "    print('O funcionário 2 ganhou {} de bônus'.format(bonus))\n",
    "\n",
    "if vendas_funcionario3 >= meta:\n",
    "    bonus = 0.1 * vendas_funcionario3\n",
    "    print('O funcionário 3 ganhou {} de bônus'.format(bonus))\n",
    "    \n",
    "else:\n",
    "    bonus = 0\n",
    "    print('O funcionário 3 ganhou {} de bônus'.format(bonus))"
   ]
  },
  {
   "cell_type": "code",
   "execution_count": 16,
   "id": "2f70cce2",
   "metadata": {},
   "outputs": [
    {
     "name": "stdout",
     "output_type": "stream",
     "text": [
      "O funcionário 1 ganhou 100.0 de bônus\n",
      "O funcionário 2 ganhou 0 de bônus\n",
      "O funcionário 3 ganhou 405.0 de bônus\n"
     ]
    }
   ],
   "source": [
    "# com faixas de bônus. metas 1000, vendas >= 2000: 15%, 1000=<vendas<2000: 10%, vendas< 1000: 0%\n",
    "\n",
    "vendas_funcionario1 = 1000\n",
    "vendas_funcionario2 = 770\n",
    "vendas_funcionario3 = 2700\n",
    "\n",
    "if vendas_funcionario1 >= 1000:\n",
    "    if vendas_funcionario1>= 2000:\n",
    "        bonus = 0.15 * vendas_funcionario1\n",
    "        \n",
    "    else: \n",
    "        bonus = 0.10 * vendas_funcionario1\n",
    "else:\n",
    "    bonus = 0\n",
    "print('O funcionário 1 ganhou {} de bônus'.format(bonus))\n",
    "    \n",
    "if vendas_funcionario2 >= 1000:\n",
    "    if vendas_funcionario2 >= 2000:\n",
    "        bonus = 0.15 * vendas_funcionario2\n",
    "        \n",
    "    else: \n",
    "        bonus = 0.10 * vendas_funcionario2\n",
    "    \n",
    "else: \n",
    "    bonus = 0\n",
    "print('O funcionário 2 ganhou {} de bônus'.format(bonus))\n",
    "\n",
    "if vendas_funcionario3 >= meta:\n",
    "    if vendas_funcionario3 >= 2000:\n",
    "        bonus = 0.15 * vendas_funcionario3\n",
    "        \n",
    "else:\n",
    "    bonus = 0\n",
    "print('O funcionário 3 ganhou {} de bônus'.format(bonus))"
   ]
  },
  {
   "cell_type": "code",
   "execution_count": 20,
   "id": "1e515f5b",
   "metadata": {},
   "outputs": [
    {
     "name": "stdout",
     "output_type": "stream",
     "text": [
      "O funcionário 1 ganhou 100.0 de bônus\n",
      "O funcionário 2 ganhou 0 de bônus\n",
      "O funcionário 3 ganhou 150.0 de bônus\n"
     ]
    }
   ],
   "source": [
    "# usando if e elif\n",
    "\n",
    "vendas_funcionario1 = 1000\n",
    "vendas_funcionario2 = 770\n",
    "vendas_funcionario3 = 2700\n",
    "\n",
    "if vendas_funcionario1 >= 2000:\n",
    "    bonus = 0.15 * vendas_funcionario1\n",
    "elif vendas_funcionario1 >= 1000:\n",
    "    bonus = 0.10 * vendas_funcionario1\n",
    "else:\n",
    "    bonus = 0\n",
    "print('O funcionário 1 ganhou {} de bônus'.format(bonus))\n",
    "\n",
    "\n",
    "if vendas_funcionario2 >= 2000:\n",
    "    bonus = 0.15 * vendas_funcionario2\n",
    "elif vendas_funcionario2 >= 1000:\n",
    "    bonus = 0.10 * vendas_funcionario2\n",
    "else:\n",
    "    bonus = 0\n",
    "print('O funcionário 2 ganhou {} de bônus'.format(bonus))\n",
    "\n",
    "\n",
    "if vendas_funcionario3>= 2000:\n",
    "    bonus = 0.15 * vendas_funcionario1\n",
    "elif vendas_funcionario3 >= 1000:\n",
    "    bonus = 0.10 * vendas_funcionario1\n",
    "else:\n",
    "    bonus = 0\n",
    "print('O funcionário 3 ganhou {} de bônus'.format(bonus))\n",
    "\n",
    "\n"
   ]
  },
  {
   "cell_type": "code",
   "execution_count": 22,
   "id": "83bf6ca4",
   "metadata": {},
   "outputs": [
    {
     "name": "stdout",
     "output_type": "stream",
     "text": [
      "O funcionário ganhou 0 de bônus\n"
     ]
    }
   ],
   "source": [
    "# funcionario e loja batem metas: 3% bonus, caso contrário zero.\n",
    "\n",
    "meta_funcionario = 10000\n",
    "meta_loja = 250000\n",
    "vendas_funcionario = 5000\n",
    "vendas_loja = 200000\n",
    "\n",
    "if vendas_funcionario >= meta_funcionario and vendas_loja >= meta_loja:\n",
    "    bonus = 0.03 * vendas_funcionario\n",
    "else:\n",
    "    bonus = 0\n",
    "    \n",
    "print('O funcionário ganhou {} de bônus'.format(bonus))\n",
    "\n"
   ]
  },
  {
   "cell_type": "code",
   "execution_count": 25,
   "id": "96c9d170",
   "metadata": {},
   "outputs": [
    {
     "name": "stdout",
     "output_type": "stream",
     "text": [
      "O funcionário ganhou 360.0 de bônus\n"
     ]
    }
   ],
   "source": [
    "# funcionario e loja batem metas: 3% bonus, caso contrário zero.\n",
    "\n",
    "meta_funcionario = 10000\n",
    "meta_loja = 250000\n",
    "vendas_funcionario = 12000\n",
    "vendas_loja = 260000\n",
    "\n",
    "if vendas_funcionario >= meta_funcionario and vendas_loja >= meta_loja:\n",
    "    bonus = 0.03 * vendas_funcionario\n",
    "else:\n",
    "    bonus = 0\n",
    "    \n",
    "print('O funcionário ganhou {} de bônus'.format(bonus))\n"
   ]
  },
  {
   "cell_type": "code",
   "execution_count": 31,
   "id": "1547b9a0",
   "metadata": {},
   "outputs": [
    {
     "name": "stdout",
     "output_type": "stream",
     "text": [
      "O funcionário ganhou 360.0 de bônus\n"
     ]
    }
   ],
   "source": [
    "nota_funcionario = 9\n",
    "meta_nota = 9\n",
    "\n",
    "if nota_funcionario >= meta_nota or (vendas_funcionario >= meta_funcionario and vendas_loja >= meta_loja):\n",
    "    bonus = 0.03 * vendas_funcionario\n",
    "    print('O funcionário ganhou {} de bônus'.format(bonus))\n",
    "else:\n",
    "    print('O funcionário ganhou {} de bônus'.format(bonus))"
   ]
  },
  {
   "cell_type": "code",
   "execution_count": 33,
   "id": "b28d04c2",
   "metadata": {},
   "outputs": [
    {
     "name": "stdout",
     "output_type": "stream",
     "text": [
      "O funcionário ganhou 360.0 de bônus\n"
     ]
    }
   ],
   "source": [
    "nota_funcionario = 5\n",
    "meta_nota = 9\n",
    "\n",
    "if nota_funcionario >= meta_nota or (vendas_funcionario >= meta_funcionario and vendas_loja >= meta_loja):\n",
    "    bonus = 0.03 * vendas_funcionario\n",
    "    print('O funcionário ganhou {} de bônus'.format(bonus))\n",
    "else:\n",
    "    print('O funcionário ganhou {} de bônus'.format(bonus))"
   ]
  },
  {
   "cell_type": "code",
   "execution_count": 38,
   "id": "8e68cfcd",
   "metadata": {},
   "outputs": [
    {
     "ename": "KeyboardInterrupt",
     "evalue": "Interrupted by user",
     "output_type": "error",
     "traceback": [
      "\u001b[1;31m---------------------------------------------------------------------------\u001b[0m",
      "\u001b[1;31mKeyboardInterrupt\u001b[0m                         Traceback (most recent call last)",
      "\u001b[1;32mC:\\Users\\ALEXAN~1\\AppData\\Local\\Temp/ipykernel_16740/998482359.py\u001b[0m in \u001b[0;36m<module>\u001b[1;34m\u001b[0m\n\u001b[0;32m      1\u001b[0m \u001b[1;31m# aula 06\u001b[0m\u001b[1;33m\u001b[0m\u001b[1;33m\u001b[0m\u001b[0m\n\u001b[0;32m      2\u001b[0m \u001b[1;33m\u001b[0m\u001b[0m\n\u001b[1;32m----> 3\u001b[1;33m \u001b[0mfaturamento\u001b[0m \u001b[1;33m=\u001b[0m \u001b[0minput\u001b[0m\u001b[1;33m(\u001b[0m\u001b[1;34m'Qual foi o faturamento da loja nesse mês? '\u001b[0m\u001b[1;33m)\u001b[0m\u001b[1;33m\u001b[0m\u001b[1;33m\u001b[0m\u001b[0m\n\u001b[0m\u001b[0;32m      4\u001b[0m \u001b[0mcusto\u001b[0m \u001b[1;33m=\u001b[0m \u001b[0minput\u001b[0m\u001b[1;33m(\u001b[0m\u001b[1;34m'Qual foi o custo da loja nesse mês? '\u001b[0m\u001b[1;33m)\u001b[0m\u001b[1;33m\u001b[0m\u001b[1;33m\u001b[0m\u001b[0m\n\u001b[0;32m      5\u001b[0m \u001b[1;33m\u001b[0m\u001b[0m\n",
      "\u001b[1;32mc:\\users\\alexandre\\appdata\\local\\programs\\python\\python39\\lib\\site-packages\\ipykernel\\kernelbase.py\u001b[0m in \u001b[0;36mraw_input\u001b[1;34m(self, prompt)\u001b[0m\n\u001b[0;32m    979\u001b[0m                 \u001b[1;34m\"raw_input was called, but this frontend does not support input requests.\"\u001b[0m\u001b[1;33m\u001b[0m\u001b[1;33m\u001b[0m\u001b[0m\n\u001b[0;32m    980\u001b[0m             )\n\u001b[1;32m--> 981\u001b[1;33m         return self._input_request(\n\u001b[0m\u001b[0;32m    982\u001b[0m             \u001b[0mstr\u001b[0m\u001b[1;33m(\u001b[0m\u001b[0mprompt\u001b[0m\u001b[1;33m)\u001b[0m\u001b[1;33m,\u001b[0m\u001b[1;33m\u001b[0m\u001b[1;33m\u001b[0m\u001b[0m\n\u001b[0;32m    983\u001b[0m             \u001b[0mself\u001b[0m\u001b[1;33m.\u001b[0m\u001b[0m_parent_ident\u001b[0m\u001b[1;33m[\u001b[0m\u001b[1;34m\"shell\"\u001b[0m\u001b[1;33m]\u001b[0m\u001b[1;33m,\u001b[0m\u001b[1;33m\u001b[0m\u001b[1;33m\u001b[0m\u001b[0m\n",
      "\u001b[1;32mc:\\users\\alexandre\\appdata\\local\\programs\\python\\python39\\lib\\site-packages\\ipykernel\\kernelbase.py\u001b[0m in \u001b[0;36m_input_request\u001b[1;34m(self, prompt, ident, parent, password)\u001b[0m\n\u001b[0;32m   1024\u001b[0m             \u001b[1;32mexcept\u001b[0m \u001b[0mKeyboardInterrupt\u001b[0m\u001b[1;33m:\u001b[0m\u001b[1;33m\u001b[0m\u001b[1;33m\u001b[0m\u001b[0m\n\u001b[0;32m   1025\u001b[0m                 \u001b[1;31m# re-raise KeyboardInterrupt, to truncate traceback\u001b[0m\u001b[1;33m\u001b[0m\u001b[1;33m\u001b[0m\u001b[0m\n\u001b[1;32m-> 1026\u001b[1;33m                 \u001b[1;32mraise\u001b[0m \u001b[0mKeyboardInterrupt\u001b[0m\u001b[1;33m(\u001b[0m\u001b[1;34m\"Interrupted by user\"\u001b[0m\u001b[1;33m)\u001b[0m \u001b[1;32mfrom\u001b[0m \u001b[1;32mNone\u001b[0m\u001b[1;33m\u001b[0m\u001b[1;33m\u001b[0m\u001b[0m\n\u001b[0m\u001b[0;32m   1027\u001b[0m             \u001b[1;32mexcept\u001b[0m \u001b[0mException\u001b[0m \u001b[1;32mas\u001b[0m \u001b[0me\u001b[0m\u001b[1;33m:\u001b[0m\u001b[1;33m\u001b[0m\u001b[1;33m\u001b[0m\u001b[0m\n\u001b[0;32m   1028\u001b[0m                 \u001b[0mself\u001b[0m\u001b[1;33m.\u001b[0m\u001b[0mlog\u001b[0m\u001b[1;33m.\u001b[0m\u001b[0mwarning\u001b[0m\u001b[1;33m(\u001b[0m\u001b[1;34m\"Invalid Message:\"\u001b[0m\u001b[1;33m,\u001b[0m \u001b[0mexc_info\u001b[0m\u001b[1;33m=\u001b[0m\u001b[1;32mTrue\u001b[0m\u001b[1;33m)\u001b[0m\u001b[1;33m\u001b[0m\u001b[1;33m\u001b[0m\u001b[0m\n",
      "\u001b[1;31mKeyboardInterrupt\u001b[0m: Interrupted by user"
     ]
    }
   ],
   "source": [
    "# aula 06\n",
    "\n",
    "faturamento = input('Qual foi o faturamento da loja nesse mês? ')\n",
    "custo = input('Qual foi o custo da loja nesse mês? ')\n",
    "\n",
    "if faturamento =='' or custo == '':\n",
    "    print('Preencha o faturamento e o custo corretamente')\n",
    "\n",
    "else:\n",
    "    lucro = int(faturamento) - int(custo)\n",
    "    print(\"O lucro da loja foi de {} reais\".format(lucro))"
   ]
  },
  {
   "cell_type": "code",
   "execution_count": 39,
   "id": "8540a1d0",
   "metadata": {},
   "outputs": [
    {
     "name": "stdout",
     "output_type": "stream",
     "text": [
      "Qual foi o faturamento da loja nesse mês? \n",
      "Qual foi o custo da loja nesse mês? 1253\n"
     ]
    }
   ],
   "source": [
    "faturamento = input('Qual foi o faturamento da loja nesse mês? ')\n",
    "custo = input('Qual foi o custo da loja nesse mês? ')\n",
    "\n",
    "if faturamento:     # se preencheu vai a frente caso não tenha preenchido, nada acontece.\n",
    "    lucro = int(faturamento) - int(custo)\n",
    "    print(\"O lucro da loja foi de {} reais\".format(lucro))"
   ]
  },
  {
   "cell_type": "code",
   "execution_count": 40,
   "id": "6c48b9e8",
   "metadata": {},
   "outputs": [
    {
     "name": "stdout",
     "output_type": "stream",
     "text": [
      "Qual foi o faturamento da loja nesse mês? 125555\n",
      "Qual foi o custo da loja nesse mês? 1245\n",
      "O lucro da loja foi de 124310 reais\n"
     ]
    }
   ],
   "source": [
    "faturamento = input('Qual foi o faturamento da loja nesse mês? ')\n",
    "custo = input('Qual foi o custo da loja nesse mês? ')\n",
    "\n",
    "if faturamento:     # se preencheu vai a frente caso não tenha preenchido, nada acontece.\n",
    "    lucro = int(faturamento) - int(custo)\n",
    "    print(\"O lucro da loja foi de {} reais\".format(lucro))\n"
   ]
  },
  {
   "cell_type": "code",
   "execution_count": 41,
   "id": "b5eac513",
   "metadata": {},
   "outputs": [
    {
     "name": "stdout",
     "output_type": "stream",
     "text": [
      "Qual o produto? Dolly\n",
      "Qual a categoria do produto? bebidas\n",
      "Qual a quantidade atual do produto? 45\n",
      "Solicitar Dolly à equipe de compras, temos apenas 45 unidades em estoque\n"
     ]
    }
   ],
   "source": [
    "produto = input('Qual o produto? ')\n",
    "categoria = input('Qual a categoria do produto? ')\n",
    "qtde = input('Qual a quantidade atual do produto? ')\n",
    "\n",
    "if produto and categoria and qtde:\n",
    "    qtde = int(qtde)\n",
    "    if categoria == 'bebidas':\n",
    "        if qtde < 75:\n",
    "            print('Solicitar {} à equipe de compras, temos apenas {} unidades em estoque'.format(produto, qtde))\n",
    "    elif categoria == 'limpeza':\n",
    "        if qtde < 30:\n",
    "            print('Solicitar {} à equipe de compras, temos apenas {} unidades em estoque'.format(produto, qtde))\n",
    "    else:\n",
    "        if qtde < 50:\n",
    "            print('Solicitar {} à equipe de compras, temos apenas {} unidades em estoque'.format(produto, qtde))\n",
    "else:\n",
    "    print('Preencha todas as informações')"
   ]
  },
  {
   "cell_type": "code",
   "execution_count": null,
   "id": "10bc7734",
   "metadata": {},
   "outputs": [],
   "source": []
  },
  {
   "cell_type": "code",
   "execution_count": null,
   "id": "235a35f1",
   "metadata": {},
   "outputs": [],
   "source": []
  },
  {
   "cell_type": "code",
   "execution_count": null,
   "id": "1625dc7c",
   "metadata": {},
   "outputs": [],
   "source": []
  },
  {
   "cell_type": "code",
   "execution_count": null,
   "id": "263e3466",
   "metadata": {},
   "outputs": [],
   "source": []
  },
  {
   "cell_type": "code",
   "execution_count": null,
   "id": "36960f03",
   "metadata": {},
   "outputs": [],
   "source": []
  },
  {
   "cell_type": "code",
   "execution_count": null,
   "id": "035f37a8",
   "metadata": {},
   "outputs": [],
   "source": []
  },
  {
   "cell_type": "code",
   "execution_count": null,
   "id": "65384b9d",
   "metadata": {},
   "outputs": [],
   "source": []
  },
  {
   "cell_type": "code",
   "execution_count": null,
   "id": "d8864030",
   "metadata": {},
   "outputs": [],
   "source": []
  },
  {
   "cell_type": "code",
   "execution_count": null,
   "id": "f01f4de4",
   "metadata": {},
   "outputs": [],
   "source": []
  }
 ],
 "metadata": {
  "kernelspec": {
   "display_name": "Python 3 (ipykernel)",
   "language": "python",
   "name": "python3"
  },
  "language_info": {
   "codemirror_mode": {
    "name": "ipython",
    "version": 3
   },
   "file_extension": ".py",
   "mimetype": "text/x-python",
   "name": "python",
   "nbconvert_exporter": "python",
   "pygments_lexer": "ipython3",
   "version": "3.9.7"
  }
 },
 "nbformat": 4,
 "nbformat_minor": 5
}
