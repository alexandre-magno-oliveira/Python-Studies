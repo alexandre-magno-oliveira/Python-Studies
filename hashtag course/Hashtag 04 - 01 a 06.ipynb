{
 "cells": [
  {
   "cell_type": "code",
   "execution_count": 1,
   "id": "86bd5cff",
   "metadata": {},
   "outputs": [
    {
     "name": "stdout",
     "output_type": "stream",
     "text": [
      "um texto\n"
     ]
    }
   ],
   "source": [
    "print('um texto')\n"
   ]
  },
  {
   "cell_type": "code",
   "execution_count": 2,
   "id": "06f5e936",
   "metadata": {},
   "outputs": [
    {
     "name": "stdout",
     "output_type": "stream",
     "text": [
      "um texto\n"
     ]
    }
   ],
   "source": [
    "print(\"um texto\")"
   ]
  },
  {
   "cell_type": "code",
   "execution_count": 3,
   "id": "36fbbcd1",
   "metadata": {},
   "outputs": [
    {
     "ename": "SyntaxError",
     "evalue": "invalid syntax (Temp/ipykernel_16856/1515769582.py, line 1)",
     "output_type": "error",
     "traceback": [
      "\u001b[1;36m  File \u001b[1;32m\"C:\\Users\\ALEXAN~1\\AppData\\Local\\Temp/ipykernel_16856/1515769582.py\"\u001b[1;36m, line \u001b[1;32m1\u001b[0m\n\u001b[1;33m    print(um texto)\u001b[0m\n\u001b[1;37m             ^\u001b[0m\n\u001b[1;31mSyntaxError\u001b[0m\u001b[1;31m:\u001b[0m invalid syntax\n"
     ]
    }
   ],
   "source": [
    "print(um texto)"
   ]
  },
  {
   "cell_type": "code",
   "execution_count": 4,
   "id": "50f1ec1c",
   "metadata": {},
   "outputs": [
    {
     "name": "stdout",
     "output_type": "stream",
     "text": [
      "123\n"
     ]
    }
   ],
   "source": [
    "print(123)"
   ]
  },
  {
   "cell_type": "code",
   "execution_count": 5,
   "id": "4f724017",
   "metadata": {},
   "outputs": [
    {
     "name": "stdout",
     "output_type": "stream",
     "text": [
      "2\n"
     ]
    }
   ],
   "source": [
    "print(1+1)"
   ]
  },
  {
   "cell_type": "code",
   "execution_count": 6,
   "id": "88cc47e5",
   "metadata": {},
   "outputs": [
    {
     "name": "stdout",
     "output_type": "stream",
     "text": [
      "1+1\n"
     ]
    }
   ],
   "source": [
    "print('1+1')"
   ]
  },
  {
   "cell_type": "code",
   "execution_count": 7,
   "id": "ecf27757",
   "metadata": {},
   "outputs": [
    {
     "name": "stdout",
     "output_type": "stream",
     "text": [
      "0.6666666666666666\n"
     ]
    }
   ],
   "source": [
    "print(2/3)"
   ]
  },
  {
   "cell_type": "code",
   "execution_count": 8,
   "id": "9a8b01fd",
   "metadata": {},
   "outputs": [
    {
     "name": "stdout",
     "output_type": "stream",
     "text": [
      "11.0\n"
     ]
    }
   ],
   "source": [
    "print(2.2 * 5)"
   ]
  },
  {
   "cell_type": "code",
   "execution_count": 9,
   "id": "69b7eb6a",
   "metadata": {},
   "outputs": [
    {
     "name": "stdout",
     "output_type": "stream",
     "text": [
      "1\n"
     ]
    }
   ],
   "source": [
    "print(7%3)"
   ]
  },
  {
   "cell_type": "code",
   "execution_count": 10,
   "id": "c2f367c5",
   "metadata": {},
   "outputs": [
    {
     "name": "stdout",
     "output_type": "stream",
     "text": [
      "meu nome é Alexandre\n"
     ]
    }
   ],
   "source": [
    "print(\"meu nome é Alexandre\")"
   ]
  },
  {
   "cell_type": "code",
   "execution_count": 11,
   "id": "5b25dbff",
   "metadata": {},
   "outputs": [
    {
     "name": "stdout",
     "output_type": "stream",
     "text": [
      "meu nome éAlexandre\n"
     ]
    }
   ],
   "source": [
    "print('meu nome é' + 'Alexandre')"
   ]
  },
  {
   "cell_type": "code",
   "execution_count": 12,
   "id": "fd221c40",
   "metadata": {},
   "outputs": [
    {
     "name": "stdout",
     "output_type": "stream",
     "text": [
      "meu nome é Alexandre\n"
     ]
    }
   ],
   "source": [
    "print('meu nome é ' + 'Alexandre')"
   ]
  },
  {
   "cell_type": "code",
   "execution_count": 13,
   "id": "f27b3950",
   "metadata": {},
   "outputs": [
    {
     "name": "stdout",
     "output_type": "stream",
     "text": [
      "meu nome é Alexandre\n"
     ]
    }
   ],
   "source": [
    "print('meu nome é' + ' Alexandre')"
   ]
  },
  {
   "cell_type": "code",
   "execution_count": 14,
   "id": "b736f1f2",
   "metadata": {},
   "outputs": [
    {
     "name": "stdout",
     "output_type": "stream",
     "text": [
      "False\n"
     ]
    }
   ],
   "source": [
    "print('meu nome é' in 'Lira')"
   ]
  },
  {
   "cell_type": "code",
   "execution_count": 15,
   "id": "4243e255",
   "metadata": {},
   "outputs": [
    {
     "name": "stdout",
     "output_type": "stream",
     "text": [
      "True\n"
     ]
    }
   ],
   "source": [
    "print('Alexandre' in 'Alexandre Magno')"
   ]
  },
  {
   "cell_type": "code",
   "execution_count": 16,
   "id": "992be107",
   "metadata": {},
   "outputs": [
    {
     "name": "stdout",
     "output_type": "stream",
     "text": [
      "True\n"
     ]
    }
   ],
   "source": [
    "print('A' in 'Alex')"
   ]
  },
  {
   "cell_type": "code",
   "execution_count": 17,
   "id": "cad67388",
   "metadata": {},
   "outputs": [
    {
     "name": "stdout",
     "output_type": "stream",
     "text": [
      "False\n"
     ]
    }
   ],
   "source": [
    "print('a' in 'Alex')"
   ]
  },
  {
   "cell_type": "code",
   "execution_count": 19,
   "id": "20c44f88",
   "metadata": {},
   "outputs": [
    {
     "name": "stdout",
     "output_type": "stream",
     "text": [
      "Alexandre Magno\n",
      "1500\n"
     ]
    }
   ],
   "source": [
    "qtde_vendas = 1500\n",
    "nome = 'Alexandre Magno'\n",
    "\n",
    "print(nome)\n",
    "print(qtde_vendas)\n"
   ]
  },
  {
   "cell_type": "code",
   "execution_count": 20,
   "id": "4aa3d4b5",
   "metadata": {},
   "outputs": [
    {
     "name": "stdout",
     "output_type": "stream",
     "text": [
      "Qual é o seu nome?Alexandre\n"
     ]
    },
    {
     "data": {
      "text/plain": [
       "'Alexandre'"
      ]
     },
     "execution_count": 20,
     "metadata": {},
     "output_type": "execute_result"
    }
   ],
   "source": [
    "input('Qual é o seu nome?')"
   ]
  },
  {
   "cell_type": "code",
   "execution_count": 22,
   "id": "dc40c1d2",
   "metadata": {},
   "outputs": [
    {
     "name": "stdout",
     "output_type": "stream",
     "text": [
      "Qual o seu nome?Alexandre\n",
      "Alexandre\n"
     ]
    }
   ],
   "source": [
    "nome = input(\"Qual o seu nome?\")\n",
    "print(nome)"
   ]
  },
  {
   "cell_type": "code",
   "execution_count": 23,
   "id": "599ae545",
   "metadata": {},
   "outputs": [
    {
     "name": "stdout",
     "output_type": "stream",
     "text": [
      "Qual o seu nome?Alexandre\n",
      "Qual é o seu sobrenome?Oliveira\n",
      "AlexandreOliveira\n"
     ]
    }
   ],
   "source": [
    "nome = input(\"Qual o seu nome?\")\n",
    "sobrenome = input('Qual é o seu sobrenome?')\n",
    "\n",
    "print(nome + sobrenome) # ele vai concatenar"
   ]
  },
  {
   "cell_type": "code",
   "execution_count": 24,
   "id": "7f29529a",
   "metadata": {},
   "outputs": [
    {
     "name": "stdout",
     "output_type": "stream",
     "text": [
      "Qual o seu nome?Alexandre\n",
      "Qual é o seu sobrenome?Oliveira\n",
      "Alexandre Oliveira\n"
     ]
    }
   ],
   "source": [
    "nome = input(\"Qual o seu nome?\")\n",
    "sobrenome = input('Qual é o seu sobrenome?')\n",
    "\n",
    "print(nome + ' '+ sobrenome) # ele vai concatenar"
   ]
  },
  {
   "cell_type": "markdown",
   "id": "bdf8e91a",
   "metadata": {},
   "source": [
    "# Tipos de Variáveis\n"
   ]
  },
  {
   "cell_type": "code",
   "execution_count": 1,
   "id": "4f7ef922",
   "metadata": {},
   "outputs": [
    {
     "ename": "TypeError",
     "evalue": "can only concatenate str (not \"int\") to str",
     "output_type": "error",
     "traceback": [
      "\u001b[1;31m---------------------------------------------------------------------------\u001b[0m",
      "\u001b[1;31mTypeError\u001b[0m                                 Traceback (most recent call last)",
      "\u001b[1;32mC:\\Users\\ALEXAN~1\\AppData\\Local\\Temp/ipykernel_1992/2527268344.py\u001b[0m in \u001b[0;36m<module>\u001b[1;34m\u001b[0m\n\u001b[0;32m      1\u001b[0m \u001b[0mfaturamento\u001b[0m \u001b[1;33m=\u001b[0m \u001b[1;36m1000\u001b[0m\u001b[1;33m\u001b[0m\u001b[1;33m\u001b[0m\u001b[0m\n\u001b[0;32m      2\u001b[0m \u001b[1;33m\u001b[0m\u001b[0m\n\u001b[1;32m----> 3\u001b[1;33m \u001b[0mprint\u001b[0m\u001b[1;33m(\u001b[0m\u001b[1;34m'O faturamento da loja foi '\u001b[0m \u001b[1;33m+\u001b[0m \u001b[0mfaturamento\u001b[0m\u001b[1;33m)\u001b[0m\u001b[1;33m\u001b[0m\u001b[1;33m\u001b[0m\u001b[0m\n\u001b[0m",
      "\u001b[1;31mTypeError\u001b[0m: can only concatenate str (not \"int\") to str"
     ]
    }
   ],
   "source": [
    "faturamento = 1000\n",
    "\n",
    "print('O faturamento da loja foi ' + faturamento)"
   ]
  },
  {
   "cell_type": "code",
   "execution_count": 3,
   "id": "be96b17e",
   "metadata": {},
   "outputs": [
    {
     "name": "stdout",
     "output_type": "stream",
     "text": [
      "O faturamento da loja foi 1500\n",
      "O custo da loja foi 500\n",
      "Assim, o lucro da loja foi de 1000 reais\n"
     ]
    }
   ],
   "source": [
    "faturamento = 1500\n",
    "custo = 500\n",
    "lucro = faturamento - custo\n",
    "\n",
    "print('O faturamento da loja foi ' + str(faturamento))\n",
    "print('O custo da loja foi ' + str(custo))\n",
    "print('Assim, o lucro da loja foi de ' + str(lucro) + ' reais')"
   ]
  },
  {
   "cell_type": "code",
   "execution_count": 4,
   "id": "de8cff68",
   "metadata": {},
   "outputs": [
    {
     "name": "stdout",
     "output_type": "stream",
     "text": [
      "O faturamento da loja foi 2000\n",
      "O custo da loja foi 500\n",
      "Assim, o lucro da loja foi de 1500 reais\n"
     ]
    }
   ],
   "source": [
    "\n",
    "\n",
    "print('O faturamento da loja foi ' + str(faturamento))\n",
    "print('O custo da loja foi ' + str(custo))\n",
    "print('Assim, o lucro da loja foi de ' + str(lucro) + ' reais')"
   ]
  },
  {
   "cell_type": "code",
   "execution_count": 8,
   "id": "83d86872",
   "metadata": {},
   "outputs": [
    {
     "name": "stdout",
     "output_type": "stream",
     "text": [
      "O faturamento da loja foi 2000. O custo da loja foi 500. Assim, o lucro da loja foi de 1500 reais.\n"
     ]
    }
   ],
   "source": [
    "faturamento = 2000\n",
    "custo = 500\n",
    "lucro = faturamento - custo\n",
    "\n",
    "print('O faturamento da loja foi ' + str(faturamento) + '. O custo da loja foi ' + str(custo) + '. Assim, o lucro da loja foi de ' + str(lucro) + ' reais.')"
   ]
  },
  {
   "cell_type": "markdown",
   "id": "108701e2",
   "metadata": {},
   "source": [
    "# Método Format"
   ]
  },
  {
   "cell_type": "code",
   "execution_count": 9,
   "id": "c037f5aa",
   "metadata": {},
   "outputs": [
    {
     "name": "stdout",
     "output_type": "stream",
     "text": [
      "O faturamento da loja foi 2000\n"
     ]
    }
   ],
   "source": [
    "faturamento = 2000\n",
    "custo = 500\n",
    "lucro = faturamento - custo\n",
    "\n",
    "print('O faturamento da loja foi {}'.format(faturamento))"
   ]
  },
  {
   "cell_type": "code",
   "execution_count": 11,
   "id": "cfadec37",
   "metadata": {},
   "outputs": [
    {
     "name": "stdout",
     "output_type": "stream",
     "text": [
      "O faturamento da loja foi 2000. O custo da loja foi 500. Assim, o lucro da loja foi 1500.\n"
     ]
    }
   ],
   "source": [
    "print('O faturamento da loja foi {}. O custo da loja foi {}. Assim, o lucro da loja foi {}.'.format(faturamento, custo, lucro))"
   ]
  }
 ],
 "metadata": {
  "kernelspec": {
   "display_name": "Python 3",
   "language": "python",
   "name": "python3"
  },
  "language_info": {
   "codemirror_mode": {
    "name": "ipython",
    "version": 3
   },
   "file_extension": ".py",
   "mimetype": "text/x-python",
   "name": "python",
   "nbconvert_exporter": "python",
   "pygments_lexer": "ipython3",
   "version": "3.8.8"
  }
 },
 "nbformat": 4,
 "nbformat_minor": 5
}
