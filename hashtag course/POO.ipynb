{
 "cells": [
  {
   "cell_type": "code",
   "execution_count": 1,
   "id": "e84e1298",
   "metadata": {},
   "outputs": [],
   "source": [
    "class TV:\n",
    "    def __init__(self):      #método\n",
    "        self.cor = 'preta'\n",
    "        self.ligada = False\n",
    "        self.tamanho = 55\n",
    "        self.canal = 'Netflix'\n",
    "        self.volume = 10\n",
    "        \n",
    "tv_sala = TV()   # instância\n",
    "tv_quarto = TV()\n",
    "\n"
   ]
  },
  {
   "cell_type": "code",
   "execution_count": 2,
   "id": "03eb3eb7",
   "metadata": {},
   "outputs": [
    {
     "data": {
      "text/plain": [
       "'preta'"
      ]
     },
     "execution_count": 2,
     "metadata": {},
     "output_type": "execute_result"
    }
   ],
   "source": [
    "tv_sala.cor"
   ]
  },
  {
   "cell_type": "code",
   "execution_count": 3,
   "id": "3190d2cd",
   "metadata": {},
   "outputs": [
    {
     "data": {
      "text/plain": [
       "'preta'"
      ]
     },
     "execution_count": 3,
     "metadata": {},
     "output_type": "execute_result"
    }
   ],
   "source": [
    "tv_quarto.cor"
   ]
  },
  {
   "cell_type": "code",
   "execution_count": 4,
   "id": "49f0acb5",
   "metadata": {},
   "outputs": [
    {
     "data": {
      "text/plain": [
       "'Netflix'"
      ]
     },
     "execution_count": 4,
     "metadata": {},
     "output_type": "execute_result"
    }
   ],
   "source": [
    "tv_sala.canal"
   ]
  },
  {
   "cell_type": "code",
   "execution_count": 5,
   "id": "cdfe8239",
   "metadata": {},
   "outputs": [
    {
     "name": "stdout",
     "output_type": "stream",
     "text": [
      "preta\n"
     ]
    }
   ],
   "source": [
    "print(tv_sala.cor)"
   ]
  },
  {
   "cell_type": "code",
   "execution_count": 6,
   "id": "0610ccad",
   "metadata": {},
   "outputs": [
    {
     "name": "stdout",
     "output_type": "stream",
     "text": [
      "preta\n"
     ]
    }
   ],
   "source": [
    "class TV:\n",
    "    def __init__(self):           #método é uma função que faz parte de uma classe\n",
    "        self.cor = 'preta'        # self você só escreve dentro da função, nunca fora.\n",
    "        self.ligada = False\n",
    "        self.tamanho = 55\n",
    "        self.canal = 'Netflix'\n",
    "        self.volume = 10\n",
    "        \n",
    "    def mudar_canal(self):      # a função(método) mudar_canal pega o self.canal e muda o atributo para D+\n",
    "        self.canal = 'Disney+'\n",
    "    \n",
    "    \n",
    "    \n",
    "    \n",
    "    \n",
    "    \n",
    "        \n",
    "tv_sala = TV()            # crio uma instãncia da class TV\n",
    "tv_quarto = TV()          # crio uma instância da class TV\n",
    "tv_sala.mudar_canal()   # tem () quando vc pega o médoto e sem () qdo vc pega o atributo.\n",
    "print(tv_sala.cor)\n",
    "        "
   ]
  },
  {
   "cell_type": "code",
   "execution_count": 7,
   "id": "1d116d25",
   "metadata": {},
   "outputs": [
    {
     "name": "stdout",
     "output_type": "stream",
     "text": [
      "55\n"
     ]
    }
   ],
   "source": [
    "print(tv_quarto.tamanho)"
   ]
  },
  {
   "cell_type": "code",
   "execution_count": 8,
   "id": "acd604f4",
   "metadata": {},
   "outputs": [
    {
     "name": "stdout",
     "output_type": "stream",
     "text": [
      "Globo\n"
     ]
    },
    {
     "data": {
      "text/plain": [
       "'Band'"
      ]
     },
     "execution_count": 8,
     "metadata": {},
     "output_type": "execute_result"
    }
   ],
   "source": [
    "class TV:\n",
    "    def __init__(self):           #método é uma função que faz parte de uma classe\n",
    "        self.cor = 'preta'        # self você só escreve dentro da função, nunca fora.\n",
    "        self.ligada = False\n",
    "        self.tamanho = 55\n",
    "        self.canal = 'Netflix'\n",
    "        self.volume = 10\n",
    "        \n",
    "    def mudar_canal(self, novo_canal):      # a função(método) mudar_canal pega o self.canal e muda o atributo para D+\n",
    "        self.canal = novo_canal\n",
    "    \n",
    "    \n",
    "tv_quarto = TV()\n",
    "tv_sala = TV()\n",
    "\n",
    "tv_sala.mudar_canal('Globo')\n",
    "tv_quarto.mudar_canal('Band')\n",
    "print(tv_sala.canal)\n",
    "tv_quarto.canal\n",
    "    \n",
    " "
   ]
  },
  {
   "cell_type": "code",
   "execution_count": 9,
   "id": "a8d67cca",
   "metadata": {},
   "outputs": [
    {
     "ename": "TypeError",
     "evalue": "__init__() missing 1 required positional argument: 'tamanho'",
     "output_type": "error",
     "traceback": [
      "\u001b[1;31m---------------------------------------------------------------------------\u001b[0m",
      "\u001b[1;31mTypeError\u001b[0m                                 Traceback (most recent call last)",
      "\u001b[1;32m<ipython-input-9-d85616422e64>\u001b[0m in \u001b[0;36m<module>\u001b[1;34m\u001b[0m\n\u001b[0;32m     11\u001b[0m \u001b[1;33m\u001b[0m\u001b[0m\n\u001b[0;32m     12\u001b[0m \u001b[1;33m\u001b[0m\u001b[0m\n\u001b[1;32m---> 13\u001b[1;33m \u001b[0mtv_quarto\u001b[0m \u001b[1;33m=\u001b[0m \u001b[0mTV\u001b[0m\u001b[1;33m(\u001b[0m\u001b[1;33m)\u001b[0m\u001b[1;33m\u001b[0m\u001b[1;33m\u001b[0m\u001b[0m\n\u001b[0m\u001b[0;32m     14\u001b[0m \u001b[0mtv_sala\u001b[0m \u001b[1;33m=\u001b[0m \u001b[0mTV\u001b[0m\u001b[1;33m(\u001b[0m\u001b[1;33m)\u001b[0m\u001b[1;33m\u001b[0m\u001b[1;33m\u001b[0m\u001b[0m\n\u001b[0;32m     15\u001b[0m \u001b[1;33m\u001b[0m\u001b[0m\n",
      "\u001b[1;31mTypeError\u001b[0m: __init__() missing 1 required positional argument: 'tamanho'"
     ]
    }
   ],
   "source": [
    "class TV:\n",
    "    def __init__(self, tamanho):           #obrigatoriamente o usuário vai ter de dizer qual é o size\n",
    "        self.cor = 'preta'        \n",
    "        self.ligada = False\n",
    "        self.tamanho = tamanho       # o atributo self.tamanho recebe o tamanho que o usuário especificou\n",
    "        self.canal = 'Netflix'\n",
    "        self.volume = 10\n",
    "        \n",
    "    def mudar_canal(self, novo_canal):      # a função(método) mudar_canal pega o self.canal e muda o atributo para D+\n",
    "        self.canal = novo_canal\n",
    "    \n",
    "    \n",
    "tv_quarto = TV()\n",
    "tv_sala = TV()\n",
    "\n",
    "tv_sala.mudar_canal('Globo')\n",
    "tv_quarto.mudar_canal('Band')\n",
    "print(tv_sala.canal)\n",
    "tv_quarto.canal\n",
    "    "
   ]
  },
  {
   "cell_type": "code",
   "execution_count": null,
   "id": "719a13b3",
   "metadata": {},
   "outputs": [],
   "source": [
    "class TV:\n",
    "    def __init__(self, tamanho):           #obrigatoriamente o usuário vai ter de dizer qual é o size\n",
    "        self.cor = 'preta'        \n",
    "        self.ligada = False\n",
    "        self.tamanho = tamanho       # o atributo self.tamanho recebe o tamanho que o usuário especificou\n",
    "        self.canal = 'Netflix'\n",
    "        self.volume = 10\n",
    "        \n",
    "    def mudar_canal(self, novo_canal):      # a função(método) mudar_canal pega o self.canal e muda o atributo para D+\n",
    "        self.canal = novo_canal\n",
    "    \n",
    "    \n",
    "tv_quarto = TV(tamanho=55)\n",
    "tv_sala = TV(tamanho=70)\n",
    "\n",
    "tv_sala.mudar_canal('Globo')\n",
    "tv_quarto.mudar_canal('Band')\n",
    "print(tv_sala.canal)\n",
    "print(tv_quarto.canal)\n",
    "print(tv_sala.tamanho)\n",
    "print(tv_quarto.tamanho)  "
   ]
  },
  {
   "cell_type": "code",
   "execution_count": null,
   "id": "23991358",
   "metadata": {},
   "outputs": [],
   "source": [
    "class TV:\n",
    "    cor = 'preta'\n",
    "    \n",
    "    def __init__(self, tamanho):           #obrigatoriamente o usuário vai ter de dizer qual é o size\n",
    "              \n",
    "        self.ligada = False\n",
    "        self.tamanho = tamanho             # o atributo self.tamanho recebe o tamanho que o usuário especificou\n",
    "        self.canal = 'Netflix'\n",
    "        self.volume = 10\n",
    "        \n",
    "    def mudar_canal(self, novo_canal):      # a função(método) mudar_canal pega o self.canal e muda o atributo para D+\n",
    "        self.canal = novo_canal\n",
    "    \n",
    "    \n",
    "tv_quarto = TV(tamanho=55)\n",
    "tv_sala = TV(tamanho=70)\n",
    "\n",
    "tv_sala.mudar_canal('Globo')\n",
    "tv_quarto.mudar_canal('Band')\n",
    "print(tv_sala.canal)\n",
    "print(tv_quarto.canal)\n",
    "print(tv_sala.tamanho)\n",
    "print(tv_quarto.tamanho)  \n",
    "print(tv_sala.cor)\n",
    "print(tv_quarto.cor)"
   ]
  },
  {
   "cell_type": "code",
   "execution_count": null,
   "id": "54953061",
   "metadata": {},
   "outputs": [],
   "source": [
    "class TV:\n",
    "    cor = 'preta'\n",
    "    \n",
    "    def __init__(self, tamanho):           #obrigatoriamente o usuário vai ter de dizer qual é o size\n",
    "              \n",
    "        self.ligada = False\n",
    "        self.tamanho = tamanho             # o atributo self.tamanho recebe o tamanho que o usuário especificou\n",
    "        self.canal = 'Netflix'\n",
    "        self.volume = 10\n",
    "        \n",
    "    def mudar_canal(self, novo_canal):      # a função(método) mudar_canal pega o self.canal e muda o atributo para D+\n",
    "        self.canal = novo_canal\n",
    "    \n",
    "TV.cor = 'branca'    # mudo tudo de preto para branca\n",
    "tv_quarto = TV(tamanho=55)\n",
    "tv_sala = TV(tamanho=70)\n",
    "\n",
    "tv_sala.mudar_canal('Globo')\n",
    "tv_quarto.mudar_canal('Band')\n",
    "print(tv_sala.canal)\n",
    "print(tv_quarto.canal)\n",
    "print(tv_sala.tamanho)\n",
    "print(tv_quarto.tamanho)  \n",
    "print(tv_sala.cor)\n",
    "print(tv_quarto.cor)"
   ]
  },
  {
   "cell_type": "code",
   "execution_count": null,
   "id": "43e366f7",
   "metadata": {},
   "outputs": [],
   "source": [
    "class ContaCorrente():\n",
    "    \n",
    "    def __init__(self, nome, cpf):\n",
    "        self.nome = nome\n",
    "        self.cpf = cpf\n",
    "        self.saldo = 0\n",
    "        \n",
    "    def consultar_saldo(self):\n",
    "        print('Seu saldo atual é de R${:,.2f}'.format(self.saldo))\n",
    "        \n",
    "conta_Lira = ContaCorrente('Lira', '111.222.333-45')\n",
    "print(conta_Lira.saldo)\n",
    "print(conta_Lira.cpf)"
   ]
  },
  {
   "cell_type": "code",
   "execution_count": null,
   "id": "b984bfa3",
   "metadata": {},
   "outputs": [],
   "source": [
    "class ContaCorrente:\n",
    "    \n",
    "    def __init__(self, nome, cpf):\n",
    "        self.nome = nome\n",
    "        self.cpf = cpf\n",
    "        self.saldo = 0\n",
    "        \n",
    "    def consultar_saldo(self):\n",
    "        print('Seu saldo atual é de R${:,.2f}'.format(self.saldo))\n",
    "    \n",
    "    def depositar(self, valor):\n",
    "        self.saldo = self.saldo + valor\n",
    "        return valor\n",
    "    \n",
    "    def sacar(self, valor):\n",
    "        self.saldo = self.saldo - valor\n",
    "        return valor\n",
    "        \n",
    "        \n",
    "conta_Lira = ContaCorrente('Lira', '111.222.333-45')  # criação da conta\n",
    "conta_Lira.saldo = 10000\n",
    "conta_Lira.consultar_saldo()\n",
    "print(conta_Lira.cpf)"
   ]
  },
  {
   "cell_type": "code",
   "execution_count": null,
   "id": "e160435e",
   "metadata": {},
   "outputs": [],
   "source": [
    "class ContaCorrente:\n",
    "    \n",
    "    def __init__(self, nome, cpf):\n",
    "        self.nome = nome\n",
    "        self.cpf = cpf\n",
    "        self.saldo = 0\n",
    "        \n",
    "    def consultar_saldo(self):\n",
    "        print('Seu saldo atual é de R${:,.2f}'.format(self.saldo))\n",
    "    \n",
    "    def depositar(self, valor):\n",
    "        self.saldo = self.saldo + valor\n",
    "        return valor\n",
    "    \n",
    "    def sacar(self, valor):\n",
    "        if self.saldo < valor:\n",
    "            print('Você não tem saldo suficiente')\n",
    "        else:\n",
    "            self.saldo = self.saldo - valor\n",
    "            return valor\n",
    "        \n",
    "        \n",
    "conta_Lira = ContaCorrente('Lira', '111.222.333-45')  # criação da conta\n",
    "conta_Lira.consultar_saldo()\n",
    "\n",
    "# depositando\n",
    "\n",
    "conta_Lira.depositar(10000)\n",
    "conta_Lira.consultar_saldo()\n",
    "\n",
    "# sacando\n",
    "\n",
    "conta_Lira.sacar(12000)\n",
    "conta_Lira.consultar_saldo()\n"
   ]
  },
  {
   "cell_type": "code",
   "execution_count": null,
   "id": "587b3663",
   "metadata": {},
   "outputs": [],
   "source": [
    "class ContaCorrente:\n",
    "    \n",
    "    def __init__(self, nome, cpf):\n",
    "        self.nome = nome\n",
    "        self.cpf = cpf\n",
    "        self.saldo = 0\n",
    "        \n",
    "    def consultar_saldo(self):\n",
    "        print('Seu saldo atual é de R${:,.2f}'.format(self.saldo))\n",
    "    \n",
    "    def depositar(self, valor):\n",
    "        self.saldo = self.saldo + valor\n",
    "       \n",
    "    \n",
    "    def sacar(self, valor):\n",
    "        if self.saldo < valor:\n",
    "            print('Você não tem saldo suficiente')\n",
    "            self.consultar_saldo()\n",
    "        else:\n",
    "            self.saldo = self.saldo - valor\n",
    "            \n",
    "        \n",
    "        \n",
    "conta_Lira = ContaCorrente('Lira', '111.222.333-45')  # criação da conta\n",
    "conta_Lira.consultar_saldo()\n",
    "\n",
    "# depositando\n",
    "\n",
    "conta_Lira.depositar(10000)\n",
    "conta_Lira.consultar_saldo()\n",
    "\n",
    "# sacando\n",
    "\n",
    "conta_Lira.sacar(12000)\n",
    "\n"
   ]
  },
  {
   "cell_type": "code",
   "execution_count": 9,
   "id": "3b00cf04",
   "metadata": {},
   "outputs": [
    {
     "name": "stdout",
     "output_type": "stream",
     "text": [
      "Seu saldo atual é de R$0.00\n",
      "Seu saldo atual é de R$10,000.00\n",
      "Você não tem saldo suficiente\n",
      "Seu saldo atual é de R$10,000.00\n",
      "Saldo Final\n",
      "Seu saldo atual é de R$10,000.00\n"
     ]
    }
   ],
   "source": [
    "class ContaCorrente:\n",
    "    \n",
    "    def __init__(self, nome, cpf):\n",
    "        self.nome = nome\n",
    "        self.cpf = cpf\n",
    "        self.saldo = 0\n",
    "        self.limite = None  # não quero dar um valor ou coloque self.limite = 0\n",
    "        \n",
    "    def consultar_saldo(self):\n",
    "        print('Seu saldo atual é de R${:,.2f}'.format(self.saldo))\n",
    "    \n",
    "    def depositar(self, valor):\n",
    "        self.saldo = self.saldo + valor\n",
    "       \n",
    "    def limite_conta(self):\n",
    "        self.limite = - 1000  # pode entrar no especial de até 1000\n",
    "        return self.limite\n",
    "    \n",
    "    def sacar(self, valor):\n",
    "        if self.saldo - valor < self.limite_conta():\n",
    "            print('Você não tem saldo suficiente')\n",
    "            self.consultar_saldo()\n",
    "        else:\n",
    "            self.saldo = self.saldo - valor\n",
    "            \n",
    "        \n",
    "        \n",
    "conta_Lira = ContaCorrente('Lira', '111.222.333-45')  # criação da conta\n",
    "conta_Lira.consultar_saldo()\n",
    "\n",
    "# depositando\n",
    "\n",
    "conta_Lira.depositar(10000)\n",
    "conta_Lira.consultar_saldo()\n",
    "\n",
    "\n",
    "# sacando\n",
    "\n",
    "conta_Lira.sacar(100000)\n",
    "print('Saldo Final')\n",
    "conta_Lira.consultar_saldo()"
   ]
  },
  {
   "cell_type": "code",
   "execution_count": 8,
   "id": "5319b45e",
   "metadata": {},
   "outputs": [
    {
     "ename": "SyntaxError",
     "evalue": "invalid syntax (<ipython-input-8-8cc5754f05fe>, line 30)",
     "output_type": "error",
     "traceback": [
      "\u001b[1;36m  File \u001b[1;32m\"<ipython-input-8-8cc5754f05fe>\"\u001b[1;36m, line \u001b[1;32m30\u001b[0m\n\u001b[1;33m    conta_Lira = ContaCorrente('Lira', '111.222.333-45')  # criação da conta\u001b[0m\n\u001b[1;37m    ^\u001b[0m\n\u001b[1;31mSyntaxError\u001b[0m\u001b[1;31m:\u001b[0m invalid syntax\n"
     ]
    }
   ],
   "source": [
    "class ContaCorrente:\n",
    "    \n",
    "    def __init__(self, nome, cpf):\n",
    "        self.nome = nome\n",
    "        self.cpf = cpf\n",
    "        self.saldo = 0\n",
    "        self.limite = None  # não quero dar um valor ou coloque self.limite = 0\n",
    "        \n",
    "    def consultar_saldo(self):\n",
    "        print('Seu saldo atual é de R${:,.2f}'.format(self.saldo))\n",
    "    \n",
    "    def depositar(self, valor):\n",
    "        self.saldo = self.saldo + valor\n",
    "       \n",
    "    def _limite_conta(self):\n",
    "        self.limite = - 1000  # pode entrar no especial de até 1000\n",
    "        return self.limite\n",
    "    \n",
    "    def sacar(self, valor):\n",
    "        if self.saldo - valor < self._limite_conta():\n",
    "            print('Você não tem saldo suficiente')\n",
    "            self.consultar_saldo()\n",
    "        else:\n",
    "            self.saldo = self.saldo - valor\n",
    "            \n",
    "    def consultar_limite_chequeespecial(self):\n",
    "        print('Seu limite de Cheque Especial é de R${:,.2f}'.format(self._limite_conta())\n",
    "        \n",
    "        \n",
    "conta_Lira = ContaCorrente('Lira', '111.222.333-45')  # criação da conta\n",
    "conta_Lira.consultar_saldo()\n",
    "\n",
    "# depositando\n",
    "\n",
    "conta_Lira.depositar(10000)\n",
    "conta_Lira.consultar_saldo()\n",
    "\n",
    "\n",
    "# sacando\n",
    "\n",
    "conta_Lira.sacar(12000)\n",
    "print('Saldo Final')\n",
    "conta_Lira.consultar_saldo()\n",
    "conta_Lira.consultar_limite_chequeespecial()"
   ]
  },
  {
   "cell_type": "code",
   "execution_count": 11,
   "id": "efa86401",
   "metadata": {},
   "outputs": [
    {
     "ename": "SyntaxError",
     "evalue": "invalid syntax (<ipython-input-11-e2391e834e45>, line 46)",
     "output_type": "error",
     "traceback": [
      "\u001b[1;36m  File \u001b[1;32m\"<ipython-input-11-e2391e834e45>\"\u001b[1;36m, line \u001b[1;32m46\u001b[0m\n\u001b[1;33m    contaLira = ContaCorrente('Lira', '111.222.333-45', 1235, 4525)\u001b[0m\n\u001b[1;37m    ^\u001b[0m\n\u001b[1;31mSyntaxError\u001b[0m\u001b[1;31m:\u001b[0m invalid syntax\n"
     ]
    }
   ],
   "source": [
    "from datetime import datetime\n",
    "import pytz\n",
    "\n",
    "\n",
    "class ContaCorrente:\n",
    "   \n",
    "    @staticmethod\n",
    "    def _data_hora():\n",
    "        fuso_BR = pytz.timezone('Brazil/East')\n",
    "        horario_BR = datetime.now(fuso_BR)\n",
    "        return horario_BR\n",
    "                \n",
    "    def __init__(self, nome, cpf, agencia, num_conta):\n",
    "        \n",
    "        self.nome = nome\n",
    "        self.cpf = cpf\n",
    "        self.saldo = 0\n",
    "        self.limite = None\n",
    "        self.agencia = agencia\n",
    "        self.num_conta = num_conta\n",
    "        self.transacoes = []          # transação é depositar ou sacar\n",
    "        \n",
    "    def consultar_saldo(self):\n",
    "        print('Seu saldo atual é de R${:,.2f}'.format(self.saldo))\n",
    "    \n",
    "    def depositar(self, valor):\n",
    "        self.saldo = self.saldo + valor\n",
    "        self.transacoes.append((valor, self.saldo, ContaCorrente._data_hora()))#nome da classe.método\n",
    "        \n",
    "    def _limite_conta(self):\n",
    "        self.limite = - 1000  # pode entrar no especial de até 1000\n",
    "        return self.limite\n",
    "    \n",
    "    def sacar(self, valor):\n",
    "        if self.saldo - valor < self._limite_conta():\n",
    "            print('Você não tem saldo suficiente')\n",
    "            self.consultar_saldo()\n",
    "        else:\n",
    "            self.saldo = self.saldo - valor\n",
    "            self.transacoes.append((-valor, self.saldo, ContaCorrente._data_hora()))\n",
    "                \n",
    "    def consultar_limite_chequeespecial(self): \n",
    "        print(\"Seu limite de Cheque Especial é de R${:,.2f}\".format(self._limite_conta())   \n",
    " \n",
    "              \n",
    "contaLira = ContaCorrente('Lira', '111.222.333-45', 1235, 4525) \n",
    "              \n",
    "print('-'*20)\n",
    "print(conta_Lira.transacoes)"
   ]
  },
  {
   "cell_type": "code",
   "execution_count": 13,
   "id": "22750caa",
   "metadata": {},
   "outputs": [],
   "source": [
    "from datetime import datetime\n",
    "import pytz\n",
    "from random import randint\n",
    "\n",
    "\n",
    "class ContaCorrente:\n",
    "    \n",
    "\n",
    "    @staticmethod\n",
    "    def _data_hora():\n",
    "        fuso_BR = pytz.timezone('Brazil/East')\n",
    "        horario_BR = datetime.now(fuso_BR)\n",
    "        return horario_BR.strftime('%d/%m/%Y %H:%M:%S')\n",
    "\n",
    "    def __init__(self, nome, cpf, agencia, num_conta):\n",
    "        self.nome = nome\n",
    "        self.cpf = cpf\n",
    "        self._saldo = 0\n",
    "        self._limite = None\n",
    "        self.agencia = agencia\n",
    "        self.num_conta = num_conta\n",
    "        self._transacoes = []\n",
    "       \n",
    "\n",
    "    def consultar_saldo(self):\n",
    "        print('Seu saldo atual é de R${:,.2f}'.format(self._saldo))\n",
    "\n",
    "    def depositar(self, valor):\n",
    "        self._saldo += valor\n",
    "        self._transacoes.append((valor, self._saldo, ContaCorrente._data_hora()))\n",
    "\n",
    "    def _limite_conta(self):\n",
    "        self._limite = -1000\n",
    "        return self._limite\n",
    "\n",
    "    def sacar_dinheiro(self, valor):\n",
    "        if self._saldo - valor < self._limite_conta():\n",
    "            print('Você não tem saldo suficiente para sacar esse valor')\n",
    "            self.consultar_saldo()\n",
    "        else:\n",
    "            self._saldo -= valor\n",
    "            self._transacoes.append((-valor, self._saldo, ContaCorrente._data_hora()))\n",
    "\n",
    "    def consultar_limite_chequeespecial(self):\n",
    "        print('Seu limite de Cheque Especial é de R${:,.2f}'.format(self._limite_conta()))\n",
    "\n",
    "    def consultar_historico_transacoes(self):\n",
    "        print('Histórico de Transações:')\n",
    "        print('Valor, Saldo, Data e Hora')\n",
    "        for transacao in self._transacoes:\n",
    "            print(transacao)\n",
    "\n",
    "    "
   ]
  },
  {
   "cell_type": "code",
   "execution_count": 14,
   "id": "12675b26",
   "metadata": {},
   "outputs": [],
   "source": [
    "conta_Lira = ContaCorrente('Lira', '111.222.333-45', 1234, 45657)"
   ]
  },
  {
   "cell_type": "code",
   "execution_count": 16,
   "id": "c15b5da2",
   "metadata": {},
   "outputs": [
    {
     "name": "stdout",
     "output_type": "stream",
     "text": [
      "Seu limite de Cheque Especial é de R$-1,000.00\n"
     ]
    }
   ],
   "source": [
    "conta_Lira.consultar_limite_chequeespecial()"
   ]
  },
  {
   "cell_type": "code",
   "execution_count": 18,
   "id": "1bc61f28",
   "metadata": {},
   "outputs": [],
   "source": [
    "conta_Lira.depositar(10000)"
   ]
  },
  {
   "cell_type": "code",
   "execution_count": 22,
   "id": "5d5dcd90",
   "metadata": {},
   "outputs": [],
   "source": [
    "conta_Lira.sacar_dinheiro(11000)"
   ]
  },
  {
   "cell_type": "code",
   "execution_count": 24,
   "id": "ca46e9ab",
   "metadata": {},
   "outputs": [],
   "source": [
    "conta_Lira.depositar(55000)"
   ]
  },
  {
   "cell_type": "code",
   "execution_count": 25,
   "id": "ea886f63",
   "metadata": {},
   "outputs": [
    {
     "name": "stdout",
     "output_type": "stream",
     "text": [
      "Histórico de Transações:\n",
      "Valor, Saldo, Data e Hora\n",
      "(10000, 10000, '14/11/2021 11:21:26')\n",
      "(-11000, -1000, '14/11/2021 11:24:42')\n",
      "(55000, 54000, '14/11/2021 11:25:09')\n"
     ]
    }
   ],
   "source": [
    "conta_Lira.consultar_historico_transacoes()"
   ]
  },
  {
   "cell_type": "code",
   "execution_count": null,
   "id": "020296d1",
   "metadata": {},
   "outputs": [],
   "source": []
  }
 ],
 "metadata": {
  "kernelspec": {
   "display_name": "Python 3",
   "language": "python",
   "name": "python3"
  },
  "language_info": {
   "codemirror_mode": {
    "name": "ipython",
    "version": 3
   },
   "file_extension": ".py",
   "mimetype": "text/x-python",
   "name": "python",
   "nbconvert_exporter": "python",
   "pygments_lexer": "ipython3",
   "version": "3.8.8"
  }
 },
 "nbformat": 4,
 "nbformat_minor": 5
}
