{
 "cells": [
  {
   "cell_type": "code",
   "execution_count": 1,
   "id": "105c1bc1",
   "metadata": {},
   "outputs": [],
   "source": [
    "# criando uma tupla\n",
    "\n",
    "tupla = (1,2,3,4,5,'Daniel')\n",
    "\n",
    "lista = [1,2,3,4,5]"
   ]
  },
  {
   "cell_type": "code",
   "execution_count": 2,
   "id": "c34ce00f",
   "metadata": {},
   "outputs": [
    {
     "name": "stdout",
     "output_type": "stream",
     "text": [
      "1\n"
     ]
    }
   ],
   "source": [
    "lista[0]\n",
    "print(lista[0])"
   ]
  },
  {
   "cell_type": "code",
   "execution_count": 3,
   "id": "3a749c11",
   "metadata": {},
   "outputs": [
    {
     "name": "stdout",
     "output_type": "stream",
     "text": [
      "25\n"
     ]
    }
   ],
   "source": [
    "lista[0]=25\n",
    "print(lista[0])"
   ]
  },
  {
   "cell_type": "code",
   "execution_count": 4,
   "id": "daf47dfd",
   "metadata": {},
   "outputs": [
    {
     "ename": "TypeError",
     "evalue": "'tuple' object does not support item assignment",
     "output_type": "error",
     "traceback": [
      "\u001b[1;31m---------------------------------------------------------------------------\u001b[0m",
      "\u001b[1;31mTypeError\u001b[0m                                 Traceback (most recent call last)",
      "\u001b[1;32mC:\\Users\\ALEXAN~1\\AppData\\Local\\Temp/ipykernel_15984/3198434893.py\u001b[0m in \u001b[0;36m<module>\u001b[1;34m\u001b[0m\n\u001b[1;32m----> 1\u001b[1;33m \u001b[0mtupla\u001b[0m\u001b[1;33m[\u001b[0m\u001b[1;36m0\u001b[0m\u001b[1;33m]\u001b[0m\u001b[1;33m=\u001b[0m\u001b[1;36m25\u001b[0m\u001b[1;33m\u001b[0m\u001b[1;33m\u001b[0m\u001b[0m\n\u001b[0m\u001b[0;32m      2\u001b[0m \u001b[0mprint\u001b[0m\u001b[1;33m(\u001b[0m\u001b[0mtupla\u001b[0m\u001b[1;33m[\u001b[0m\u001b[1;36m0\u001b[0m\u001b[1;33m]\u001b[0m\u001b[1;33m)\u001b[0m\u001b[1;33m\u001b[0m\u001b[1;33m\u001b[0m\u001b[0m\n",
      "\u001b[1;31mTypeError\u001b[0m: 'tuple' object does not support item assignment"
     ]
    }
   ],
   "source": [
    "tupla[0]=25   # a tupla não é mutável\n",
    "print(tupla[0])"
   ]
  },
  {
   "cell_type": "code",
   "execution_count": 5,
   "id": "21c8c92c",
   "metadata": {},
   "outputs": [
    {
     "name": "stdout",
     "output_type": "stream",
     "text": [
      "1\n"
     ]
    }
   ],
   "source": [
    "print(tupla[0])"
   ]
  },
  {
   "cell_type": "code",
   "execution_count": 6,
   "id": "4fa32c12",
   "metadata": {},
   "outputs": [
    {
     "name": "stdout",
     "output_type": "stream",
     "text": [
      "[25, 2, 3, 4, 5, 6]\n"
     ]
    }
   ],
   "source": [
    "lista.append(6)\n",
    "print(lista)"
   ]
  },
  {
   "cell_type": "code",
   "execution_count": 7,
   "id": "2d63ebc5",
   "metadata": {},
   "outputs": [
    {
     "ename": "AttributeError",
     "evalue": "'tuple' object has no attribute 'append'",
     "output_type": "error",
     "traceback": [
      "\u001b[1;31m---------------------------------------------------------------------------\u001b[0m",
      "\u001b[1;31mAttributeError\u001b[0m                            Traceback (most recent call last)",
      "\u001b[1;32mC:\\Users\\ALEXAN~1\\AppData\\Local\\Temp/ipykernel_15984/121515706.py\u001b[0m in \u001b[0;36m<module>\u001b[1;34m\u001b[0m\n\u001b[1;32m----> 1\u001b[1;33m \u001b[0mtupla\u001b[0m\u001b[1;33m.\u001b[0m\u001b[0mappend\u001b[0m\u001b[1;33m(\u001b[0m\u001b[1;36m6\u001b[0m\u001b[1;33m)\u001b[0m\u001b[1;33m\u001b[0m\u001b[1;33m\u001b[0m\u001b[0m\n\u001b[0m",
      "\u001b[1;31mAttributeError\u001b[0m: 'tuple' object has no attribute 'append'"
     ]
    }
   ],
   "source": [
    "tupla.append(6)"
   ]
  },
  {
   "cell_type": "code",
   "execution_count": 8,
   "id": "e5ba545a",
   "metadata": {},
   "outputs": [
    {
     "data": {
      "text/plain": [
       "['__add__',\n",
       " '__class__',\n",
       " '__class_getitem__',\n",
       " '__contains__',\n",
       " '__delattr__',\n",
       " '__dir__',\n",
       " '__doc__',\n",
       " '__eq__',\n",
       " '__format__',\n",
       " '__ge__',\n",
       " '__getattribute__',\n",
       " '__getitem__',\n",
       " '__getnewargs__',\n",
       " '__gt__',\n",
       " '__hash__',\n",
       " '__init__',\n",
       " '__init_subclass__',\n",
       " '__iter__',\n",
       " '__le__',\n",
       " '__len__',\n",
       " '__lt__',\n",
       " '__mul__',\n",
       " '__ne__',\n",
       " '__new__',\n",
       " '__reduce__',\n",
       " '__reduce_ex__',\n",
       " '__repr__',\n",
       " '__rmul__',\n",
       " '__setattr__',\n",
       " '__sizeof__',\n",
       " '__str__',\n",
       " '__subclasshook__',\n",
       " 'count',\n",
       " 'index']"
      ]
     },
     "execution_count": 8,
     "metadata": {},
     "output_type": "execute_result"
    }
   ],
   "source": [
    "dir(tuple)"
   ]
  },
  {
   "cell_type": "code",
   "execution_count": 9,
   "id": "8150e8ab",
   "metadata": {},
   "outputs": [
    {
     "data": {
      "text/plain": [
       "['__add__',\n",
       " '__class__',\n",
       " '__class_getitem__',\n",
       " '__contains__',\n",
       " '__delattr__',\n",
       " '__delitem__',\n",
       " '__dir__',\n",
       " '__doc__',\n",
       " '__eq__',\n",
       " '__format__',\n",
       " '__ge__',\n",
       " '__getattribute__',\n",
       " '__getitem__',\n",
       " '__gt__',\n",
       " '__hash__',\n",
       " '__iadd__',\n",
       " '__imul__',\n",
       " '__init__',\n",
       " '__init_subclass__',\n",
       " '__iter__',\n",
       " '__le__',\n",
       " '__len__',\n",
       " '__lt__',\n",
       " '__mul__',\n",
       " '__ne__',\n",
       " '__new__',\n",
       " '__reduce__',\n",
       " '__reduce_ex__',\n",
       " '__repr__',\n",
       " '__reversed__',\n",
       " '__rmul__',\n",
       " '__setattr__',\n",
       " '__setitem__',\n",
       " '__sizeof__',\n",
       " '__str__',\n",
       " '__subclasshook__',\n",
       " 'append',\n",
       " 'clear',\n",
       " 'copy',\n",
       " 'count',\n",
       " 'extend',\n",
       " 'index',\n",
       " 'insert',\n",
       " 'pop',\n",
       " 'remove',\n",
       " 'reverse',\n",
       " 'sort']"
      ]
     },
     "execution_count": 9,
     "metadata": {},
     "output_type": "execute_result"
    }
   ],
   "source": [
    "dir(list)"
   ]
  },
  {
   "cell_type": "code",
   "execution_count": 11,
   "id": "c0ea2f41",
   "metadata": {},
   "outputs": [
    {
     "name": "stdout",
     "output_type": "stream",
     "text": [
      "[('Daniel', '123.456.789-00', '84.567.287-9')]\n"
     ]
    }
   ],
   "source": [
    "cliente = ('Daniel', '123.456.789-00', '84.567.287-9')\n",
    "clientes = []\n",
    "clientes.append(cliente) # na minha lista vazia clientes eu vou acrescentar cliente\n",
    "print(clientes)"
   ]
  },
  {
   "cell_type": "code",
   "execution_count": 15,
   "id": "6396556d",
   "metadata": {},
   "outputs": [
    {
     "name": "stdout",
     "output_type": "stream",
     "text": [
      "[('Daniel', '123.456.789-00', '84.567.287-9'), ('Lira', '987.654.312-11', '97.827.654-6'), ('Lira', '987.654.312-11', '97.827.654-6'), ('Lira', '987.654.312-11', '97.827.654-6'), ('Lira', '987.654.312-11', '97.827.654-6')]\n"
     ]
    }
   ],
   "source": [
    "cliente = ('Lira', '987.654.312-11', '97.827.654-6')\n",
    "clientes.append(cliente)\n",
    "print(clientes)"
   ]
  },
  {
   "cell_type": "code",
   "execution_count": 17,
   "id": "a254c49c",
   "metadata": {},
   "outputs": [
    {
     "data": {
      "text/plain": [
       "('Lira', '987.654.312-11', '97.827.654-6')"
      ]
     },
     "execution_count": 17,
     "metadata": {},
     "output_type": "execute_result"
    }
   ],
   "source": [
    "clientes[1]"
   ]
  },
  {
   "cell_type": "code",
   "execution_count": 18,
   "id": "617ff792",
   "metadata": {},
   "outputs": [
    {
     "data": {
      "text/plain": [
       "('Daniel', '123.456.789-00', '84.567.287-9')"
      ]
     },
     "execution_count": 18,
     "metadata": {},
     "output_type": "execute_result"
    }
   ],
   "source": [
    "clientes[0]"
   ]
  },
  {
   "cell_type": "code",
   "execution_count": 19,
   "id": "b7c297ff",
   "metadata": {},
   "outputs": [
    {
     "name": "stdout",
     "output_type": "stream",
     "text": [
      "dict_keys([('Brasil', 'Rio de Janeiro'), ('Brasil', 'São Paulo'), ('Brasil', 'Minas Gerais')])\n",
      "dict_values(['Rio de Janeiro', 'São Paulo', 'Belo Horizonte'])\n"
     ]
    }
   ],
   "source": [
    "capitais = {\n",
    "    ('Brasil', 'Rio de Janeiro'):'Rio de Janeiro',    # chave:valor\n",
    "    ('Brasil', 'São Paulo'): 'São Paulo',            # chave:valor\n",
    "    ('Brasil','Minas Gerais'): 'Belo Horizonte'        # chave:valor\n",
    "}\n",
    "\n",
    "print(capitais.keys())\n",
    "print(capitais.values())"
   ]
  },
  {
   "cell_type": "code",
   "execution_count": 21,
   "id": "04e0057f",
   "metadata": {},
   "outputs": [
    {
     "name": "stdout",
     "output_type": "stream",
     "text": [
      "2\n",
      "2\n"
     ]
    }
   ],
   "source": [
    "# médotos de Tuplas\n",
    "\n",
    "tupla = (1,2,3,4,5,12,1,3,4,5)\n",
    "print(tupla.index(3))  # dá a posição em que o número 3 está na tupla em índice\n",
    "print(tupla.count(3))   # conta quantas vezes o número 3 aparece na tupla"
   ]
  },
  {
   "cell_type": "code",
   "execution_count": 25,
   "id": "f060f2f9",
   "metadata": {},
   "outputs": [],
   "source": [
    "lista_materiais = []\n",
    "\n",
    "def cadastrarmateriais(nome, codigo, unidade, quantidade):\n",
    "    tupla = (nome, codigo, unidade, quantidade)\n",
    "    lista_materiais.append(tupla)\n",
    "    return lista_materiais"
   ]
  },
  {
   "cell_type": "code",
   "execution_count": 29,
   "id": "a0670d2b",
   "metadata": {},
   "outputs": [
    {
     "ename": "NameError",
     "evalue": "name 'cadastrarmateriais' is not defined",
     "output_type": "error",
     "traceback": [
      "\u001b[1;31m---------------------------------------------------------------------------\u001b[0m",
      "\u001b[1;31mNameError\u001b[0m                                 Traceback (most recent call last)",
      "\u001b[1;32mC:\\Users\\ALEXAN~1\\AppData\\Local\\Temp/ipykernel_15984/377138122.py\u001b[0m in \u001b[0;36m<module>\u001b[1;34m\u001b[0m\n\u001b[1;32m----> 1\u001b[1;33m \u001b[0mcadastrarmateriais\u001b[0m\u001b[1;33m(\u001b[0m\u001b[1;34m'Borracha'\u001b[0m\u001b[1;33m,\u001b[0m \u001b[1;36m1\u001b[0m\u001b[1;33m,\u001b[0m \u001b[1;34m'un.'\u001b[0m\u001b[1;33m,\u001b[0m \u001b[1;36m500\u001b[0m\u001b[1;33m)\u001b[0m\u001b[1;33m\u001b[0m\u001b[1;33m\u001b[0m\u001b[0m\n\u001b[0m\u001b[0;32m      2\u001b[0m \u001b[0mprint\u001b[0m\u001b[1;33m(\u001b[0m\u001b[0mlista_materiais\u001b[0m\u001b[1;33m)\u001b[0m\u001b[1;33m\u001b[0m\u001b[1;33m\u001b[0m\u001b[0m\n",
      "\u001b[1;31mNameError\u001b[0m: name 'cadastrarmateriais' is not defined"
     ]
    }
   ],
   "source": [
    "cadastrarmateriais('Borracha', 1, 'un.', 500)\n",
    "print(lista_materiais)"
   ]
  },
  {
   "cell_type": "code",
   "execution_count": null,
   "id": "1c7738ca",
   "metadata": {},
   "outputs": [],
   "source": []
  }
 ],
 "metadata": {
  "kernelspec": {
   "display_name": "Python 3 (ipykernel)",
   "language": "python",
   "name": "python3"
  },
  "language_info": {
   "codemirror_mode": {
    "name": "ipython",
    "version": 3
   },
   "file_extension": ".py",
   "mimetype": "text/x-python",
   "name": "python",
   "nbconvert_exporter": "python",
   "pygments_lexer": "ipython3",
   "version": "3.9.7"
  }
 },
 "nbformat": 4,
 "nbformat_minor": 5
}
