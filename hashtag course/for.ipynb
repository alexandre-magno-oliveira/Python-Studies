{
 "cells": [
  {
   "cell_type": "markdown",
   "id": "b0b2061b",
   "metadata": {},
   "source": [
    "# Estrutura de Repetição: For"
   ]
  },
  {
   "cell_type": "code",
   "execution_count": 4,
   "id": "8121787d",
   "metadata": {},
   "outputs": [
    {
     "name": "stdout",
     "output_type": "stream",
     "text": [
      "lira\n",
      "lira\n",
      "lira\n",
      "lira\n",
      "lira\n"
     ]
    }
   ],
   "source": [
    "# for i in range(n):\n",
    "#    repetir código n vezes\n",
    "    \n",
    "for i in range(5):\n",
    "    print('lira')"
   ]
  },
  {
   "cell_type": "code",
   "execution_count": 5,
   "id": "0c767f51",
   "metadata": {},
   "outputs": [
    {
     "name": "stdout",
     "output_type": "stream",
     "text": [
      "0\n",
      "1\n",
      "2\n",
      "3\n",
      "4\n"
     ]
    }
   ],
   "source": [
    "for i in range(5):\n",
    "    print(i)"
   ]
  },
  {
   "cell_type": "code",
   "execution_count": 6,
   "id": "bb3c07d5",
   "metadata": {},
   "outputs": [
    {
     "name": "stdout",
     "output_type": "stream",
     "text": [
      "100 unidades produzidas de coca\n",
      "100 unidades produzidas de coca\n",
      "100 unidades produzidas de coca\n",
      "100 unidades produzidas de coca\n",
      "100 unidades produzidas de coca\n"
     ]
    }
   ],
   "source": [
    "produtos = ['coca', 'pepsi', 'guarana', 'sprite', 'fanta']\n",
    "producao = [15000, 12000, 13000, 5000, 250]\n",
    "\n",
    "for i in range(5):\n",
    "    print('{} unidades produzidas de {}'.format('100', 'coca'))"
   ]
  },
  {
   "cell_type": "code",
   "execution_count": 7,
   "id": "2ea9ffdc",
   "metadata": {},
   "outputs": [
    {
     "name": "stdout",
     "output_type": "stream",
     "text": [
      "15000 unidades produzidas de coca\n",
      "12000 unidades produzidas de pepsi\n",
      "13000 unidades produzidas de guarana\n",
      "5000 unidades produzidas de sprite\n",
      "250 unidades produzidas de fanta\n"
     ]
    }
   ],
   "source": [
    "produtos = ['coca', 'pepsi', 'guarana', 'sprite', 'fanta']\n",
    "producao = [15000, 12000, 13000, 5000, 250]\n",
    "\n",
    "for i in range(5):\n",
    "    print('{} unidades produzidas de {}'.format(producao[i], produtos[i]))"
   ]
  },
  {
   "cell_type": "code",
   "execution_count": 8,
   "id": "17354820",
   "metadata": {},
   "outputs": [
    {
     "name": "stdout",
     "output_type": "stream",
     "text": [
      "15000 unidades produzidas de coca\n",
      "12000 unidades produzidas de pepsi\n",
      "13000 unidades produzidas de guarana\n",
      "5000 unidades produzidas de sprite\n",
      "250 unidades produzidas de fanta\n"
     ]
    }
   ],
   "source": [
    "produtos = ['coca', 'pepsi', 'guarana', 'sprite', 'fanta']\n",
    "producao = [15000, 12000, 13000, 5000, 250]\n",
    "\n",
    "tamanho = len(produtos)\n",
    "\n",
    "for i in range(tamanho):\n",
    "    print('{} unidades produzidas de {}'.format(producao[i], produtos[i]))"
   ]
  },
  {
   "cell_type": "markdown",
   "id": "fe8d906d",
   "metadata": {},
   "source": [
    "# For each"
   ]
  },
  {
   "cell_type": "code",
   "execution_count": 10,
   "id": "3f3ac93c",
   "metadata": {},
   "outputs": [],
   "source": [
    "# for i in range(5):\n",
    "#    print(i)\n",
    "    \n",
    "# range(5) é na verdade uma lista do tipo: [0, 1, 2, 3, 4]"
   ]
  },
  {
   "cell_type": "code",
   "execution_count": 11,
   "id": "22c81d47",
   "metadata": {},
   "outputs": [
    {
     "name": "stdout",
     "output_type": "stream",
     "text": [
      "coca\n",
      "pepsi\n",
      "guarana\n",
      "sprite\n",
      "fanta\n"
     ]
    }
   ],
   "source": [
    "produtos = ['coca', 'pepsi', 'guarana', 'sprite', 'fanta']\n",
    "texto = 'lira@gmail.com'\n",
    "\n",
    "for i in range(5):\n",
    "    print(produtos[i])"
   ]
  },
  {
   "cell_type": "code",
   "execution_count": 12,
   "id": "4e62644a",
   "metadata": {},
   "outputs": [
    {
     "name": "stdout",
     "output_type": "stream",
     "text": [
      "coca\n",
      "pepsi\n",
      "guarana\n",
      "sprite\n",
      "fanta\n"
     ]
    }
   ],
   "source": [
    "produtos = ['coca', 'pepsi', 'guarana', 'sprite', 'fanta']\n",
    "texto = 'lira@gmail.com'\n",
    "\n",
    "for item in produtos:\n",
    "    print(item)"
   ]
  },
  {
   "cell_type": "code",
   "execution_count": 13,
   "id": "6d5b4259",
   "metadata": {},
   "outputs": [
    {
     "name": "stdout",
     "output_type": "stream",
     "text": [
      "coca\n",
      "pepsi\n",
      "guarana\n",
      "sprite\n",
      "fanta\n"
     ]
    }
   ],
   "source": [
    "produtos = ['coca', 'pepsi', 'guarana', 'sprite', 'fanta']\n",
    "texto = 'lira@gmail.com'\n",
    "\n",
    "for produto in produtos:\n",
    "    print(produto)"
   ]
  },
  {
   "cell_type": "code",
   "execution_count": 14,
   "id": "f685aca6",
   "metadata": {},
   "outputs": [
    {
     "name": "stdout",
     "output_type": "stream",
     "text": [
      "O produto é coca\n",
      "O produto é pepsi\n",
      "O produto é guarana\n",
      "O produto é sprite\n",
      "O produto é fanta\n"
     ]
    }
   ],
   "source": [
    "produtos = ['coca', 'pepsi', 'guarana', 'sprite', 'fanta']\n",
    "texto = 'lira@gmail.com'\n",
    "\n",
    "for produto in produtos:\n",
    "    print('O produto é {}'.format(produto))"
   ]
  },
  {
   "cell_type": "code",
   "execution_count": 15,
   "id": "93b5db0c",
   "metadata": {},
   "outputs": [
    {
     "name": "stdout",
     "output_type": "stream",
     "text": [
      "l\n",
      "i\n",
      "r\n",
      "a\n",
      "@\n",
      "g\n",
      "m\n",
      "a\n",
      "i\n",
      "l\n",
      ".\n",
      "c\n",
      "o\n",
      "m\n"
     ]
    }
   ],
   "source": [
    "produtos = ['coca', 'pepsi', 'guarana', 'sprite', 'fanta']\n",
    "texto = 'lira@gmail.com'\n",
    "\n",
    "for ch in texto:\n",
    "    print(ch)"
   ]
  },
  {
   "cell_type": "markdown",
   "id": "512d224c",
   "metadata": {},
   "source": [
    "# For + If"
   ]
  },
  {
   "cell_type": "code",
   "execution_count": 1,
   "id": "083d2e7b",
   "metadata": {},
   "outputs": [
    {
     "data": {
      "text/plain": [
       "' for item in lista:\\n    if condição:\\n        faça alguma coisa\\n    else:\\n        outra coisa\\n        \\n'"
      ]
     },
     "execution_count": 1,
     "metadata": {},
     "output_type": "execute_result"
    }
   ],
   "source": [
    "''' for item in lista:\n",
    "    if condição:\n",
    "        faça alguma coisa\n",
    "    else:\n",
    "        outra coisa\n",
    "        \n",
    "'''"
   ]
  },
  {
   "cell_type": "code",
   "execution_count": 2,
   "id": "729b05d4",
   "metadata": {},
   "outputs": [
    {
     "name": "stdout",
     "output_type": "stream",
     "text": [
      "1200\n",
      "1500\n",
      "1900\n",
      "2750\n",
      "1100\n",
      "1111\n"
     ]
    }
   ],
   "source": [
    "vendas = [1200, 300, 800, 1500, 1900, 2750, 400, 20, 23, 70, 90, 80, 1100, 999, 900, 880, 870, 50, 1111, 120, 300, 450, 800]\n",
    "meta = 1000\n",
    "\n",
    "for venda in vendas:\n",
    "    if venda >= meta:\n",
    "        print(venda)"
   ]
  },
  {
   "cell_type": "code",
   "execution_count": 4,
   "id": "052a8c28",
   "metadata": {},
   "outputs": [
    {
     "name": "stdout",
     "output_type": "stream",
     "text": [
      "6\n"
     ]
    }
   ],
   "source": [
    "vendas = [1200, 300, 800, 1500, 1900, 2750, 400, 20, 23, 70, 90, 80, 1100, 999, 900, 880, 870, 50, 1111, 120, 300, 450, 800]\n",
    "meta = 1000\n",
    "\n",
    "qtde_bateu_meta = 0\n",
    "\n",
    "for venda in vendas:\n",
    "    if venda >= meta:\n",
    "        qtde_bateu_meta += 1\n",
    "        \n",
    "print(qtde_bateu_meta)"
   ]
  },
  {
   "cell_type": "code",
   "execution_count": 5,
   "id": "f77dcfec",
   "metadata": {},
   "outputs": [
    {
     "name": "stdout",
     "output_type": "stream",
     "text": [
      "O percentual de pessoas que bateram a meta foi de 0.2608695652173913\n"
     ]
    }
   ],
   "source": [
    "vendas = [1200, 300, 800, 1500, 1900, 2750, 400, 20, 23, 70, 90, 80, 1100, 999, 900, 880, 870, 50, 1111, 120, 300, 450, 800]\n",
    "meta = 1000\n",
    "\n",
    "qtde_bateu_meta = 0\n",
    "\n",
    "for venda in vendas:\n",
    "    if venda >= meta:\n",
    "        qtde_bateu_meta += 1\n",
    "\n",
    "qtde_funcionarios = len(vendas)\n",
    "\n",
    "print('O percentual de pessoas que bateram a meta foi de {}'.format(qtde_bateu_meta / qtde_funcionarios))"
   ]
  },
  {
   "cell_type": "code",
   "execution_count": 6,
   "id": "8ff2a91b",
   "metadata": {},
   "outputs": [
    {
     "name": "stdout",
     "output_type": "stream",
     "text": [
      "O percentual de pessoas que bateram a meta foi de 26%\n"
     ]
    }
   ],
   "source": [
    "vendas = [1200, 300, 800, 1500, 1900, 2750, 400, 20, 23, 70, 90, 80, 1100, 999, 900, 880, 870, 50, 1111, 120, 300, 450, 800]\n",
    "meta = 1000\n",
    "\n",
    "qtde_bateu_meta = 0\n",
    "\n",
    "for venda in vendas:\n",
    "    if venda >= meta:\n",
    "        qtde_bateu_meta += 1\n",
    "\n",
    "qtde_funcionarios = len(vendas)\n",
    "\n",
    "print('O percentual de pessoas que bateram a meta foi de {:.0%}'.format(qtde_bateu_meta / qtde_funcionarios))"
   ]
  },
  {
   "cell_type": "code",
   "execution_count": 7,
   "id": "0cfcbbd7",
   "metadata": {},
   "outputs": [
    {
     "name": "stdout",
     "output_type": "stream",
     "text": [
      "O percentual de pessoas que bateram a meta foi de 26.1%\n"
     ]
    }
   ],
   "source": [
    "vendas = [1200, 300, 800, 1500, 1900, 2750, 400, 20, 23, 70, 90, 80, 1100, 999, 900, 880, 870, 50, 1111, 120, 300, 450, 800]\n",
    "meta = 1000\n",
    "\n",
    "qtde_bateu_meta = 0\n",
    "\n",
    "for venda in vendas:\n",
    "    if venda >= meta:\n",
    "        qtde_bateu_meta += 1\n",
    "\n",
    "qtde_funcionarios = len(vendas)\n",
    "\n",
    "print('O percentual de pessoas que bateram a meta foi de {:.1%}'.format(qtde_bateu_meta / qtde_funcionarios))"
   ]
  },
  {
   "cell_type": "markdown",
   "id": "2b03e1dd",
   "metadata": {},
   "source": [
    "## enumerate permite que você percorra uma lista e ao mesmo tempo tenha em uma variável o índice daquele item."
   ]
  },
  {
   "cell_type": "code",
   "execution_count": 8,
   "id": "89dc4293",
   "metadata": {},
   "outputs": [
    {
     "name": "stdout",
     "output_type": "stream",
     "text": [
      "Maria\n",
      "José\n",
      "Antônio\n",
      "João\n",
      "Francisco\n",
      "Ana\n",
      "Luiz\n",
      "Paulo\n",
      "Carlos\n",
      "Manoel\n",
      "Pedro\n",
      "Francisca\n",
      "Marcos\n",
      "Raimundo\n",
      "Sebastião\n",
      "Antônia\n",
      "Marcelo\n",
      "Jorge\n",
      "Márcia\n",
      "Geraldo\n",
      "Adriana\n",
      "Sandra\n",
      "Luis\n"
     ]
    }
   ],
   "source": [
    "funcionarios = ['Maria', 'José', 'Antônio', 'João', 'Francisco', 'Ana', 'Luiz', 'Paulo', 'Carlos', 'Manoel', 'Pedro', 'Francisca', 'Marcos', 'Raimundo', 'Sebastião', 'Antônia', 'Marcelo', 'Jorge', 'Márcia', 'Geraldo', 'Adriana', 'Sandra', 'Luis']\n",
    "for funcionario in funcionarios:\n",
    "    print(funcionario)"
   ]
  },
  {
   "cell_type": "markdown",
   "id": "2e92fd9f",
   "metadata": {},
   "source": [
    "''' for i, item i enumerate(lista):\n",
    "        resto do código\n",
    "        \n",
    "        '''"
   ]
  },
  {
   "cell_type": "code",
   "execution_count": 10,
   "id": "92746a21",
   "metadata": {},
   "outputs": [
    {
     "name": "stdout",
     "output_type": "stream",
     "text": [
      "0 é o funcionário Maria\n",
      "1 é o funcionário José\n",
      "2 é o funcionário Antônio\n",
      "3 é o funcionário João\n",
      "4 é o funcionário Francisco\n",
      "5 é o funcionário Ana\n",
      "6 é o funcionário Luiz\n",
      "7 é o funcionário Paulo\n",
      "8 é o funcionário Carlos\n",
      "9 é o funcionário Manoel\n",
      "10 é o funcionário Pedro\n",
      "11 é o funcionário Francisca\n",
      "12 é o funcionário Marcos\n",
      "13 é o funcionário Raimundo\n",
      "14 é o funcionário Sebastião\n",
      "15 é o funcionário Antônia\n",
      "16 é o funcionário Marcelo\n",
      "17 é o funcionário Jorge\n",
      "18 é o funcionário Márcia\n",
      "19 é o funcionário Geraldo\n",
      "20 é o funcionário Adriana\n",
      "21 é o funcionário Sandra\n",
      "22 é o funcionário Luis\n"
     ]
    }
   ],
   "source": [
    "funcionarios = ['Maria', 'José', 'Antônio', 'João', 'Francisco', 'Ana', 'Luiz', 'Paulo', 'Carlos', 'Manoel', 'Pedro', 'Francisca', 'Marcos', 'Raimundo', 'Sebastião', 'Antônia', 'Marcelo', 'Jorge', 'Márcia', 'Geraldo', 'Adriana', 'Sandra', 'Luis']\n",
    "for i, funcionario in enumerate(funcionarios):\n",
    "    print('{} é o funcionário {}'.format(i, funcionario))"
   ]
  },
  {
   "cell_type": "code",
   "execution_count": 14,
   "id": "61241069",
   "metadata": {},
   "outputs": [
    {
     "name": "stdout",
     "output_type": "stream",
     "text": [
      "1 é o funcionário Maria\n",
      "2 é o funcionário José\n",
      "3 é o funcionário Antônio\n",
      "4 é o funcionário João\n",
      "5 é o funcionário Francisco\n",
      "6 é o funcionário Ana\n",
      "7 é o funcionário Luiz\n",
      "8 é o funcionário Paulo\n",
      "9 é o funcionário Carlos\n",
      "10 é o funcionário Manoel\n",
      "11 é o funcionário Pedro\n",
      "12 é o funcionário Francisca\n",
      "13 é o funcionário Marcos\n",
      "14 é o funcionário Raimundo\n",
      "15 é o funcionário Sebastião\n",
      "16 é o funcionário Antônia\n",
      "17 é o funcionário Marcelo\n",
      "18 é o funcionário Jorge\n",
      "19 é o funcionário Márcia\n",
      "20 é o funcionário Geraldo\n",
      "21 é o funcionário Adriana\n",
      "22 é o funcionário Sandra\n",
      "23 é o funcionário Luis\n"
     ]
    }
   ],
   "source": [
    "funcionarios = ['Maria', 'José', 'Antônio', 'João', 'Francisco', 'Ana', 'Luiz', 'Paulo', 'Carlos', 'Manoel', 'Pedro', 'Francisca', 'Marcos', 'Raimundo', 'Sebastião', 'Antônia', 'Marcelo', 'Jorge', 'Márcia', 'Geraldo', 'Adriana', 'Sandra', 'Luis']\n",
    "for i, funcionario in enumerate(funcionarios):\n",
    "    i += 1\n",
    "    print('{} é o funcionário {}'.format(i, funcionario))"
   ]
  },
  {
   "cell_type": "code",
   "execution_count": 15,
   "id": "61320f3b",
   "metadata": {},
   "outputs": [
    {
     "name": "stdout",
     "output_type": "stream",
     "text": [
      "1200\n",
      "300\n",
      "800\n",
      "1500\n",
      "1900\n",
      "2750\n",
      "400\n",
      "20\n",
      "23\n",
      "70\n",
      "90\n",
      "80\n",
      "1100\n",
      "999\n",
      "900\n",
      "880\n",
      "870\n",
      "50\n",
      "1111\n",
      "120\n",
      "300\n",
      "450\n",
      "800\n"
     ]
    }
   ],
   "source": [
    "estoque = [1200, 300, 800, 1500, 1900, 2750, 400, 20, 23, 70, 90, 80, 1100, 999, 900, 880, 870, 50, 1111, 120, 300, 450, 800]\n",
    "produtos = ['coca', 'pepsi', 'guarana', 'skol', 'brahma', 'agua', 'del valle', 'dolly', 'red bull', 'cachaça', 'vinho tinto', 'vodka', 'vinho branco', 'tequila', 'champagne', 'gin', 'guaracamp', 'matte', 'leite de castanha', 'leite', 'jurupinga', 'sprite', 'fanta']\n",
    "nivel_minimo = 50\n",
    "\n",
    "for qtde in estoque:\n",
    "    print(qtde)"
   ]
  },
  {
   "cell_type": "code",
   "execution_count": 16,
   "id": "604e8bbb",
   "metadata": {},
   "outputs": [
    {
     "name": "stdout",
     "output_type": "stream",
     "text": [
      "20\n",
      "23\n"
     ]
    }
   ],
   "source": [
    "estoque = [1200, 300, 800, 1500, 1900, 2750, 400, 20, 23, 70, 90, 80, 1100, 999, 900, 880, 870, 50, 1111, 120, 300, 450, 800]\n",
    "produtos = ['coca', 'pepsi', 'guarana', 'skol', 'brahma', 'agua', 'del valle', 'dolly', 'red bull', 'cachaça', 'vinho tinto', 'vodka', 'vinho branco', 'tequila', 'champagne', 'gin', 'guaracamp', 'matte', 'leite de castanha', 'leite', 'jurupinga', 'sprite', 'fanta']\n",
    "nivel_minimo = 50\n",
    "\n",
    "for qtde in estoque:\n",
    "    if qtde < nivel_minimo:\n",
    "        print(qtde)"
   ]
  },
  {
   "cell_type": "code",
   "execution_count": 17,
   "id": "0301066d",
   "metadata": {},
   "outputs": [
    {
     "name": "stdout",
     "output_type": "stream",
     "text": [
      "dolly\n",
      "red bull\n"
     ]
    }
   ],
   "source": [
    "estoque = [1200, 300, 800, 1500, 1900, 2750, 400, 20, 23, 70, 90, 80, 1100, 999, 900, 880, 870, 50, 1111, 120, 300, 450, 800]\n",
    "produtos = ['coca', 'pepsi', 'guarana', 'skol', 'brahma', 'agua', 'del valle', 'dolly', 'red bull', 'cachaça', 'vinho tinto', 'vodka', 'vinho branco', 'tequila', 'champagne', 'gin', 'guaracamp', 'matte', 'leite de castanha', 'leite', 'jurupinga', 'sprite', 'fanta']\n",
    "nivel_minimo = 50\n",
    "\n",
    "for i, qtde in enumerate(estoque):\n",
    "    if qtde < nivel_minimo:\n",
    "        print(produtos[i])"
   ]
  },
  {
   "cell_type": "code",
   "execution_count": 20,
   "id": "349e7408",
   "metadata": {},
   "outputs": [
    {
     "name": "stdout",
     "output_type": "stream",
     "text": [
      "dolly está abaixo do nível mínimo. Temos apenas 20 unidades\n",
      "red bull está abaixo do nível mínimo. Temos apenas 23 unidades\n"
     ]
    }
   ],
   "source": [
    "estoque = [1200, 300, 800, 1500, 1900, 2750, 400, 20, 23, 70, 90, 80, 1100, 999, 900, 880, 870, 50, 1111, 120, 300, 450, 800]\n",
    "produtos = ['coca', 'pepsi', 'guarana', 'skol', 'brahma', 'agua', 'del valle', 'dolly', 'red bull', 'cachaça', 'vinho tinto', 'vodka', 'vinho branco', 'tequila', 'champagne', 'gin', 'guaracamp', 'matte', 'leite de castanha', 'leite', 'jurupinga', 'sprite', 'fanta']\n",
    "nivel_minimo = 50\n",
    "\n",
    "for i, qtde in enumerate(estoque):\n",
    "    if qtde < nivel_minimo:\n",
    "        print('{} está abaixo do nível mínimo. Temos apenas {} unidades'.format(produtos[i], qtde))"
   ]
  },
  {
   "cell_type": "code",
   "execution_count": 22,
   "id": "95d3a616",
   "metadata": {},
   "outputs": [],
   "source": [
    "quarto = [\n",
    "    ['Joao', 'cpf: 00000000000'],\n",
    "    ['Julia', 'cpf: 11111111111'],\n",
    "    ['Marcus', 'cpf: 22222222222'],\n",
    "    ['Maria', 'cpf: 33333333333'],\n",
    "    ]"
   ]
  },
  {
   "cell_type": "code",
   "execution_count": 24,
   "id": "cf8ea143",
   "metadata": {},
   "outputs": [
    {
     "name": "stdout",
     "output_type": "stream",
     "text": [
      "Quantas pessoas terão no quarto? 2\n",
      "Qual o nome? Joao\n",
      "Qual o cpf? 00000000000\n",
      "Qual o nome? Julia\n",
      "Qual o cpf? 11111111111\n",
      "[['Joao', 'cpf:00000000000'], ['Julia', 'cpf:11111111111']]\n"
     ]
    }
   ],
   "source": [
    "qtde_pessoas = int(input('Quantas pessoas terão no quarto? '))\n",
    "quarto = []\n",
    "\n",
    "for i in range(qtde_pessoas):\n",
    "    nome = input('Qual o nome? ')\n",
    "    cpf = input('Qual o cpf? ')\n",
    "    hospede = [nome, 'cpf:{}'.format(cpf)]\n",
    "    quarto.append(hospede)\n",
    "    \n",
    "print(quarto)"
   ]
  },
  {
   "cell_type": "code",
   "execution_count": 25,
   "id": "eaa1ab80",
   "metadata": {},
   "outputs": [
    {
     "name": "stdout",
     "output_type": "stream",
     "text": [
      "Vendedor João bateu a meta. Fez 15000 vendas\n",
      "Vendedor Julia bateu a meta. Fez 27000 vendas\n",
      "Vendedor Ana bateu a meta. Fez 10300 vendas\n"
     ]
    }
   ],
   "source": [
    "meta = 10000\n",
    "vendas = [\n",
    "    ['João', 15000],\n",
    "    ['Julia', 27000],\n",
    "    ['Marcus', 9900],\n",
    "    ['Maria', 3750],\n",
    "    ['Ana', 10300],\n",
    "    ['Alon', 7870],\n",
    "]\n",
    "\n",
    "for item in vendas:\n",
    "    if item[1] >= meta:\n",
    "        print('Vendedor {} bateu a meta. Fez {} vendas'.format(item[0], item[1]))\n",
    "    "
   ]
  },
  {
   "cell_type": "code",
   "execution_count": 26,
   "id": "e66b5563",
   "metadata": {},
   "outputs": [
    {
     "name": "stdout",
     "output_type": "stream",
     "text": [
      "iphone vendeu R$ 558,147 em 2019, R$ 951,642 em 2020 e teve 70.5% de crescimento\n",
      "tv vendeu R$ 405,252 em 2019, R$ 787,604 em 2020 e teve 94.3% de crescimento\n",
      "máquina de café vendeu R$ 718,654 em 2019, R$ 867,660 em 2020 e teve 20.7% de crescimento\n",
      "notebook dell vendeu R$ 422,760 em 2019, R$ 694,913 em 2020 e teve 64.4% de crescimento\n",
      "notebook hp vendeu R$ 154,753 em 2019, R$ 539,704 em 2020 e teve 248.8% de crescimento\n",
      "microsoft surface vendeu R$ 438,508 em 2019, R$ 667,179 em 2020 e teve 52.1% de crescimento\n",
      "webcam vendeu R$ 237,467 em 2019, R$ 295,633 em 2020 e teve 24.5% de crescimento\n",
      "caixa de som vendeu R$ 489,705 em 2019, R$ 725,316 em 2020 e teve 48.1% de crescimento\n",
      "microfone vendeu R$ 328,311 em 2019, R$ 644,622 em 2020 e teve 96.3% de crescimento\n",
      "câmera canon vendeu R$ 591,120 em 2019, R$ 994,303 em 2020 e teve 68.2% de crescimento\n"
     ]
    }
   ],
   "source": [
    "produtos = ['iphone', 'galaxy', 'ipad', 'tv', 'máquina de café', 'kindle', 'geladeira', 'adega', 'notebook dell', 'notebook hp', 'notebook asus', 'microsoft surface', 'webcam', 'caixa de som', 'microfone', 'câmera canon']\n",
    "vendas2019 = [558147,712350,573823,405252,718654,531580,973139,892292,422760,154753,887061,438508,237467,489705,328311,591120]\n",
    "vendas2020 = [951642,244295,26964,787604,867660,78830,710331,646016,694913,539704,324831,667179,295633,725316,644622,994303]\n",
    "\n",
    "for i, produto in enumerate(produtos):\n",
    "    if vendas2020[i] > vendas2019[i]:\n",
    "        crescimento = vendas2020[i] / vendas2019[i] - 1\n",
    "        print('{} vendeu R$ {:,} em 2019, R$ {:,} em 2020 e teve {:.1%} de crescimento'.format(produto, vendas2019[i], vendas2020[i], crescimento))"
   ]
  },
  {
   "cell_type": "code",
   "execution_count": 28,
   "id": "8dd6ae33",
   "metadata": {},
   "outputs": [
    {
     "name": "stdout",
     "output_type": "stream",
     "text": [
      "[294, 125, 269, 208, 783, 852, 259, 371, 47, 102, 386, 87, 685, 686, 697, 941, 163, 631, 7, 714, 218, 670, 453]\n",
      "[648, 816, 310, 555, 992, 643, 226, 319, 501, 23, 239, 42, 372, 441, 126, 645, 927, 911, 761, 445, 974, 2, 549]\n",
      "[832, 683, 784, 449, 977, 705, 198, 937, 729, 327, 339, 10, 975, 310, 95, 689, 137, 795, 211, 538, 933, 751, 522]\n",
      "[837, 168, 570, 397, 53, 297, 966, 714, 72, 737, 259, 629, 625, 469, 922, 305, 782, 243, 841, 848, 372, 621, 362]\n",
      "[429, 242, 53, 985, 406, 186, 198, 50, 501, 870, 781, 632, 781, 105, 644, 509, 401, 88, 961, 765, 422, 340, 654]\n"
     ]
    }
   ],
   "source": [
    "# cada lista corresponde ao estoque de uma fábrica.\n",
    "\n",
    "estoque = [\n",
    "    [294, 125, 269, 208, 783, 852, 259, 371, 47, 102, 386, 87, 685, 686, 697, 941, 163, 631, 7, 714, 218, 670, 453],\n",
    "    [648, 816, 310, 555, 992, 643, 226, 319, 501, 23, 239, 42, 372, 441, 126, 645, 927, 911, 761, 445, 974, 2, 549],\n",
    "    [832, 683, 784, 449, 977, 705, 198, 937, 729, 327, 339, 10, 975, 310, 95, 689, 137, 795, 211, 538, 933, 751, 522],\n",
    "    [837, 168, 570, 397, 53, 297, 966, 714, 72, 737, 259, 629, 625, 469, 922, 305, 782, 243, 841, 848, 372, 621, 362],\n",
    "    [429, 242, 53, 985, 406, 186, 198, 50, 501, 870, 781, 632, 781, 105, 644, 509, 401, 88, 961, 765, 422, 340, 654],\n",
    "]\n",
    "fabricas = ['Lira Manufacturing', 'Fábrica Hashtag', 'Python Manufaturas', 'Produções e Cia', 'Manufatura e Cia']\n",
    "nivel_minimeo = 50\n",
    "\n",
    "for lista in estoque:\n",
    "    print(lista)"
   ]
  },
  {
   "cell_type": "code",
   "execution_count": 29,
   "id": "01315e34",
   "metadata": {},
   "outputs": [
    {
     "name": "stdout",
     "output_type": "stream",
     "text": [
      "47\n",
      "7\n",
      "23\n",
      "42\n",
      "2\n",
      "10\n"
     ]
    }
   ],
   "source": [
    "# cada lista corresponde ao estoque de uma fábrica.\n",
    "\n",
    "estoque = [\n",
    "    [294, 125, 269, 208, 783, 852, 259, 371, 47, 102, 386, 87, 685, 686, 697, 941, 163, 631, 7, 714, 218, 670, 453],\n",
    "    [648, 816, 310, 555, 992, 643, 226, 319, 501, 23, 239, 42, 372, 441, 126, 645, 927, 911, 761, 445, 974, 2, 549],\n",
    "    [832, 683, 784, 449, 977, 705, 198, 937, 729, 327, 339, 10, 975, 310, 95, 689, 137, 795, 211, 538, 933, 751, 522],\n",
    "    [837, 168, 570, 397, 53, 297, 966, 714, 72, 737, 259, 629, 625, 469, 922, 305, 782, 243, 841, 848, 372, 621, 362],\n",
    "    [429, 242, 53, 985, 406, 186, 198, 50, 501, 870, 781, 632, 781, 105, 644, 509, 401, 88, 961, 765, 422, 340, 654],\n",
    "]\n",
    "fabricas = ['Lira Manufacturing', 'Fábrica Hashtag', 'Python Manufaturas', 'Produções e Cia', 'Manufatura e Cia']\n",
    "nivel_minimeo = 50\n",
    "\n",
    "for lista in estoque:\n",
    "    # se dentro daquela lista tem alguem abaixo do nível mínimo\n",
    "    for qtde in lista:\n",
    "        if qtde < nivel_minimo:\n",
    "            print(qtde)"
   ]
  },
  {
   "cell_type": "code",
   "execution_count": 30,
   "id": "5578d000",
   "metadata": {},
   "outputs": [
    {
     "name": "stdout",
     "output_type": "stream",
     "text": [
      "Lira Manufacturing\n",
      "Lira Manufacturing\n",
      "Fábrica Hashtag\n",
      "Fábrica Hashtag\n",
      "Fábrica Hashtag\n",
      "Python Manufaturas\n"
     ]
    }
   ],
   "source": [
    "estoque = [\n",
    "    [294, 125, 269, 208, 783, 852, 259, 371, 47, 102, 386, 87, 685, 686, 697, 941, 163, 631, 7, 714, 218, 670, 453],\n",
    "    [648, 816, 310, 555, 992, 643, 226, 319, 501, 23, 239, 42, 372, 441, 126, 645, 927, 911, 761, 445, 974, 2, 549],\n",
    "    [832, 683, 784, 449, 977, 705, 198, 937, 729, 327, 339, 10, 975, 310, 95, 689, 137, 795, 211, 538, 933, 751, 522],\n",
    "    [837, 168, 570, 397, 53, 297, 966, 714, 72, 737, 259, 629, 625, 469, 922, 305, 782, 243, 841, 848, 372, 621, 362],\n",
    "    [429, 242, 53, 985, 406, 186, 198, 50, 501, 870, 781, 632, 781, 105, 644, 509, 401, 88, 961, 765, 422, 340, 654],\n",
    "]\n",
    "fabricas = ['Lira Manufacturing', 'Fábrica Hashtag', 'Python Manufaturas', 'Produções e Cia', 'Manufatura e Cia']\n",
    "nivel_minimeo = 50\n",
    "\n",
    "for i, lista in enumerate(estoque):\n",
    "    # se dentro daquela lista tem alguem abaixo do nível mínimo\n",
    "    for qtde in lista:\n",
    "        if qtde < nivel_minimo:\n",
    "            print(fabricas[i])"
   ]
  },
  {
   "cell_type": "code",
   "execution_count": 32,
   "id": "334ac5f5",
   "metadata": {},
   "outputs": [
    {
     "name": "stdout",
     "output_type": "stream",
     "text": [
      "['Lira Manufacturing', 'Fábrica Hashtag', 'Python Manufaturas']\n"
     ]
    }
   ],
   "source": [
    "estoque = [\n",
    "    [294, 125, 269, 208, 783, 852, 259, 371, 47, 102, 386, 87, 685, 686, 697, 941, 163, 631, 7, 714, 218, 670, 453],\n",
    "    [648, 816, 310, 555, 992, 643, 226, 319, 501, 23, 239, 42, 372, 441, 126, 645, 927, 911, 761, 445, 974, 2, 549],\n",
    "    [832, 683, 784, 449, 977, 705, 198, 937, 729, 327, 339, 10, 975, 310, 95, 689, 137, 795, 211, 538, 933, 751, 522],\n",
    "    [837, 168, 570, 397, 53, 297, 966, 714, 72, 737, 259, 629, 625, 469, 922, 305, 782, 243, 841, 848, 372, 621, 362],\n",
    "    [429, 242, 53, 985, 406, 186, 198, 50, 501, 870, 781, 632, 781, 105, 644, 509, 401, 88, 961, 765, 422, 340, 654],\n",
    "]\n",
    "fabricas = ['Lira Manufacturing', 'Fábrica Hashtag', 'Python Manufaturas', 'Produções e Cia', 'Manufatura e Cia']\n",
    "nivel_minimeo = 50\n",
    "fabricas_abaixo_nivel = []\n",
    "\n",
    "for i, lista in enumerate(estoque):\n",
    "    # se dentro daquela lista tem alguem abaixo do nível mínimo\n",
    "    for qtde in lista:\n",
    "        if qtde < nivel_minimo:\n",
    "            if fabricas[i] in fabricas_abaixo_nivel:\n",
    "                pass\n",
    "            else:\n",
    "                fabricas_abaixo_nivel.append(fabricas[i])\n",
    "                \n",
    "print(fabricas_abaixo_nivel)"
   ]
  },
  {
   "cell_type": "code",
   "execution_count": 46,
   "id": "d40845b5",
   "metadata": {},
   "outputs": [],
   "source": [
    "meta = 10000\n",
    "vendas = [\n",
    "    ['João', 15000],\n",
    "    ['Julia', 27000],\n",
    "    ['Marcus', 9900],\n",
    "    ['Maria', 3750],\n",
    "    ['Ana', 10300],\n",
    "    ['Alon', 7870],\n",
    "]\n",
    "\n"
   ]
  },
  {
   "cell_type": "code",
   "execution_count": 47,
   "id": "a3dae2a6",
   "metadata": {},
   "outputs": [
    {
     "name": "stdout",
     "output_type": "stream",
     "text": [
      "[['João', 15000], ['Julia', 27000], ['Ana', 10300]]\n"
     ]
    }
   ],
   "source": [
    "# criando lista auxiliar\n",
    "\n",
    "acima_meta = []\n",
    "\n",
    "for venda in vendas:\n",
    "    if venda[1] >= meta:\n",
    "        acima_meta.append(venda)\n",
    "        \n",
    "print(acima_meta)\n"
   ]
  },
  {
   "cell_type": "code",
   "execution_count": 48,
   "id": "53e3cc91",
   "metadata": {},
   "outputs": [
    {
     "name": "stdout",
     "output_type": "stream",
     "text": [
      "[['João', 15000], ['Julia', 27000], ['Ana', 10300]]\n",
      "50.0% dos vendedores bateram a meta.\n"
     ]
    }
   ],
   "source": [
    "acima_meta = []\n",
    "\n",
    "for venda in vendas:\n",
    "    if venda[1] >= meta:\n",
    "        acima_meta.append(venda)\n",
    "        \n",
    "print(acima_meta)\n",
    "print('{:.1%} dos vendedores bateram a meta.'.format(len(acima_meta) / len(vendas)))"
   ]
  },
  {
   "cell_type": "code",
   "execution_count": 51,
   "id": "f6e8cec7",
   "metadata": {},
   "outputs": [
    {
     "name": "stdout",
     "output_type": "stream",
     "text": [
      "50.0% dos vendedores bateram a meta\n"
     ]
    }
   ],
   "source": [
    "qtde_vendedores_acima = 0\n",
    "\n",
    "for venda in vendas:\n",
    "    if venda[1] >= meta:\n",
    "        qtde_vendedores_acima += 1\n",
    "        \n",
    "print('{:.1%} dos vendedores bateram a meta'.format(qtde_vendedores_acima / len(vendas)))"
   ]
  },
  {
   "cell_type": "code",
   "execution_count": 58,
   "id": "cf6d0127",
   "metadata": {},
   "outputs": [
    {
     "name": "stdout",
     "output_type": "stream",
     "text": [
      "O melhor vendedor foi Julia com 27000 vendas\n"
     ]
    }
   ],
   "source": [
    "meta = 10000\n",
    "vendas = [\n",
    "    ['João', 15000],\n",
    "    ['Julia', 27000],\n",
    "    ['Marcus', 9900],\n",
    "    ['Maria', 3750],\n",
    "    ['Ana', 10300],\n",
    "    ['Alon', 7870],\n",
    "]\n",
    "\n",
    "melhor_vendedor = ''\n",
    "maior_vendas = 0\n",
    "\n",
    "for venda in vendas:\n",
    "    if venda[1] > maior_vendas:\n",
    "        maior_vendas = venda[1]\n",
    "        melhor_vendedor = venda[0]\n",
    "    \n",
    "print('O melhor vendedor foi {} com {} vendas'.format(melhor_vendedor, maior_vendas))"
   ]
  },
  {
   "cell_type": "code",
   "execution_count": 59,
   "id": "d8205a57",
   "metadata": {},
   "outputs": [],
   "source": [
    "vendas = [100, 150, 1500, 2000, 120]"
   ]
  },
  {
   "cell_type": "code",
   "execution_count": 60,
   "id": "b3f94b58",
   "metadata": {},
   "outputs": [
    {
     "name": "stdout",
     "output_type": "stream",
     "text": [
      "A loja não ganha bônus\n"
     ]
    }
   ],
   "source": [
    "meta = 110\n",
    "\n",
    "for venda in vendas:\n",
    "    if venda < meta:\n",
    "        print('A loja não ganha bônus')"
   ]
  },
  {
   "cell_type": "code",
   "execution_count": 61,
   "id": "55cd8a98",
   "metadata": {},
   "outputs": [
    {
     "name": "stdout",
     "output_type": "stream",
     "text": [
      "A loja não ganha bônus\n",
      "[100, 150, 1500, 2000, 120]\n",
      "[100, 150, 1500, 2000, 120]\n",
      "[100, 150, 1500, 2000, 120]\n",
      "[100, 150, 1500, 2000, 120]\n",
      "[100, 150, 1500, 2000, 120]\n"
     ]
    }
   ],
   "source": [
    "meta = 110\n",
    "\n",
    "for venda in vendas:\n",
    "    if venda < meta:\n",
    "        print('A loja não ganha bônus')\n",
    "    print(vendas)"
   ]
  },
  {
   "cell_type": "code",
   "execution_count": 62,
   "id": "a22b40e9",
   "metadata": {},
   "outputs": [
    {
     "name": "stdout",
     "output_type": "stream",
     "text": [
      "A loja não ganha bônus\n"
     ]
    }
   ],
   "source": [
    "meta = 110\n",
    "\n",
    "for venda in vendas:\n",
    "    if venda < meta:\n",
    "        print('A loja não ganha bônus')\n",
    "        break\n",
    "    print(vendas)"
   ]
  },
  {
   "cell_type": "code",
   "execution_count": 63,
   "id": "a3d782e3",
   "metadata": {},
   "outputs": [
    {
     "name": "stdout",
     "output_type": "stream",
     "text": [
      "100\n",
      "150\n",
      "1500\n",
      "2000\n",
      "120\n"
     ]
    }
   ],
   "source": [
    "\n",
    "vendas = [100, 150, 1500, 2000, 120]\n",
    "vendedores = ['João', 'Julia', 'Ana', 'Jose', 'Maria']\n",
    "meta = 130\n",
    "\n",
    "for venda in vendas:\n",
    "    print(venda)"
   ]
  },
  {
   "cell_type": "code",
   "execution_count": 64,
   "id": "fa8ec0a1",
   "metadata": {},
   "outputs": [
    {
     "name": "stdout",
     "output_type": "stream",
     "text": [
      "150\n",
      "1500\n",
      "2000\n"
     ]
    }
   ],
   "source": [
    "\n",
    "vendas = [100, 150, 1500, 2000, 120]\n",
    "vendedores = ['João', 'Julia', 'Ana', 'Jose', 'Maria']\n",
    "meta = 130\n",
    "\n",
    "for venda in vendas:\n",
    "    if venda < meta:\n",
    "        continue\n",
    "    print(venda)"
   ]
  },
  {
   "cell_type": "code",
   "execution_count": null,
   "id": "4b0e8ca1",
   "metadata": {},
   "outputs": [],
   "source": []
  }
 ],
 "metadata": {
  "kernelspec": {
   "display_name": "Python 3 (ipykernel)",
   "language": "python",
   "name": "python3"
  },
  "language_info": {
   "codemirror_mode": {
    "name": "ipython",
    "version": 3
   },
   "file_extension": ".py",
   "mimetype": "text/x-python",
   "name": "python",
   "nbconvert_exporter": "python",
   "pygments_lexer": "ipython3",
   "version": "3.9.7"
  }
 },
 "nbformat": 4,
 "nbformat_minor": 5
}
