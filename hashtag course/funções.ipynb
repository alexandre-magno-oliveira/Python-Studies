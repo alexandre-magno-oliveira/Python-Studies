{
 "cells": [
  {
   "cell_type": "code",
   "execution_count": 1,
   "id": "75dcaafc",
   "metadata": {},
   "outputs": [
    {
     "data": {
      "text/plain": [
       "'def nome_funcao():\\n    faça alguma coisa\\n    faça outra coisa\\n    return valor_final'"
      ]
     },
     "execution_count": 1,
     "metadata": {},
     "output_type": "execute_result"
    }
   ],
   "source": [
    "'''def nome_funcao():\n",
    "    faça alguma coisa\n",
    "    faça outra coisa\n",
    "    return valor_final'''"
   ]
  },
  {
   "cell_type": "code",
   "execution_count": 2,
   "id": "c186b6d3",
   "metadata": {},
   "outputs": [
    {
     "name": "stdout",
     "output_type": "stream",
     "text": [
      "[10, 30, 90, 150, 2000]\n"
     ]
    }
   ],
   "source": [
    "lista = [150, 10, 30, 2000, 90]\n",
    "\n",
    "lista.sort()\n",
    "\n",
    "print(lista)"
   ]
  },
  {
   "cell_type": "code",
   "execution_count": 4,
   "id": "feb40d4a",
   "metadata": {},
   "outputs": [
    {
     "name": "stdout",
     "output_type": "stream",
     "text": [
      "Digite o nome do produto que deseja cadastrarFeijAO\n",
      "Produto feijao cadastrado com sucesso\n"
     ]
    }
   ],
   "source": [
    "produto = input('Digite o nome do produto que deseja cadastrar')\n",
    "produto = produto.casefold()\n",
    "print('Produto {} cadastrado com sucesso'.format(produto))\n"
   ]
  },
  {
   "cell_type": "code",
   "execution_count": 5,
   "id": "975c1072",
   "metadata": {},
   "outputs": [],
   "source": [
    "def cadastrar_produto():\n",
    "    produto = input('Digite o nome do produto que deseja cadastrar')\n",
    "    produto = produto.casefold()\n",
    "    print('Produto {} cadastrado com sucesso'.format(produto))\n"
   ]
  },
  {
   "cell_type": "code",
   "execution_count": 6,
   "id": "042cd9ed",
   "metadata": {},
   "outputs": [
    {
     "name": "stdout",
     "output_type": "stream",
     "text": [
      "Digite o nome do produto que deseja cadastrarFeijao\n",
      "Produto feijao cadastrado com sucesso\n"
     ]
    }
   ],
   "source": [
    "cadastrar_produto()"
   ]
  },
  {
   "cell_type": "code",
   "execution_count": 9,
   "id": "bbc24ece",
   "metadata": {},
   "outputs": [
    {
     "name": "stdout",
     "output_type": "stream",
     "text": [
      "Digite o nome do produto que deseja cadastrarFeijao\n",
      "Produto feijao cadastrado com sucesso\n",
      "Digite o nome do produto que deseja cadastrarMarcarrao\n",
      "Produto marcarrao cadastrado com sucesso\n",
      "Digite o nome do produto que deseja cadastrarArroz\n",
      "Produto arroz cadastrado com sucesso\n"
     ]
    }
   ],
   "source": [
    "for i in range(3): # para cadastrar 3 produtos\n",
    "    cadastrar_produto()"
   ]
  },
  {
   "cell_type": "code",
   "execution_count": 10,
   "id": "380ccc8a",
   "metadata": {},
   "outputs": [
    {
     "data": {
      "text/plain": [
       "'\\ndef nome_funcao():\\n    return valor_final'"
      ]
     },
     "execution_count": 10,
     "metadata": {},
     "output_type": "execute_result"
    }
   ],
   "source": [
    "'''\n",
    "def nome_funcao():\n",
    "    return valor_final'''"
   ]
  },
  {
   "cell_type": "code",
   "execution_count": 11,
   "id": "030bb26a",
   "metadata": {},
   "outputs": [],
   "source": [
    "def cadastrar_produto():\n",
    "    produto = input('Digite o nome do produto que deseja cadastrar ')\n",
    "    produto = produto.casefold()\n",
    "    produto = produto.strip()\n",
    "    print('Produto {} cadastrado com sucesso'.format(produto))\n"
   ]
  },
  {
   "cell_type": "code",
   "execution_count": 12,
   "id": "331453d1",
   "metadata": {},
   "outputs": [
    {
     "name": "stdout",
     "output_type": "stream",
     "text": [
      "Digite o nome do produto que deseja cadastrar   FeijAO\n",
      "Produto feijao cadastrado com sucesso\n"
     ]
    }
   ],
   "source": [
    "cadastrar_produto()\n"
   ]
  },
  {
   "cell_type": "code",
   "execution_count": 15,
   "id": "5ad5547b",
   "metadata": {},
   "outputs": [],
   "source": [
    "def cadastrar_produto():\n",
    "    produto = input('Digite o nome do produto que deseja cadastrar ')\n",
    "    produto = produto.casefold()\n",
    "    produto = produto.strip()\n",
    "    return produto"
   ]
  },
  {
   "cell_type": "code",
   "execution_count": 18,
   "id": "39c390b8",
   "metadata": {},
   "outputs": [
    {
     "name": "stdout",
     "output_type": "stream",
     "text": [
      "Digite o nome do produto que deseja cadastrar Macarrao\n",
      "macarrao\n"
     ]
    }
   ],
   "source": [
    "produto = cadastrar_produto()\n",
    "\n",
    "print(produto)"
   ]
  },
  {
   "cell_type": "code",
   "execution_count": 19,
   "id": "e1f59145",
   "metadata": {},
   "outputs": [
    {
     "data": {
      "text/plain": [
       "'def minha_funcao(parametro1, parametro2, parametro3):\\n    return parametro1 + parametro2 + paremetro3'"
      ]
     },
     "execution_count": 19,
     "metadata": {},
     "output_type": "execute_result"
    }
   ],
   "source": [
    "'''def minha_funcao(parametro1, parametro2, parametro3):\n",
    "    return parametro1 + parametro2 + paremetro3'''"
   ]
  },
  {
   "cell_type": "code",
   "execution_count": 20,
   "id": "d3ce19f4",
   "metadata": {},
   "outputs": [
    {
     "name": "stdout",
     "output_type": "stream",
     "text": [
      "60\n"
     ]
    }
   ],
   "source": [
    "def minha_soma(num1, num2, num3):  # num1, num2, num3 só existem dentro da function\n",
    "    return num1 + num2 + num3\n",
    "\n",
    "soma = minha_soma(10, 20, 30)\n",
    "print(soma)"
   ]
  },
  {
   "cell_type": "code",
   "execution_count": 21,
   "id": "f89d3bc3",
   "metadata": {},
   "outputs": [
    {
     "ename": "TypeError",
     "evalue": "minha_soma() missing 1 required positional argument: 'num3'",
     "output_type": "error",
     "traceback": [
      "\u001b[1;31m---------------------------------------------------------------------------\u001b[0m",
      "\u001b[1;31mTypeError\u001b[0m                                 Traceback (most recent call last)",
      "\u001b[1;32m<ipython-input-21-888327428b38>\u001b[0m in \u001b[0;36m<module>\u001b[1;34m\u001b[0m\n\u001b[0;32m      2\u001b[0m     \u001b[1;32mreturn\u001b[0m \u001b[0mnum1\u001b[0m \u001b[1;33m+\u001b[0m \u001b[0mnum2\u001b[0m \u001b[1;33m+\u001b[0m \u001b[0mnum3\u001b[0m\u001b[1;33m\u001b[0m\u001b[1;33m\u001b[0m\u001b[0m\n\u001b[0;32m      3\u001b[0m \u001b[1;33m\u001b[0m\u001b[0m\n\u001b[1;32m----> 4\u001b[1;33m \u001b[0msoma\u001b[0m \u001b[1;33m=\u001b[0m \u001b[0mminha_soma\u001b[0m\u001b[1;33m(\u001b[0m\u001b[1;36m10\u001b[0m\u001b[1;33m,\u001b[0m \u001b[1;36m20\u001b[0m\u001b[1;33m)\u001b[0m\u001b[1;33m\u001b[0m\u001b[1;33m\u001b[0m\u001b[0m\n\u001b[0m\u001b[0;32m      5\u001b[0m \u001b[0mprint\u001b[0m\u001b[1;33m(\u001b[0m\u001b[0msoma\u001b[0m\u001b[1;33m)\u001b[0m\u001b[1;33m\u001b[0m\u001b[1;33m\u001b[0m\u001b[0m\n",
      "\u001b[1;31mTypeError\u001b[0m: minha_soma() missing 1 required positional argument: 'num3'"
     ]
    }
   ],
   "source": [
    "def minha_soma(num1, num2, num3):  # num1, num2, num3 só existem dentro da function\n",
    "    return num1 + num2 + num3\n",
    "\n",
    "soma = minha_soma(10, 20) # só passei 2 parâmetros\n",
    "print(soma)"
   ]
  },
  {
   "cell_type": "code",
   "execution_count": 26,
   "id": "67b5e32f",
   "metadata": {},
   "outputs": [
    {
     "name": "stdout",
     "output_type": "stream",
     "text": [
      "Enviar beb46275 para setor de bebidas alcóolicas\n",
      "Enviar BEB21365 para setor de bebidas alcóolicas\n",
      "Enviar BEB31623 para setor de bebidas alcóolicas\n",
      "Enviar BEB73344 para setor de bebidas alcóolicas\n",
      "Enviar BEB80694 para setor de bebidas alcóolicas\n",
      "Enviar BEB19495 para setor de bebidas alcóolicas\n",
      "Enviar BEB97471 para setor de bebidas alcóolicas\n",
      "Enviar BEB62362 para setor de bebidas alcóolicas\n",
      "Enviar BEB85146 para setor de bebidas alcóolicas\n",
      "Enviar BEB48898 para setor de bebidas alcóolicas\n",
      "Enviar BEB79496 para setor de bebidas alcóolicas\n",
      "Enviar BEB15385 para setor de bebidas alcóolicas\n",
      "Enviar BEB24213 para setor de bebidas alcóolicas\n",
      "Enviar BEB56262 para setor de bebidas alcóolicas\n",
      "Enviar BEB75073 para setor de bebidas alcóolicas\n"
     ]
    }
   ],
   "source": [
    "def ehalcoolico(bebida):\n",
    "    bebida = bebida.upper()\n",
    "    if 'BEB' in bebida:\n",
    "        return True\n",
    "    else:\n",
    "        return False\n",
    "    \n",
    "\n",
    "produtos = ['beb46275','TFA23962','TFA64715','TFA69555','TFA56743','BSA45510','TFA44968','CAR75448','CAR23596','CAR13490','BEB21365','BEB31623','BSA62419','BEB73344','TFA20079','BEB80694','BSA11769','BEB19495','TFA14792','TFA78043','BSA33484','BEB97471','BEB62362','TFA27311','TFA17715','BEB85146','BEB48898','BEB79496','CAR38417','TFA19947','TFA58799','CAR94811','BSA59251','BEB15385','BEB24213','BEB56262','BSA96915','CAR53454','BEB75073']\n",
    "\n",
    "# percorrer toda a minha lista de produtos\n",
    "# para cada produto, verificar se ele é bebida alcoolica\n",
    "# se for bebida alcoolica, exibir a mensagem: Enviar....\n",
    "\n",
    "for produto in produtos:\n",
    "    if ehalcoolico(produto):\n",
    "        print('Enviar {} para setor de bebidas alcóolicas'.format(produto))"
   ]
  },
  {
   "cell_type": "code",
   "execution_count": 25,
   "id": "52e7495b",
   "metadata": {},
   "outputs": [
    {
     "name": "stdout",
     "output_type": "stream",
     "text": [
      "Enviar beb46275 para setor de bebidas alcóolicas\n",
      "Enviar BEB21365 para setor de bebidas alcóolicas\n",
      "Enviar BEB31623 para setor de bebidas alcóolicas\n",
      "Enviar BEB73344 para setor de bebidas alcóolicas\n",
      "Enviar BEB80694 para setor de bebidas alcóolicas\n",
      "Enviar BEB19495 para setor de bebidas alcóolicas\n",
      "Enviar BEB97471 para setor de bebidas alcóolicas\n",
      "Enviar BEB62362 para setor de bebidas alcóolicas\n",
      "Enviar BEB85146 para setor de bebidas alcóolicas\n",
      "Enviar BEB48898 para setor de bebidas alcóolicas\n",
      "Enviar BEB79496 para setor de bebidas alcóolicas\n",
      "Enviar BEB15385 para setor de bebidas alcóolicas\n",
      "Enviar BEB24213 para setor de bebidas alcóolicas\n",
      "Enviar BEB56262 para setor de bebidas alcóolicas\n",
      "Enviar BEB75073 para setor de bebidas alcóolicas\n"
     ]
    }
   ],
   "source": [
    "def ehalcoolico(bebida):\n",
    "    bebida = bebida.upper()\n",
    "    if 'BEB' in bebida:\n",
    "        return True\n",
    "    else:\n",
    "        return False\n",
    "    \n",
    "    \n",
    "\n",
    "produtos = ['beb46275','TFA23962','TFA64715','TFA69555','TFA56743','BSA45510','TFA44968','CAR75448','CAR23596','CAR13490','BEB21365','BEB31623','BSA62419','BEB73344','TFA20079','BEB80694','BSA11769','BEB19495','TFA14792','TFA78043','BSA33484','BEB97471','BEB62362','TFA27311','TFA17715','BEB85146','BEB48898','BEB79496','CAR38417','TFA19947','TFA58799','CAR94811','BSA59251','BEB15385','BEB24213','BEB56262','BSA96915','CAR53454','BEB75073']\n",
    "\n",
    "#percorrer toda a minha lista de produtos\n",
    "#pra cada produto, verificar se ele é bebida alcoolica\n",
    "#se for bebida alcoolica, exibir a mensagem Enviar....\n",
    "\n",
    "for produto in produtos:\n",
    "    if ehalcoolico(produto):\n",
    "        print('Enviar {} para setor de bebidas alcóolicas'.format(produto))"
   ]
  },
  {
   "cell_type": "code",
   "execution_count": 3,
   "id": "ab34ad04",
   "metadata": {},
   "outputs": [
    {
     "name": "stdout",
     "output_type": "stream",
     "text": [
      "Enviar BSA45510 para setor de bebidas não alcóolicas\n",
      "Enviar BEB21365 para setor de bebidas alcóolicas\n",
      "Enviar BEB31623 para setor de bebidas alcóolicas\n",
      "Enviar BSA62419 para setor de bebidas não alcóolicas\n",
      "Enviar BEB73344 para setor de bebidas alcóolicas\n",
      "Enviar BEB80694 para setor de bebidas alcóolicas\n",
      "Enviar BSA11769 para setor de bebidas não alcóolicas\n",
      "Enviar BEB19495 para setor de bebidas alcóolicas\n",
      "Enviar BSA33484 para setor de bebidas não alcóolicas\n",
      "Enviar BEB97471 para setor de bebidas alcóolicas\n",
      "Enviar BEB62362 para setor de bebidas alcóolicas\n",
      "Enviar BEB85146 para setor de bebidas alcóolicas\n",
      "Enviar BEB48898 para setor de bebidas alcóolicas\n",
      "Enviar BEB79496 para setor de bebidas alcóolicas\n",
      "Enviar BSA59251 para setor de bebidas não alcóolicas\n",
      "Enviar BEB15385 para setor de bebidas alcóolicas\n",
      "Enviar BEB24213 para setor de bebidas alcóolicas\n",
      "Enviar BEB56262 para setor de bebidas alcóolicas\n",
      "Enviar BSA96915 para setor de bebidas não alcóolicas\n",
      "Enviar BEB75073 para setor de bebidas alcóolicas\n"
     ]
    }
   ],
   "source": [
    "def eh_da_categoria(bebida, cod_categoria):\n",
    "    bebida = bebida.upper()\n",
    "    if cod_categoria in bebida:\n",
    "        return True\n",
    "    else:\n",
    "        return False\n",
    "\n",
    "\n",
    "produtos = ['CAR46275','TFA23962','TFA64715','TFA69555','TFA56743','BSA45510','TFA44968','CAR75448','CAR23596','CAR13490','BEB21365','BEB31623','BSA62419','BEB73344','TFA20079','BEB80694','BSA11769','BEB19495','TFA14792','TFA78043','BSA33484','BEB97471','BEB62362','TFA27311','TFA17715','BEB85146','BEB48898','BEB79496','CAR38417','TFA19947','TFA58799','CAR94811','BSA59251','BEB15385','BEB24213','BEB56262','BSA96915','CAR53454','BEB75073']\n",
    "\n",
    "for produto in produtos:\n",
    "    if eh_da_categoria(produto, cod_categoria = 'BEB'):\n",
    "        print('Enviar {} para setor de bebidas alcóolicas'.format(produto))\n",
    "    elif eh_da_categoria(produto, 'BSA'):\n",
    "        print('Enviar {} para setor de bebidas não alcóolicas'.format(produto))"
   ]
  },
  {
   "cell_type": "code",
   "execution_count": 4,
   "id": "48c858a2",
   "metadata": {},
   "outputs": [
    {
     "name": "stdout",
     "output_type": "stream",
     "text": [
      "['CAR46275', 'TFA23962', 'TFA64715', 'TFA69555', 'TFA56743', 'BSA45510', 'TFA44968', 'CAR75448', 'CAR23596', 'CAR13490', 'BEB21365', 'BEB31623', 'BSA62419', 'BEB73344', 'TFA20079', 'BEB80694', 'BSA11769', 'BEB19495', 'TFA14792', 'TFA78043', 'BSA33484', 'BEB97471', 'BEB62362', 'TFA27311', 'TFA17715', 'BEB85146', 'BEB48898', 'BEB79496', 'CAR38417', 'TFA19947', 'TFA58799', 'CAR94811', 'BSA59251', 'BEB15385', 'BEB24213', 'BEB56262', 'BSA96915', 'CAR53454', 'BEB75073']\n"
     ]
    }
   ],
   "source": [
    "print(produtos)"
   ]
  },
  {
   "cell_type": "code",
   "execution_count": 5,
   "id": "fd3df945",
   "metadata": {},
   "outputs": [
    {
     "name": "stdout",
     "output_type": "stream",
     "text": [
      "Meus produtos são: ['CAR46275', 'TFA23962', 'TFA64715', 'TFA69555', 'TFA56743', 'BSA45510', 'TFA44968', 'CAR75448', 'CAR23596', 'CAR13490', 'BEB21365', 'BEB31623', 'BSA62419', 'BEB73344', 'TFA20079', 'BEB80694', 'BSA11769', 'BEB19495', 'TFA14792', 'TFA78043', 'BSA33484', 'BEB97471', 'BEB62362', 'TFA27311', 'TFA17715', 'BEB85146', 'BEB48898', 'BEB79496', 'CAR38417', 'TFA19947', 'TFA58799', 'CAR94811', 'BSA59251', 'BEB15385', 'BEB24213', 'BEB56262', 'BSA96915', 'CAR53454', 'BEB75073']\n"
     ]
    }
   ],
   "source": [
    "print('Meus produtos são:', produtos)"
   ]
  },
  {
   "cell_type": "code",
   "execution_count": 6,
   "id": "e9700b2b",
   "metadata": {},
   "outputs": [
    {
     "name": "stdout",
     "output_type": "stream",
     "text": [
      "Quantidade total de produtos: 39\n"
     ]
    }
   ],
   "source": [
    "qtde_produtos = len(produtos)\n",
    "print('Quantidade total de produtos:', qtde_produtos)"
   ]
  },
  {
   "cell_type": "code",
   "execution_count": 7,
   "id": "51500914",
   "metadata": {},
   "outputs": [
    {
     "name": "stdout",
     "output_type": "stream",
     "text": [
      "Quantidade total de produtos: 39 texto2 texto3\n"
     ]
    }
   ],
   "source": [
    "qtde_produtos = len(produtos)\n",
    "print('Quantidade total de produtos:', qtde_produtos, 'texto2', 'texto3')"
   ]
  },
  {
   "cell_type": "code",
   "execution_count": 8,
   "id": "41aa3fbe",
   "metadata": {},
   "outputs": [
    {
     "name": "stdout",
     "output_type": "stream",
     "text": [
      "Quantidade total de produtos:\n",
      "39\n",
      "texto2\n",
      "texto3\n"
     ]
    }
   ],
   "source": [
    "qtde_produtos = len(produtos)\n",
    "print('Quantidade total de produtos:', qtde_produtos, 'texto2', 'texto3', sep = '\\n') # separa\n",
    "# com enter, tem de ser o último, se não vai dar erro"
   ]
  },
  {
   "cell_type": "code",
   "execution_count": 18,
   "id": "a5713c2e",
   "metadata": {},
   "outputs": [
    {
     "data": {
      "text/plain": [
       "' carga tributária que incide sobre um determinado produto\\n\\npreco = 1500\\ncusto = 400\\nlucro = 800\\n\\n\\n\\n\\n\\n\\n'"
      ]
     },
     "execution_count": 18,
     "metadata": {},
     "output_type": "execute_result"
    }
   ],
   "source": [
    "''' carga tributária que incide sobre um determinado produto\n",
    "\n",
    "preco = 1500\n",
    "custo = 400\n",
    "lucro = 800\n",
    "\n",
    "\n",
    "\n",
    "\n",
    "\n",
    "\n",
    "'''"
   ]
  },
  {
   "cell_type": "code",
   "execution_count": 19,
   "id": "b6a6b80a",
   "metadata": {},
   "outputs": [],
   "source": [
    "#crie sua function aqui\n",
    "def carga_tributaria(preco, custo, lucro):\n",
    "    imposto = preco - custo - lucro\n",
    "    return imposto / preco"
   ]
  },
  {
   "cell_type": "code",
   "execution_count": 20,
   "id": "23804ee0",
   "metadata": {},
   "outputs": [
    {
     "ename": "NameError",
     "evalue": "name 'preco' is not defined",
     "output_type": "error",
     "traceback": [
      "\u001b[1;31m---------------------------------------------------------------------------\u001b[0m",
      "\u001b[1;31mNameError\u001b[0m                                 Traceback (most recent call last)",
      "\u001b[1;32m<ipython-input-20-388b168abf9f>\u001b[0m in \u001b[0;36m<module>\u001b[1;34m\u001b[0m\n\u001b[0;32m      1\u001b[0m \u001b[1;31m#aplique sua function nos valores fornecidos para ver se ela está funcionando corretamente\u001b[0m\u001b[1;33m\u001b[0m\u001b[1;33m\u001b[0m\u001b[1;33m\u001b[0m\u001b[0m\n\u001b[1;32m----> 2\u001b[1;33m \u001b[0mprint\u001b[0m\u001b[1;33m(\u001b[0m\u001b[1;34m'A carga tributária foi de {:.1%}'\u001b[0m\u001b[1;33m.\u001b[0m\u001b[0mformat\u001b[0m\u001b[1;33m(\u001b[0m\u001b[0mcarga_tributaria\u001b[0m\u001b[1;33m(\u001b[0m\u001b[0mpreco\u001b[0m\u001b[1;33m,\u001b[0m \u001b[0mcusto\u001b[0m\u001b[1;33m,\u001b[0m \u001b[0mlucro\u001b[0m\u001b[1;33m)\u001b[0m\u001b[1;33m)\u001b[0m\u001b[1;33m)\u001b[0m\u001b[1;33m\u001b[0m\u001b[1;33m\u001b[0m\u001b[0m\n\u001b[0m",
      "\u001b[1;31mNameError\u001b[0m: name 'preco' is not defined"
     ]
    }
   ],
   "source": [
    "#aplique sua function nos valores fornecidos para ver se ela está funcionando corretamente\n",
    "print('A carga tributária foi de {:.1%}'.format(carga_tributaria(preco, custo, lucro)))"
   ]
  },
  {
   "cell_type": "code",
   "execution_count": 23,
   "id": "4ee9eded",
   "metadata": {},
   "outputs": [],
   "source": [
    "def imposto():\n",
    "    preco = int(input('digite o preço de venda: '))\n",
    "    custo = int(input('digite o custo: '))\n",
    "    lucro = int(input('digite o lucro: '))\n",
    "    imposto = preco - custo - lucro\n",
    "    return imposto/preco\n"
   ]
  },
  {
   "cell_type": "code",
   "execution_count": 24,
   "id": "b8f590cf",
   "metadata": {},
   "outputs": [
    {
     "name": "stdout",
     "output_type": "stream",
     "text": [
      "digite o preço de venda: 1500\n",
      "digite o custo: 400\n",
      "digite o lucro: 800\n"
     ]
    },
    {
     "ename": "ValueError",
     "evalue": "Invalid format specifier",
     "output_type": "error",
     "traceback": [
      "\u001b[1;31m---------------------------------------------------------------------------\u001b[0m",
      "\u001b[1;31mValueError\u001b[0m                                Traceback (most recent call last)",
      "\u001b[1;32m<ipython-input-24-c7ba7285f48c>\u001b[0m in \u001b[0;36m<module>\u001b[1;34m\u001b[0m\n\u001b[1;32m----> 1\u001b[1;33m \u001b[0mprint\u001b[0m\u001b[1;33m(\u001b[0m\u001b[1;34m'A carga tributária foi de {:.1f%}'\u001b[0m\u001b[1;33m.\u001b[0m\u001b[0mformat\u001b[0m\u001b[1;33m(\u001b[0m\u001b[0mimposto\u001b[0m\u001b[1;33m(\u001b[0m\u001b[1;33m)\u001b[0m\u001b[1;33m)\u001b[0m\u001b[1;33m)\u001b[0m\u001b[1;33m\u001b[0m\u001b[1;33m\u001b[0m\u001b[0m\n\u001b[0m",
      "\u001b[1;31mValueError\u001b[0m: Invalid format specifier"
     ]
    }
   ],
   "source": [
    "print('A carga tributária foi de {:.1f%}'.format(imposto()))"
   ]
  },
  {
   "cell_type": "code",
   "execution_count": 4,
   "id": "01095371",
   "metadata": {},
   "outputs": [],
   "source": [
    "def eh_da_categoria(bebida, cod_categoria):\n",
    "    bebida = bebida.upper()\n",
    "    if cod_categoria in bebida:\n",
    "        return True\n",
    "    else:\n",
    "        return False"
   ]
  },
  {
   "cell_type": "code",
   "execution_count": 5,
   "id": "f09178e3",
   "metadata": {},
   "outputs": [
    {
     "name": "stdout",
     "output_type": "stream",
     "text": [
      "[100, 200, 50, 90, 240, 300, 55, 10, 789, 60, 500, 1555]\n"
     ]
    },
    {
     "ename": "NameError",
     "evalue": "name 'cod_produto' is not defined",
     "output_type": "error",
     "traceback": [
      "\u001b[1;31m---------------------------------------------------------------------------\u001b[0m",
      "\u001b[1;31mNameError\u001b[0m                                 Traceback (most recent call last)",
      "\u001b[1;32m<ipython-input-5-a06d5c110401>\u001b[0m in \u001b[0;36m<module>\u001b[1;34m\u001b[0m\n\u001b[0;32m      6\u001b[0m \u001b[0mprint\u001b[0m\u001b[1;33m(\u001b[0m\u001b[0mvendas_ano\u001b[0m\u001b[1;33m)\u001b[0m\u001b[1;33m\u001b[0m\u001b[1;33m\u001b[0m\u001b[0m\n\u001b[0;32m      7\u001b[0m \u001b[1;33m\u001b[0m\u001b[0m\n\u001b[1;32m----> 8\u001b[1;33m \u001b[1;32mif\u001b[0m \u001b[0meh_da_categoria\u001b[0m\u001b[1;33m(\u001b[0m\u001b[0mcod_produto\u001b[0m\u001b[1;33m,\u001b[0m \u001b[1;34m'BEB'\u001b[0m\u001b[1;33m)\u001b[0m\u001b[1;33m:\u001b[0m\u001b[1;33m\u001b[0m\u001b[1;33m\u001b[0m\u001b[0m\n\u001b[0m\u001b[0;32m      9\u001b[0m     \u001b[0mprint\u001b[0m\u001b[1;33m(\u001b[0m\u001b[1;34m'É uma bebida alcóolica'\u001b[0m\u001b[1;33m)\u001b[0m\u001b[1;33m\u001b[0m\u001b[1;33m\u001b[0m\u001b[0m\n",
      "\u001b[1;31mNameError\u001b[0m: name 'cod_produto' is not defined"
     ]
    }
   ],
   "source": [
    "# lista para sort e extend\n",
    "vendas_ano = [100, 200, 50, 90, 240, 300, 55, 10, 789, 60]\n",
    "vendas_novdez = [500, 1555]\n",
    "\n",
    "vendas_ano.extend(vendas_novdez)\n",
    "print(vendas_ano)\n",
    "\n",
    "if eh_da_categoria(cod_produto, 'BEB'):\n",
    "    print('É uma bebida alcóolica')"
   ]
  },
  {
   "cell_type": "code",
   "execution_count": null,
   "id": "9a69dc35",
   "metadata": {},
   "outputs": [],
   "source": []
  },
  {
   "cell_type": "code",
   "execution_count": 6,
   "id": "750b7dc3",
   "metadata": {},
   "outputs": [
    {
     "name": "stdout",
     "output_type": "stream",
     "text": [
      "['airpods', 'apple tv', 'apple watch', 'iPad', 'iphone x', 'mac', 'mac book']\n"
     ]
    }
   ],
   "source": [
    "produtos = ['apple tv', 'mac', 'iphone x', 'iPad', 'apple watch', 'mac book', 'airpods']\n",
    "\n",
    "produtos.sort()\n",
    "print(produtos)"
   ]
  },
  {
   "cell_type": "code",
   "execution_count": 9,
   "id": "a40405fc",
   "metadata": {},
   "outputs": [
    {
     "name": "stdout",
     "output_type": "stream",
     "text": [
      "['mac book', 'mac', 'iphone x', 'iPad', 'apple watch', 'apple tv', 'airpods']\n"
     ]
    }
   ],
   "source": [
    "produtos = ['apple tv', 'mac', 'iphone x', 'iPad', 'apple watch', 'mac book', 'airpods']\n",
    "\n",
    "produtos.sort(reverse=True)\n",
    "print(produtos)"
   ]
  },
  {
   "cell_type": "code",
   "execution_count": 11,
   "id": "4784ebce",
   "metadata": {},
   "outputs": [
    {
     "name": "stdout",
     "output_type": "stream",
     "text": [
      "['ABC12', 'ABC34', 'ABC37']\n"
     ]
    }
   ],
   "source": [
    "def padronizar_codigos(lista_codigos, padrao='M'):\n",
    "    for i, item in enumerate(lista_codigos):\n",
    "        item = item.replace('  ', ' ')\n",
    "        item = item.strip()\n",
    "        if padrao == 'm':\n",
    "            item = item.casefold()\n",
    "        elif padrao == 'M':\n",
    "            item = item.upper()\n",
    "        lista_codigos[i] = item\n",
    "    return lista_codigos\n",
    "\n",
    "\n",
    "cod_produtos = [' ABC12 ', 'abc34', 'AbC37']\n",
    "print(padronizar_codigos(cod_produtos))"
   ]
  },
  {
   "cell_type": "code",
   "execution_count": 2,
   "id": "fd019938",
   "metadata": {},
   "outputs": [],
   "source": [
    "vendas = {'VE0001': (9868,'Concluído',''),'VE0002': (9642,'Concluído',''),'VE0003': (6007,'Concluído',''),'VE0004': (15562,'Concluído',''),'VE0005': (18752,'Cancelado','Estoque em Falta'),'VE0006': (16358,'Cancelado','Estoque em Falta'),'VE0007': (17045,'Concluído',''),'VE0008': (12230,'Concluído',''),'VE0009': (6747,'Concluído',''),'VE0010': (15114,'Concluído',''),'VE0011': (12497,'Concluído',''),'VE0012': (6001,'Concluído',''),'VE0013': (16227,'Cancelado','Cancelada pelo Cliente'),'VE0014': (16150,'Concluído',''),'VE0015': (17705,'Concluído',''),'VE0016': (9978,'Concluído',''),'VE0017': (4266,'Concluído',''),'VE0018': (11531,'Concluído',''),'VE0019': (10352,'Cancelado','Cancelada pelo Cliente'),'VE0020': (16544,'Concluído',''),'VE0021': (15488,'Concluído',''),'VE0022': (15828,'Concluído',''),'VE0023': (1218,'Concluído',''),'VE0024': (11560,'Concluído',''),'VE0025': (14220,'Concluído',''),'VE0026': (17839,'Concluído',''),'VE0027': (4050,'Concluído',''),'VE0028': (7594,'Cancelado','Estoque em Falta'),'VE0029': (19586,'Concluído',''),'VE0030': (8453,'Concluído',''),'VE0031': (3589,'Concluído',''),'VE0032': (13472,'Cancelado','Cancelada pelo Cliente'),'VE0033': (16994,'Concluído',''),'VE0034': (2139,'Concluído',''),'VE0035': (10173,'Concluído',''),'VE0036': (17784,'Cancelado','Estoque em Falta'),'VE0037': (12214,'Concluído',''),'VE0038': (5878,'Concluído',''),'VE0039': (2622,'Concluído',''),'VE0040': (9765,'Concluído',''),'VE0041': (8872,'Concluído',''),'VE0042': (16543,'Concluído',''),'VE0043': (8994,'Concluído',''),'VE0044': (4332,'Concluído',''),'VE0045': (19679,'Concluído',''),'VE0046': (14968,'Concluído',''),'VE0047': (6352,'Concluído',''),'VE0048': (11461,'Concluído',''),'VE0049': (5285,'Concluído',''),'VE0050': (11639,'Concluído',''),'VE0051': (6023,'Concluído',''),'VE0052': (4943,'Concluído',''),'VE0053': (5654,'Concluído',''),'VE0054': (11734,'Concluído',''),'VE0055': (2742,'Concluído',''),'VE0056': (5380,'Cancelado','Estoque em Falta'),'VE0057': (5578,'Concluído',''),'VE0058': (1897,'Concluído',''),'VE0059': (7857,'Concluído',''),'VE0060': (4472,'Concluído',''),'VE0061': (19874,'Concluído',''),'VE0062': (13323,'Cancelado','Cancelada pelo Cliente'),'VE0063': (5821,'Concluído',''),'VE0064': (4410,'Concluído',''),'VE0065': (16676,'Concluído',''),'VE0066': (10577,'Concluído',''),'VE0067': (10627,'Concluído',''),'VE0068': (1987,'Concluído',''),'VE0069': (13197,'Concluído',''),'VE0070': (15063,'Concluído',''),'VE0071': (14363,'Concluído',''),'VE0072': (10452,'Concluído',''),'VE0073': (15376,'Concluído',''),'VE0074': (4661,'Concluído',''),'VE0075': (13287,'Concluído',''),'VE0076': (8278,'Concluído',''),'VE0077': (7134,'Concluído',''),'VE0078': (16568,'Concluído',''),'VE0079': (17732,'Concluído',''),'VE0080': (5127,'Concluído',''),'VE0081': (4582,'Concluído',''),'VE0082': (14804,'Cancelado','Cancelada pelo Cliente'),'VE0083': (12362,'Concluído',''),'VE0084': (1148,'Concluído',''),'VE0085': (14018,'Concluído',''),'VE0086': (15891,'Concluído',''),'VE0087': (4517,'Concluído',''),'VE0088': (1770,'Concluído',''),'VE0089': (14926,'Concluído',''),'VE0090': (13627,'Concluído',''),'VE0091': (3047,'Concluído',''),'VE0092': (13924,'Concluído',''),'VE0093': (7158,'Concluído',''),'VE0094': (5942,'Concluído',''),'VE0095': (13480,'Concluído',''),'VE0096': (17686,'Concluído',''),'VE0097': (5722,'Cancelado','Cancelada pelo Cliente'),'VE0098': (16963,'Concluído',''),'VE0099': (14225,'Concluído',''),'VE0100': (12553,'Concluído',''),'VE0101': (18047,'Concluído',''),'VE0102': (11420,'Concluído',''),'VE0103': (6191,'Concluído',''),'VE0104': (8388,'Concluído',''),'VE0105': (17210,'Concluído',''),'VE0106': (12217,'Concluído',''),'VE0107': (8984,'Concluído',''),'VE0108': (7638,'Cancelado','Cancelada pelo Cliente'),'VE0109': (8462,'Concluído',''),'VE0110': (14081,'Concluído',''),'VE0111': (10842,'Concluído',''),'VE0112': (13261,'Concluído',''),'VE0113': (16953,'Cancelado','Estoque em Falta'),'VE0114': (5343,'Concluído',''),'VE0115': (4734,'Concluído',''),'VE0116': (13606,'Cancelado','Cancelada pelo Cliente'),'VE0117': (17106,'Cancelado','Estoque em Falta'),'VE0118': (17704,'Concluído',''),'VE0119': (12242,'Concluído',''),'VE0120': (7476,'Cancelado','Estoque em Falta'),'VE0121': (18408,'Concluído',''),'VE0122': (13612,'Concluído',''),'VE0123': (18198,'Concluído',''),'VE0124': (4844,'Concluído',''),'VE0125': (12750,'Concluído',''),'VE0126': (11969,'Concluído',''),'VE0127': (15337,'Concluído',''),'VE0128': (1100,'Concluído',''),'VE0129': (18893,'Concluído',''),'VE0130': (15850,'Concluído',''),'VE0131': (2097,'Concluído',''),'VE0132': (11636,'Cancelado','Estoque em Falta'),'VE0133': (12603,'Concluído',''),'VE0134': (10769,'Concluído',''),'VE0135': (11016,'Concluído',''),'VE0136': (14556,'Concluído',''),'VE0137': (1389,'Concluído',''),'VE0138': (11681,'Concluído',''),'VE0139': (16759,'Cancelado','Cancelada pelo Cliente'),'VE0140': (16317,'Concluído',''),'VE0141': (5965,'Concluído',''),'VE0142': (4493,'Concluído',''),'VE0143': (5398,'Concluído',''),'VE0144': (9875,'Concluído',''),'VE0145': (17492,'Concluído',''),'VE0146': (7473,'Concluído',''),'VE0147': (10284,'Concluído',''),'VE0148': (10778,'Concluído',''),'VE0149': (2227,'Concluído',''),'VE0150': (14157,'Concluído',''),'VE0151': (9516,'Concluído',''),'VE0152': (9824,'Concluído',''),'VE0153': (5118,'Concluído',''),'VE0154': (5123,'Concluído',''),'VE0155': (2697,'Concluído',''),'VE0156': (19024,'Concluído',''),'VE0157': (5128,'Concluído',''),'VE0158': (8293,'Cancelado','Estoque em Falta'),'VE0159': (18782,'Concluído',''),'VE0160': (12182,'Concluído',''),'VE0161': (9063,'Concluído',''),'VE0162': (17608,'Concluído',''),'VE0163': (8456,'Cancelado','Cancelada pelo Cliente'),'VE0164': (1291,'Concluído',''),'VE0165': (14018,'Concluído',''),'VE0166': (2791,'Concluído',''),'VE0167': (17953,'Concluído',''),'VE0168': (14627,'Concluído',''),'VE0169': (3296,'Concluído',''),'VE0170': (1863,'Concluído',''),'VE0171': (4719,'Concluído',''),'VE0172': (15060,'Concluído',''),'VE0173': (2596,'Cancelado','Cancelada pelo Cliente'),'VE0174': (4919,'Concluído',''),'VE0175': (13770,'Concluído',''),'VE0176': (15041,'Cancelado','Estoque em Falta'),'VE0177': (6702,'Concluído',''),'VE0178': (9989,'Concluído',''),'VE0179': (5135,'Concluído',''),'VE0180': (13337,'Concluído',''),'VE0181': (13457,'Concluído',''),'VE0182': (17218,'Concluído',''),'VE0183': (6424,'Concluído',''),'VE0184': (5478,'Concluído',''),'VE0185': (10478,'Cancelado','Cancelada pelo Cliente'),'VE0186': (3240,'Concluído',''),'VE0187': (16503,'Concluído',''),'VE0188': (12762,'Concluído',''),'VE0189': (6985,'Cancelado','Cancelada pelo Cliente'),'VE0190': (13013,'Concluído',''),'VE0191': (5706,'Concluído',''),'VE0192': (6521,'Cancelado','Estoque em Falta'),'VE0193': (12904,'Concluído',''),'VE0194': (14691,'Concluído',''),'VE0195': (19338,'Concluído',''),'VE0196': (4556,'Cancelado','Cancelada pelo Cliente'),'VE0197': (9653,'Concluído',''),'VE0198': (4617,'Concluído',''),'VE0199': (4717,'Concluído',''),'VE0200': (8366,'Concluído','')}"
   ]
  },
  {
   "cell_type": "code",
   "execution_count": 3,
   "id": "3183fa77",
   "metadata": {},
   "outputs": [
    {
     "name": "stdout",
     "output_type": "stream",
     "text": [
      "(9868, 'Concluído', '')\n",
      "(9642, 'Concluído', '')\n",
      "(6007, 'Concluído', '')\n",
      "(15562, 'Concluído', '')\n",
      "(18752, 'Cancelado', 'Estoque em Falta')\n",
      "(16358, 'Cancelado', 'Estoque em Falta')\n",
      "(17045, 'Concluído', '')\n",
      "(12230, 'Concluído', '')\n",
      "(6747, 'Concluído', '')\n",
      "(15114, 'Concluído', '')\n",
      "(12497, 'Concluído', '')\n",
      "(6001, 'Concluído', '')\n",
      "(16227, 'Cancelado', 'Cancelada pelo Cliente')\n",
      "(16150, 'Concluído', '')\n",
      "(17705, 'Concluído', '')\n",
      "(9978, 'Concluído', '')\n",
      "(4266, 'Concluído', '')\n",
      "(11531, 'Concluído', '')\n",
      "(10352, 'Cancelado', 'Cancelada pelo Cliente')\n",
      "(16544, 'Concluído', '')\n",
      "(15488, 'Concluído', '')\n",
      "(15828, 'Concluído', '')\n",
      "(1218, 'Concluído', '')\n",
      "(11560, 'Concluído', '')\n",
      "(14220, 'Concluído', '')\n",
      "(17839, 'Concluído', '')\n",
      "(4050, 'Concluído', '')\n",
      "(7594, 'Cancelado', 'Estoque em Falta')\n",
      "(19586, 'Concluído', '')\n",
      "(8453, 'Concluído', '')\n",
      "(3589, 'Concluído', '')\n",
      "(13472, 'Cancelado', 'Cancelada pelo Cliente')\n",
      "(16994, 'Concluído', '')\n",
      "(2139, 'Concluído', '')\n",
      "(10173, 'Concluído', '')\n",
      "(17784, 'Cancelado', 'Estoque em Falta')\n",
      "(12214, 'Concluído', '')\n",
      "(5878, 'Concluído', '')\n",
      "(2622, 'Concluído', '')\n",
      "(9765, 'Concluído', '')\n",
      "(8872, 'Concluído', '')\n",
      "(16543, 'Concluído', '')\n",
      "(8994, 'Concluído', '')\n",
      "(4332, 'Concluído', '')\n",
      "(19679, 'Concluído', '')\n",
      "(14968, 'Concluído', '')\n",
      "(6352, 'Concluído', '')\n",
      "(11461, 'Concluído', '')\n",
      "(5285, 'Concluído', '')\n",
      "(11639, 'Concluído', '')\n",
      "(6023, 'Concluído', '')\n",
      "(4943, 'Concluído', '')\n",
      "(5654, 'Concluído', '')\n",
      "(11734, 'Concluído', '')\n",
      "(2742, 'Concluído', '')\n",
      "(5380, 'Cancelado', 'Estoque em Falta')\n",
      "(5578, 'Concluído', '')\n",
      "(1897, 'Concluído', '')\n",
      "(7857, 'Concluído', '')\n",
      "(4472, 'Concluído', '')\n",
      "(19874, 'Concluído', '')\n",
      "(13323, 'Cancelado', 'Cancelada pelo Cliente')\n",
      "(5821, 'Concluído', '')\n",
      "(4410, 'Concluído', '')\n",
      "(16676, 'Concluído', '')\n",
      "(10577, 'Concluído', '')\n",
      "(10627, 'Concluído', '')\n",
      "(1987, 'Concluído', '')\n",
      "(13197, 'Concluído', '')\n",
      "(15063, 'Concluído', '')\n",
      "(14363, 'Concluído', '')\n",
      "(10452, 'Concluído', '')\n",
      "(15376, 'Concluído', '')\n",
      "(4661, 'Concluído', '')\n",
      "(13287, 'Concluído', '')\n",
      "(8278, 'Concluído', '')\n",
      "(7134, 'Concluído', '')\n",
      "(16568, 'Concluído', '')\n",
      "(17732, 'Concluído', '')\n",
      "(5127, 'Concluído', '')\n",
      "(4582, 'Concluído', '')\n",
      "(14804, 'Cancelado', 'Cancelada pelo Cliente')\n",
      "(12362, 'Concluído', '')\n",
      "(1148, 'Concluído', '')\n",
      "(14018, 'Concluído', '')\n",
      "(15891, 'Concluído', '')\n",
      "(4517, 'Concluído', '')\n",
      "(1770, 'Concluído', '')\n",
      "(14926, 'Concluído', '')\n",
      "(13627, 'Concluído', '')\n",
      "(3047, 'Concluído', '')\n",
      "(13924, 'Concluído', '')\n",
      "(7158, 'Concluído', '')\n",
      "(5942, 'Concluído', '')\n",
      "(13480, 'Concluído', '')\n",
      "(17686, 'Concluído', '')\n",
      "(5722, 'Cancelado', 'Cancelada pelo Cliente')\n",
      "(16963, 'Concluído', '')\n",
      "(14225, 'Concluído', '')\n",
      "(12553, 'Concluído', '')\n",
      "(18047, 'Concluído', '')\n",
      "(11420, 'Concluído', '')\n",
      "(6191, 'Concluído', '')\n",
      "(8388, 'Concluído', '')\n",
      "(17210, 'Concluído', '')\n",
      "(12217, 'Concluído', '')\n",
      "(8984, 'Concluído', '')\n",
      "(7638, 'Cancelado', 'Cancelada pelo Cliente')\n",
      "(8462, 'Concluído', '')\n",
      "(14081, 'Concluído', '')\n",
      "(10842, 'Concluído', '')\n",
      "(13261, 'Concluído', '')\n",
      "(16953, 'Cancelado', 'Estoque em Falta')\n",
      "(5343, 'Concluído', '')\n",
      "(4734, 'Concluído', '')\n",
      "(13606, 'Cancelado', 'Cancelada pelo Cliente')\n",
      "(17106, 'Cancelado', 'Estoque em Falta')\n",
      "(17704, 'Concluído', '')\n",
      "(12242, 'Concluído', '')\n",
      "(7476, 'Cancelado', 'Estoque em Falta')\n",
      "(18408, 'Concluído', '')\n",
      "(13612, 'Concluído', '')\n",
      "(18198, 'Concluído', '')\n",
      "(4844, 'Concluído', '')\n",
      "(12750, 'Concluído', '')\n",
      "(11969, 'Concluído', '')\n",
      "(15337, 'Concluído', '')\n",
      "(1100, 'Concluído', '')\n",
      "(18893, 'Concluído', '')\n",
      "(15850, 'Concluído', '')\n",
      "(2097, 'Concluído', '')\n",
      "(11636, 'Cancelado', 'Estoque em Falta')\n",
      "(12603, 'Concluído', '')\n",
      "(10769, 'Concluído', '')\n",
      "(11016, 'Concluído', '')\n",
      "(14556, 'Concluído', '')\n",
      "(1389, 'Concluído', '')\n",
      "(11681, 'Concluído', '')\n",
      "(16759, 'Cancelado', 'Cancelada pelo Cliente')\n",
      "(16317, 'Concluído', '')\n",
      "(5965, 'Concluído', '')\n",
      "(4493, 'Concluído', '')\n",
      "(5398, 'Concluído', '')\n",
      "(9875, 'Concluído', '')\n",
      "(17492, 'Concluído', '')\n",
      "(7473, 'Concluído', '')\n",
      "(10284, 'Concluído', '')\n",
      "(10778, 'Concluído', '')\n",
      "(2227, 'Concluído', '')\n",
      "(14157, 'Concluído', '')\n",
      "(9516, 'Concluído', '')\n",
      "(9824, 'Concluído', '')\n",
      "(5118, 'Concluído', '')\n",
      "(5123, 'Concluído', '')\n",
      "(2697, 'Concluído', '')\n",
      "(19024, 'Concluído', '')\n",
      "(5128, 'Concluído', '')\n",
      "(8293, 'Cancelado', 'Estoque em Falta')\n",
      "(18782, 'Concluído', '')\n",
      "(12182, 'Concluído', '')\n",
      "(9063, 'Concluído', '')\n",
      "(17608, 'Concluído', '')\n",
      "(8456, 'Cancelado', 'Cancelada pelo Cliente')\n",
      "(1291, 'Concluído', '')\n",
      "(14018, 'Concluído', '')\n",
      "(2791, 'Concluído', '')\n",
      "(17953, 'Concluído', '')\n",
      "(14627, 'Concluído', '')\n",
      "(3296, 'Concluído', '')\n",
      "(1863, 'Concluído', '')\n",
      "(4719, 'Concluído', '')\n",
      "(15060, 'Concluído', '')\n",
      "(2596, 'Cancelado', 'Cancelada pelo Cliente')\n",
      "(4919, 'Concluído', '')\n",
      "(13770, 'Concluído', '')\n",
      "(15041, 'Cancelado', 'Estoque em Falta')\n",
      "(6702, 'Concluído', '')\n",
      "(9989, 'Concluído', '')\n",
      "(5135, 'Concluído', '')\n",
      "(13337, 'Concluído', '')\n",
      "(13457, 'Concluído', '')\n",
      "(17218, 'Concluído', '')\n",
      "(6424, 'Concluído', '')\n",
      "(5478, 'Concluído', '')\n",
      "(10478, 'Cancelado', 'Cancelada pelo Cliente')\n",
      "(3240, 'Concluído', '')\n",
      "(16503, 'Concluído', '')\n",
      "(12762, 'Concluído', '')\n",
      "(6985, 'Cancelado', 'Cancelada pelo Cliente')\n",
      "(13013, 'Concluído', '')\n",
      "(5706, 'Concluído', '')\n",
      "(6521, 'Cancelado', 'Estoque em Falta')\n",
      "(12904, 'Concluído', '')\n",
      "(14691, 'Concluído', '')\n",
      "(19338, 'Concluído', '')\n",
      "(4556, 'Cancelado', 'Cancelada pelo Cliente')\n",
      "(9653, 'Concluído', '')\n",
      "(4617, 'Concluído', '')\n",
      "(4717, 'Concluído', '')\n",
      "(8366, 'Concluído', '')\n"
     ]
    }
   ],
   "source": [
    "for venda in vendas:\n",
    "    print(vendas[venda])"
   ]
  },
  {
   "cell_type": "code",
   "execution_count": 4,
   "id": "b8159432",
   "metadata": {},
   "outputs": [],
   "source": [
    "def calculo_stockout(dicionario_vendas):\n",
    "    numerador = 0\n",
    "    denominador = 0\n",
    "    for venda in dicionario_vendas:\n",
    "        valor, status, motivo = dicionario_vendas[venda]\n",
    "        if status == 'Concluído':\n",
    "            denominador += valor\n",
    "        elif status == 'Cancelado' and motivo == 'Estoque em Falta':\n",
    "            denominador += valor\n",
    "            numerador += valor\n",
    "    return numerador / denominador"
   ]
  },
  {
   "cell_type": "code",
   "execution_count": 6,
   "id": "31c3154d",
   "metadata": {},
   "outputs": [
    {
     "name": "stdout",
     "output_type": "stream",
     "text": [
      "7.65%\n"
     ]
    }
   ],
   "source": [
    "print('{:.2%}'.format(calculo_stockout(vendas)))"
   ]
  },
  {
   "cell_type": "code",
   "execution_count": 7,
   "id": "66d4504a",
   "metadata": {},
   "outputs": [],
   "source": [
    "clientes_devedores = [('462.286.561-65',14405,24),('251.569.170-81',16027,1),('297.681.579-21',8177,28),('790.223.154-40',9585,10),('810.442.219-10',18826,29),('419.210.299-79',11421,15),('908.507.760-43',12445,24),('911.238.364-17',1345,4),('131.115.339-28',11625,8),('204.169.467-27',5364,22),('470.806.376-11',932,29),('938.608.980-69',13809,19),('554.684.165-26',11227,2),('119.225.846-34',4475,9),('358.890.858-95',13932,20),('786.547.940-70',17048,25),('468.487.741-94',2902,8),('540.685.100-32',5806,21),('379.729.796-80',7622,24),('980.173.363-94',13167,24),('833.285.374-56',19581,24),('103.669.436-50',17126,4),('386.836.124-46',18825,11),('588.404.964-15',1545,30),('600.556.177-18',1921,7),('670.346.230-99',18079,28),('771.352.915-13',16581,23),('430.314.324-46',13942,24),('629.507.759-51',17951,11),('348.683.225-73',12424,10),('406.133.151-17',5888,30),('310.985.894-64',17316,30),('964.317.132-30',18818,30),('845.331.524-14',14284,13),('781.995.738-18',19369,29),('921.558.128-63',3206,27),('941.386.982-65',10228,26),('551.135.290-10',18822,18),('537.124.578-35',12670,6),('119.383.169-76',790,20),('938.473.410-98',8851,5),('279.775.182-54',5212,20),('210.872.954-53',13569,8),('684.995.531-65',8649,21),('653.886.282-57',504,28),('973.580.738-53',2533,9),('285.864.892-85',8200,21),('777.154.423-98',10336,8),('769.786.401-34',3233,12),('521.566.565-97',11882,14),('491.799.681-92',653,8),('344.357.819-36',8856,18),('265.362.581-99',8962,8),('331.410.527-56',18516,18),('143.188.958-61',7234,29),('751.630.472-61',13552,6),('714.707.807-80',2898,7),('585.584.932-83',239,25),('165.554.107-13',9572,23),('718.225.984-87',10534,25),('611.715.653-32',3210,11),('397.994.286-79',13651,24),('967.160.575-69',8997,25),('369.750.998-94',13952,2),('767.400.554-79',18320,11),('171.104.286-74',5821,21),('152.817.649-24',3358,30),('645.308.846-62',15176,25),('273.884.570-92',4436,13),('888.818.341-45',15730,3),('577.836.712-40',14670,16),('513.529.919-95',4002,1),('201.476.809-95',17442,21),('657.816.571-87',1582,2),('810.494.975-87',2157,9),('531.749.410-17',12355,18),('486.290.887-24',18576,26),('432.376.642-62',8027,23),('207.274.437-91',5125,29),('634.244.673-72',11387,15),('346.871.172-72',8105,23),('166.330.605-50',7865,11),('829.181.731-94',2425,8),('197.305.464-63',9681,8),('887.877.706-59',15681,10),('847.598.885-51',323,23),('817.170.984-26',5169,27),('591.397.550-29',13362,25),('872.733.198-95',5756,18),('615.629.238-82',11678,23),('194.782.846-77',11044,17),('146.392.158-88',6848,4),('240.427.458-70',3906,25),('583.662.427-52',3306,5),('841.627.523-64',4778,4),('985.337.216-77',15308,4),('912.410.722-57',11683,6),('700.720.266-23',12638,21),('605.405.529-53',3831,3),('383.256.402-25',2599,10),('248.103.486-68',9121,1),('261.974.594-90',2139,26),('297.126.704-91',18529,16),('680.569.318-52',10176,23),('296.334.647-38',225,13),('200.761.898-70',16244,20),('258.232.687-17',19462,18),('597.295.672-38',18840,11),('894.479.102-52',11375,12),('556.156.341-36',16269,23),('987.874.553-86',11253,17),('248.927.998-94',6510,1),('852.796.660-25',2662,23),('741.370.204-36',9303,16),('536.714.951-95',2877,23),('320.395.830-44',14554,5),('520.645.562-80',17547,24),('553.700.674-28',3147,14),('913.525.896-32',17651,28),('750.456.495-86',11524,9),('246.171.748-38',15184,4),('760.248.897-67',4953,25),('920.890.990-46',17172,20),('805.469.913-50',17500,21),('878.594.225-48',6255,3),('356.715.924-36',3454,13),('847.150.802-96',8602,22),('625.846.640-53',10888,19),('539.300.108-41',11225,21),('549.151.467-76',1286,21),('738.451.908-29',18905,22),('987.288.834-69',17533,25),('898.532.296-94',9719,11),('620.531.607-13',13584,10),('169.415.202-43',1871,29),('757.885.355-97',18150,28),('252.581.376-21',2497,3),('177.937.460-78',7178,8),('523.895.611-54',9878,26),('883.680.201-23',16761,3),('936.678.268-71',11017,9),('871.912.703-73',1754,9),('957.749.478-56',6914,9),('725.636.354-80',8605,13),('898.316.244-33',14363,12),('894.748.325-28',2764,3),('647.106.954-60',1482,6),('628.716.937-98',14107,8),('332.677.483-83',19146,15),('186.870.928-82',17050,12),('216.248.879-71',4384,16),('287.929.269-44',4894,19),('278.335.932-42',17220,13),('824.107.287-13',11797,7),('535.354.954-30',9195,22),('311.762.241-12',13871,2),('209.759.133-88',13580,21),('505.728.766-53',16950,13),('879.471.988-23',17427,14),('772.329.947-39',3462,8),('321.123.241-10',2592,22),('407.342.963-78',11435,21),('786.935.637-47',14240,9),('461.791.351-55',142,2),('770.920.161-42',1247,24),('639.870.185-59',6430,10),('815.943.237-83',19550,22),('141.774.255-61',17866,13),('379.995.400-37',9503,29),('261.103.178-64',19167,13),('495.461.913-57',12265,29),('498.848.750-79',14549,16),('578.770.731-84',1462,5),('408.987.269-72',5647,28),('191.970.336-40',6313,15),('761.137.848-34',10654,23),('810.512.154-21',14928,1),('256.371.788-38',7085,2),('216.401.188-57',1531,23),('956.318.620-43',6327,22),('986.516.478-33',3866,25),('105.665.555-60',7118,4),('259.228.430-72',1601,8),('133.627.971-58',10142,14),('327.988.845-70',14985,23),('363.167.322-63',17236,7),('189.986.406-38',16888,18),('661.194.373-45',7824,1),('805.728.877-53',514,10),('887.826.412-21',15977,24),('122.975.174-32',9409,25),('456.550.370-55',19922,18),('388.243.133-66',19785,17),('208.788.890-61',11893,22),('881.332.662-49',6344,16),('912.349.944-52',6858,15),('534.904.583-32',9559,11),('825.175.334-25',19805,15),('339.191.298-46',13325,8),('569.993.915-78',4339,15)]\n"
   ]
  },
  {
   "cell_type": "code",
   "execution_count": 8,
   "id": "1ae4b1a2",
   "metadata": {},
   "outputs": [],
   "source": [
    "def clientes_inadimplentes(lista_devedores):\n",
    "    lista_inadimplentes = []\n",
    "    for cliente in lista_devedores:\n",
    "        cpf, valor, dias = cliente\n",
    "        if valor > 1000 and dias > 20:\n",
    "            lista_inadimplentes.append(cpf)\n",
    "    return lista_inadimplentes"
   ]
  },
  {
   "cell_type": "code",
   "execution_count": 11,
   "id": "1dc327bd",
   "metadata": {},
   "outputs": [
    {
     "name": "stdout",
     "output_type": "stream",
     "text": [
      "['462.286.561-65', '297.681.579-21', '810.442.219-10', '908.507.760-43', '204.169.467-27', '786.547.940-70', '540.685.100-32', '379.729.796-80', '980.173.363-94', '833.285.374-56', '588.404.964-15', '670.346.230-99', '771.352.915-13', '430.314.324-46', '406.133.151-17', '310.985.894-64', '964.317.132-30', '781.995.738-18', '921.558.128-63', '941.386.982-65', '684.995.531-65', '285.864.892-85', '143.188.958-61', '165.554.107-13', '718.225.984-87', '397.994.286-79', '967.160.575-69', '171.104.286-74', '152.817.649-24', '645.308.846-62', '201.476.809-95', '486.290.887-24', '432.376.642-62', '207.274.437-91', '346.871.172-72', '817.170.984-26', '591.397.550-29', '615.629.238-82', '240.427.458-70', '700.720.266-23', '261.974.594-90', '680.569.318-52', '556.156.341-36', '852.796.660-25', '536.714.951-95', '520.645.562-80', '913.525.896-32', '760.248.897-67', '805.469.913-50', '847.150.802-96', '539.300.108-41', '549.151.467-76', '738.451.908-29', '987.288.834-69', '169.415.202-43', '757.885.355-97', '523.895.611-54', '535.354.954-30', '209.759.133-88', '321.123.241-10', '407.342.963-78', '770.920.161-42', '815.943.237-83', '379.995.400-37', '495.461.913-57', '408.987.269-72', '761.137.848-34', '216.401.188-57', '956.318.620-43', '986.516.478-33', '327.988.845-70', '887.826.412-21', '122.975.174-32', '208.788.890-61']\n",
      "74\n",
      "200\n"
     ]
    }
   ],
   "source": [
    "print(clientes_inadimplentes(clientes_devedores))\n",
    "print(len(clientes_inadimplentes(clientes_devedores)))  # para conferência\n",
    "print(len(clientes_devedores))  # para conferência"
   ]
  },
  {
   "cell_type": "markdown",
   "id": "75f6a8fe",
   "metadata": {},
   "source": [
    "# Retornar mais de um objeto #"
   ]
  },
  {
   "cell_type": "code",
   "execution_count": 12,
   "id": "c0a855e6",
   "metadata": {},
   "outputs": [],
   "source": [
    "def operacoes_basicas(num1, num2):\n",
    "    soma = num1 + num2\n",
    "    diferenca = num1 - num2\n",
    "    mult = num1 * num2\n",
    "    divisao = num1 / num2\n",
    "    return (soma, diferenca, mult, divisao)"
   ]
  },
  {
   "cell_type": "code",
   "execution_count": 13,
   "id": "2b1aa1f7",
   "metadata": {},
   "outputs": [
    {
     "name": "stdout",
     "output_type": "stream",
     "text": [
      "(12, 8, 20, 5.0)\n"
     ]
    }
   ],
   "source": [
    "print(operacoes_basicas(10,2))"
   ]
  },
  {
   "cell_type": "code",
   "execution_count": 14,
   "id": "997fac94",
   "metadata": {},
   "outputs": [],
   "source": [
    "def operacoes_basicas(num1, num2):\n",
    "    soma = num1 + num2\n",
    "    diferenca = num1 - num2\n",
    "    mult = num1 * num2\n",
    "    divisao = num1 / num2\n",
    "    return soma, diferenca, mult, divisao"
   ]
  },
  {
   "cell_type": "code",
   "execution_count": 15,
   "id": "12b74670",
   "metadata": {},
   "outputs": [
    {
     "name": "stdout",
     "output_type": "stream",
     "text": [
      "(12, 8, 20, 5.0)\n"
     ]
    }
   ],
   "source": [
    "print(operacoes_basicas(10,2))"
   ]
  },
  {
   "cell_type": "code",
   "execution_count": 24,
   "id": "0d4971cb",
   "metadata": {},
   "outputs": [],
   "source": [
    "meta = 10000\n",
    "vendas = {\n",
    "    'João': 15000,\n",
    "    'Julia': 27000,\n",
    "    'Marcus': 9900,\n",
    "    'Maria': 3750,\n",
    "    'Ana': 10300,\n",
    "    'Alon': 7870,\n",
    "}"
   ]
  },
  {
   "cell_type": "code",
   "execution_count": 25,
   "id": "aa50dd04",
   "metadata": {},
   "outputs": [],
   "source": [
    "def calculo_meta(meta, vendas):\n",
    "    bateram_meta = []\n",
    "    for vendedor in vendas:\n",
    "        if vendas[vendedor] >= meta:\n",
    "            bateram_meta.append(vendedor)\n",
    "    perc_baterammeta = len(bateram_meta) / len(vendas)\n",
    "    return perc_baterammeta, bateram_meta"
   ]
  },
  {
   "cell_type": "code",
   "execution_count": 26,
   "id": "9074a84b",
   "metadata": {},
   "outputs": [
    {
     "name": "stdout",
     "output_type": "stream",
     "text": [
      "0.5\n",
      "['João', 'Julia', 'Ana']\n"
     ]
    }
   ],
   "source": [
    "p_meta, vendedores_acima_meta = calculo_meta(meta, vendas)\n",
    "print(p_meta)\n",
    "print(vendedores_acima_meta)"
   ]
  },
  {
   "cell_type": "code",
   "execution_count": 27,
   "id": "35931e7f",
   "metadata": {},
   "outputs": [
    {
     "name": "stdout",
     "output_type": "stream",
     "text": [
      "[2.17, 1.54, 1.45, 1.94, 2.37, 2.3, 1.79, 1.8]\n",
      "[2.25, 1.37]\n"
     ]
    }
   ],
   "source": [
    "#exemplo mais simples para facilitar a visualização\n",
    "precos_imoveis = [2.17,1.54,1.45,1.94,2.37,2.3,1.79,1.8,2.25,1.37]\n",
    "tamanho_imoveis = [207,148,130,203,257,228,160,194,232,147]\n",
    "\n",
    "# Vamos definir qual o fator que vamos dividir as listas (ou seja, quantos % da lista vai ficar pra teste. O resto fica pra treino)\n",
    "#Vamos usar 0.1 (10%)\n",
    "fator = 0.2\n",
    "#Isso significa que a lista de teste tem quantos itens?\n",
    "i = int((1 - fator) * len(precos_imoveis))\n",
    "#Agora vamos entender qual conta temos que fazer para dividir a lista em 2 listas. Uma com 90% dos valores e outra com 10%\n",
    "precos_treino = precos_imoveis[:i]\n",
    "precos_teste = precos_imoveis[i:]\n",
    "print(precos_treino)\n",
    "print(precos_teste)\n"
   ]
  },
  {
   "cell_type": "code",
   "execution_count": 28,
   "id": "5c9fc00c",
   "metadata": {},
   "outputs": [
    {
     "name": "stdout",
     "output_type": "stream",
     "text": [
      "100\n"
     ]
    }
   ],
   "source": [
    "precos_imoveis = [2.17,1.54,1.45,1.94,2.37,2.3,1.79,1.8,2.25,1.37,2.4,1.72,2,1.69,1.63,2.01,2.25,1.61,1.02,1.19,1.86,2.15,2.03,1.61,1.52,1.56,1.69,1.47,1.09,2.47,1.62,2.15,1.81,2.49,2.08,1.02,1.68,1.53,1.2,1.29,1.88,1.92,2.14,1.95,2.48,2.44,1.41,1.98,1.89,1.69,1.95,1.42,1.57,2.32,1.23,1.43,1.35,1.49,2.39,2.37,1.3,2.25,1.5,1.35,2.06,1.05,1.7,2.29,2.44,2.09,1.81,2.04,2.45,1.42,2.09,2.19,2.09,1,2.23,1.39,2,1.29,1.55,1.67,2.06,1.89,2.07,2.39,1.93,1.51,1.73,1.66,1.18,1.13,1.69,2.48,1.26,1.75, 1.51, 1.73]\n",
    "tamanho_imoveis = [207,148,130,203,257,228,160,194,232,147,222,165,184,175,147,217,214,171,86,111,180,211,210,168,156,154,179,163,99,246,162,205,195,263,198,121,149,140,122,119,197,210,218,202,258,256,135,203,173,152,197,145,154,252,141,141,151,133,232,229,134,215,155,138,186,120,152,213,256,219,200,210,238,140,224,233,222,120,233,151,185,111,149,186,194,194,222,223,185,157,154,164,129,128,169,240,136,191, 157, 154]\n",
    "\n",
    "def separar_listas(precos, tamanhos, fator=0.1):\n",
    "        if len(precos) == len(tamanhos):\n",
    "            #executar o codigo\n",
    "            i = int((1 - fator) * len(precos))\n",
    "            precos_imoveis_treino = precos[:i]\n",
    "            precos_imoveis_teste = precos[i:]\n",
    "            tamanho_imoveis_teste = tamanhos[i:]\n",
    "            tamanho_imoveis_treino = tamanhos[:i]\n",
    "            return precos_imoveis_treino, precos_imoveis_teste, tamanho_imoveis_treino, tamanho_imoveis_teste\n",
    "        else:\n",
    "            print('As listas de precos e tamanhos dos imoveis não têm a mesma quantidade de itens')\n",
    "            return\n",
    "\n",
    "\n",
    "print(len(precos_imoveis))\n",
    "precos_treino, precos_teste, tamanho_treino, tamanho_teste = separar_listas(precos_imoveis, tamanho_imoveis)\n",
    "\n"
   ]
  },
  {
   "cell_type": "code",
   "execution_count": 31,
   "id": "606926f2",
   "metadata": {},
   "outputs": [],
   "source": [
    "def descobrir_servidor(email):\n",
    "    try:\n",
    "        posicao_a = email.index('@')\n",
    "        servidor = email[posicao_a:]\n",
    "        if 'gmail' in servidor:\n",
    "            return 'gmail'\n",
    "        elif 'hotmail' in servidor or 'outlook' in servidor or 'live' in servidor:\n",
    "            return 'hotmail'\n",
    "        elif 'yahoo' in servidor:\n",
    "            return 'yahoo'\n",
    "        elif 'uol' in servidor or 'bol' in servidor:\n",
    "            return 'uol'\n",
    "        else:\n",
    "            return 'não determinado'\n",
    "    except:\n",
    "        print('Email digitado não tem @, digite novamente')"
   ]
  },
  {
   "cell_type": "code",
   "execution_count": 32,
   "id": "6153be9b",
   "metadata": {},
   "outputs": [
    {
     "name": "stdout",
     "output_type": "stream",
     "text": [
      "Qual o seu email?alexgmail.com\n",
      "Email digitado não tem @, digite novamente\n",
      "None\n"
     ]
    }
   ],
   "source": [
    "email = input(\"Qual o seu email?\")\n",
    "print(descobrir_servidor(email))"
   ]
  },
  {
   "cell_type": "code",
   "execution_count": null,
   "id": "be1d32a4",
   "metadata": {},
   "outputs": [],
   "source": []
  }
 ],
 "metadata": {
  "kernelspec": {
   "display_name": "Python 3",
   "language": "python",
   "name": "python3"
  },
  "language_info": {
   "codemirror_mode": {
    "name": "ipython",
    "version": 3
   },
   "file_extension": ".py",
   "mimetype": "text/x-python",
   "name": "python",
   "nbconvert_exporter": "python",
   "pygments_lexer": "ipython3",
   "version": "3.8.8"
  }
 },
 "nbformat": 4,
 "nbformat_minor": 5
}
