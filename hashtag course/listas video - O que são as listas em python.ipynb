{
 "cells": [
  {
   "cell_type": "markdown",
   "id": "085fddd3",
   "metadata": {},
   "source": [
    "## Listas Vídeo Hashtag\n",
    "\n",
    "### lst.append(val)  add item at end\n",
    "### lst.extend(seq)  add sequence of items at end\n",
    "### lst.insert(idx,val)  insert item at index\n",
    "###lst.remove(val)  remove first item with value val\n",
    "### lst.pop([idx])  →valueremove & return item at index idx (default last)\n",
    "### lst.sort()   lst.reverse()sort / reverse liste in place\n"
   ]
  },
  {
   "cell_type": "code",
   "execution_count": 1,
   "id": "b4e9bdfc",
   "metadata": {},
   "outputs": [
    {
     "name": "stdout",
     "output_type": "stream",
     "text": [
      "['banana', 'maça', 'laranja']\n"
     ]
    }
   ],
   "source": [
    "lista_compras = ['banana', 'maça', 'laranja']\n",
    "print(lista_compras)"
   ]
  },
  {
   "cell_type": "code",
   "execution_count": 3,
   "id": "9e385320",
   "metadata": {},
   "outputs": [
    {
     "name": "stdout",
     "output_type": "stream",
     "text": [
      "maça\n"
     ]
    }
   ],
   "source": [
    "print(lista_compras[1])\n"
   ]
  },
  {
   "cell_type": "code",
   "execution_count": 4,
   "id": "711caac6",
   "metadata": {},
   "outputs": [
    {
     "name": "stdout",
     "output_type": "stream",
     "text": [
      "banana\n"
     ]
    }
   ],
   "source": [
    "print(lista_compras[0])"
   ]
  },
  {
   "cell_type": "code",
   "execution_count": 5,
   "id": "faa99ddc",
   "metadata": {},
   "outputs": [
    {
     "name": "stdout",
     "output_type": "stream",
     "text": [
      "laranja\n"
     ]
    }
   ],
   "source": [
    "print(lista_compras[-1])"
   ]
  },
  {
   "cell_type": "code",
   "execution_count": 6,
   "id": "b0f27c6a",
   "metadata": {},
   "outputs": [],
   "source": [
    "lista_compras.append('beterraba')"
   ]
  },
  {
   "cell_type": "code",
   "execution_count": 7,
   "id": "46cf9c5f",
   "metadata": {},
   "outputs": [
    {
     "name": "stdout",
     "output_type": "stream",
     "text": [
      "['banana', 'maça', 'laranja', 'beterraba']\n"
     ]
    }
   ],
   "source": [
    "print(lista_compras)"
   ]
  },
  {
   "cell_type": "code",
   "execution_count": 8,
   "id": "d70ac592",
   "metadata": {},
   "outputs": [
    {
     "name": "stdout",
     "output_type": "stream",
     "text": [
      "['banana', 'chocolate', 'maça', 'laranja', 'beterraba']\n"
     ]
    }
   ],
   "source": [
    "# append põem no fim o insert no local determinado\n",
    "lista_compras.insert(1, 'chocolate') # inseriu o chocolate na posição de index 1, não subscreve, não substitui ninguém\n",
    "print(lista_compras)"
   ]
  },
  {
   "cell_type": "code",
   "execution_count": 10,
   "id": "577ce5d2",
   "metadata": {},
   "outputs": [
    {
     "name": "stdout",
     "output_type": "stream",
     "text": [
      "['apple', 'orange']\n"
     ]
    }
   ],
   "source": [
    "beta_list = ['apple', 'banana', 'orange']\n",
    "del beta_list [1]\n",
    "print(beta_list)"
   ]
  },
  {
   "cell_type": "code",
   "execution_count": 11,
   "id": "f05f25f8",
   "metadata": {},
   "outputs": [
    {
     "name": "stdout",
     "output_type": "stream",
     "text": [
      "['banana', 'chocolate', 'maça', 'laranja']\n"
     ]
    }
   ],
   "source": [
    "del lista_compras[4] # retirar beterraba\n",
    "print(lista_compras)"
   ]
  },
  {
   "cell_type": "code",
   "execution_count": 12,
   "id": "bbfc2c32",
   "metadata": {},
   "outputs": [
    {
     "name": "stdout",
     "output_type": "stream",
     "text": [
      "['banana', 'maça', 'laranja']\n"
     ]
    }
   ],
   "source": [
    "lista_compras.remove('chocolate')   # retira pelo 'nome'\n",
    "print(lista_compras)"
   ]
  },
  {
   "cell_type": "code",
   "execution_count": 13,
   "id": "1668d94b",
   "metadata": {},
   "outputs": [
    {
     "name": "stdout",
     "output_type": "stream",
     "text": [
      "['banana', 'maça', 'laranja', 'carro']\n"
     ]
    }
   ],
   "source": [
    "lista_compras.append('carro')\n",
    "print(lista_compras)"
   ]
  },
  {
   "cell_type": "code",
   "execution_count": 14,
   "id": "7e67f3ac",
   "metadata": {},
   "outputs": [
    {
     "name": "stdout",
     "output_type": "stream",
     "text": [
      "carro\n"
     ]
    }
   ],
   "source": [
    "lista_sonhos = []     #criei uma lista nova (lista_sonhos)\n",
    "\n",
    "sonho = lista_compras.pop(-1) # retirou o último elemento da lista_compras: carro e colocou na variável sonho\n",
    "print(sonho)  # printou para conferir"
   ]
  },
  {
   "cell_type": "code",
   "execution_count": 15,
   "id": "576149fe",
   "metadata": {},
   "outputs": [
    {
     "name": "stdout",
     "output_type": "stream",
     "text": [
      "['banana', 'maça', 'laranja']\n",
      "['carro']\n"
     ]
    }
   ],
   "source": [
    "lista_sonhos.append(sonho)  # na lista lista_sonhos acrescentou o que está na variável sonho, que é carro, deixando de ser\n",
    "# uma lista vazia como acima: lista_sonhos = []\n",
    "print(lista_compras)\n",
    "print(lista_sonhos)"
   ]
  },
  {
   "cell_type": "code",
   "execution_count": 18,
   "id": "f3870d82",
   "metadata": {},
   "outputs": [
    {
     "name": "stdout",
     "output_type": "stream",
     "text": [
      "lista_compras = ['banana', 'maça', 'laranja']\n",
      "lista_sonhos = ['carro', 'carro', 'carro', 'carro']\n"
     ]
    }
   ],
   "source": [
    "lista_sonhos.append(sonho)  # na lista lista_sonhos acrescentou o que está na variável sonho, que é carro, deixando de ser\n",
    "# uma lista vazia como acima: lista_sonhos = []\n",
    "print('lista_compras =', lista_compras)\n",
    "print('lista_sonhos =', lista_sonhos)"
   ]
  },
  {
   "cell_type": "code",
   "execution_count": 19,
   "id": "97a40a77",
   "metadata": {},
   "outputs": [
    {
     "name": "stdout",
     "output_type": "stream",
     "text": [
      "Insira uma tarefacurir o vídeo de listas da hashtag\n"
     ]
    }
   ],
   "source": [
    "tarefas = []\n",
    "\n",
    "tarefa = input('Insira uma tarefa')\n",
    "tarefas.append(tarefa)"
   ]
  },
  {
   "cell_type": "code",
   "execution_count": 20,
   "id": "ac0b8b03",
   "metadata": {},
   "outputs": [
    {
     "name": "stdout",
     "output_type": "stream",
     "text": [
      "['curir o vídeo de listas da hashtag']\n"
     ]
    }
   ],
   "source": [
    "print(tarefas)"
   ]
  },
  {
   "cell_type": "code",
   "execution_count": 22,
   "id": "df436d27",
   "metadata": {},
   "outputs": [
    {
     "name": "stdout",
     "output_type": "stream",
     "text": [
      "Insira uma tarefa: acrescente um video\n",
      "Insira uma tarefa: olhe o hashtag\n",
      "Insira uma tarefa: \n",
      "['curir o vídeo de listas da hashtag', 'compartilhar', 'fazer download mini curso python', 'acrescente um video', 'olhe o hashtag', '']\n"
     ]
    }
   ],
   "source": [
    "while tarefa !='':\n",
    "    tarefa = input('Insira uma tarefa: ')\n",
    "    tarefas.append(tarefa)\n",
    "    \n",
    "print(tarefas)"
   ]
  },
  {
   "cell_type": "code",
   "execution_count": 24,
   "id": "bb3661c1",
   "metadata": {},
   "outputs": [
    {
     "name": "stdout",
     "output_type": "stream",
     "text": [
      "['curir o vídeo de listas da hashtag', 'compartilhar', 'fazer download mini curso python', 'acrescente um video', 'olhe o hashtag']\n"
     ]
    }
   ],
   "source": [
    "while tarefa !='':\n",
    "    tarefa = input('Insira uma tarefa: ')\n",
    "    tarefas.append(tarefa)\n",
    "    \n",
    "print(tarefas[0:-1])  # retira a última posição que no caso sempre seria o vazio ''"
   ]
  },
  {
   "cell_type": "code",
   "execution_count": 25,
   "id": "7322b94b",
   "metadata": {},
   "outputs": [
    {
     "name": "stdout",
     "output_type": "stream",
     "text": [
      "['curir o vídeo de listas da hashtag', 'compartilhar', 'fazer download mini curso python', 'acrescente um video', 'olhe o hashtag']\n"
     ]
    }
   ],
   "source": [
    "while tarefa !='':\n",
    "    tarefa = input('Insira uma tarefa: ')\n",
    "    tarefas.append(tarefa)\n",
    "    \n",
    "print(tarefas[:-1])  # retira a última posição que no caso sempre seria o vazio - dá no mesmo do de cima ''"
   ]
  },
  {
   "cell_type": "code",
   "execution_count": 26,
   "id": "efac951c",
   "metadata": {},
   "outputs": [
    {
     "name": "stdout",
     "output_type": "stream",
     "text": [
      "['Rio de Janeiro', 'São Paulo', 'Curitiba']\n",
      "[10000, 20000, 50000]\n"
     ]
    }
   ],
   "source": [
    "lojas = ['Rio de Janeiro', 'São Paulo', 'Curitiba']\n",
    "faturamento = [10000, 20000, 50000]  # essas duas listas não estão vinculadas\n",
    "\n",
    "print(lojas)\n",
    "print(faturamento)"
   ]
  },
  {
   "cell_type": "code",
   "execution_count": 27,
   "id": "2c24d519",
   "metadata": {},
   "outputs": [],
   "source": [
    "# lst.append(val)  add item at end\n",
    "# lst.extend(seq)  add sequence of items at end\n",
    "# lst.insert(idx,val)  insert item at index\n",
    "# lst.remove(val)  remove first item with value val\n",
    "# lst.pop([idx])  →valueremove & return item at index idx (default last)\n",
    "# lst.sort()   lst.reverse()sort / reverse liste in place\n"
   ]
  },
  {
   "cell_type": "code",
   "execution_count": 28,
   "id": "9b556ccd",
   "metadata": {},
   "outputs": [
    {
     "name": "stdout",
     "output_type": "stream",
     "text": [
      "[10000, 20000, 50000]\n"
     ]
    }
   ],
   "source": [
    "faturamento.sort()  # colocando em ordem crescente\n",
    "print(faturamento)"
   ]
  },
  {
   "cell_type": "code",
   "execution_count": 29,
   "id": "c2f1ac9f",
   "metadata": {},
   "outputs": [
    {
     "name": "stdout",
     "output_type": "stream",
     "text": [
      "[50000, 20000, 10000]\n"
     ]
    }
   ],
   "source": [
    "faturamento.sort(reverse=True)  # colocando em ordem decrescente\n",
    "print(faturamento)"
   ]
  },
  {
   "cell_type": "code",
   "execution_count": 30,
   "id": "cb19491c",
   "metadata": {},
   "outputs": [
    {
     "name": "stdout",
     "output_type": "stream",
     "text": [
      "['Rio de Janeiro', 'São Paulo', 'Curitiba']\n",
      "[10000, 20000, 50000]\n"
     ]
    }
   ],
   "source": [
    "lojas = ['Rio de Janeiro', 'São Paulo', 'Curitiba']\n",
    "faturamento = [10000, 20000, 50000]  # essas duas listas não estão vinculadas\n",
    "\n",
    "print(lojas)\n",
    "print(faturamento)"
   ]
  },
  {
   "cell_type": "code",
   "execution_count": 31,
   "id": "77677f7c",
   "metadata": {},
   "outputs": [
    {
     "name": "stdout",
     "output_type": "stream",
     "text": [
      "[('Curitiba', 50000), ('Rio de Janeiro', 10000), ('São Paulo', 20000)]\n"
     ]
    }
   ],
   "source": [
    "resultados = []\n",
    "\n",
    "for i in range(3):\n",
    "    tupla = (lojas[i-1], faturamento[i-1]) # vai na loja e pega lojas -1 e faturamento -1\n",
    "    resultados.append(tupla)\n",
    "\n",
    "print(resultados)"
   ]
  },
  {
   "cell_type": "code",
   "execution_count": 32,
   "id": "04d2ef7b",
   "metadata": {},
   "outputs": [
    {
     "data": {
      "text/plain": [
       "10000"
      ]
     },
     "execution_count": 32,
     "metadata": {},
     "output_type": "execute_result"
    }
   ],
   "source": [
    "# Rio de Janeiro\n",
    "resultados[1][1]"
   ]
  },
  {
   "cell_type": "code",
   "execution_count": null,
   "id": "2bf926f7",
   "metadata": {},
   "outputs": [],
   "source": []
  }
 ],
 "metadata": {
  "kernelspec": {
   "display_name": "Python 3 (ipykernel)",
   "language": "python",
   "name": "python3"
  },
  "language_info": {
   "codemirror_mode": {
    "name": "ipython",
    "version": 3
   },
   "file_extension": ".py",
   "mimetype": "text/x-python",
   "name": "python",
   "nbconvert_exporter": "python",
   "pygments_lexer": "ipython3",
   "version": "3.9.7"
  }
 },
 "nbformat": 4,
 "nbformat_minor": 5
}
