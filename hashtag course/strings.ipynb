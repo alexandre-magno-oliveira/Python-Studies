{
 "cells": [
  {
   "cell_type": "code",
   "execution_count": 4,
   "id": "4879e067",
   "metadata": {},
   "outputs": [
    {
     "data": {
      "text/plain": [
       "'\\n0 1 2 3 4 5 6 7 8 9 10 11 12\\na l e x @ g m a i l . c o m\\n\\nPegar um item de uma string: texto[índice]\\nPegar o tamanho de um texto: len(texto)\\n'"
      ]
     },
     "execution_count": 4,
     "metadata": {},
     "output_type": "execute_result"
    }
   ],
   "source": [
    "'''\n",
    "0 1 2 3 4 5 6 7 8 9 10 11 12\n",
    "a l e x @ g m a i l . c o m\n",
    "\n",
    "Pegar um item de uma string: texto[índice]\n",
    "Pegar o tamanho de um texto: len(texto)\n",
    "'''"
   ]
  },
  {
   "cell_type": "code",
   "execution_count": 7,
   "id": "43931414",
   "metadata": {},
   "outputs": [
    {
     "name": "stdout",
     "output_type": "stream",
     "text": [
      "15\n",
      "@\n",
      "x\n"
     ]
    }
   ],
   "source": [
    "email = 'alex@gmail.com'\n",
    "nome = 'Alexandre Magno'   # conta-se o espaço em branco entre os nomes\n",
    "\n",
    "print(len(nome))\n",
    "print(email[4])\n",
    "print(nome[3])"
   ]
  },
  {
   "cell_type": "code",
   "execution_count": 15,
   "id": "4af51426",
   "metadata": {},
   "outputs": [
    {
     "data": {
      "text/plain": [
       "'\\n-14 -13 -12 -11 -10 -9 -8 -7 -6 -5 -4 -3 -2 -1\\n a   l   e   x   @   g  m  a  i  l  .  c  o  m\\n 0   1   2   3   4   5  6  7  8  9  10 11 12 13\\n'"
      ]
     },
     "execution_count": 15,
     "metadata": {},
     "output_type": "execute_result"
    }
   ],
   "source": [
    "'''\n",
    "-14 -13 -12 -11 -10 -9 -8 -7 -6 -5 -4 -3 -2 -1\n",
    " a   l   e   x   @   g  m  a  i  l  .  c  o  m\n",
    " 0   1   2   3   4   5  6  7  8  9  10 11 12 13\n",
    "'''"
   ]
  },
  {
   "cell_type": "code",
   "execution_count": 22,
   "id": "a32c8f6a",
   "metadata": {},
   "outputs": [
    {
     "name": "stdout",
     "output_type": "stream",
     "text": [
      "e\n",
      "m\n",
      "alex@gmail.co\n",
      "alex@gmail.c\n",
      "alex\n",
      "al\n",
      "ex@gmail.com\n",
      "gmail.com\n",
      "com\n",
      "alex@gmail.co\n",
      "alex@gmail.com\n"
     ]
    }
   ],
   "source": [
    "email = 'alex@gmail.com'\n",
    "nome = 'Alexandre Magno Galieta'\n",
    "\n",
    "print(email[-12])\n",
    "print(email[-1])\n",
    "print(email[:-1])  # texto todo até -1 (que não entra o -1)\n",
    "print(email[:-2])\n",
    "print(email[:-10])\n",
    "print(email[:2])  # texto todo até o 2 (que não entra o 2)\n",
    "print(email[2:]) # texto todo a partir do 2 (entra o 2)\n",
    "print(email[5:]) # texto todo a partir do 5 (entra o 5)\n",
    "print(email[11:])\n",
    "print(email[:13])\n",
    "print(email[:])  # texto todo"
   ]
  },
  {
   "cell_type": "code",
   "execution_count": 23,
   "id": "434b7ac8",
   "metadata": {},
   "outputs": [
    {
     "name": "stdout",
     "output_type": "stream",
     "text": [
      "Tamanho do e-mail 14 caracteres\n",
      "Primeiro Caractere ?\n",
      "Último Caractere ?\n"
     ]
    }
   ],
   "source": [
    "print('Tamanho do e-mail ' + str(len(email)) + ' caracteres')\n",
    "print('Primeiro Caractere ' + '?')\n",
    "print('Último Caractere ' + '?')"
   ]
  },
  {
   "cell_type": "code",
   "execution_count": 24,
   "id": "eed99b3c",
   "metadata": {},
   "outputs": [
    {
     "name": "stdout",
     "output_type": "stream",
     "text": [
      "Tamanho do e-mail 14 caracteres\n",
      "Primeiro Caractere a\n",
      "Último Caractere ?\n"
     ]
    }
   ],
   "source": [
    "print('Tamanho do e-mail ' + str(len(email)) + ' caracteres')\n",
    "print('Primeiro Caractere ' + email[0])\n",
    "print('Último Caractere ' + '?')"
   ]
  },
  {
   "cell_type": "code",
   "execution_count": 27,
   "id": "ee75ce86",
   "metadata": {},
   "outputs": [
    {
     "name": "stdout",
     "output_type": "stream",
     "text": [
      "Tamanho do e-mail 14 caracteres\n",
      "Primeiro Caractere a\n",
      "Último Caractere m\n",
      "Servidor do email gmail.com\n",
      "Servidor do email gmail\n"
     ]
    }
   ],
   "source": [
    "print('Tamanho do e-mail ' + str(len(email)) + ' caracteres')\n",
    "print('Primeiro Caractere ' + email[0])\n",
    "print('Último Caractere ' + email[-1])\n",
    "print('Servidor do email ' + email[5:])\n",
    "print('Servidor do email ' + email[5:10])\n"
   ]
  },
  {
   "cell_type": "markdown",
   "id": "ab16610b",
   "metadata": {},
   "source": [
    "# Operações com String"
   ]
  },
  {
   "cell_type": "code",
   "execution_count": null,
   "id": "dd8eaa60",
   "metadata": {},
   "outputs": [],
   "source": [
    "'''\n",
    "str -> transforma número em string\n",
    "in -> verifica se um texto está contido dentro do outro\n",
    "operador + -> concatenar string\n",
    "format e {} -> substitui valores\n",
    "%s -> substitui textos\n",
    "%d -> substitiui números decimais\n",
    "\n",
    "'''"
   ]
  },
  {
   "cell_type": "code",
   "execution_count": 28,
   "id": "8a818997",
   "metadata": {},
   "outputs": [],
   "source": [
    "faturamento = 1000\n",
    "custo = 500\n",
    "lucro = faturamento - custo"
   ]
  },
  {
   "cell_type": "code",
   "execution_count": 29,
   "id": "43645b43",
   "metadata": {},
   "outputs": [
    {
     "ename": "TypeError",
     "evalue": "can only concatenate str (not \"int\") to str",
     "output_type": "error",
     "traceback": [
      "\u001b[1;31m---------------------------------------------------------------------------\u001b[0m",
      "\u001b[1;31mTypeError\u001b[0m                                 Traceback (most recent call last)",
      "\u001b[1;32mC:\\Users\\ALEXAN~1\\AppData\\Local\\Temp/ipykernel_18272/2558289953.py\u001b[0m in \u001b[0;36m<module>\u001b[1;34m\u001b[0m\n\u001b[1;32m----> 1\u001b[1;33m \u001b[0mprint\u001b[0m\u001b[1;33m(\u001b[0m\u001b[1;34m'O faturamento da loja foi de: '\u001b[0m \u001b[1;33m+\u001b[0m \u001b[0mfaturamento\u001b[0m\u001b[1;33m)\u001b[0m\u001b[1;33m\u001b[0m\u001b[1;33m\u001b[0m\u001b[0m\n\u001b[0m",
      "\u001b[1;31mTypeError\u001b[0m: can only concatenate str (not \"int\") to str"
     ]
    }
   ],
   "source": [
    "print('O faturamento da loja foi de: ' + faturamento)"
   ]
  },
  {
   "cell_type": "code",
   "execution_count": 30,
   "id": "03c3e5d1",
   "metadata": {},
   "outputs": [
    {
     "name": "stdout",
     "output_type": "stream",
     "text": [
      "O faturamento da loja foi de: 1000\n"
     ]
    }
   ],
   "source": [
    "# Uso do str() e do concatenar com +\n",
    "\n",
    "print('O faturamento da loja foi de: ' + str(faturamento))"
   ]
  },
  {
   "cell_type": "code",
   "execution_count": 34,
   "id": "314896e7",
   "metadata": {},
   "outputs": [
    {
     "name": "stdout",
     "output_type": "stream",
     "text": [
      "O faturamento foi de 1000\n",
      "O faturamento foi de 1000. O custo foi de 500 e o lucro foi de 500.\n"
     ]
    }
   ],
   "source": [
    "# uso do format\n",
    "\n",
    "print('O faturamento foi de {}'.format(faturamento))\n",
    "print('O faturamento foi de {}. O custo foi de {} e o lucro foi de {}.'.format(faturamento,custo,lucro))"
   ]
  },
  {
   "cell_type": "code",
   "execution_count": 37,
   "id": "8177abdc",
   "metadata": {},
   "outputs": [
    {
     "name": "stdout",
     "output_type": "stream",
     "text": [
      "O faturamento foi de: 1000\n"
     ]
    }
   ],
   "source": [
    "# uso do %s e %d\n",
    "\n",
    "print('O faturamento foi de: %d' % faturamento)"
   ]
  },
  {
   "cell_type": "code",
   "execution_count": 39,
   "id": "f5ca662c",
   "metadata": {},
   "outputs": [
    {
     "name": "stdout",
     "output_type": "stream",
     "text": [
      "O faturamento foi de: 1000. O custo foi de 500 e o lucro foi de 500.\n"
     ]
    }
   ],
   "source": [
    "print('O faturamento foi de: %d. O custo foi de %d e o lucro foi de %d.' % (faturamento, custo, lucro))"
   ]
  },
  {
   "cell_type": "code",
   "execution_count": 41,
   "id": "596f184b",
   "metadata": {},
   "outputs": [
    {
     "name": "stdout",
     "output_type": "stream",
     "text": [
      "True\n",
      "False\n"
     ]
    }
   ],
   "source": [
    "# Uso do in\n",
    "\n",
    "print('@' in 'alex@gmail.com')\n",
    "print('A' in 'alex@gmail.com')"
   ]
  },
  {
   "cell_type": "code",
   "execution_count": 44,
   "id": "62b4a23b",
   "metadata": {},
   "outputs": [
    {
     "name": "stdout",
     "output_type": "stream",
     "text": [
      "O faturamento foi de 1000.00\n",
      "O faturamento foi de 1000.00. O custo foi de 500.00 e o lucro foi de 500.00.\n"
     ]
    }
   ],
   "source": [
    "# uso do format\n",
    "\n",
    "print('O faturamento foi de {:.2f}'.format(faturamento))\n",
    "print('O faturamento foi de {:.2f}. O custo foi de {:.2f} e o lucro foi de {:.2f}.'.format(faturamento,custo,lucro))"
   ]
  },
  {
   "cell_type": "markdown",
   "id": "ba02e58b",
   "metadata": {},
   "source": [
    "# métodos"
   ]
  },
  {
   "cell_type": "code",
   "execution_count": 45,
   "id": "0f3e47d2",
   "metadata": {},
   "outputs": [
    {
     "name": "stdout",
     "output_type": "stream",
     "text": [
      "Faturamento da loja foi de 1000\n"
     ]
    }
   ],
   "source": [
    "faturamento = 1000\n",
    "texto = 'Faturamento da loja foi de {}'\n",
    "print(texto.format(faturamento))"
   ]
  },
  {
   "cell_type": "code",
   "execution_count": 52,
   "id": "fa55017b",
   "metadata": {},
   "outputs": [
    {
     "name": "stdout",
     "output_type": "stream",
     "text": [
      "Alex\n"
     ]
    }
   ],
   "source": [
    "# capitalize(): coloca a 1a letra maiúscula\n",
    "texto = 'Alex'\n",
    "print(texto.capitalize())"
   ]
  },
  {
   "cell_type": "code",
   "execution_count": 53,
   "id": "755d1c2f",
   "metadata": {},
   "outputs": [
    {
     "name": "stdout",
     "output_type": "stream",
     "text": [
      "alex\n"
     ]
    }
   ],
   "source": [
    "# casefold(): transforma todas as letras em minúsculas (existe o lower())\n",
    "\n",
    "texto = 'Alex'\n",
    "print(texto.casefold())"
   ]
  },
  {
   "cell_type": "code",
   "execution_count": 51,
   "id": "63599231",
   "metadata": {},
   "outputs": [
    {
     "name": "stdout",
     "output_type": "stream",
     "text": [
      "alex\n"
     ]
    }
   ],
   "source": [
    "texto = 'ALEX'\n",
    "print(texto.casefold())"
   ]
  },
  {
   "cell_type": "code",
   "execution_count": 54,
   "id": "f1d09679",
   "metadata": {},
   "outputs": [
    {
     "name": "stdout",
     "output_type": "stream",
     "text": [
      "1\n"
     ]
    }
   ],
   "source": [
    "# count()-> quantidade de vezes que um valor aparece na string\n",
    "\n",
    "texto = 'alex@gmail.com'\n",
    "print(texto.count('.'))"
   ]
  },
  {
   "cell_type": "code",
   "execution_count": 55,
   "id": "b2185fab",
   "metadata": {},
   "outputs": [
    {
     "name": "stdout",
     "output_type": "stream",
     "text": [
      "2\n"
     ]
    }
   ],
   "source": [
    "texto = 'alex@gmail.com.br'\n",
    "print(texto.count('.'))"
   ]
  },
  {
   "cell_type": "code",
   "execution_count": 56,
   "id": "851d4a25",
   "metadata": {},
   "outputs": [
    {
     "name": "stdout",
     "output_type": "stream",
     "text": [
      "False\n"
     ]
    }
   ],
   "source": [
    "texto = 'alex@gmail.com.br'\n",
    "print(texto.endswith('gmail.com'))"
   ]
  },
  {
   "cell_type": "code",
   "execution_count": 57,
   "id": "61935a93",
   "metadata": {},
   "outputs": [
    {
     "name": "stdout",
     "output_type": "stream",
     "text": [
      "True\n"
     ]
    }
   ],
   "source": [
    "texto = 'alex@gmail.com'\n",
    "print(texto.endswith('gmail.com'))"
   ]
  },
  {
   "cell_type": "code",
   "execution_count": 59,
   "id": "6ddb1592",
   "metadata": {},
   "outputs": [
    {
     "name": "stdout",
     "output_type": "stream",
     "text": [
      "4\n"
     ]
    }
   ],
   "source": [
    "# find() -> procura um texto dentro de outro texto e dá como resposta a posição do texto encontrado\n",
    "\n",
    "texto = 'alex@gmail.com'\n",
    "print(texto.find('@'))"
   ]
  },
  {
   "cell_type": "code",
   "execution_count": 60,
   "id": "d602e114",
   "metadata": {},
   "outputs": [
    {
     "name": "stdout",
     "output_type": "stream",
     "text": [
      "True\n"
     ]
    }
   ],
   "source": [
    "# isalnum() -> verifica se um texto é todo feito com caracteres alfanuméricos\n",
    "\n",
    "texto = 'joão123'\n",
    "print(texto.isalnum())"
   ]
  },
  {
   "cell_type": "code",
   "execution_count": 61,
   "id": "4a49d473",
   "metadata": {},
   "outputs": [
    {
     "name": "stdout",
     "output_type": "stream",
     "text": [
      "True\n"
     ]
    }
   ],
   "source": [
    "# isalpha() -> verifica se um texto é todo feito de letras\n",
    "\n",
    "texto = 'joão'\n",
    "print(texto.isalpha())"
   ]
  },
  {
   "cell_type": "code",
   "execution_count": 62,
   "id": "13918019",
   "metadata": {},
   "outputs": [
    {
     "name": "stdout",
     "output_type": "stream",
     "text": [
      "False\n"
     ]
    }
   ],
   "source": [
    "texto = 'joão123'\n",
    "print(texto.isalpha())"
   ]
  },
  {
   "cell_type": "code",
   "execution_count": 63,
   "id": "dcdac2c1",
   "metadata": {},
   "outputs": [
    {
     "name": "stdout",
     "output_type": "stream",
     "text": [
      "True\n"
     ]
    }
   ],
   "source": [
    "# isnumeric() -> veifica se um texto é todo feito de números\n",
    "\n",
    "texto = '123'\n",
    "print(texto.isnumeric())"
   ]
  },
  {
   "cell_type": "code",
   "execution_count": 65,
   "id": "12541a9a",
   "metadata": {},
   "outputs": [
    {
     "name": "stdout",
     "output_type": "stream",
     "text": [
      "1000,00\n"
     ]
    }
   ],
   "source": [
    "# replace() -> substitui um texto por outro texto em uma string\n",
    "\n",
    "texto = '1000.00'\n",
    "print(texto.replace('.', ',')) # obrigatório 2 argumentos o que vai sair e o que vai entrar"
   ]
  },
  {
   "cell_type": "code",
   "execution_count": 66,
   "id": "e4add2d5",
   "metadata": {},
   "outputs": [
    {
     "name": "stdout",
     "output_type": "stream",
     "text": [
      "['alex', 'gmail.com']\n"
     ]
    }
   ],
   "source": [
    "# split() -> separa uma string de acordo com o delimitador em vários textos diferentes\n",
    "\n",
    "texto = 'alex@gmail.com'\n",
    "print(texto.split('@'))"
   ]
  },
  {
   "cell_type": "code",
   "execution_count": 67,
   "id": "488c6aa3",
   "metadata": {},
   "outputs": [
    {
     "name": "stdout",
     "output_type": "stream",
     "text": [
      "['Olá, bom dia', 'Venho por meio desse email lhe informar o faturamento da loja no dia de hoje.', 'Faturamento = R$ 2.500,00', '']\n"
     ]
    }
   ],
   "source": [
    "# splitlines() -> separa um texto em vários textos de acordo com os 'enters' do texto\n",
    "\n",
    "texto = '''Olá, bom dia\n",
    "Venho por meio desse email lhe informar o faturamento da loja no dia de hoje.\n",
    "Faturamento = R$ 2.500,00\n",
    "\n",
    "'''\n",
    "print(texto.splitlines())"
   ]
  },
  {
   "cell_type": "code",
   "execution_count": 68,
   "id": "e543295c",
   "metadata": {},
   "outputs": [
    {
     "name": "stdout",
     "output_type": "stream",
     "text": [
      "True\n"
     ]
    }
   ],
   "source": [
    "# startswith() -> verifica se a string começa com determinado texto\n",
    "\n",
    "texto = 'BEB1234453'\n",
    "print(texto.startswith('BEB'))"
   ]
  },
  {
   "cell_type": "code",
   "execution_count": 69,
   "id": "496686c8",
   "metadata": {},
   "outputs": [
    {
     "name": "stdout",
     "output_type": "stream",
     "text": [
      "BEB123453\n"
     ]
    }
   ],
   "source": [
    "''' strip() - > retira caracteres indesejados dos textos. Por padrão, retira espaços 'extras' no \n",
    "início e no final'''\n",
    "\n",
    "texto = ' BEB123453 '\n",
    "print(texto.strip())"
   ]
  },
  {
   "cell_type": "code",
   "execution_count": 70,
   "id": "9277d44f",
   "metadata": {},
   "outputs": [
    {
     "name": "stdout",
     "output_type": "stream",
     "text": [
      "João Paulo Lira\n"
     ]
    }
   ],
   "source": [
    "# title() -> coloca a 1a letra de cada palavra em maiúscula\n",
    "\n",
    "texto = 'joão paulo lira'\n",
    "print(texto.title())"
   ]
  },
  {
   "cell_type": "code",
   "execution_count": 71,
   "id": "bd426869",
   "metadata": {},
   "outputs": [
    {
     "name": "stdout",
     "output_type": "stream",
     "text": [
      "BEB12345\n"
     ]
    }
   ],
   "source": [
    "# upper() -> coloca o texto todo em letra maiúscula\n",
    "\n",
    "texto = 'beb12345'\n",
    "print(texto.upper())"
   ]
  },
  {
   "cell_type": "code",
   "execution_count": 72,
   "id": "8e35ce39",
   "metadata": {},
   "outputs": [
    {
     "name": "stdout",
     "output_type": "stream",
     "text": [
      "Insira seu CPF (digite apenas números)6185420025\n",
      "Digite seu CPF corretamente e digite apenas números\n"
     ]
    }
   ],
   "source": [
    "# insira cpf apenas números\n",
    "\n",
    "cpf = input('Insira seu CPF (digite apenas números)')\n",
    "\n",
    "if len(cpf) == 11 and cpf.isnumeric():\n",
    "    print(cpf)\n",
    "else: \n",
    "    print('Digite seu CPF corretamente e digite apenas números')"
   ]
  },
  {
   "cell_type": "code",
   "execution_count": 73,
   "id": "aa9ab18d",
   "metadata": {},
   "outputs": [
    {
     "name": "stdout",
     "output_type": "stream",
     "text": [
      "Insira seu CPF2355210020\n",
      "Digite seu CPF corretamente e digite apenas números\n"
     ]
    }
   ],
   "source": [
    "cpf = input('Insira seu CPF')\n",
    "\n",
    "# tratar o cpf\n",
    "\n",
    "# retirar espaços no início e no final\n",
    "cpf = cpf.strip()\n",
    "# retirar os . (pontos)\n",
    "cpf = cpf.replace('.', '')\n",
    "# retirar os - (traços)\n",
    "cpf = cpf.replace('-', '')\n",
    "\n",
    "if len(cpf) == 11 and cpf.isnumeric():\n",
    "    print(cpf)\n",
    "else: \n",
    "    print('Digite seu CPF corretamente e digite apenas números')"
   ]
  },
  {
   "cell_type": "code",
   "execution_count": 75,
   "id": "175658a2",
   "metadata": {},
   "outputs": [
    {
     "name": "stdout",
     "output_type": "stream",
     "text": [
      "Insira seu CPF254.525..222\n",
      "Digite seu CPF corretamente e digite apenas números 612fff\n"
     ]
    }
   ],
   "source": [
    "cpf = input('Insira seu CPF')\n",
    "\n",
    "# tratar o cpf\n",
    "\n",
    "# retirar espaços no início e no final\n",
    "cpf = cpf.strip()\n",
    "# retirar os . (pontos)\n",
    "cpf = cpf.replace('.', '')\n",
    "# retirar os - (traços)\n",
    "cpf = cpf.replace('-', '')\n",
    "\n",
    "if len(cpf) == 11 and cpf.isnumeric():\n",
    "    print(cpf)\n",
    "else: \n",
    "    input('Digite seu CPF corretamente e digite apenas números ')"
   ]
  },
  {
   "cell_type": "code",
   "execution_count": 78,
   "id": "dd8095f0",
   "metadata": {},
   "outputs": [
    {
     "name": "stdout",
     "output_type": "stream",
     "text": [
      "Digite seu nome Alexandre\n",
      "Digite o seu email alexmail.com\n",
      "-1\n",
      "Alexandre\n"
     ]
    }
   ],
   "source": [
    "nome = input('Digite seu nome ')\n",
    "email = input('Digite o seu email ')\n",
    "\n",
    "print(email.find('@'))\n",
    "\n",
    "if nome and email:\n",
    "    print(nome)\n",
    "else:\n",
    "    print('Digite seu nome e email corretamente ')\n",
    "    "
   ]
  },
  {
   "cell_type": "code",
   "execution_count": 80,
   "id": "a5fb5c21",
   "metadata": {},
   "outputs": [
    {
     "name": "stdout",
     "output_type": "stream",
     "text": [
      "Digite seu nome Alexandre\n",
      "Digite o seu email alexgmail.com\n",
      "Email inválido\n"
     ]
    }
   ],
   "source": [
    "nome = input('Digite seu nome ')\n",
    "email = input('Digite o seu email ')\n",
    "\n",
    "if nome and email:\n",
    "    pos_a = email.find('')\n",
    "    servidor = email[pos_a:]\n",
    "    if pos_a != -1 and ' ' in servidor:\n",
    "        print('Cadastro concluído')\n",
    "    else:\n",
    "        print('Email inválido')\n",
    "else:\n",
    "    print('Digite seu nome e email corretamente ')\n",
    "    "
   ]
  },
  {
   "cell_type": "code",
   "execution_count": 82,
   "id": "73adedc6",
   "metadata": {},
   "outputs": [
    {
     "name": "stdout",
     "output_type": "stream",
     "text": [
      "Imposto sobre o preço é de 15.8\n"
     ]
    }
   ],
   "source": [
    "# round() para arredondar números, caso seja necessário\n",
    "\n",
    "imposto = 0.15758\n",
    "preco = 100\n",
    "valor_imposto = round(preco * imposto, 1)\n",
    "print('Imposto sobre o preço é de {}'.format(valor_imposto))"
   ]
  },
  {
   "cell_type": "code",
   "execution_count": 83,
   "id": "2542573f",
   "metadata": {},
   "outputs": [
    {
     "name": "stdout",
     "output_type": "stream",
     "text": [
      "Imposto sobre o preço é de 15.76\n"
     ]
    }
   ],
   "source": [
    "imposto = 0.15758\n",
    "preco = 100\n",
    "valor_imposto = round(preco * imposto, 2)\n",
    "print('Imposto sobre o preço é de {}'.format(valor_imposto))"
   ]
  },
  {
   "cell_type": "code",
   "execution_count": 84,
   "id": "877c7f0b",
   "metadata": {},
   "outputs": [
    {
     "name": "stdout",
     "output_type": "stream",
     "text": [
      "Margem de lucro foi de 61.5%.\n"
     ]
    }
   ],
   "source": [
    "custo = 500\n",
    "faturamento = 1300\n",
    "lucro = faturamento - custo\n",
    "margem = lucro / faturamento\n",
    "print('Margem de lucro foi de {:.1%}.'.format(margem))"
   ]
  },
  {
   "cell_type": "code",
   "execution_count": 85,
   "id": "4bb03d27",
   "metadata": {},
   "outputs": [
    {
     "name": "stdout",
     "output_type": "stream",
     "text": [
      "Margem de lucro foi de 61.54%.\n"
     ]
    }
   ],
   "source": [
    "custo = 500\n",
    "faturamento = 1300\n",
    "lucro = faturamento - custo\n",
    "margem = lucro / faturamento\n",
    "print('Margem de lucro foi de {:.2%}.'.format(margem))"
   ]
  },
  {
   "cell_type": "code",
   "execution_count": 87,
   "id": "d3464d24",
   "metadata": {},
   "outputs": [
    {
     "name": "stdout",
     "output_type": "stream",
     "text": [
      "Faturamento foi de R$1,300.00 e lucro foi de R$800.00\n"
     ]
    }
   ],
   "source": [
    "custo = 500\n",
    "faturamento = 1300\n",
    "lucro = faturamento - custo\n",
    "\n",
    "print('Faturamento foi de R${:,.2f} e lucro foi de R${:,.2f}'.format(faturamento, lucro))"
   ]
  },
  {
   "cell_type": "code",
   "execution_count": 88,
   "id": "f28a1859",
   "metadata": {},
   "outputs": [
    {
     "name": "stdout",
     "output_type": "stream",
     "text": [
      "Faturamento foi de R$ 1,300.00 e lucro foi de R$ 800.00\n"
     ]
    }
   ],
   "source": [
    "custo = 500\n",
    "faturamento = 1300\n",
    "lucro = faturamento - custo\n",
    "\n",
    "print('Faturamento foi de R$ {:,.2f} e lucro foi de R$ {:,.2f}'.format(faturamento, lucro))"
   ]
  },
  {
   "cell_type": "code",
   "execution_count": 90,
   "id": "338914bf",
   "metadata": {},
   "outputs": [
    {
     "name": "stdout",
     "output_type": "stream",
     "text": [
      "Faturamento foi de R$ 27,000.00 e lucro foi de R$ 26,500.00\n",
      "R$ 26.500,00\n"
     ]
    }
   ],
   "source": [
    "custo = 500\n",
    "faturamento = 27000\n",
    "lucro = faturamento - custo\n",
    "\n",
    "print('Faturamento foi de R$ {:,.2f} e lucro foi de R$ {:,.2f}'.format(faturamento, lucro))\n",
    "\n",
    "# transformando no formato brasileiro\n",
    "\n",
    "lucro_texto = 'R$ {:_.2f}'.format(lucro)\n",
    "print(lucro_texto.replace('.', ',').replace('_', '.'))"
   ]
  },
  {
   "cell_type": "code",
   "execution_count": null,
   "id": "a9e95ed1",
   "metadata": {},
   "outputs": [],
   "source": []
  },
  {
   "cell_type": "code",
   "execution_count": null,
   "id": "f4be1b42",
   "metadata": {},
   "outputs": [],
   "source": []
  }
 ],
 "metadata": {
  "kernelspec": {
   "display_name": "Python 3 (ipykernel)",
   "language": "python",
   "name": "python3"
  },
  "language_info": {
   "codemirror_mode": {
    "name": "ipython",
    "version": 3
   },
   "file_extension": ".py",
   "mimetype": "text/x-python",
   "name": "python",
   "nbconvert_exporter": "python",
   "pygments_lexer": "ipython3",
   "version": "3.9.7"
  }
 },
 "nbformat": 4,
 "nbformat_minor": 5
}
