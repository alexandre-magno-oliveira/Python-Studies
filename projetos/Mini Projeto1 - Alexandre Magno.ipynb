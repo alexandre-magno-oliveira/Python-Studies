{
 "cells": [
  {
   "cell_type": "code",
   "execution_count": 1,
   "id": "c4657c52",
   "metadata": {},
   "outputs": [],
   "source": [
    "class Rede:\n",
    "    \n",
    "      \n",
    "    def __init__(self, nome_usuario, apelido, data_nascimento, email):\n",
    "        '''\n",
    "        construtor\n",
    "        parêmetros\n",
    "        ----------\n",
    "        nome_usuario: str\n",
    "        apelido: str\n",
    "        data_nascimento: str\n",
    "        email: str\n",
    "        lista_amigos: list, amigos do usuário.\n",
    "        lista_interesses: list, interesses do usuário.\n",
    "        lista_posts: list, posts do usuário.\n",
    "        '''\n",
    "                \n",
    "        self.nome_usuario = nome_usuario.title()\n",
    "        self.apelido = apelido.title()\n",
    "        self.data_nascimento = data_nascimento\n",
    "        self.email = email\n",
    "        self.lista_amigos = []\n",
    "        self.lista_interesses = []\n",
    "        self.lista_posts = []\n",
    "        \n",
    "    def adicionar_amigo(self, nome_amigo):\n",
    "        '''\n",
    "        adiciona um amigo\n",
    "        não pode ter repetição de amigos\n",
    "        não pode ser amigo de si próprio\n",
    "        nome_amigo: str\n",
    "        '''\n",
    "        if nome_amigo not in self.lista_amigos and nome_amigo != self:\n",
    "            self.lista_amigos.append(nome_amigo)\n",
    "            nome_amigo.lista_amigos.append(self)\n",
    "                     \n",
    "                \n",
    "    def adicionar_interesse(self, interesse):\n",
    "        '''\n",
    "        adiciona um interesse.\n",
    "        interesse: str\n",
    "        '''\n",
    "        # verifica se há interesse adicionado anteriormente.\n",
    "        # caso negativo, adiciona a lista de interesses.\n",
    "        \n",
    "        if interesse.capitalize() not in self.lista_interesses:\n",
    "            self.lista_interesses.append(interesse.capitalize())\n",
    "            \n",
    "            \n",
    "    def contar_amigo(self):\n",
    "        '''\n",
    "        conta o número de amigos da lista de amigos.\n",
    "        '''\n",
    "        print('{} possui {} amigo(s).'.format(self.nome_usuario, len(self.lista_amigos)))\n",
    "        \n",
    "        \n",
    "    def adicionar_post(self, post):\n",
    "        '''\n",
    "        adicionar um post.\n",
    "        posts não podem ser repetidos.\n",
    "        '''\n",
    "        \n",
    "        if post.capitalize() not in self.lista_posts:\n",
    "            self.lista_posts.append(post.capitalize())\n",
    "            \n",
    "            \n",
    "    def contar_post(self):\n",
    "        '''\n",
    "        Conta quantos posts existem na lista de posts.\n",
    "        '''\n",
    "        print('{} possui {} post(s).'.format(self.nome_usuario, len(self.lista_posts)))\n",
    "        \n",
    "        \n",
    "    def procurar_amigo(self, nome_procurado):\n",
    "        '''\n",
    "        procura por um nome na lista de amigos.\n",
    "        '''\n",
    "        i = 0\n",
    "        for determinado_amigo in self.lista_amigos:\n",
    "            if nome_procurado.title() in determinado_amigo.nome_usuario:\n",
    "                i = i + 1\n",
    "                \n",
    "            if i != 0:  # se contador diferente de zero então o nome determinado está na lista.\n",
    "                print('{} já está na lista de contatos.'.format(nome_procurado.title()))\n",
    "            else:\n",
    "                print('{} não está na lista de contatos.'.format(nome_procurado.title()))\n",
    "                \n",
    "    def procurar_post(self, post_procurado):\n",
    "        '''\n",
    "        verifica se o post procurado pertence a algum post já realizado ou lista de amigos.\n",
    "        '''\n",
    "        i = 0\n",
    "        for cada_post in self.lista_posts:\n",
    "            if post_procurado.lower() in cada_post.lower():\n",
    "                print('{} escreveu:'.format(self.nome_usuario))\n",
    "                print('\\t' + cada_post)\n",
    "                i = i + 1   \n",
    "                \n",
    "        # verifica se o post_procurado está no post dos amigos e retorna o post.\n",
    "        # se for verdadeiro, adiciona \"1\" ao contador.\n",
    "        \n",
    "        for determinado_amigo in self.lista_amigos:\n",
    "            for cada_post in determinado_amigo.lista_posts:\n",
    "                if post_procurado.lower() in cada_post.lower():\n",
    "                    print('{} escreveu:'. format(determinado_amigo.nome_usuario))\n",
    "                    print('\\t' + cada_post)\n",
    "                i = i + 1\n",
    "                \n",
    "        # se o contador for igual a zero, significa que o post_procurado não foi encontrado na lista de posts. \n",
    "        \n",
    "        if i == 0:\n",
    "                print('post não encontrado')\n",
    "                \n",
    "        \n",
    "    def mostrar_post(self, amigo_procurado=None):\n",
    "        '''\n",
    "        mostra os posts da lista de amigos\n",
    "        '''\n",
    "        # se nenhum valor for atribuído ao atributo amigo_procurado, os posts de todas as Redes da lista de amigos será exibida.\n",
    "        \n",
    "        if amigo_procurado == None:\n",
    "            for determinado_amigo in self.lista_amigos:\n",
    "                print('{} escreveu:'.format(determinado_amigo.nome_usuario))\n",
    "                for cada_post in determinado_amigo.lista_posts:\n",
    "                    print('\\t' + cada_post)\n",
    "        \n",
    "        # se algum valor atribuído ao atributo amigo_procurado, os posts de todas as Redes constantes da lista de amigos serão mostrados.\n",
    "        else:\n",
    "            for determinado_amigo in self.lista_amigos:\n",
    "                if amigo_procurado.title() == determinado_amigo.nome_usuario:\n",
    "                    print('{} escreveu:'.format(determinado_amigo.nome_usuario))\n",
    "                    for cada_post in determinado_amigo.lista_posts:\n",
    "                        print('\\t' + cada_post)\n",
    "    \n",
    " \n"
   ]
  },
  {
   "cell_type": "code",
   "execution_count": 2,
   "id": "471f5ca5",
   "metadata": {},
   "outputs": [],
   "source": [
    "alexandre = Rede('Alexandre Magno', 'Alex', '27/01/19671', 'alex@gmail.com')\n",
    "josiane = Rede('Josiane Freitas', 'Josi', '10/02/1995', 'josi@gmail.com')\n",
    "raissa = Rede('Raíssa Oliveira', 'Rai', '23/05/1985', 'rai@gmail.com')\n",
    "ricardo = Rede('Ricardo Dias', 'Ric', '26/08/1994', 'ric@gmail.com')"
   ]
  },
  {
   "cell_type": "code",
   "execution_count": 3,
   "id": "a13844af",
   "metadata": {},
   "outputs": [],
   "source": [
    "alexandre.adicionar_amigo(nome_amigo=josiane)\n",
    "alexandre.adicionar_amigo(nome_amigo=ricardo)\n",
    "ricardo.adicionar_amigo(nome_amigo=alexandre)\n",
    "raissa.adicionar_amigo(nome_amigo=josiane)"
   ]
  },
  {
   "cell_type": "code",
   "execution_count": 4,
   "id": "f27cfef9",
   "metadata": {},
   "outputs": [
    {
     "name": "stdout",
     "output_type": "stream",
     "text": [
      "Alexandre Magno possui 2 amigo(s).\n"
     ]
    }
   ],
   "source": [
    "alexandre.contar_amigo()"
   ]
  },
  {
   "cell_type": "code",
   "execution_count": 5,
   "id": "c7f21643",
   "metadata": {},
   "outputs": [],
   "source": [
    "raissa.adicionar_post(post='final de semana na praia')\n",
    "raissa.adicionar_post(post='compra do carro novo')\n",
    "raissa.adicionar_post(post='na balada')\n",
    "josiane.adicionar_post(post='em casa com a família')"
   ]
  },
  {
   "cell_type": "code",
   "execution_count": 6,
   "id": "8894cb0a",
   "metadata": {},
   "outputs": [
    {
     "name": "stdout",
     "output_type": "stream",
     "text": [
      "Raíssa Oliveira possui 3 post(s).\n"
     ]
    }
   ],
   "source": [
    "raissa.contar_post()"
   ]
  },
  {
   "cell_type": "code",
   "execution_count": 7,
   "id": "a7344cd7",
   "metadata": {},
   "outputs": [],
   "source": [
    "alexandre.adicionar_interesse(interesse='roupa')\n",
    "alexandre.adicionar_interesse(interesse='carro')"
   ]
  },
  {
   "cell_type": "code",
   "execution_count": 8,
   "id": "5169b4ea",
   "metadata": {},
   "outputs": [
    {
     "name": "stdout",
     "output_type": "stream",
     "text": [
      "Raíssa Oliveira escreveu:\n",
      "\tFinal de semana na praia\n"
     ]
    }
   ],
   "source": [
    "raissa.procurar_post('final de semana na praia')"
   ]
  },
  {
   "cell_type": "code",
   "execution_count": 9,
   "id": "170811ff",
   "metadata": {},
   "outputs": [
    {
     "name": "stdout",
     "output_type": "stream",
     "text": [
      "Alexandre Magno já está na lista de contatos.\n"
     ]
    }
   ],
   "source": [
    "ricardo.procurar_amigo('Alexandre Magno')"
   ]
  },
  {
   "cell_type": "code",
   "execution_count": 10,
   "id": "8e2d819a",
   "metadata": {},
   "outputs": [
    {
     "name": "stdout",
     "output_type": "stream",
     "text": [
      "Josiane Freitas escreveu:\n",
      "\tEm casa com a família\n"
     ]
    }
   ],
   "source": [
    "raissa.mostrar_post('Josiane Freitas')"
   ]
  },
  {
   "cell_type": "code",
   "execution_count": 11,
   "id": "5be37cc8",
   "metadata": {},
   "outputs": [
    {
     "name": "stdout",
     "output_type": "stream",
     "text": [
      "post não encontrado\n"
     ]
    }
   ],
   "source": [
    "ricardo.procurar_post('de bike na cidade')"
   ]
  },
  {
   "cell_type": "code",
   "execution_count": null,
   "id": "f52ee956",
   "metadata": {},
   "outputs": [],
   "source": []
  }
 ],
 "metadata": {
  "kernelspec": {
   "display_name": "Python 3",
   "language": "python",
   "name": "python3"
  },
  "language_info": {
   "codemirror_mode": {
    "name": "ipython",
    "version": 3
   },
   "file_extension": ".py",
   "mimetype": "text/x-python",
   "name": "python",
   "nbconvert_exporter": "python",
   "pygments_lexer": "ipython3",
   "version": "3.8.8"
  }
 },
 "nbformat": 4,
 "nbformat_minor": 5
}
