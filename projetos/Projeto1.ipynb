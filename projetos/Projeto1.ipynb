{
  "nbformat": 4,
  "nbformat_minor": 5,
  "metadata": {
    "kernelspec": {
      "display_name": "Python 3",
      "language": "python",
      "name": "python3"
    },
    "language_info": {
      "codemirror_mode": {
        "name": "ipython",
        "version": 3
      },
      "file_extension": ".py",
      "mimetype": "text/x-python",
      "name": "python",
      "nbconvert_exporter": "python",
      "pygments_lexer": "ipython3",
      "version": "3.8.8"
    },
    "colab": {
      "name": "Projeto1.ipynb",
      "provenance": []
    }
  },
  "cells": [
    {
      "cell_type": "code",
      "metadata": {
        "id": "60dddbc5-c433-424b-be47-fd7f31e7fe1b"
      },
      "source": [
        "class Pessoa:\n",
        "    '''\n",
        "    \n",
        "    '''\n",
        "    def __init__(self, nome_usuario, apelido, dt_nascimento, email):\n",
        "        '''\n",
        "        Construtor\n",
        "       \n",
        "        Parametros\n",
        "        - - - - - -\n",
        "        nome_usuario: str\n",
        "            Nome associado a pessoa.\n",
        "        apelido: str\n",
        "            Apelido associado a pessoa.\n",
        "        dt_nascimento: str\n",
        "            Data de nascimento associada a pessoa.\n",
        "        email: str\n",
        "            Email associado a pessoa.\n",
        "        lista_amigos: list/obj\n",
        "            Lista de amigos associada a pessoa.\n",
        "        lista_interesses: list/str\n",
        "            Lista de interesses associada a pessoa.\n",
        "        lista_posts: list/str\n",
        "            Lista de posts associada a pessoa.\n",
        "        '''\n",
        "        \n",
        "        # Definição dos primeiros atributos:\n",
        "        self.nome_usuario = nome_usuario.title()\n",
        "        self.apelido = apelido.title()\n",
        "        self.dt_nascimento = dt_nascimento\n",
        "        self.email = email\n",
        "        self.lista_amigos = [ ]\n",
        "        self.lista_interesses = [ ]\n",
        "        self.lista_posts = [ ]\n",
        "    \n",
        "    def adicionar_amigo(self, amigo):\n",
        "        '''\n",
        "        Adiciona um amigo ao self e vice-versa.\n",
        "        Condição 01 : não podem ser adicionados amigos repetidos.\n",
        "        Condição 02 : self não pode ser adicionado como amigo de si mesmo.\n",
        "                \n",
        "        Parâmetros\n",
        "        - - - - - -\n",
        "        amigo: Pessoa\n",
        "            Amigo que será adicionado à lista de amigos do self.\n",
        "        lista_amigos: list / obj\n",
        "            Lista de amigos associada ao self.\n",
        "        '''\n",
        "        \n",
        "        # verifica se o self já adicionou um amigo anteriormente ou se está tentanto adicionar a si mesmo.\n",
        "        # caso negativo, adiciona o amigo na lista de amigos do self e vice-versa.\n",
        "        \n",
        "        if amigo not in self.lista_amigos and amigo != self:\n",
        "            self.lista_amigos.append(amigo)\n",
        "            amigo.lista_amigos.append(self)\n",
        "        \n",
        "    def adicionar_interesse(self, interesse):\n",
        "        '''\n",
        "        Adiciona um interesse ao self.\n",
        "        Condição: não podem ser adicionados interesses repetidos.\n",
        "        \n",
        "        Parâmetros\n",
        "        - - - - - -\n",
        "        interesse: str\n",
        "            Interesse que será adicionado na lista de interesses do self.\n",
        "        lista_interesses: list / str\n",
        "            Lista de interesses associada ao self.\n",
        "        '''\n",
        "        \n",
        "        # verifica se um interesse já foi adicionado anteriormente pelo self.\n",
        "        # caso negativo, adiciona na lista de interesses do self.\n",
        "        \n",
        "        if interesse.capitalize() not in self.lista_interesses:\n",
        "            self.lista_interesses.append(interesse.capitalize())\n",
        "\n",
        "    def adicionar_post(self, post):\n",
        "        '''\n",
        "        Adiciona um post ao self.\n",
        "        Condição: não podem ser adicionados posts repetidos.\n",
        "        \n",
        "        Parâmetros\n",
        "        - - - - - -\n",
        "        post: str\n",
        "            Post que será adicionado na lista de posts do self.\n",
        "        lista_posts: list / str\n",
        "            Lista de posts associada ao self.\n",
        "        '''\n",
        "        \n",
        "        # verifica se um post já foi adicionado anteriormente pelo self.\n",
        "        # caso negativo, adiciona na lista de posts do self.\n",
        "        \n",
        "        if post.capitalize() not in self.lista_posts:\n",
        "            self.lista_posts.append(post.capitalize())\n",
        "    \n",
        "    def contar_amigo(self):\n",
        "        '''\n",
        "        Conta quantos amigos o self possui na lista de amigos.\n",
        "        \n",
        "        Parâmetros\n",
        "        - - - - - -\n",
        "        lista_amigos: list / str\n",
        "            Lista de amigos associada ao self.\n",
        "        \n",
        "        Out\n",
        "        _ _ _\n",
        "            Imprime na tela uma mensagem dizendo quantos amigos o self possui.\n",
        "        '''\n",
        "        \n",
        "        print('{} possui {} amigo(s).'.format(self.nome_usuario, len(self.lista_amigos)))\n",
        "      \n",
        "    \n",
        "    def contar_post(self):\n",
        "        '''\n",
        "        Conta quantos posts o self possui na lista de posts.\n",
        "        \n",
        "        Parâmetros\n",
        "        - - - - - -\n",
        "        lista_posts: list / str\n",
        "            Lista de posts associada ao self.\n",
        "        \n",
        "        Out\n",
        "        _ _ _\n",
        "            Imprime na tela uma mensagem dizendo quantos posts o self possui.\n",
        "        '''\n",
        "        \n",
        "        print('{} possui {} post(s).'.format(self.nome_usuario, len(self.lista_posts)))\n",
        "        \n",
        "        \n",
        "    def buscar_amigo(self, nome_pesquisado):\n",
        "        '''\n",
        "        Busca se um nome dado está na lista de amizade.\n",
        "        \n",
        "        Parâmetros\n",
        "        - - - - - -\n",
        "        lista_amigos: list / str\n",
        "            Lista de amigos associada ao self.\n",
        "        \n",
        "        Out\n",
        "        _ _ _\n",
        "            Imprime na tela uma mensagem dizendo se o nome dado pertence à lista de amigos do self.\n",
        "        '''\n",
        "            \n",
        "        i = 0 # contador\n",
        "        \n",
        "        # Lista percorrida para verificar se o nome pesquisado está na lista de amigos.\n",
        "        # Caso positivo, adiciona '1' ao contador.\n",
        "        for cada_amigo in self.lista_amigos:\n",
        "            if nome_pesquisado.title() in cada_amigo.nome_usuario:\n",
        "                i += 1\n",
        "        \n",
        "        # Verifica se o contador é diferente de zero, ou seja, o nome pesquisado está na lista de contatos.\n",
        "        if i != 0:\n",
        "            print('{} está na sua lista de contatos.'.format(nome_pesquisado.title()))\n",
        "        else:\n",
        "            print('{} não está na sua lista de contatos.'.format(nome_pesquisado.title()))\n",
        "    \n",
        "    \n",
        "    def buscar_post(self, string_pesquisada):\n",
        "        '''\n",
        "        Busca se uma string pesquisada pertence a algum post do self ou da sua lista de amigos.\n",
        "        \n",
        "        Parâmetros\n",
        "        - - - - - -\n",
        "        lista_amigos: list / str\n",
        "            Lista de amigos associada ao self.\n",
        "        lista_posts: list / srt\n",
        "            Lista de posts associados ao self ou aos amigos, de acordo com o método de busca.\n",
        "        \n",
        "        Out\n",
        "        _ _ _\n",
        "            Imprime na tela os posts que contém a string pesquisada por Pessoa cadastrada (self ou lista de amigos do self).\n",
        "            OU imprime a mensagem 'Post não encontrado', caso a string pesquisada não esteja nos posts.\n",
        "        '''\n",
        "        i = 0 # contador\n",
        "        \n",
        "        # verificar se a string pesquisada está na lista de posts do self e retornar o post.\n",
        "        # caso positvo, adiciona '1' ao contador.\n",
        "        for cada_post in self.lista_posts:\n",
        "            if string_pesquisada.lower() in cada_post.lower():\n",
        "                print('{} escreveu:'.format(self.nome_usuario))\n",
        "                print('\\t' + cada_post)\n",
        "                i += 1\n",
        "        \n",
        "        # verificar se a string pesquisada está no post dos amigos do self e retornar o post do amigo.\n",
        "        # caso positivo, adiciona '1' ao contador.\n",
        "        for cada_amigo in self.lista_amigos:\n",
        "            for cada_post in cada_amigo.lista_posts:\n",
        "                if string_pesquisada.lower() in cada_post.lower():\n",
        "                    print('{} escreveu:'.format(cada_amigo.nome_usuario))\n",
        "                    print('\\t' + cada_post)\n",
        "                    i += 1\n",
        "        \n",
        "        # caso o contador seja igual a zero, indica que a string pesquisada não foi encontrada nos posts.\n",
        "        if i == 0:\n",
        "            print('Post não encontrado.')\n",
        "            \n",
        "    def mostrar_post_amigo(self, amigo_pesquisado=None):\n",
        "        '''\n",
        "        Mostra os posts da lista de amigos do self.\n",
        "        \n",
        "        Parâmetros\n",
        "        - - - - - -\n",
        "        lista_amigos: list / str\n",
        "            Lista de amigos associada ao self.\n",
        "        lista_posts: list / srt\n",
        "            Lista de posts associados às Pessoas constantes na lista de amigos do self.\n",
        "        \n",
        "        Out\n",
        "        _ _ _\n",
        "            Imprime na tela os posts encontrados por Pessoa cadastrada na lista de amigos do self.\n",
        "        '''\n",
        "        \n",
        "        # caso nenhum valor seja atribuido ao atributo 'amigo_pesquisado', os posts de todas as Pessoas constantes na lista de amigos será exibido.\n",
        "        if amigo_pesquisado == None:\n",
        "            for cada_amigo in self.lista_amigos:\n",
        "                print('{} escreveu:'.format(cada_amigo.nome_usuario))\n",
        "                for cada_post in cada_amigo.lista_posts:\n",
        "                    print('\\t' + cada_post)\n",
        "        \n",
        "        # caso algum valor seja atribuido ao atributo 'amigo_pesquisado', os posts de todas as Pessoas constantes na lista de amigos será exibido.\n",
        "        else:\n",
        "            for cada_amigo in self.lista_amigos:\n",
        "                if amigo_pesquisado.title() == cada_amigo.nome_usuario:\n",
        "                    print('{} escreveu:'.format(cada_amigo.nome_usuario))\n",
        "                    for cada_post in cada_amigo.lista_posts:\n",
        "                        print('\\t' + cada_post)\n",
        "                "
      ],
      "id": "60dddbc5-c433-424b-be47-fd7f31e7fe1b",
      "execution_count": null,
      "outputs": []
    },
    {
      "cell_type": "code",
      "metadata": {
        "id": "b708bedb-2391-47e7-b281-836edc0b930d"
      },
      "source": [
        "antonio = Pessoa(\n",
        "    nome_usuario = 'Antonio Schumaher', \n",
        "    apelido = 'Schummy', \n",
        "    dt_nascimento = '18/07/1978', \n",
        "    email = 'antonio@schumaher.com.br')\n",
        "\n",
        "thyago = Pessoa(\n",
        "    nome_usuario = 'Thyago Apolinario', \n",
        "    apelido = 'Delegado Tromba', \n",
        "    dt_nascimento = '24/04/2000', \n",
        "    email = 'thyago@apolinario.com.br')\n",
        "\n",
        "amaro = Pessoa(\n",
        "    nome_usuario = 'Amaro Santo', \n",
        "    apelido = 'Santinho', \n",
        "    dt_nascimento = '30/12/1968', \n",
        "    email = 'amaro@santos.com.br')\n"
      ],
      "id": "b708bedb-2391-47e7-b281-836edc0b930d",
      "execution_count": null,
      "outputs": []
    },
    {
      "cell_type": "code",
      "metadata": {
        "id": "efcec216-f1ce-4b2c-92ce-b432b5933ecf"
      },
      "source": [
        "antonio.adicionar_amigo(amigo = thyago)\n",
        "thyago.adicionar_amigo(amigo = amaro)\n",
        "amaro.adicionar_amigo(amigo = antonio)"
      ],
      "id": "efcec216-f1ce-4b2c-92ce-b432b5933ecf",
      "execution_count": null,
      "outputs": []
    },
    {
      "cell_type": "code",
      "metadata": {
        "id": "c87dc790-20e9-40a5-b041-42da25ed23aa"
      },
      "source": [
        "antonio.adicionar_interesse(interesse = 'música')\n",
        "antonio.adicionar_interesse(interesse = 'viagem')\n",
        "thyago.adicionar_interesse(interesse = 'academia')\n",
        "thyago.adicionar_interesse(interesse = 'cerveja')\n",
        "amaro.adicionar_interesse(interesse = 'bicicleta')"
      ],
      "id": "c87dc790-20e9-40a5-b041-42da25ed23aa",
      "execution_count": null,
      "outputs": []
    },
    {
      "cell_type": "code",
      "metadata": {
        "id": "36726aa1-7f6e-4e2a-9c42-722a41141b78"
      },
      "source": [
        "antonio.adicionar_post(post = 'Hoje eu fui viajar.')\n",
        "antonio.adicionar_post(post = 'Tirei foto do prato de comida.')\n",
        "thyago.adicionar_post(post = 'Selfie com o cachorro.')\n",
        "thyago.adicionar_post(post = 'Limpando a casa.')\n",
        "thyago.adicionar_post(post = 'Esperando a nota no CLASS.')\n",
        "amaro.adicionar_post(post = 'Esperando o ônibus.')"
      ],
      "id": "36726aa1-7f6e-4e2a-9c42-722a41141b78",
      "execution_count": null,
      "outputs": []
    },
    {
      "cell_type": "code",
      "metadata": {
        "id": "22d94fcc-a335-4192-83f4-25a3a40c2fef",
        "outputId": "74c6e643-3801-40a0-e862-e619f8903e93"
      },
      "source": [
        "antonio.contar_amigo()"
      ],
      "id": "22d94fcc-a335-4192-83f4-25a3a40c2fef",
      "execution_count": null,
      "outputs": [
        {
          "name": "stdout",
          "output_type": "stream",
          "text": [
            "Antonio Schumaher possui 2 amigo(s).\n"
          ]
        }
      ]
    },
    {
      "cell_type": "code",
      "metadata": {
        "id": "79749f02-63cb-4c81-92e9-7818886437b7",
        "outputId": "28f23344-4df9-4f37-abfa-8acaa4779b5b"
      },
      "source": [
        "thyago.contar_post()"
      ],
      "id": "79749f02-63cb-4c81-92e9-7818886437b7",
      "execution_count": null,
      "outputs": [
        {
          "name": "stdout",
          "output_type": "stream",
          "text": [
            "Thyago Apolinario possui 3 post(s).\n"
          ]
        }
      ]
    },
    {
      "cell_type": "code",
      "metadata": {
        "id": "80e8c563-d4cb-48a1-948a-fb8161723181",
        "outputId": "e70fe148-7ae6-4ce7-e347-806116aac9ef"
      },
      "source": [
        "amaro.buscar_amigo('Antonio Schumaher')"
      ],
      "id": "80e8c563-d4cb-48a1-948a-fb8161723181",
      "execution_count": null,
      "outputs": [
        {
          "name": "stdout",
          "output_type": "stream",
          "text": [
            "Antonio Schumaher está na sua lista de contatos.\n"
          ]
        }
      ]
    },
    {
      "cell_type": "code",
      "metadata": {
        "id": "4cd589b4-5c97-4e9c-bf24-cd5d7e3ceea9",
        "outputId": "3298a2ac-1df9-4b6d-ecf9-07b772f757c6"
      },
      "source": [
        "thyago.buscar_amigo('Amora Silva')"
      ],
      "id": "4cd589b4-5c97-4e9c-bf24-cd5d7e3ceea9",
      "execution_count": null,
      "outputs": [
        {
          "name": "stdout",
          "output_type": "stream",
          "text": [
            "Amora Silva não está na sua lista de contatos.\n"
          ]
        }
      ]
    },
    {
      "cell_type": "code",
      "metadata": {
        "id": "bde614a9-9a52-4c09-8446-6cb6e6830e29",
        "outputId": "75128cbd-6480-49bf-bdcb-56c13a3e3825"
      },
      "source": [
        "antonio.buscar_post('esperando')"
      ],
      "id": "bde614a9-9a52-4c09-8446-6cb6e6830e29",
      "execution_count": null,
      "outputs": [
        {
          "name": "stdout",
          "output_type": "stream",
          "text": [
            "Thyago Apolinario escreveu:\n",
            "\tEsperando a nota no class.\n",
            "Amaro Santo escreveu:\n",
            "\tEsperando o ônibus.\n"
          ]
        }
      ]
    },
    {
      "cell_type": "code",
      "metadata": {
        "id": "1eec61fa-962a-4973-ac96-1703b3680891",
        "outputId": "c2ad7499-b1cc-49d4-be47-de2b00d7e611"
      },
      "source": [
        "thyago.buscar_post('paralelepipedo quadriculado')"
      ],
      "id": "1eec61fa-962a-4973-ac96-1703b3680891",
      "execution_count": null,
      "outputs": [
        {
          "name": "stdout",
          "output_type": "stream",
          "text": [
            "Post não encontrado.\n"
          ]
        }
      ]
    },
    {
      "cell_type": "code",
      "metadata": {
        "id": "56274ee0-5f60-412b-ab15-4b43d7dfc003",
        "outputId": "f394618a-98b9-47dd-c84a-7cb87532e06b"
      },
      "source": [
        "amaro.mostrar_post_amigo()"
      ],
      "id": "56274ee0-5f60-412b-ab15-4b43d7dfc003",
      "execution_count": null,
      "outputs": [
        {
          "name": "stdout",
          "output_type": "stream",
          "text": [
            "Thyago Apolinario escreveu:\n",
            "\tSelfie com o cachorro.\n",
            "\tLimpando a casa.\n",
            "\tEsperando a nota no class.\n",
            "Antonio Schumaher escreveu:\n",
            "\tHoje eu fui viajar.\n",
            "\tTirei foto do prato de comida.\n"
          ]
        }
      ]
    },
    {
      "cell_type": "code",
      "metadata": {
        "id": "9e064e34-8d05-4f1b-9ab5-69535def1aeb",
        "outputId": "1ee82ddb-81ea-4897-db86-19336d05a28c"
      },
      "source": [
        "antonio.mostrar_post_amigo('Thyago Apolinario')"
      ],
      "id": "9e064e34-8d05-4f1b-9ab5-69535def1aeb",
      "execution_count": null,
      "outputs": [
        {
          "name": "stdout",
          "output_type": "stream",
          "text": [
            "Thyago Apolinario escreveu:\n",
            "\tSelfie com o cachorro.\n",
            "\tLimpando a casa.\n",
            "\tEsperando a nota no class.\n"
          ]
        }
      ]
    },
    {
      "cell_type": "code",
      "metadata": {
        "id": "4fe46308-d04e-46c9-94f7-1ee8576b5b12"
      },
      "source": [
        ""
      ],
      "id": "4fe46308-d04e-46c9-94f7-1ee8576b5b12",
      "execution_count": null,
      "outputs": []
    }
  ]
}