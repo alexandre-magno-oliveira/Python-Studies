{
 "cells": [
  {
   "cell_type": "code",
   "execution_count": 5,
   "id": "df1992bd",
   "metadata": {},
   "outputs": [
    {
     "name": "stdout",
     "output_type": "stream",
     "text": [
      "[1, 2, 3, 4, 5, 6, 7, 8, 9, 10]\n"
     ]
    }
   ],
   "source": [
    "lista = [1, 2, 3, 4, 5, 6, 7, 8, 9, 10]\n",
    "print(lista)"
   ]
  },
  {
   "cell_type": "code",
   "execution_count": 6,
   "id": "17fd6faf",
   "metadata": {},
   "outputs": [
    {
     "name": "stdout",
     "output_type": "stream",
     "text": [
      "['casa', 'bola', 'rua', 'bala', 'vila']\n"
     ]
    }
   ],
   "source": [
    "a = ['casa', 'bola', 'rua', 'bala', 'vila']\n",
    "print(a)"
   ]
  },
  {
   "cell_type": "code",
   "execution_count": 9,
   "id": "426a91a7",
   "metadata": {},
   "outputs": [
    {
     "name": "stdout",
     "output_type": "stream",
     "text": [
      "Alexandre Oliveira\n"
     ]
    }
   ],
   "source": [
    "nome = \"Alexandre\"\n",
    "sobrenome = \"Oliveira\"\n",
    "fullname = nome + \" \" + sobrenome\n",
    "print(fullname)"
   ]
  },
  {
   "cell_type": "code",
   "execution_count": 15,
   "id": "fa21e717",
   "metadata": {},
   "outputs": [
    {
     "data": {
      "text/plain": [
       "3"
      ]
     },
     "execution_count": 15,
     "metadata": {},
     "output_type": "execute_result"
    }
   ],
   "source": [
    "lista = (1, 2, 2, 3, 4, 4, 4, 5)\n",
    "lista.count(4)\n"
   ]
  },
  {
   "cell_type": "code",
   "execution_count": 16,
   "id": "783595b2",
   "metadata": {},
   "outputs": [
    {
     "name": "stdout",
     "output_type": "stream",
     "text": [
      "{}\n"
     ]
    }
   ],
   "source": [
    "dic = {}\n",
    "print(dic)"
   ]
  },
  {
   "cell_type": "code",
   "execution_count": 19,
   "id": "19036567",
   "metadata": {},
   "outputs": [
    {
     "name": "stdout",
     "output_type": "stream",
     "text": [
      "{'key1': 'v1', 'key2': 'v2', 'key3': 'v3'}\n"
     ]
    }
   ],
   "source": [
    "dict = {'key1':'v1', 'key2':'v2', 'key3':'v3'}\n",
    "print(dict)"
   ]
  },
  {
   "cell_type": "code",
   "execution_count": 20,
   "id": "15f22317",
   "metadata": {},
   "outputs": [
    {
     "name": "stdout",
     "output_type": "stream",
     "text": [
      "{'key1': 'v1', 'key2': 'v2', 'key3': 'v3', 'key4': 'parafuso'}\n"
     ]
    }
   ],
   "source": [
    "dict['key4'] = 'parafuso'\n",
    "print(dict)"
   ]
  },
  {
   "cell_type": "code",
   "execution_count": 21,
   "id": "e1766fc9",
   "metadata": {},
   "outputs": [
    {
     "name": "stdout",
     "output_type": "stream",
     "text": [
      "{'k1': [1, 2], 'k2': 'vaca', 'k3': 'galo'}\n"
     ]
    }
   ],
   "source": [
    "dict = {'k1': [1, 2], 'k2': 'vaca', 'k3': 'galo'}\n",
    "print(dict)"
   ]
  },
  {
   "cell_type": "code",
   "execution_count": 23,
   "id": "762296dc",
   "metadata": {},
   "outputs": [
    {
     "name": "stdout",
     "output_type": "stream",
     "text": [
      "['jaca', (3, 4), {'k1': 'laranja', 'k2': 'amora'}, 4.5]\n"
     ]
    }
   ],
   "source": [
    "lista = ['jaca', (3, 4), {'k1':'laranja', 'k2':'amora'}, 4.5]\n",
    "print(lista)"
   ]
  },
  {
   "cell_type": "code",
   "execution_count": 26,
   "id": "52184bd4",
   "metadata": {},
   "outputs": [
    {
     "data": {
      "text/plain": [
       "'Cientista de Dados'"
      ]
     },
     "execution_count": 26,
     "metadata": {},
     "output_type": "execute_result"
    }
   ],
   "source": [
    "frase = 'Cientista de Dados é o profissional mais sexy do século XXI'\n",
    "frase[0:18]"
   ]
  },
  {
   "cell_type": "code",
   "execution_count": null,
   "id": "37351767",
   "metadata": {},
   "outputs": [],
   "source": []
  }
 ],
 "metadata": {
  "kernelspec": {
   "display_name": "Python 3",
   "language": "python",
   "name": "python3"
  },
  "language_info": {
   "codemirror_mode": {
    "name": "ipython",
    "version": 3
   },
   "file_extension": ".py",
   "mimetype": "text/x-python",
   "name": "python",
   "nbconvert_exporter": "python",
   "pygments_lexer": "ipython3",
   "version": "3.8.8"
  }
 },
 "nbformat": 4,
 "nbformat_minor": 5
}
