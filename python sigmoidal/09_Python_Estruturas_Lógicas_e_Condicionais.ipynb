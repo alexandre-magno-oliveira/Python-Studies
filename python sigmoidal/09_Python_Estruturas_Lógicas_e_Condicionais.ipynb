{
  "nbformat": 4,
  "nbformat_minor": 0,
  "metadata": {
    "colab": {
      "name": "09 -  Python -  Estruturas Lógicas e Condicionais",
      "provenance": []
    },
    "kernelspec": {
      "name": "python3",
      "display_name": "Python 3"
    }
  },
  "cells": [
    {
      "cell_type": "markdown",
      "metadata": {
        "id": "sZ5OjtVEoFUF",
        "colab_type": "text"
      },
      "source": [
        "# Estruturas de Repetição e Condicionais\n",
        "\n",
        "Nesta aula, você irá aprender algumas das principais estruturas lógicas e condicionais, que irão agregar muitas funcionalidades para o seu código.\n",
        "\n",
        "Obviamente, as estruturas existentes são bem mais extensas que as apresentadas aqui. Porém, aqui você terá uma visão geral daquelas que fazem mais sentido neste momento, com foco sempre no curso Data Science na Prática.\n",
        "\n",
        "É importante ressaltar que a identação é muito importante aqui, pois podemos encontrar erros simplesmente por não ter feito a identação corretamente. Portanto, muita atenção ao criar essas estruturas."
      ]
    },
    {
      "cell_type": "markdown",
      "metadata": {
        "id": "mbfYlMXJoV-f",
        "colab_type": "text"
      },
      "source": [
        "### If Statement\n",
        "\n",
        "Faz uma análise baseada em condições. Pode rodar ou pular frações de códigos, dependendo se a condição recebe um `True` ou `False`."
      ]
    },
    {
      "cell_type": "code",
      "metadata": {
        "id": "m7c_LRMxpCdB",
        "colab_type": "code",
        "colab": {
          "base_uri": "https://localhost:8080/",
          "height": 35
        },
        "outputId": "260ab53e-2b44-4855-d40a-c37978d4c268"
      },
      "source": [
        "carlos = 35\n",
        "\n",
        "if carlos >= 18:\n",
        "    print(\"Pode comprar bebida.\")\n",
        "else:\n",
        "    print(\"Não pode comprar bebida.\")"
      ],
      "execution_count": 5,
      "outputs": [
        {
          "output_type": "stream",
          "text": [
            "Pode comprar bebida.\n"
          ],
          "name": "stdout"
        }
      ]
    },
    {
      "cell_type": "code",
      "metadata": {
        "id": "0Bn4A19GpcL3",
        "colab_type": "code",
        "colab": {
          "base_uri": "https://localhost:8080/",
          "height": 35
        },
        "outputId": "167da504-b825-4f91-856c-82d9b003a720"
      },
      "source": [
        "pedro = 17\n",
        "\n",
        "if pedro >= 18:\n",
        "    print(\"Pode comprar bebida.\")\n",
        "else:\n",
        "    print(\"Não pode comprar bebida.\")"
      ],
      "execution_count": 4,
      "outputs": [
        {
          "output_type": "stream",
          "text": [
            "Não pode comprar bebida.\n"
          ],
          "name": "stdout"
        }
      ]
    },
    {
      "cell_type": "code",
      "metadata": {
        "id": "iTFHgrTvpeyU",
        "colab_type": "code",
        "colab": {
          "base_uri": "https://localhost:8080/",
          "height": 35
        },
        "outputId": "a706a8e5-2a17-4611-87d4-8ef14b1b98de"
      },
      "source": [
        "carlos_idade = 35\n",
        "carlos_cnh = True\n",
        "carlos_pontos_cnh = 16\n",
        "\n",
        "if carlos_idade >= 18 and carlos_cnh and carlos_pontos_cnh < 20:\n",
        "    print(\"Pode alugar carro!\")\n",
        "else:\n",
        "    print(\"Não pode alugar carro.\")"
      ],
      "execution_count": 6,
      "outputs": [
        {
          "output_type": "stream",
          "text": [
            "Pode alugar carro!\n"
          ],
          "name": "stdout"
        }
      ]
    },
    {
      "cell_type": "code",
      "metadata": {
        "id": "VnwUp9F9qSXZ",
        "colab_type": "code",
        "colab": {
          "base_uri": "https://localhost:8080/",
          "height": 53
        },
        "outputId": "29443f2a-b1ca-43f4-815c-a418846e6154"
      },
      "source": [
        "saldo = 100.00\n",
        "compra_efetuada = 25.90\n",
        "\n",
        "print(\"Saldo Inicial:\", saldo)\n",
        "if compra_efetuada:\n",
        "    saldo = saldo - compra_efetuada\n",
        "    print(\"Saldo Atual:\", saldo)"
      ],
      "execution_count": 8,
      "outputs": [
        {
          "output_type": "stream",
          "text": [
            "Saldo Inicial: 100.0\n",
            "Saldo Atual: 74.1\n"
          ],
          "name": "stdout"
        }
      ]
    },
    {
      "cell_type": "markdown",
      "metadata": {
        "id": "yjmePENrrSmt",
        "colab_type": "text"
      },
      "source": [
        "### For Loops\n",
        "\n",
        "Permite que você repita pedaçõs de códigos, evitando que você tenha que repetir códigos manualmente. Permite que você execute uma determinada ação até que uma determinada condição tenha sido atingida."
      ]
    },
    {
      "cell_type": "code",
      "metadata": {
        "id": "VcHnzvgJr1qO",
        "colab_type": "code",
        "colab": {
          "base_uri": "https://localhost:8080/",
          "height": 197
        },
        "outputId": "c4852c93-3512-4bee-ba8c-9ae1215867b1"
      },
      "source": [
        "for i in range(10):\n",
        "    print(i)"
      ],
      "execution_count": 13,
      "outputs": [
        {
          "output_type": "stream",
          "text": [
            "0\n",
            "1\n",
            "2\n",
            "3\n",
            "4\n",
            "5\n",
            "6\n",
            "7\n",
            "8\n",
            "9\n"
          ],
          "name": "stdout"
        }
      ]
    },
    {
      "cell_type": "code",
      "metadata": {
        "id": "6UDVWn7erUKD",
        "colab_type": "code",
        "colab": {
          "base_uri": "https://localhost:8080/",
          "height": 89
        },
        "outputId": "dcbc3e47-0f15-4d98-c565-ecbbc49d0cfa"
      },
      "source": [
        "lista_convidados = [\"Carlos\", \"Fernanda\", \"Theo\", \"Snow\"]\n",
        "\n",
        "for i in lista_convidados:\n",
        "    print(i)"
      ],
      "execution_count": 14,
      "outputs": [
        {
          "output_type": "stream",
          "text": [
            "Carlos\n",
            "Fernanda\n",
            "Theo\n",
            "Snow\n"
          ],
          "name": "stdout"
        }
      ]
    },
    {
      "cell_type": "code",
      "metadata": {
        "id": "I4meWtCjsEXA",
        "colab_type": "code",
        "colab": {
          "base_uri": "https://localhost:8080/",
          "height": 215
        },
        "outputId": "8ef8762b-b455-44f1-994b-eada333efd9d"
      },
      "source": [
        "for i in range(11):\n",
        "    resultado = i * 8\n",
        "    print(\"8 x\", i, \"=\", resultado)"
      ],
      "execution_count": 15,
      "outputs": [
        {
          "output_type": "stream",
          "text": [
            "8 x 0 = 0\n",
            "8 x 1 = 8\n",
            "8 x 2 = 16\n",
            "8 x 3 = 24\n",
            "8 x 4 = 32\n",
            "8 x 5 = 40\n",
            "8 x 6 = 48\n",
            "8 x 7 = 56\n",
            "8 x 8 = 64\n",
            "8 x 9 = 72\n",
            "8 x 10 = 80\n"
          ],
          "name": "stdout"
        }
      ]
    },
    {
      "cell_type": "markdown",
      "metadata": {
        "id": "X-utqQV7sVFK",
        "colab_type": "text"
      },
      "source": [
        "### While Loops\n",
        "\n",
        "Similar ao `for` *loop*, o `while` *loop* cria uma repetição em cima de determinada ação. No entanto, enquanto no *for* nós indicávamos a quantidade de vezes que determinada ação deveria ser executada, o *while* continua repetindo uma ação até que determinada condição de parada seja atingida."
      ]
    },
    {
      "cell_type": "code",
      "metadata": {
        "id": "CJ_NljR_tE_p",
        "colab_type": "code",
        "colab": {
          "base_uri": "https://localhost:8080/",
          "height": 53
        },
        "outputId": "fde4e030-bd55-406f-d7e0-8b35d364576d"
      },
      "source": [
        "saldo = 300.00\n",
        "preco_pizza = 80.50\n",
        "\n",
        "counter = 0\n",
        "while saldo > preco_pizza:\n",
        "    counter = counter + 1\n",
        "    saldo = saldo - preco_pizza\n",
        "\n",
        "print(\"Você comprou\", counter, \"pizzas!\")\n",
        "print(\"Saldo remanescente: \", saldo)"
      ],
      "execution_count": 16,
      "outputs": [
        {
          "output_type": "stream",
          "text": [
            "Você comprou 3 pizzas!\n",
            "Saldo remanescente:  58.5\n"
          ],
          "name": "stdout"
        }
      ]
    },
    {
      "cell_type": "code",
      "metadata": {
        "id": "6J9CfXKutysb",
        "colab_type": "code",
        "colab": {
          "base_uri": "https://localhost:8080/",
          "height": 215
        },
        "outputId": "edbbde54-6493-4644-eb2c-e1ce9ad3af9c"
      },
      "source": [
        "validade_yakult = 10\n",
        "\n",
        "while validade_yakult > 0:\n",
        "    print(\"[+] Produto na validade. Faltam\", validade_yakult, \"dias.\")\n",
        "    validade_yakult -= 1\n",
        "\n",
        "print(\"[-] ATENÇÃO: Yogurt vencido. Faltam\", validade_yakult, \"dias.\")"
      ],
      "execution_count": 17,
      "outputs": [
        {
          "output_type": "stream",
          "text": [
            "[+] Produto na validade. Faltam 10 dias.\n",
            "[+] Produto na validade. Faltam 9 dias.\n",
            "[+] Produto na validade. Faltam 8 dias.\n",
            "[+] Produto na validade. Faltam 7 dias.\n",
            "[+] Produto na validade. Faltam 6 dias.\n",
            "[+] Produto na validade. Faltam 5 dias.\n",
            "[+] Produto na validade. Faltam 4 dias.\n",
            "[+] Produto na validade. Faltam 3 dias.\n",
            "[+] Produto na validade. Faltam 2 dias.\n",
            "[+] Produto na validade. Faltam 1 dias.\n",
            "[-] ATENÇÃO: Yogurt vencido. Faltam 0 dias.\n"
          ],
          "name": "stdout"
        }
      ]
    },
    {
      "cell_type": "markdown",
      "metadata": {
        "id": "ObJ8s4032qQ_",
        "colab_type": "text"
      },
      "source": [
        "## Exercícios\n",
        "Agora estamos prontos para colocar a mão na massa e criar algumas estruturas condicionais.\n"
      ]
    },
    {
      "cell_type": "markdown",
      "metadata": {
        "id": "v4NYJnMa467s",
        "colab_type": "text"
      },
      "source": [
        "### Exercício 1\n",
        "Crie uma estrutura condicional para verificar se a pessoa pode alugar um carro."
      ]
    },
    {
      "cell_type": "code",
      "metadata": {
        "id": "ySFtnZNnubyS",
        "colab_type": "code",
        "colab": {}
      },
      "source": [
        "# resposta\n"
      ],
      "execution_count": null,
      "outputs": []
    },
    {
      "cell_type": "code",
      "metadata": {
        "id": "F5SWy7g75skL",
        "colab_type": "code",
        "cellView": "form",
        "colab": {}
      },
      "source": [
        "#@title Solução\n",
        "idade= 25\n",
        "cnh = True\n",
        "\n",
        "if idade >= 21 & cnh == True:\n",
        "  print(\"Você pode alugar um carro.\")\n",
        "else:\n",
        "  print(\"Você não pode alugar um carro.\")"
      ],
      "execution_count": null,
      "outputs": []
    },
    {
      "cell_type": "markdown",
      "metadata": {
        "id": "7uzqD0Gg7U01",
        "colab_type": "text"
      },
      "source": [
        "### Exercício 2\n",
        "Crie uma lista com 5 elementos, e crie uma estrutura condicional para listar todos os items da lista."
      ]
    },
    {
      "cell_type": "code",
      "metadata": {
        "id": "wWADidSy6hMx",
        "colab_type": "code",
        "colab": {}
      },
      "source": [
        "# resposta\n"
      ],
      "execution_count": null,
      "outputs": []
    },
    {
      "cell_type": "code",
      "metadata": {
        "id": "UbaRLJVS98Ib",
        "colab_type": "code",
        "cellView": "form",
        "colab": {}
      },
      "source": [
        "#@title Solução\n",
        "frutas = ['Banana', 'Laranja', 'Macã', 'Abacaxi', 'Morango']\n",
        "\n",
        "for i in frutas:\n",
        "  print(i)"
      ],
      "execution_count": null,
      "outputs": []
    },
    {
      "cell_type": "markdown",
      "metadata": {
        "id": "PQwcMhc2_afi",
        "colab_type": "text"
      },
      "source": [
        "### Exercício 3\n",
        "Crie uma estrutura condicional para calcular os dias até o final do mês."
      ]
    },
    {
      "cell_type": "code",
      "metadata": {
        "id": "gwmGPceN-Gkn",
        "colab_type": "code",
        "colab": {}
      },
      "source": [
        "# resposta\n"
      ],
      "execution_count": null,
      "outputs": []
    },
    {
      "cell_type": "code",
      "metadata": {
        "id": "iIB8Zjag_q3r",
        "colab_type": "code",
        "colab": {}
      },
      "source": [
        "#@title Solução\n",
        "data = 9\n",
        "\n",
        "while data > 0:\n",
        "    print(\"Faltam\", data, \"dias para o fim do mês.\")\n",
        "    data -= 1\n",
        "\n",
        "print(\"Início do novo mês!\")"
      ],
      "execution_count": null,
      "outputs": []
    },
    {
      "cell_type": "code",
      "metadata": {
        "id": "azptzq2QAm5X",
        "colab_type": "code",
        "colab": {}
      },
      "source": [
        ""
      ],
      "execution_count": null,
      "outputs": []
    }
  ]
}