{
  "nbformat": 4,
  "nbformat_minor": 0,
  "metadata": {
    "colab": {
      "name": "Booleanos e Operadores Lógicos",
      "provenance": [],
      "collapsed_sections": []
    },
    "kernelspec": {
      "name": "python3",
      "display_name": "Python 3"
    }
  },
  "cells": [
    {
      "cell_type": "markdown",
      "metadata": {
        "id": "uot0dPiSrjhg",
        "colab_type": "text"
      },
      "source": [
        "# Introdução ao Python\n",
        "\n",
        "Nesta aula veremos sobre o tipo de dado chamado **booleano**, ou ***bool***, além dos operadores relacionais e dos operadores lógicos.\n",
        "\n",
        "São extremamente importantes, presentes em qualquer lógico de qualquer programa de computador.\n",
        "\n"
      ]
    },
    {
      "cell_type": "markdown",
      "metadata": {
        "id": "Ubz_tFXksVeu",
        "colab_type": "text"
      },
      "source": [
        "## Booleanos\n",
        "\n",
        "O tipo `bool` é um dado que pode possuir os valores `True` ou `False`:\n",
        "\n",
        "* `True` - equivalente ao número 1\n",
        "* `False` - equivalente ao número 0"
      ]
    },
    {
      "cell_type": "code",
      "metadata": {
        "id": "nLOr8ErzsbXb",
        "colab_type": "code",
        "outputId": "6cb011ed-ea61-4e68-d3b8-27c61166208b",
        "colab": {
          "base_uri": "https://localhost:8080/",
          "height": 35
        }
      },
      "source": [
        "# ver o tipo de True\n",
        "type(True)"
      ],
      "execution_count": 3,
      "outputs": [
        {
          "output_type": "execute_result",
          "data": {
            "text/plain": [
              "bool"
            ]
          },
          "metadata": {
            "tags": []
          },
          "execution_count": 3
        }
      ]
    },
    {
      "cell_type": "code",
      "metadata": {
        "id": "7ckrSOw2tPip",
        "colab_type": "code",
        "outputId": "2f94b21a-5e47-413d-cd27-ce4bb80e80e1",
        "colab": {
          "base_uri": "https://localhost:8080/",
          "height": 35
        }
      },
      "source": [
        "# ver o tipo de False\n",
        "type(False)"
      ],
      "execution_count": 4,
      "outputs": [
        {
          "output_type": "execute_result",
          "data": {
            "text/plain": [
              "bool"
            ]
          },
          "metadata": {
            "tags": []
          },
          "execution_count": 4
        }
      ]
    },
    {
      "cell_type": "markdown",
      "metadata": {
        "id": "KoNsUflfsNHH",
        "colab_type": "text"
      },
      "source": [
        "## Operadores Relacionais\n",
        "\n",
        "Os Operadores Relacionais server para você fazer comparações entre valores ou variáveis.\n",
        "\n",
        "Após avaliar uma expressão, os Operadores Relacionais retornam um dado do tipo `bool`, ou seja, `True` ou `False`. Veja os 6 operadores:\n",
        "\n",
        "\n",
        "| **OPERADOR** | **DESCRIÇÃO**    |\n",
        "|:------------:|:----------------:|\n",
        "| <            | Menor que        |\n",
        "| >            | Maior que        |\n",
        "| <=           | Menor or igual a |\n",
        "| >=           | Maior ou igual a |\n",
        "| ==           | Igual a          |\n",
        "| \\!=          | Diferente de     |"
      ]
    },
    {
      "cell_type": "code",
      "metadata": {
        "id": "H2QxVuD4sbzY",
        "colab_type": "code",
        "outputId": "295d1b83-ad9e-4a09-86c9-90b7aed1fc95",
        "colab": {
          "base_uri": "https://localhost:8080/",
          "height": 35
        }
      },
      "source": [
        "# operador relacional maior que\n",
        "4 > 5"
      ],
      "execution_count": 7,
      "outputs": [
        {
          "output_type": "execute_result",
          "data": {
            "text/plain": [
              "False"
            ]
          },
          "metadata": {
            "tags": []
          },
          "execution_count": 7
        }
      ]
    },
    {
      "cell_type": "code",
      "metadata": {
        "id": "Q6YqLSUdvHaj",
        "colab_type": "code",
        "outputId": "6addb57b-dd80-4d13-d7e0-16f55b64e885",
        "colab": {
          "base_uri": "https://localhost:8080/",
          "height": 35
        }
      },
      "source": [
        "# operador relacional igual a \n",
        "4 == 4"
      ],
      "execution_count": 10,
      "outputs": [
        {
          "output_type": "execute_result",
          "data": {
            "text/plain": [
              "True"
            ]
          },
          "metadata": {
            "tags": []
          },
          "execution_count": 10
        }
      ]
    },
    {
      "cell_type": "markdown",
      "metadata": {
        "id": "lgvsc1HCoPGx",
        "colab_type": "text"
      },
      "source": [
        "Podemos utilizar esses operadores para `strings` também, como no exemplo abaixo.\n",
        "\n",
        "É importante ressaltar também que o Python é ***case sensitive***, o que significa que ele diferencia minúsculas de maiúsculas, portanto `x` não é o mesmo que `X`."
      ]
    },
    {
      "cell_type": "code",
      "metadata": {
        "id": "Ko0UgNREvHQX",
        "colab_type": "code",
        "outputId": "d259e031-e729-442c-f976-ae149da0a234",
        "colab": {
          "base_uri": "https://localhost:8080/",
          "height": 35
        }
      },
      "source": [
        "# operador relacional com strings\n",
        "'texto' == 'TEXTO'"
      ],
      "execution_count": 11,
      "outputs": [
        {
          "output_type": "execute_result",
          "data": {
            "text/plain": [
              "False"
            ]
          },
          "metadata": {
            "tags": []
          },
          "execution_count": 11
        }
      ]
    },
    {
      "cell_type": "markdown",
      "metadata": {
        "id": "O-nM1UgtoqLi",
        "colab_type": "text"
      },
      "source": [
        "Quando utilizamos operadores booleanos, o `True` assume o valor `1`, e `False`, `0`.\n",
        "\n",
        "Podemos conferir isso com o código abaixo:"
      ]
    },
    {
      "cell_type": "code",
      "metadata": {
        "id": "GGQ1HZBavHHZ",
        "colab_type": "code",
        "outputId": "016a804c-6478-4c79-c20f-4c428bdafac6",
        "colab": {
          "base_uri": "https://localhost:8080/",
          "height": 35
        }
      },
      "source": [
        "True == 1"
      ],
      "execution_count": 12,
      "outputs": [
        {
          "output_type": "execute_result",
          "data": {
            "text/plain": [
              "True"
            ]
          },
          "metadata": {
            "tags": []
          },
          "execution_count": 12
        }
      ]
    },
    {
      "cell_type": "code",
      "metadata": {
        "id": "lO_xWaR7vG-9",
        "colab_type": "code",
        "outputId": "4b0fca31-25b6-4d1b-cd3e-22eb573c0a4f",
        "colab": {
          "base_uri": "https://localhost:8080/",
          "height": 34
        }
      },
      "source": [
        "False == 1"
      ],
      "execution_count": 13,
      "outputs": [
        {
          "output_type": "execute_result",
          "data": {
            "text/plain": [
              "False"
            ]
          },
          "metadata": {
            "tags": []
          },
          "execution_count": 13
        }
      ]
    },
    {
      "cell_type": "markdown",
      "metadata": {
        "id": "xbNv_V2xpLdo",
        "colab_type": "text"
      },
      "source": [
        "Podemos utilizar de operadores booleanos para diferentes tarefas, que podem ter diferentes níveis de complexidade."
      ]
    },
    {
      "cell_type": "code",
      "metadata": {
        "id": "_xKakPKgvG24",
        "colab_type": "code",
        "outputId": "aa688148-0f47-4dbf-f552-05d1be8f43a7",
        "colab": {
          "base_uri": "https://localhost:8080/",
          "height": 34
        }
      },
      "source": [
        "2 ** 10 >= 100"
      ],
      "execution_count": 14,
      "outputs": [
        {
          "output_type": "execute_result",
          "data": {
            "text/plain": [
              "True"
            ]
          },
          "metadata": {
            "tags": []
          },
          "execution_count": 14
        }
      ]
    },
    {
      "cell_type": "markdown",
      "metadata": {
        "id": "_VNFzmZEpTWU",
        "colab_type": "text"
      },
      "source": [
        "Ao usar o comparativo \"diferente de\", estamos buscando igualdade total, ou seja, um **2** do tipo `int` e um **2** do tipo `string` não são considerados iguais."
      ]
    },
    {
      "cell_type": "code",
      "metadata": {
        "id": "gLEf9jmRvthu",
        "colab_type": "code",
        "outputId": "75d3ee34-3ef7-4a9a-ccef-5efc7406be61",
        "colab": {
          "base_uri": "https://localhost:8080/",
          "height": 34
        }
      },
      "source": [
        "2 != '2'"
      ],
      "execution_count": 17,
      "outputs": [
        {
          "output_type": "execute_result",
          "data": {
            "text/plain": [
              "True"
            ]
          },
          "metadata": {
            "tags": []
          },
          "execution_count": 17
        }
      ]
    },
    {
      "cell_type": "markdown",
      "metadata": {
        "id": "0XqngY88sO4V",
        "colab_type": "text"
      },
      "source": [
        "## Operadores Lógicos\n",
        "\n",
        "Os Operadores Lógicos são aqueles que permitem você unir várias expressões lógicas, várias comparações.\n",
        "\n",
        "Em *scripts* ou projetos de *Data Science* que você irá fazer, com certeza lidará com situações onde vai precisar avaliar várias condições ao mesmo tempo.\n",
        "\n",
        "Os três Operadores Lógicos que você precisa conhecer são:\n",
        "\n",
        "| **OPERADORES LÓGICOS** | **DESCRIÇÃO**                                         |\n",
        "|:----------------------:|:-----------------------------------------------------:|\n",
        "| and                    | Verifica se todas as expressões são True              |\n",
        "| or                     | Verifica se pelo menos uma expressão é verdadeira     |\n",
        "| not                    | Verifica a negação da expressão\\. Inverte o resultado |\n",
        "\n",
        "\n",
        "Com eles, podemos fazer diversas conferências, que serão muito úteis no nosso código, seja para trabalhar e limpar os dados, ou executar uma função em uma aplicação."
      ]
    },
    {
      "cell_type": "markdown",
      "metadata": {
        "id": "fZZhtoC7R-nR",
        "colab_type": "text"
      },
      "source": [
        "### Operador lógico AND\n",
        "Quando usamos esse operador, queremos que **todas** as condições sejam verdadeiras. Caso alguma delas seja falsa, teremos `False` como resultado."
      ]
    },
    {
      "cell_type": "code",
      "metadata": {
        "id": "jK7ErHIWsSG3",
        "colab_type": "code",
        "outputId": "db708659-9981-4171-88c2-f25e3d9ef60a",
        "colab": {
          "base_uri": "https://localhost:8080/",
          "height": 35
        }
      },
      "source": [
        "# verificar se todas as condições são atendidas\n",
        "idade = 23\n",
        "possui_habilitacao = True\n",
        "\n",
        "# permitir aluguel do carro?\n",
        "(idade >= 18) and (possui_habilitacao)"
      ],
      "execution_count": 20,
      "outputs": [
        {
          "output_type": "execute_result",
          "data": {
            "text/plain": [
              "True"
            ]
          },
          "metadata": {
            "tags": []
          },
          "execution_count": 20
        }
      ]
    },
    {
      "cell_type": "code",
      "metadata": {
        "id": "M4BnPhF3xqJE",
        "colab_type": "code",
        "outputId": "21b64f52-5e03-464a-aa9b-0867f9db0d7b",
        "colab": {
          "base_uri": "https://localhost:8080/",
          "height": 35
        }
      },
      "source": [
        "# verificar se todas as condições são atendidas\n",
        "idade = 17\n",
        "possui_habilitacao = True\n",
        "\n",
        "# permitir aluguel do carro?\n",
        "(idade >= 18) and (possui_habilitacao)"
      ],
      "execution_count": 21,
      "outputs": [
        {
          "output_type": "execute_result",
          "data": {
            "text/plain": [
              "False"
            ]
          },
          "metadata": {
            "tags": []
          },
          "execution_count": 21
        }
      ]
    },
    {
      "cell_type": "markdown",
      "metadata": {
        "id": "9FWu4afJSNWB",
        "colab_type": "text"
      },
      "source": [
        "### Operador OR\n",
        "Para o or, precisamos que **ao menos uma** das condições seja satisfeita."
      ]
    },
    {
      "cell_type": "code",
      "metadata": {
        "id": "_RukwDcxx56w",
        "colab_type": "code",
        "outputId": "c6886e4c-68f1-49b3-ea84-b50db9701acf",
        "colab": {
          "base_uri": "https://localhost:8080/",
          "height": 35
        }
      },
      "source": [
        "# verificar se ao menos uma condição é atendida\n",
        "tempo_relacionamento = 3\n",
        "valor_da_compra = 300.50\n",
        "cartao_da_loja = False\n",
        "\n",
        "# fornecer desconto se uma das condições for verdadeira\n",
        "(tempo_relacionamento > 1) or (valor_da_compra > 500.00) or (cartao_da_loja)"
      ],
      "execution_count": 24,
      "outputs": [
        {
          "output_type": "execute_result",
          "data": {
            "text/plain": [
              "True"
            ]
          },
          "metadata": {
            "tags": []
          },
          "execution_count": 24
        }
      ]
    },
    {
      "cell_type": "markdown",
      "metadata": {
        "id": "2tRPAf4uSXU4",
        "colab_type": "text"
      },
      "source": [
        "### Operador NOT\n",
        "Ao usar esse operador, estamos verificando a negação da operação, ou seja, invertendo o resultado.\n",
        "\n",
        "Ou seja, ele retorna `False` caso o resultado seja `True`."
      ]
    },
    {
      "cell_type": "code",
      "metadata": {
        "id": "IAxVN1exy4HC",
        "colab_type": "code",
        "outputId": "b99840be-fc34-41fb-ceff-df10d63d8fc1",
        "colab": {
          "base_uri": "https://localhost:8080/",
          "height": 34
        }
      },
      "source": [
        "# verificar se a criança pode entrar em um brinquedo do parque\n",
        "altura_crianca = 1.10\n",
        "\n",
        "# a criança pode entrar no brinquedo?\n",
        "not altura_crianca < 1.50"
      ],
      "execution_count": 27,
      "outputs": [
        {
          "output_type": "execute_result",
          "data": {
            "text/plain": [
              "False"
            ]
          },
          "metadata": {
            "tags": []
          },
          "execution_count": 27
        }
      ]
    },
    {
      "cell_type": "markdown",
      "metadata": {
        "id": "E66jiCRj0fNr",
        "colab_type": "text"
      },
      "source": [
        "## Exercícios\n",
        "\n",
        "* Verifique se a expressão $2^4$ é igual a $16$:"
      ]
    },
    {
      "cell_type": "markdown",
      "metadata": {
        "id": "FLz4DeLdS1mI",
        "colab_type": "text"
      },
      "source": [
        "### Exercício 1\n",
        "Verifique se a expressão $2^4$ é igual a $16$:"
      ]
    },
    {
      "cell_type": "code",
      "metadata": {
        "id": "v42fI7p10rN2",
        "colab_type": "code",
        "colab": {}
      },
      "source": [
        "# resposta\n"
      ],
      "execution_count": 0,
      "outputs": []
    },
    {
      "cell_type": "code",
      "metadata": {
        "id": "WSALYjuLTAf0",
        "colab_type": "code",
        "cellView": "form",
        "colab": {}
      },
      "source": [
        "#@title Solução\n",
        "2**4 == 16"
      ],
      "execution_count": 0,
      "outputs": []
    },
    {
      "cell_type": "markdown",
      "metadata": {
        "id": "Ibl-Oekp0sIu",
        "colab_type": "text"
      },
      "source": [
        "### Exercício 2\n",
        "Abaixo estão as notas de 3 provas de um estudante de ensino médio. Usando Operadores Lógicos e Operadores Relacionais, verifique se o mesmo foi aprovado no semestre. A condição para aprovação é ter as notas todas maiores ou iguais a 7."
      ]
    },
    {
      "cell_type": "code",
      "metadata": {
        "id": "5Zk-Jfh61I7T",
        "colab_type": "code",
        "colab": {}
      },
      "source": [
        "nota_matematica = 7.0\n",
        "nota_ingles = 8.2\n",
        "nota_historia = 6.95\n",
        "\n",
        "# expressão para ver se o aluno foi aprovado\n"
      ],
      "execution_count": 0,
      "outputs": []
    },
    {
      "cell_type": "code",
      "metadata": {
        "id": "J_NgRQzuTpqU",
        "colab_type": "code",
        "cellView": "form",
        "colab": {}
      },
      "source": [
        "#@title Solução\n",
        "print(nota_matematica >= 7)\n",
        "print(nota_ingles >= 7)\n",
        "print(nota_historia >= 7)\n",
        "\n",
        "# verificar média geral\n",
        "print(nota_matematica + nota_ingles + nota_historia / 3 >= 7)"
      ],
      "execution_count": 0,
      "outputs": []
    },
    {
      "cell_type": "markdown",
      "metadata": {
        "id": "8rDwbKBIX43j",
        "colab_type": "text"
      },
      "source": [
        "### Exercício 3\n",
        "Usando operadores lógicos e matemáticos, verifique se João pode tirar carteira de motorista, sabendo que a idade mínima para isso é 18 anos de idade, e que custa R$1.000,00"
      ]
    },
    {
      "cell_type": "code",
      "metadata": {
        "id": "n7EIGnWOUBtc",
        "colab_type": "code",
        "colab": {}
      },
      "source": [
        "# dados do João\n",
        "idade = 19\n",
        "saldo = 1500"
      ],
      "execution_count": 0,
      "outputs": []
    },
    {
      "cell_type": "code",
      "metadata": {
        "id": "8umykNt1YZHT",
        "colab_type": "code",
        "colab": {}
      },
      "source": [
        "# resposta\n"
      ],
      "execution_count": 0,
      "outputs": []
    },
    {
      "cell_type": "code",
      "metadata": {
        "id": "YtEQ9n8qYa0t",
        "colab_type": "code",
        "cellView": "form",
        "colab": {}
      },
      "source": [
        "#@title Solução\n",
        "idade >= 18 and saldo >= 1000"
      ],
      "execution_count": 0,
      "outputs": []
    },
    {
      "cell_type": "code",
      "metadata": {
        "id": "5H04dFb1Yg2v",
        "colab_type": "code",
        "colab": {}
      },
      "source": [
        ""
      ],
      "execution_count": 0,
      "outputs": []
    }
  ]
}