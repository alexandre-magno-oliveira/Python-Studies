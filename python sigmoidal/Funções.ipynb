{
  "nbformat": 4,
  "nbformat_minor": 0,
  "metadata": {
    "colab": {
      "name": "Funções.ipynb",
      "provenance": []
    },
    "kernelspec": {
      "name": "python3",
      "display_name": "Python 3"
    }
  },
  "cells": [
    {
      "cell_type": "code",
      "metadata": {
        "id": "1LgKXX7wiftk",
        "colab_type": "code",
        "colab": {}
      },
      "source": [
        "a = 34\n",
        "\n",
        "def imprimir_variavel():\n",
        "    a = 12\n",
        "    print(a)\n",
        "\n",
        "print(a)\n",
        "imprimir_variavel()\n",
        "print(a)"
      ],
      "execution_count": null,
      "outputs": []
    },
    {
      "cell_type": "code",
      "metadata": {
        "id": "mutr-TnKlbjv",
        "colab_type": "code",
        "colab": {}
      },
      "source": [
        "def elevar_quadrado(numero):\n",
        "    resultado = numero ** 2\n",
        "    return resultado"
      ],
      "execution_count": null,
      "outputs": []
    },
    {
      "cell_type": "code",
      "metadata": {
        "id": "VncsKQcelbba",
        "colab_type": "code",
        "colab": {}
      },
      "source": [
        "meu_valor_calculado = elevar_quadrado(5)"
      ],
      "execution_count": null,
      "outputs": []
    },
    {
      "cell_type": "code",
      "metadata": {
        "id": "4NrlrFTXiuRv",
        "colab_type": "code",
        "colab": {}
      },
      "source": [
        "meu_valor_calculado"
      ],
      "execution_count": null,
      "outputs": []
    },
    {
      "cell_type": "code",
      "metadata": {
        "id": "zJrljEQljOI4",
        "colab_type": "code",
        "colab": {}
      },
      "source": [
        "def calcular():\n",
        "    a = 2\n",
        "    b = 3\n",
        "\n",
        "    soma = a + b\n",
        "    \n",
        "    print(soma)\n",
        "\n",
        "calcular()\n",
        "\n",
        "print(soma)"
      ],
      "execution_count": null,
      "outputs": []
    },
    {
      "cell_type": "code",
      "metadata": {
        "id": "Ze7f6M1un6vF",
        "colab_type": "code",
        "colab": {}
      },
      "source": [
        "def verificar_motorista(idade, cnh):\n",
        "    verificacao = (idade >= 18) and (cnh)\n",
        "    return verificacao"
      ],
      "execution_count": 20,
      "outputs": []
    },
    {
      "cell_type": "code",
      "metadata": {
        "id": "KkVXbxcUoSW0",
        "colab_type": "code",
        "colab": {
          "base_uri": "https://localhost:8080/",
          "height": 35
        },
        "outputId": "4fcc8a65-c527-4705-f792-a622cbf2f364"
      },
      "source": [
        "verificar_motorista(23, True)"
      ],
      "execution_count": 22,
      "outputs": [
        {
          "output_type": "execute_result",
          "data": {
            "text/plain": [
              "True"
            ]
          },
          "metadata": {
            "tags": []
          },
          "execution_count": 22
        }
      ]
    },
    {
      "cell_type": "code",
      "metadata": {
        "id": "_yGpKgN1on_t",
        "colab_type": "code",
        "colab": {}
      },
      "source": [
        "elevar = lambda x: x ** 2 "
      ],
      "execution_count": 29,
      "outputs": []
    },
    {
      "cell_type": "code",
      "metadata": {
        "id": "2ukm14FIo6u3",
        "colab_type": "code",
        "colab": {
          "base_uri": "https://localhost:8080/",
          "height": 35
        },
        "outputId": "1bfca4c6-48b2-434b-ebfe-1e99b4bf68c4"
      },
      "source": [
        "elevar(5)"
      ],
      "execution_count": 30,
      "outputs": [
        {
          "output_type": "execute_result",
          "data": {
            "text/plain": [
              "25"
            ]
          },
          "metadata": {
            "tags": []
          },
          "execution_count": 30
        }
      ]
    },
    {
      "cell_type": "code",
      "metadata": {
        "id": "BkQNTFBKpG5P",
        "colab_type": "code",
        "colab": {}
      },
      "source": [
        "df.colunaA.apply(lambda x: x ** 2)"
      ],
      "execution_count": null,
      "outputs": []
    },
    {
      "cell_type": "markdown",
      "metadata": {
        "id": "oTvA852NjURa",
        "colab_type": "text"
      },
      "source": [
        "# Exercícios"
      ]
    },
    {
      "cell_type": "markdown",
      "metadata": {
        "id": "UpGkAmmimHrp",
        "colab_type": "text"
      },
      "source": [
        "**Escreva uma função que imprima o seu nome na tela**"
      ]
    },
    {
      "cell_type": "code",
      "metadata": {
        "id": "XFPNg56JmOYC",
        "colab_type": "code",
        "colab": {}
      },
      "source": [
        ""
      ],
      "execution_count": null,
      "outputs": []
    },
    {
      "cell_type": "code",
      "metadata": {
        "id": "gIusTVv1mPG6",
        "colab_type": "code",
        "colab": {},
        "cellView": "form"
      },
      "source": [
        "#@title\n",
        "def imprimir_nome():\n",
        "    print(\"Nome de Sobrenome\")\n",
        "\n",
        "\n",
        "imprimir_nome()"
      ],
      "execution_count": null,
      "outputs": []
    },
    {
      "cell_type": "markdown",
      "metadata": {
        "id": "s4GrKFUfmTiX",
        "colab_type": "text"
      },
      "source": [
        "**Escreva uma função que some 3 números informados no argumento**"
      ]
    },
    {
      "cell_type": "code",
      "metadata": {
        "id": "fFYW3uYem-aJ",
        "colab_type": "code",
        "colab": {}
      },
      "source": [
        ""
      ],
      "execution_count": null,
      "outputs": []
    },
    {
      "cell_type": "code",
      "metadata": {
        "id": "Z-KVUcyDmZxM",
        "colab_type": "code",
        "colab": {},
        "cellView": "form"
      },
      "source": [
        "#@title\n",
        "def somar_numeros(a, b, c):\n",
        "    resultado = a + b + c\n",
        "    return resultado\n",
        "\n",
        "\n",
        "somar_numeros(4, 8, 1)"
      ],
      "execution_count": null,
      "outputs": []
    },
    {
      "cell_type": "markdown",
      "metadata": {
        "id": "zKxdbAnymutN",
        "colab_type": "text"
      },
      "source": [
        "**Escreva uma função que retorne o tamanho de qualquer palavra**"
      ]
    },
    {
      "cell_type": "code",
      "metadata": {
        "id": "HPGgm11bm9oD",
        "colab_type": "code",
        "colab": {}
      },
      "source": [
        ""
      ],
      "execution_count": null,
      "outputs": []
    },
    {
      "cell_type": "code",
      "metadata": {
        "id": "BTeKehB5nCgx",
        "colab_type": "code",
        "colab": {},
        "cellView": "form"
      },
      "source": [
        "#@title\n",
        "def tamanho_string(palavra):\n",
        "    return len(palavra)\n",
        "\n",
        "\n",
        "tamanho_string(\"Teste de funcao\")"
      ],
      "execution_count": null,
      "outputs": []
    },
    {
      "cell_type": "markdown",
      "metadata": {
        "id": "Y1lEKQTonNCC",
        "colab_type": "text"
      },
      "source": [
        "**Escreva uma função que verifica se alguém é maior de 18 anos e se possui habilitação.**"
      ]
    },
    {
      "cell_type": "code",
      "metadata": {
        "id": "ZqDlYl3NnXSO",
        "colab_type": "code",
        "colab": {}
      },
      "source": [
        ""
      ],
      "execution_count": null,
      "outputs": []
    },
    {
      "cell_type": "code",
      "metadata": {
        "id": "m5JNjOQ5nXj0",
        "colab_type": "code",
        "colab": {},
        "cellView": "form"
      },
      "source": [
        "#@title\n",
        "def checar_motorista(idade, cnh):\n",
        "    verificacao = (idade >= 18) and (cnh)\n",
        "    return verificacao\n",
        "\n",
        "\n",
        "checar_motorista(23, False)"
      ],
      "execution_count": null,
      "outputs": []
    }
  ]
}